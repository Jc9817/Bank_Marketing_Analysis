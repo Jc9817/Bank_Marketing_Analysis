{
 "cells": [
  {
   "cell_type": "markdown",
   "metadata": {},
   "source": [
    "# Bank Marketing Dataset"
   ]
  },
  {
   "cell_type": "markdown",
   "metadata": {},
   "source": [
    "### Introduction\n",
    "The Dataset is attribute from “Bank Marketing” UCI dataset, https://archive.ics.uci.edu/ml/datasets/Bank+Marketing, which is related with direct marketing campaigns of banking institution."
   ]
  },
  {
   "cell_type": "markdown",
   "metadata": {},
   "source": [
    "### Why we do this?\n",
    "\n",
    "The rising era of technological advancement has resulted in many great innovations. Many industries have begun to adapt and depend highly on technologies. Profit maximisation is certainly one of the main purposes of running a company. Thus in order for a company to increase profit, many strategies have been implemented to achieve it. The most common methods are cost control and working efficiency."
   ]
  },
  {
   "cell_type": "markdown",
   "metadata": {},
   "source": [
    "### Goal\n",
    "The classification goal is to extract the possible range of potential customers by analyzing and predicting if client will subscribe a term deposit (variable y) using the bank dataset, and therefore increase company's profit."
   ]
  },
  {
   "cell_type": "markdown",
   "metadata": {},
   "source": [
    "### Understanding dataset\n",
    "<br>\n",
    "The data can be categorized into five new social and economic features/attributes.\n",
    "<br>\n",
    "<br>\n"
   ]
  },
  {
   "cell_type": "markdown",
   "metadata": {},
   "source": [
    "Attributes Information:\n",
    "### bank client data:\n",
    "1 - age (numeric)\n",
    "<br>\n",
    "2 - job : type of job (categorical: 'admin.','blue-collar','entrepreneur','housemaid','management','retired','self-employed','services','student','technician','unemployed','unknown')\n",
    "<br>\n",
    "3 - marital : marital status (categorical: 'divorced','married','single','unknown'; note: 'divorced' means divorced or widowed)\n",
    "<br>\n",
    "4 - education (categorical: 'basic.4y','basic.6y','basic.9y','high.school','illiterate','professional.course','university.degree','unknown')\n",
    "<br>\n",
    "5 - default: has credit in default? (categorical: 'no','yes','unknown')\n",
    "<br>\n",
    "6 - housing: has housing loan? (categorical: 'no','yes','unknown')\n",
    "<br>\n",
    "7 - loan: has personal loan? (categorical: 'no','yes','unknown')\n",
    "<br>\n",
    "### related with the last contact of the current campaign:\n",
    "8 - contact: contact communication type (categorical: 'cellular','telephone')\n",
    "<br>\n",
    "9 - month: last contact month of year (categorical: 'jan', 'feb', 'mar', ..., 'nov', 'dec')\n",
    "<br>\n",
    "10 - day_of_week: last contact day of the week (categorical: 'mon','tue','wed','thu','fri')\n",
    "<br>\n",
    "11 - duration: last contact duration, in seconds (numeric). Important note: this attribute highly affects the output target (e.g., if duration=0 then y='no'). Yet, the duration is not known before a call is performed. Also, after the end of the call y is obviously known. Thus, this input should only be included for benchmark purposes and should be discarded if the intention is to have a realistic predictive model\n",
    "<br>\n",
    "### other attributes:\n",
    "12 - campaign: number of contacts performed during this campaign and for this client (numeric, includes last contact)\n",
    "<br>\n",
    "13 - pdays: number of days that passed by after the client was last contacted from a previous campaign (numeric; 999 means client was not previously contacted)\n",
    "<br>\n",
    "14 - previous: number of contacts performed before this campaign and for this client (numeric)\n",
    "<br>\n",
    "15 - poutcome: outcome of the previous marketing campaign (categorical: 'failure','nonexistent','success')\n",
    "<br>\n",
    "### social and economic context attributes\n",
    "16 - emp.var.rate: employment variation rate - quarterly indicator (numeric)\n",
    "<br>\n",
    "17 - cons.price.idx: consumer price index - monthly indicator (numeric)\n",
    "<br>\n",
    "18 - cons.conf.idx: consumer confidence index - monthly indicator (numeric)\n",
    "<br>\n",
    "19 - euribor3m: euribor 3 month rate - daily indicator (numeric)\n",
    "<br>\n",
    "20 - nr.employed: number of employees - quarterly indicator (numeric)\n",
    "<br>\n",
    "### Output variable (desired target):\n",
    "21 - y - has the client subscribed a term deposit? (binary: 'yes','no')"
   ]
  },
  {
   "cell_type": "markdown",
   "metadata": {},
   "source": [
    "## First Insight\n",
    "\n",
    "### Read data\n",
    "\n",
    "Import CSV into dataframe.\n",
    "<br>\n",
    "Name the dataset as \"Bankdata\"."
   ]
  },
  {
   "cell_type": "code",
   "execution_count": 1,
   "metadata": {},
   "outputs": [],
   "source": [
    "###import dataset (recommended)\n",
    "##Call the location of the data file\n",
    "#setwd(“C:/Users/Administrator/Desktop/bank-additional”)\n",
    "#data=file.path(\"bank-additional\",unzip(\"bank-additional.zip\"))\n",
    "#data\n",
    "#Bankdata = read.csv(\"bank-additional/./bank-additional/bank-additional-full.csv\" , sep = \";\", header = TRUE)\n",
    "\n",
    "setwd(\"C:/Users/fjiac/Desktop/R project\")\n",
    "Bankdata = read.csv(\"bank-additional-full.csv\", sep = \";\", header = TRUE)"
   ]
  },
  {
   "cell_type": "markdown",
   "metadata": {},
   "source": [
    "### Library\n",
    "Libraries needed in this project."
   ]
  },
  {
   "cell_type": "markdown",
   "metadata": {},
   "source": [
    "library(gmodels) #data visualization(cross table)\n",
    "<br>\n",
    "library(polycor) #to find correlation \n",
    "<br>\n",
    "library(dplyr) #stratified sampling\n",
    "<br>\n",
    "library(ggplot2) #to plot charts\n",
    "<br>\n",
    "library(splitstackshape) #stratified sampling\n",
    "<br>\n",
    "library(e1071) #Naive Bayes\n",
    "<br>\n",
    "library(tree) #Decision Tree\n",
    "<br>\n",
    "library(randomForest)"
   ]
  },
  {
   "cell_type": "markdown",
   "metadata": {},
   "source": [
    "### Visualize data"
   ]
  },
  {
   "cell_type": "markdown",
   "metadata": {},
   "source": [
    "Library needed to do preview the summary of data."
   ]
  },
  {
   "cell_type": "code",
   "execution_count": 2,
   "metadata": {},
   "outputs": [
    {
     "name": "stderr",
     "output_type": "stream",
     "text": [
      "Warning message:\n",
      "\"package 'gmodels' was built under R version 3.6.3\"\n"
     ]
    }
   ],
   "source": [
    "library(gmodels)"
   ]
  },
  {
   "cell_type": "markdown",
   "metadata": {},
   "source": [
    "Variables of data."
   ]
  },
  {
   "cell_type": "code",
   "execution_count": 3,
   "metadata": {},
   "outputs": [
    {
     "data": {
      "text/html": [
       "<style>\n",
       ".list-inline {list-style: none; margin:0; padding: 0}\n",
       ".list-inline>li {display: inline-block}\n",
       ".list-inline>li:not(:last-child)::after {content: \"\\00b7\"; padding: 0 .5ex}\n",
       "</style>\n",
       "<ol class=list-inline><li>'age'</li><li>'job'</li><li>'marital'</li><li>'education'</li><li>'default'</li><li>'housing'</li><li>'loan'</li><li>'contact'</li><li>'month'</li><li>'day_of_week'</li><li>'duration'</li><li>'campaign'</li><li>'pdays'</li><li>'previous'</li><li>'poutcome'</li><li>'emp.var.rate'</li><li>'cons.price.idx'</li><li>'cons.conf.idx'</li><li>'euribor3m'</li><li>'nr.employed'</li><li>'y'</li></ol>\n"
      ],
      "text/latex": [
       "\\begin{enumerate*}\n",
       "\\item 'age'\n",
       "\\item 'job'\n",
       "\\item 'marital'\n",
       "\\item 'education'\n",
       "\\item 'default'\n",
       "\\item 'housing'\n",
       "\\item 'loan'\n",
       "\\item 'contact'\n",
       "\\item 'month'\n",
       "\\item 'day\\_of\\_week'\n",
       "\\item 'duration'\n",
       "\\item 'campaign'\n",
       "\\item 'pdays'\n",
       "\\item 'previous'\n",
       "\\item 'poutcome'\n",
       "\\item 'emp.var.rate'\n",
       "\\item 'cons.price.idx'\n",
       "\\item 'cons.conf.idx'\n",
       "\\item 'euribor3m'\n",
       "\\item 'nr.employed'\n",
       "\\item 'y'\n",
       "\\end{enumerate*}\n"
      ],
      "text/markdown": [
       "1. 'age'\n",
       "2. 'job'\n",
       "3. 'marital'\n",
       "4. 'education'\n",
       "5. 'default'\n",
       "6. 'housing'\n",
       "7. 'loan'\n",
       "8. 'contact'\n",
       "9. 'month'\n",
       "10. 'day_of_week'\n",
       "11. 'duration'\n",
       "12. 'campaign'\n",
       "13. 'pdays'\n",
       "14. 'previous'\n",
       "15. 'poutcome'\n",
       "16. 'emp.var.rate'\n",
       "17. 'cons.price.idx'\n",
       "18. 'cons.conf.idx'\n",
       "19. 'euribor3m'\n",
       "20. 'nr.employed'\n",
       "21. 'y'\n",
       "\n",
       "\n"
      ],
      "text/plain": [
       " [1] \"age\"            \"job\"            \"marital\"        \"education\"     \n",
       " [5] \"default\"        \"housing\"        \"loan\"           \"contact\"       \n",
       " [9] \"month\"          \"day_of_week\"    \"duration\"       \"campaign\"      \n",
       "[13] \"pdays\"          \"previous\"       \"poutcome\"       \"emp.var.rate\"  \n",
       "[17] \"cons.price.idx\" \"cons.conf.idx\"  \"euribor3m\"      \"nr.employed\"   \n",
       "[21] \"y\"             "
      ]
     },
     "metadata": {},
     "output_type": "display_data"
    }
   ],
   "source": [
    "names(Bankdata)"
   ]
  },
  {
   "cell_type": "markdown",
   "metadata": {},
   "source": [
    "Display the dimension of the dataset."
   ]
  },
  {
   "cell_type": "code",
   "execution_count": 4,
   "metadata": {},
   "outputs": [
    {
     "data": {
      "text/html": [
       "<style>\n",
       ".list-inline {list-style: none; margin:0; padding: 0}\n",
       ".list-inline>li {display: inline-block}\n",
       ".list-inline>li:not(:last-child)::after {content: \"\\00b7\"; padding: 0 .5ex}\n",
       "</style>\n",
       "<ol class=list-inline><li>41188</li><li>21</li></ol>\n"
      ],
      "text/latex": [
       "\\begin{enumerate*}\n",
       "\\item 41188\n",
       "\\item 21\n",
       "\\end{enumerate*}\n"
      ],
      "text/markdown": [
       "1. 41188\n",
       "2. 21\n",
       "\n",
       "\n"
      ],
      "text/plain": [
       "[1] 41188    21"
      ]
     },
     "metadata": {},
     "output_type": "display_data"
    }
   ],
   "source": [
    "dim(Bankdata)"
   ]
  },
  {
   "cell_type": "markdown",
   "metadata": {},
   "source": [
    "The set of data consists of 41,188 variables and 21 variables.\n",
    "<br>"
   ]
  },
  {
   "cell_type": "markdown",
   "metadata": {},
   "source": [
    "Statistical Summary of the data"
   ]
  },
  {
   "cell_type": "code",
   "execution_count": 5,
   "metadata": {},
   "outputs": [
    {
     "data": {
      "text/plain": [
       "      age                 job            marital     \n",
       " Min.   :17.00   admin.     :10422   divorced: 4612  \n",
       " 1st Qu.:32.00   blue-collar: 9254   married :24928  \n",
       " Median :38.00   technician : 6743   single  :11568  \n",
       " Mean   :40.02   services   : 3969   unknown :   80  \n",
       " 3rd Qu.:47.00   management : 2924                   \n",
       " Max.   :98.00   retired    : 1720                   \n",
       "                 (Other)    : 6156                   \n",
       "               education        default         housing           loan      \n",
       " university.degree  :12168   no     :32588   no     :18622   no     :33950  \n",
       " high.school        : 9515   unknown: 8597   unknown:  990   unknown:  990  \n",
       " basic.9y           : 6045   yes    :    3   yes    :21576   yes    : 6248  \n",
       " professional.course: 5243                                                  \n",
       " basic.4y           : 4176                                                  \n",
       " basic.6y           : 2292                                                  \n",
       " (Other)            : 1749                                                  \n",
       "      contact          month       day_of_week    duration     \n",
       " cellular :26144   may    :13769   fri:7827    Min.   :   0.0  \n",
       " telephone:15044   jul    : 7174   mon:8514    1st Qu.: 102.0  \n",
       "                   aug    : 6178   thu:8623    Median : 180.0  \n",
       "                   jun    : 5318   tue:8090    Mean   : 258.3  \n",
       "                   nov    : 4101   wed:8134    3rd Qu.: 319.0  \n",
       "                   apr    : 2632               Max.   :4918.0  \n",
       "                   (Other): 2016                               \n",
       "    campaign          pdays          previous            poutcome    \n",
       " Min.   : 1.000   Min.   :  0.0   Min.   :0.000   failure    : 4252  \n",
       " 1st Qu.: 1.000   1st Qu.:999.0   1st Qu.:0.000   nonexistent:35563  \n",
       " Median : 2.000   Median :999.0   Median :0.000   success    : 1373  \n",
       " Mean   : 2.568   Mean   :962.5   Mean   :0.173                      \n",
       " 3rd Qu.: 3.000   3rd Qu.:999.0   3rd Qu.:0.000                      \n",
       " Max.   :56.000   Max.   :999.0   Max.   :7.000                      \n",
       "                                                                     \n",
       "  emp.var.rate      cons.price.idx  cons.conf.idx     euribor3m    \n",
       " Min.   :-3.40000   Min.   :92.20   Min.   :-50.8   Min.   :0.634  \n",
       " 1st Qu.:-1.80000   1st Qu.:93.08   1st Qu.:-42.7   1st Qu.:1.344  \n",
       " Median : 1.10000   Median :93.75   Median :-41.8   Median :4.857  \n",
       " Mean   : 0.08189   Mean   :93.58   Mean   :-40.5   Mean   :3.621  \n",
       " 3rd Qu.: 1.40000   3rd Qu.:93.99   3rd Qu.:-36.4   3rd Qu.:4.961  \n",
       " Max.   : 1.40000   Max.   :94.77   Max.   :-26.9   Max.   :5.045  \n",
       "                                                                   \n",
       "  nr.employed     y        \n",
       " Min.   :4964   no :36548  \n",
       " 1st Qu.:5099   yes: 4640  \n",
       " Median :5191              \n",
       " Mean   :5167              \n",
       " 3rd Qu.:5228              \n",
       " Max.   :5228              \n",
       "                           "
      ]
     },
     "metadata": {},
     "output_type": "display_data"
    }
   ],
   "source": [
    "summary(Bankdata)"
   ]
  },
  {
   "cell_type": "markdown",
   "metadata": {},
   "source": [
    "NA can be observed in all 4 attributes, which are \"job\", \"marital\", \"education\", \"default\", \"housing\", \"loan\".\n",
    "<br>"
   ]
  },
  {
   "cell_type": "markdown",
   "metadata": {},
   "source": [
    "Overview of the data type of all variables."
   ]
  },
  {
   "cell_type": "code",
   "execution_count": 6,
   "metadata": {},
   "outputs": [
    {
     "name": "stdout",
     "output_type": "stream",
     "text": [
      "'data.frame':\t41188 obs. of  21 variables:\n",
      " $ age           : int  56 57 37 40 56 45 59 41 24 25 ...\n",
      " $ job           : Factor w/ 12 levels \"admin.\",\"blue-collar\",..: 4 8 8 1 8 8 1 2 10 8 ...\n",
      " $ marital       : Factor w/ 4 levels \"divorced\",\"married\",..: 2 2 2 2 2 2 2 2 3 3 ...\n",
      " $ education     : Factor w/ 8 levels \"basic.4y\",\"basic.6y\",..: 1 4 4 2 4 3 6 8 6 4 ...\n",
      " $ default       : Factor w/ 3 levels \"no\",\"unknown\",..: 1 2 1 1 1 2 1 2 1 1 ...\n",
      " $ housing       : Factor w/ 3 levels \"no\",\"unknown\",..: 1 1 3 1 1 1 1 1 3 3 ...\n",
      " $ loan          : Factor w/ 3 levels \"no\",\"unknown\",..: 1 1 1 1 3 1 1 1 1 1 ...\n",
      " $ contact       : Factor w/ 2 levels \"cellular\",\"telephone\": 2 2 2 2 2 2 2 2 2 2 ...\n",
      " $ month         : Factor w/ 10 levels \"apr\",\"aug\",\"dec\",..: 7 7 7 7 7 7 7 7 7 7 ...\n",
      " $ day_of_week   : Factor w/ 5 levels \"fri\",\"mon\",\"thu\",..: 2 2 2 2 2 2 2 2 2 2 ...\n",
      " $ duration      : int  261 149 226 151 307 198 139 217 380 50 ...\n",
      " $ campaign      : int  1 1 1 1 1 1 1 1 1 1 ...\n",
      " $ pdays         : int  999 999 999 999 999 999 999 999 999 999 ...\n",
      " $ previous      : int  0 0 0 0 0 0 0 0 0 0 ...\n",
      " $ poutcome      : Factor w/ 3 levels \"failure\",\"nonexistent\",..: 2 2 2 2 2 2 2 2 2 2 ...\n",
      " $ emp.var.rate  : num  1.1 1.1 1.1 1.1 1.1 1.1 1.1 1.1 1.1 1.1 ...\n",
      " $ cons.price.idx: num  94 94 94 94 94 ...\n",
      " $ cons.conf.idx : num  -36.4 -36.4 -36.4 -36.4 -36.4 -36.4 -36.4 -36.4 -36.4 -36.4 ...\n",
      " $ euribor3m     : num  4.86 4.86 4.86 4.86 4.86 ...\n",
      " $ nr.employed   : num  5191 5191 5191 5191 5191 ...\n",
      " $ y             : Factor w/ 2 levels \"no\",\"yes\": 1 1 1 1 1 1 1 1 1 1 ...\n"
     ]
    }
   ],
   "source": [
    "str(Bankdata)"
   ]
  },
  {
   "cell_type": "markdown",
   "metadata": {},
   "source": [
    "Cross table for the Bankfull data."
   ]
  },
  {
   "cell_type": "code",
   "execution_count": 7,
   "metadata": {},
   "outputs": [
    {
     "name": "stdout",
     "output_type": "stream",
     "text": [
      "\n",
      " \n",
      "   Cell Contents\n",
      "|-------------------------|\n",
      "|                       N |\n",
      "|         N / Table Total |\n",
      "|-------------------------|\n",
      "\n",
      " \n",
      "Total Observations in Table:  41188 \n",
      "\n",
      " \n",
      "          |        no |       yes | \n",
      "          |-----------|-----------|\n",
      "          |     36548 |      4640 | \n",
      "          |     0.887 |     0.113 | \n",
      "          |-----------|-----------|\n",
      "\n",
      "\n",
      "\n",
      " \n"
     ]
    }
   ],
   "source": [
    "CrossTable(Bankdata$y)"
   ]
  },
  {
   "cell_type": "markdown",
   "metadata": {},
   "source": [
    "There are 36548(No) and 4640(Yes) at a ratio of approximately 9:1.\n",
    "<br>"
   ]
  },
  {
   "cell_type": "markdown",
   "metadata": {},
   "source": [
    "## Data Cleaning"
   ]
  },
  {
   "cell_type": "markdown",
   "metadata": {},
   "source": [
    "### Data validation"
   ]
  },
  {
   "cell_type": "markdown",
   "metadata": {},
   "source": [
    "Check for Duplicate Rows"
   ]
  },
  {
   "cell_type": "code",
   "execution_count": 8,
   "metadata": {},
   "outputs": [
    {
     "data": {
      "text/html": [
       "12"
      ],
      "text/latex": [
       "12"
      ],
      "text/markdown": [
       "12"
      ],
      "text/plain": [
       "[1] 12"
      ]
     },
     "metadata": {},
     "output_type": "display_data"
    }
   ],
   "source": [
    "sum(duplicated(Bankdata))"
   ]
  },
  {
   "cell_type": "markdown",
   "metadata": {},
   "source": [
    "Check how many rows contain Missing Data"
   ]
  },
  {
   "cell_type": "code",
   "execution_count": 9,
   "metadata": {
    "scrolled": true
   },
   "outputs": [
    {
     "data": {
      "text/html": [
       "0"
      ],
      "text/latex": [
       "0"
      ],
      "text/markdown": [
       "0"
      ],
      "text/plain": [
       "[1] 0"
      ]
     },
     "metadata": {},
     "output_type": "display_data"
    }
   ],
   "source": [
    "sum(!complete.cases(Bankdata))"
   ]
  },
  {
   "cell_type": "markdown",
   "metadata": {},
   "source": [
    "Calculate the number of cell with \"unknown\"."
   ]
  },
  {
   "cell_type": "code",
   "execution_count": 10,
   "metadata": {},
   "outputs": [
    {
     "data": {
      "text/html": [
       "12718"
      ],
      "text/latex": [
       "12718"
      ],
      "text/markdown": [
       "12718"
      ],
      "text/plain": [
       "[1] 12718"
      ]
     },
     "metadata": {},
     "output_type": "display_data"
    }
   ],
   "source": [
    "sum(Bankdata==\"unknown\")"
   ]
  },
  {
   "cell_type": "markdown",
   "metadata": {},
   "source": [
    "The total number of cells with \"unknown\" value is 12,718, which will need to be cleaned from dataset.\n",
    "<br>"
   ]
  },
  {
   "cell_type": "markdown",
   "metadata": {},
   "source": [
    "### Data cleaning process"
   ]
  },
  {
   "cell_type": "markdown",
   "metadata": {},
   "source": [
    "Library needed in order to do data cleaning."
   ]
  },
  {
   "cell_type": "code",
   "execution_count": 11,
   "metadata": {},
   "outputs": [
    {
     "name": "stderr",
     "output_type": "stream",
     "text": [
      "Warning message:\n",
      "\"package 'dplyr' was built under R version 3.6.3\"\n",
      "\n",
      "Attaching package: 'dplyr'\n",
      "\n",
      "\n",
      "The following objects are masked from 'package:stats':\n",
      "\n",
      "    filter, lag\n",
      "\n",
      "\n",
      "The following objects are masked from 'package:base':\n",
      "\n",
      "    intersect, setdiff, setequal, union\n",
      "\n",
      "\n"
     ]
    }
   ],
   "source": [
    "library(dplyr)"
   ]
  },
  {
   "cell_type": "markdown",
   "metadata": {},
   "source": [
    "### Replace \"numeric\" y to \"categorical\" variable y"
   ]
  },
  {
   "cell_type": "markdown",
   "metadata": {},
   "source": [
    "Convert the y variable to 1(Yes) or 0(No)."
   ]
  },
  {
   "cell_type": "code",
   "execution_count": 12,
   "metadata": {},
   "outputs": [],
   "source": [
    "y = ifelse(Bankdata$y==\"yes\", 1, 0)"
   ]
  },
  {
   "cell_type": "markdown",
   "metadata": {},
   "source": [
    "Change the numeric variable y to categorical variable."
   ]
  },
  {
   "cell_type": "code",
   "execution_count": 13,
   "metadata": {},
   "outputs": [
    {
     "data": {
      "text/html": [
       "<style>\n",
       ".dl-inline {width: auto; margin:0; padding: 0}\n",
       ".dl-inline>dt, .dl-inline>dd {float: none; width: auto; display: inline-block}\n",
       ".dl-inline>dt::after {content: \":\\0020\"; padding-right: .5ex}\n",
       ".dl-inline>dt:not(:first-of-type) {padding-left: .5ex}\n",
       "</style><dl class=dl-inline><dt>0</dt><dd>36548</dd><dt>1</dt><dd>4640</dd></dl>\n"
      ],
      "text/latex": [
       "\\begin{description*}\n",
       "\\item[0] 36548\n",
       "\\item[1] 4640\n",
       "\\end{description*}\n"
      ],
      "text/markdown": [
       "0\n",
       ":   365481\n",
       ":   4640\n",
       "\n"
      ],
      "text/plain": [
       "    0     1 \n",
       "36548  4640 "
      ]
     },
     "metadata": {},
     "output_type": "display_data"
    }
   ],
   "source": [
    "y = as.factor(y)\n",
    "summary(y)"
   ]
  },
  {
   "cell_type": "markdown",
   "metadata": {},
   "source": [
    "Output \"y\" successfully changed from categorical to binary data for ease of statistical calculation.\n",
    "<br>"
   ]
  },
  {
   "cell_type": "markdown",
   "metadata": {},
   "source": [
    "Remove old categorical variable \"y\" and merge the new binary data \"y\" with \"Bankdata\" dataset."
   ]
  },
  {
   "cell_type": "code",
   "execution_count": 14,
   "metadata": {},
   "outputs": [],
   "source": [
    "Bankdata = Bankdata %>% select(-y)\n",
    "Bankdata = data.frame(Bankdata, y)"
   ]
  },
  {
   "cell_type": "markdown",
   "metadata": {},
   "source": [
    "Preview the summary and data type of the new dataset \"Bankdata\"."
   ]
  },
  {
   "cell_type": "code",
   "execution_count": 15,
   "metadata": {},
   "outputs": [
    {
     "data": {
      "text/plain": [
       "      age                 job            marital     \n",
       " Min.   :17.00   admin.     :10422   divorced: 4612  \n",
       " 1st Qu.:32.00   blue-collar: 9254   married :24928  \n",
       " Median :38.00   technician : 6743   single  :11568  \n",
       " Mean   :40.02   services   : 3969   unknown :   80  \n",
       " 3rd Qu.:47.00   management : 2924                   \n",
       " Max.   :98.00   retired    : 1720                   \n",
       "                 (Other)    : 6156                   \n",
       "               education        default         housing           loan      \n",
       " university.degree  :12168   no     :32588   no     :18622   no     :33950  \n",
       " high.school        : 9515   unknown: 8597   unknown:  990   unknown:  990  \n",
       " basic.9y           : 6045   yes    :    3   yes    :21576   yes    : 6248  \n",
       " professional.course: 5243                                                  \n",
       " basic.4y           : 4176                                                  \n",
       " basic.6y           : 2292                                                  \n",
       " (Other)            : 1749                                                  \n",
       "      contact          month       day_of_week    duration     \n",
       " cellular :26144   may    :13769   fri:7827    Min.   :   0.0  \n",
       " telephone:15044   jul    : 7174   mon:8514    1st Qu.: 102.0  \n",
       "                   aug    : 6178   thu:8623    Median : 180.0  \n",
       "                   jun    : 5318   tue:8090    Mean   : 258.3  \n",
       "                   nov    : 4101   wed:8134    3rd Qu.: 319.0  \n",
       "                   apr    : 2632               Max.   :4918.0  \n",
       "                   (Other): 2016                               \n",
       "    campaign          pdays          previous            poutcome    \n",
       " Min.   : 1.000   Min.   :  0.0   Min.   :0.000   failure    : 4252  \n",
       " 1st Qu.: 1.000   1st Qu.:999.0   1st Qu.:0.000   nonexistent:35563  \n",
       " Median : 2.000   Median :999.0   Median :0.000   success    : 1373  \n",
       " Mean   : 2.568   Mean   :962.5   Mean   :0.173                      \n",
       " 3rd Qu.: 3.000   3rd Qu.:999.0   3rd Qu.:0.000                      \n",
       " Max.   :56.000   Max.   :999.0   Max.   :7.000                      \n",
       "                                                                     \n",
       "  emp.var.rate      cons.price.idx  cons.conf.idx     euribor3m    \n",
       " Min.   :-3.40000   Min.   :92.20   Min.   :-50.8   Min.   :0.634  \n",
       " 1st Qu.:-1.80000   1st Qu.:93.08   1st Qu.:-42.7   1st Qu.:1.344  \n",
       " Median : 1.10000   Median :93.75   Median :-41.8   Median :4.857  \n",
       " Mean   : 0.08189   Mean   :93.58   Mean   :-40.5   Mean   :3.621  \n",
       " 3rd Qu.: 1.40000   3rd Qu.:93.99   3rd Qu.:-36.4   3rd Qu.:4.961  \n",
       " Max.   : 1.40000   Max.   :94.77   Max.   :-26.9   Max.   :5.045  \n",
       "                                                                   \n",
       "  nr.employed   y        \n",
       " Min.   :4964   0:36548  \n",
       " 1st Qu.:5099   1: 4640  \n",
       " Median :5191            \n",
       " Mean   :5167            \n",
       " 3rd Qu.:5228            \n",
       " Max.   :5228            \n",
       "                         "
      ]
     },
     "metadata": {},
     "output_type": "display_data"
    },
    {
     "name": "stdout",
     "output_type": "stream",
     "text": [
      "'data.frame':\t41188 obs. of  21 variables:\n",
      " $ age           : int  56 57 37 40 56 45 59 41 24 25 ...\n",
      " $ job           : Factor w/ 12 levels \"admin.\",\"blue-collar\",..: 4 8 8 1 8 8 1 2 10 8 ...\n",
      " $ marital       : Factor w/ 4 levels \"divorced\",\"married\",..: 2 2 2 2 2 2 2 2 3 3 ...\n",
      " $ education     : Factor w/ 8 levels \"basic.4y\",\"basic.6y\",..: 1 4 4 2 4 3 6 8 6 4 ...\n",
      " $ default       : Factor w/ 3 levels \"no\",\"unknown\",..: 1 2 1 1 1 2 1 2 1 1 ...\n",
      " $ housing       : Factor w/ 3 levels \"no\",\"unknown\",..: 1 1 3 1 1 1 1 1 3 3 ...\n",
      " $ loan          : Factor w/ 3 levels \"no\",\"unknown\",..: 1 1 1 1 3 1 1 1 1 1 ...\n",
      " $ contact       : Factor w/ 2 levels \"cellular\",\"telephone\": 2 2 2 2 2 2 2 2 2 2 ...\n",
      " $ month         : Factor w/ 10 levels \"apr\",\"aug\",\"dec\",..: 7 7 7 7 7 7 7 7 7 7 ...\n",
      " $ day_of_week   : Factor w/ 5 levels \"fri\",\"mon\",\"thu\",..: 2 2 2 2 2 2 2 2 2 2 ...\n",
      " $ duration      : int  261 149 226 151 307 198 139 217 380 50 ...\n",
      " $ campaign      : int  1 1 1 1 1 1 1 1 1 1 ...\n",
      " $ pdays         : int  999 999 999 999 999 999 999 999 999 999 ...\n",
      " $ previous      : int  0 0 0 0 0 0 0 0 0 0 ...\n",
      " $ poutcome      : Factor w/ 3 levels \"failure\",\"nonexistent\",..: 2 2 2 2 2 2 2 2 2 2 ...\n",
      " $ emp.var.rate  : num  1.1 1.1 1.1 1.1 1.1 1.1 1.1 1.1 1.1 1.1 ...\n",
      " $ cons.price.idx: num  94 94 94 94 94 ...\n",
      " $ cons.conf.idx : num  -36.4 -36.4 -36.4 -36.4 -36.4 -36.4 -36.4 -36.4 -36.4 -36.4 ...\n",
      " $ euribor3m     : num  4.86 4.86 4.86 4.86 4.86 ...\n",
      " $ nr.employed   : num  5191 5191 5191 5191 5191 ...\n",
      " $ y             : Factor w/ 2 levels \"0\",\"1\": 1 1 1 1 1 1 1 1 1 1 ...\n"
     ]
    }
   ],
   "source": [
    "summary(Bankdata)\n",
    "str(Bankdata)"
   ]
  },
  {
   "cell_type": "markdown",
   "metadata": {},
   "source": [
    "### Convert \"unknown\" to NA, remove the whole row which contains NA."
   ]
  },
  {
   "cell_type": "markdown",
   "metadata": {},
   "source": [
    "As the variables (job, marital, default, education, housing, loan) contain \"unknown\", we first check the position of the \"unknown\" inside the variable."
   ]
  },
  {
   "cell_type": "code",
   "execution_count": 16,
   "metadata": {},
   "outputs": [
    {
     "data": {
      "text/html": [
       "<style>\n",
       ".list-inline {list-style: none; margin:0; padding: 0}\n",
       ".list-inline>li {display: inline-block}\n",
       ".list-inline>li:not(:last-child)::after {content: \"\\00b7\"; padding: 0 .5ex}\n",
       "</style>\n",
       "<ol class=list-inline><li>'admin.'</li><li>'blue-collar'</li><li>'entrepreneur'</li><li>'housemaid'</li><li>'management'</li><li>'retired'</li><li>'self-employed'</li><li>'services'</li><li>'student'</li><li>'technician'</li><li>'unemployed'</li><li>'unknown'</li></ol>\n"
      ],
      "text/latex": [
       "\\begin{enumerate*}\n",
       "\\item 'admin.'\n",
       "\\item 'blue-collar'\n",
       "\\item 'entrepreneur'\n",
       "\\item 'housemaid'\n",
       "\\item 'management'\n",
       "\\item 'retired'\n",
       "\\item 'self-employed'\n",
       "\\item 'services'\n",
       "\\item 'student'\n",
       "\\item 'technician'\n",
       "\\item 'unemployed'\n",
       "\\item 'unknown'\n",
       "\\end{enumerate*}\n"
      ],
      "text/markdown": [
       "1. 'admin.'\n",
       "2. 'blue-collar'\n",
       "3. 'entrepreneur'\n",
       "4. 'housemaid'\n",
       "5. 'management'\n",
       "6. 'retired'\n",
       "7. 'self-employed'\n",
       "8. 'services'\n",
       "9. 'student'\n",
       "10. 'technician'\n",
       "11. 'unemployed'\n",
       "12. 'unknown'\n",
       "\n",
       "\n"
      ],
      "text/plain": [
       " [1] \"admin.\"        \"blue-collar\"   \"entrepreneur\"  \"housemaid\"    \n",
       " [5] \"management\"    \"retired\"       \"self-employed\" \"services\"     \n",
       " [9] \"student\"       \"technician\"    \"unemployed\"    \"unknown\"      "
      ]
     },
     "metadata": {},
     "output_type": "display_data"
    },
    {
     "data": {
      "text/html": [
       "<style>\n",
       ".list-inline {list-style: none; margin:0; padding: 0}\n",
       ".list-inline>li {display: inline-block}\n",
       ".list-inline>li:not(:last-child)::after {content: \"\\00b7\"; padding: 0 .5ex}\n",
       "</style>\n",
       "<ol class=list-inline><li>'divorced'</li><li>'married'</li><li>'single'</li><li>'unknown'</li></ol>\n"
      ],
      "text/latex": [
       "\\begin{enumerate*}\n",
       "\\item 'divorced'\n",
       "\\item 'married'\n",
       "\\item 'single'\n",
       "\\item 'unknown'\n",
       "\\end{enumerate*}\n"
      ],
      "text/markdown": [
       "1. 'divorced'\n",
       "2. 'married'\n",
       "3. 'single'\n",
       "4. 'unknown'\n",
       "\n",
       "\n"
      ],
      "text/plain": [
       "[1] \"divorced\" \"married\"  \"single\"   \"unknown\" "
      ]
     },
     "metadata": {},
     "output_type": "display_data"
    },
    {
     "data": {
      "text/html": [
       "<style>\n",
       ".list-inline {list-style: none; margin:0; padding: 0}\n",
       ".list-inline>li {display: inline-block}\n",
       ".list-inline>li:not(:last-child)::after {content: \"\\00b7\"; padding: 0 .5ex}\n",
       "</style>\n",
       "<ol class=list-inline><li>'basic.4y'</li><li>'basic.6y'</li><li>'basic.9y'</li><li>'high.school'</li><li>'illiterate'</li><li>'professional.course'</li><li>'university.degree'</li><li>'unknown'</li></ol>\n"
      ],
      "text/latex": [
       "\\begin{enumerate*}\n",
       "\\item 'basic.4y'\n",
       "\\item 'basic.6y'\n",
       "\\item 'basic.9y'\n",
       "\\item 'high.school'\n",
       "\\item 'illiterate'\n",
       "\\item 'professional.course'\n",
       "\\item 'university.degree'\n",
       "\\item 'unknown'\n",
       "\\end{enumerate*}\n"
      ],
      "text/markdown": [
       "1. 'basic.4y'\n",
       "2. 'basic.6y'\n",
       "3. 'basic.9y'\n",
       "4. 'high.school'\n",
       "5. 'illiterate'\n",
       "6. 'professional.course'\n",
       "7. 'university.degree'\n",
       "8. 'unknown'\n",
       "\n",
       "\n"
      ],
      "text/plain": [
       "[1] \"basic.4y\"            \"basic.6y\"            \"basic.9y\"           \n",
       "[4] \"high.school\"         \"illiterate\"          \"professional.course\"\n",
       "[7] \"university.degree\"   \"unknown\"            "
      ]
     },
     "metadata": {},
     "output_type": "display_data"
    },
    {
     "data": {
      "text/html": [
       "<style>\n",
       ".list-inline {list-style: none; margin:0; padding: 0}\n",
       ".list-inline>li {display: inline-block}\n",
       ".list-inline>li:not(:last-child)::after {content: \"\\00b7\"; padding: 0 .5ex}\n",
       "</style>\n",
       "<ol class=list-inline><li>'no'</li><li>'unknown'</li><li>'yes'</li></ol>\n"
      ],
      "text/latex": [
       "\\begin{enumerate*}\n",
       "\\item 'no'\n",
       "\\item 'unknown'\n",
       "\\item 'yes'\n",
       "\\end{enumerate*}\n"
      ],
      "text/markdown": [
       "1. 'no'\n",
       "2. 'unknown'\n",
       "3. 'yes'\n",
       "\n",
       "\n"
      ],
      "text/plain": [
       "[1] \"no\"      \"unknown\" \"yes\"    "
      ]
     },
     "metadata": {},
     "output_type": "display_data"
    },
    {
     "data": {
      "text/html": [
       "<style>\n",
       ".list-inline {list-style: none; margin:0; padding: 0}\n",
       ".list-inline>li {display: inline-block}\n",
       ".list-inline>li:not(:last-child)::after {content: \"\\00b7\"; padding: 0 .5ex}\n",
       "</style>\n",
       "<ol class=list-inline><li>'no'</li><li>'unknown'</li><li>'yes'</li></ol>\n"
      ],
      "text/latex": [
       "\\begin{enumerate*}\n",
       "\\item 'no'\n",
       "\\item 'unknown'\n",
       "\\item 'yes'\n",
       "\\end{enumerate*}\n"
      ],
      "text/markdown": [
       "1. 'no'\n",
       "2. 'unknown'\n",
       "3. 'yes'\n",
       "\n",
       "\n"
      ],
      "text/plain": [
       "[1] \"no\"      \"unknown\" \"yes\"    "
      ]
     },
     "metadata": {},
     "output_type": "display_data"
    },
    {
     "data": {
      "text/html": [
       "<style>\n",
       ".list-inline {list-style: none; margin:0; padding: 0}\n",
       ".list-inline>li {display: inline-block}\n",
       ".list-inline>li:not(:last-child)::after {content: \"\\00b7\"; padding: 0 .5ex}\n",
       "</style>\n",
       "<ol class=list-inline><li>'no'</li><li>'unknown'</li><li>'yes'</li></ol>\n"
      ],
      "text/latex": [
       "\\begin{enumerate*}\n",
       "\\item 'no'\n",
       "\\item 'unknown'\n",
       "\\item 'yes'\n",
       "\\end{enumerate*}\n"
      ],
      "text/markdown": [
       "1. 'no'\n",
       "2. 'unknown'\n",
       "3. 'yes'\n",
       "\n",
       "\n"
      ],
      "text/plain": [
       "[1] \"no\"      \"unknown\" \"yes\"    "
      ]
     },
     "metadata": {},
     "output_type": "display_data"
    }
   ],
   "source": [
    "levels(Bankdata$job)\n",
    "levels(Bankdata$marital)\n",
    "levels(Bankdata$education)\n",
    "levels(Bankdata$default)\n",
    "levels(Bankdata$housing)\n",
    "levels(Bankdata$loan)"
   ]
  },
  {
   "cell_type": "markdown",
   "metadata": {},
   "source": [
    "Replace the unknown with NA according to the position."
   ]
  },
  {
   "cell_type": "code",
   "execution_count": 17,
   "metadata": {},
   "outputs": [],
   "source": [
    "levels(Bankdata$job)[12] = NA\n",
    "levels(Bankdata$marital)[4] = NA\n",
    "levels(Bankdata$education)[8] = NA\n",
    "levels(Bankdata$default)[2] = NA\n",
    "levels(Bankdata$housing)[2] = NA\n",
    "levels(Bankdata$loan)[2] = NA"
   ]
  },
  {
   "cell_type": "markdown",
   "metadata": {},
   "source": [
    "Remove the whole row that contains NA."
   ]
  },
  {
   "cell_type": "code",
   "execution_count": 18,
   "metadata": {},
   "outputs": [],
   "source": [
    "Bankdata = Bankdata[complete.cases(Bankdata),]"
   ]
  },
  {
   "cell_type": "markdown",
   "metadata": {},
   "source": [
    "Verify the data cleaning process."
   ]
  },
  {
   "cell_type": "code",
   "execution_count": 19,
   "metadata": {},
   "outputs": [
    {
     "data": {
      "text/plain": [
       "      age                 job           marital     \n",
       " Min.   :17.00   admin.     :8737   divorced: 3553  \n",
       " 1st Qu.:31.00   blue-collar:5675   married :17492  \n",
       " Median :37.00   technician :5473   single  : 9443  \n",
       " Mean   :39.03   services   :2857                   \n",
       " 3rd Qu.:45.00   management :2311                   \n",
       " Max.   :95.00   retired    :1216                   \n",
       "                 (Other)    :4219                   \n",
       "               education     default     housing      loan      \n",
       " basic.4y           : 2380   no :30485   no :13967   no :25720  \n",
       " basic.6y           : 1389   yes:    3   yes:16521   yes: 4768  \n",
       " basic.9y           : 4276                                      \n",
       " high.school        : 7699                                      \n",
       " illiterate         :   11                                      \n",
       " professional.course: 4321                                      \n",
       " university.degree  :10412                                      \n",
       "      contact          month      day_of_week    duration         campaign     \n",
       " cellular :20443   may    :9733   fri:5734    Min.   :   0.0   Min.   : 1.000  \n",
       " telephone:10045   jul    :5081   mon:6279    1st Qu.: 103.0   1st Qu.: 1.000  \n",
       "                   aug    :4673   thu:6395    Median : 181.0   Median : 2.000  \n",
       "                   jun    :3614   tue:5955    Mean   : 259.5   Mean   : 2.521  \n",
       "                   nov    :3496   wed:6125    3rd Qu.: 321.0   3rd Qu.: 3.000  \n",
       "                   apr    :2115               Max.   :4918.0   Max.   :43.000  \n",
       "                   (Other):1776                                                \n",
       "     pdays          previous             poutcome      emp.var.rate     \n",
       " Min.   :  0.0   Min.   :0.0000   failure    : 3461   Min.   :-3.40000  \n",
       " 1st Qu.:999.0   1st Qu.:0.0000   nonexistent:25836   1st Qu.:-1.80000  \n",
       " Median :999.0   Median :0.0000   success    : 1191   Median : 1.10000  \n",
       " Mean   :956.3   Mean   :0.1943                       Mean   :-0.07151  \n",
       " 3rd Qu.:999.0   3rd Qu.:0.0000                       3rd Qu.: 1.40000  \n",
       " Max.   :999.0   Max.   :7.0000                       Max.   : 1.40000  \n",
       "                                                                        \n",
       " cons.price.idx  cons.conf.idx     euribor3m      nr.employed   y        \n",
       " Min.   :92.20   Min.   :-50.8   Min.   :0.634   Min.   :4964   0:26629  \n",
       " 1st Qu.:93.08   1st Qu.:-42.7   1st Qu.:1.313   1st Qu.:5099   1: 3859  \n",
       " Median :93.44   Median :-41.8   Median :4.856   Median :5191            \n",
       " Mean   :93.52   Mean   :-40.6   Mean   :3.460   Mean   :5161            \n",
       " 3rd Qu.:93.99   3rd Qu.:-36.4   3rd Qu.:4.961   3rd Qu.:5228            \n",
       " Max.   :94.77   Max.   :-26.9   Max.   :5.045   Max.   :5228            \n",
       "                                                                         "
      ]
     },
     "metadata": {},
     "output_type": "display_data"
    }
   ],
   "source": [
    "summary(Bankdata)"
   ]
  },
  {
   "cell_type": "markdown",
   "metadata": {},
   "source": [
    "Note: The rows with unknown have successfully removed. "
   ]
  },
  {
   "cell_type": "markdown",
   "metadata": {},
   "source": [
    "Review the data type to do statistical test."
   ]
  },
  {
   "cell_type": "code",
   "execution_count": 20,
   "metadata": {},
   "outputs": [
    {
     "name": "stdout",
     "output_type": "stream",
     "text": [
      "'data.frame':\t30488 obs. of  21 variables:\n",
      " $ age           : int  56 37 40 56 59 24 25 25 29 57 ...\n",
      " $ job           : Factor w/ 11 levels \"admin.\",\"blue-collar\",..: 4 8 1 8 1 10 8 8 2 4 ...\n",
      " $ marital       : Factor w/ 3 levels \"divorced\",\"married\",..: 2 2 2 2 2 3 3 3 3 1 ...\n",
      " $ education     : Factor w/ 7 levels \"basic.4y\",\"basic.6y\",..: 1 4 2 4 6 6 4 4 4 1 ...\n",
      " $ default       : Factor w/ 2 levels \"no\",\"yes\": 1 1 1 1 1 1 1 1 1 1 ...\n",
      " $ housing       : Factor w/ 2 levels \"no\",\"yes\": 1 2 1 1 1 2 2 2 1 2 ...\n",
      " $ loan          : Factor w/ 2 levels \"no\",\"yes\": 1 1 1 2 1 1 1 1 2 1 ...\n",
      " $ contact       : Factor w/ 2 levels \"cellular\",\"telephone\": 2 2 2 2 2 2 2 2 2 2 ...\n",
      " $ month         : Factor w/ 10 levels \"apr\",\"aug\",\"dec\",..: 7 7 7 7 7 7 7 7 7 7 ...\n",
      " $ day_of_week   : Factor w/ 5 levels \"fri\",\"mon\",\"thu\",..: 2 2 2 2 2 2 2 2 2 2 ...\n",
      " $ duration      : int  261 226 151 307 139 380 50 222 137 293 ...\n",
      " $ campaign      : int  1 1 1 1 1 1 1 1 1 1 ...\n",
      " $ pdays         : int  999 999 999 999 999 999 999 999 999 999 ...\n",
      " $ previous      : int  0 0 0 0 0 0 0 0 0 0 ...\n",
      " $ poutcome      : Factor w/ 3 levels \"failure\",\"nonexistent\",..: 2 2 2 2 2 2 2 2 2 2 ...\n",
      " $ emp.var.rate  : num  1.1 1.1 1.1 1.1 1.1 1.1 1.1 1.1 1.1 1.1 ...\n",
      " $ cons.price.idx: num  94 94 94 94 94 ...\n",
      " $ cons.conf.idx : num  -36.4 -36.4 -36.4 -36.4 -36.4 -36.4 -36.4 -36.4 -36.4 -36.4 ...\n",
      " $ euribor3m     : num  4.86 4.86 4.86 4.86 4.86 ...\n",
      " $ nr.employed   : num  5191 5191 5191 5191 5191 ...\n",
      " $ y             : Factor w/ 2 levels \"0\",\"1\": 1 1 1 1 1 1 1 1 1 1 ...\n"
     ]
    }
   ],
   "source": [
    "str(Bankdata)"
   ]
  },
  {
   "cell_type": "markdown",
   "metadata": {},
   "source": [
    "Plot chart for variable \"age\" and \"campaign\" with respect to output \"y\"."
   ]
  },
  {
   "cell_type": "markdown",
   "metadata": {},
   "source": [
    "Library needed to construct charts."
   ]
  },
  {
   "cell_type": "code",
   "execution_count": 21,
   "metadata": {},
   "outputs": [
    {
     "name": "stderr",
     "output_type": "stream",
     "text": [
      "Registered S3 methods overwritten by 'ggplot2':\n",
      "  method         from \n",
      "  [.quosures     rlang\n",
      "  c.quosures     rlang\n",
      "  print.quosures rlang\n",
      "\n"
     ]
    }
   ],
   "source": [
    "library(ggplot2)"
   ]
  },
  {
   "cell_type": "code",
   "execution_count": 22,
   "metadata": {},
   "outputs": [
    {
     "data": {
      "image/png": "[encoded data removed]",
      "text/plain": [
       "plot without title"
      ]
     },
     "metadata": {
      "image/png": {
       "height": 420,
       "width": 420
      },
      "text/plain": {
       "height": 420,
       "width": 420
      }
     },
     "output_type": "display_data"
    }
   ],
   "source": [
    "Bankdata %>%\n",
    "ggplot()+aes(x=campaign)+geom_bar()+geom_vline(xintercept=c(1,10),col=\"red\",linetype=\"dashed\")+facet_grid(y~.,scales=\"free_y\")"
   ]
  },
  {
   "cell_type": "markdown",
   "metadata": {},
   "source": [
    "We observed that the most clients participated in the first few campaigns and it is showing a decreasing trend. As the number of campaigns held increases, the rejection rate also increases accordingly. It might be because the potential clients had subscribed in the first few campaigns and only left only those who showed no interest and rejected it"
   ]
  },
  {
   "cell_type": "code",
   "execution_count": 23,
   "metadata": {},
   "outputs": [
    {
     "data": {
      "image/png": "[encoded data removed]",
      "text/plain": [
       "plot without title"
      ]
     },
     "metadata": {
      "image/png": {
       "height": 420,
       "width": 420
      },
      "text/plain": {
       "height": 420,
       "width": 420
      }
     },
     "output_type": "display_data"
    }
   ],
   "source": [
    "Bankdata %>%\n",
    "ggplot()+aes(x=age)+geom_bar()+geom_vline(xintercept=c(30,60),col=\"red\",linetype=\"dashed\")+facet_grid(y~.,scales=\"free_y\")"
   ]
  },
  {
   "cell_type": "markdown",
   "metadata": {},
   "source": [
    "## Correlation \n",
    "Take into consideration of those significant explanatory variables by finding the correlation between the explanatory variable and other variables.\n",
    "<br>\n",
    "Consider less correlation variable as insignificant variable and remove it afterwards."
   ]
  },
  {
   "cell_type": "markdown",
   "metadata": {},
   "source": [
    "Use Chi Square test, cross table or construct a heterogenous correlation matrix to find correlation."
   ]
  },
  {
   "cell_type": "markdown",
   "metadata": {},
   "source": [
    "Create a function for Cross table."
   ]
  },
  {
   "cell_type": "code",
   "execution_count": 24,
   "metadata": {},
   "outputs": [],
   "source": [
    "crosstable = function(df, var1, var2){\n",
    "# df: dataframe containing both variables to cross\n",
    "# var1, var2: columns to cross together.\n",
    "CrossTable(df[, var1], df[, var2],\n",
    "prop.r = T,\n",
    "prop.c = F,\n",
    "prop.t = F,\n",
    "prop.chisq = F,\n",
    "dnn = c(var1, var2))\n",
    "}"
   ]
  },
  {
   "cell_type": "markdown",
   "metadata": {},
   "source": [
    "Construct appropriate correlation test for each variables."
   ]
  },
  {
   "cell_type": "markdown",
   "metadata": {},
   "source": [
    "#### Renamed variables' value\n",
    "##### Age\n",
    "The age group of the dataset ranges from 17 to 95 and the mean of the age is 39.03. In order to simplify the calculation, we took the step to classify those below age 30 as low and mid if lower than age 60 and high thereafter.\n",
    "##### Campaign \n",
    "If the campaigns organized more than 10 times, we denote it as '10+' for further anaylsis.\n",
    "##### Previous \n",
    "If the number of contacts performed before this campaign for this client more than 2 times, we denote it as '2+' for ease of analysis."
   ]
  },
  {
   "cell_type": "code",
   "execution_count": 25,
   "metadata": {},
   "outputs": [
    {
     "data": {
      "text/plain": [
       "\n",
       "  17   18   19   20   21   22   23   24   25   26   27   28   29   30   31   32 \n",
       "   2   15   21   47   84  115  205  375  500  599  699  809 1263 1441 1643 1555 \n",
       "  33   34   35   36   37   38   39   40   41   42   43   44   45   46   47   48 \n",
       "1524 1431 1399 1391 1140 1033 1035  807  906  793  741  677  664  659  600  670 \n",
       "  49   50   51   52   53   54   55   56   57   58   59   60   61   62   63   64 \n",
       " 516  552  460  506  469  432  400  407  372  383  266  156   64   42   41   45 \n",
       "  65   66   67   68   69   70   71   72   73   74   75   76   77   78   79   80 \n",
       "  36   40   21   30   30   41   46   28   28   29   20   28   12   20   12   26 \n",
       "  81   82   83   84   85   86   87   88   89   91   94   95 \n",
       "  16   13   15    4    7    3    1   22    2    2    1    1 "
      ]
     },
     "metadata": {},
     "output_type": "display_data"
    },
    {
     "name": "stdout",
     "output_type": "stream",
     "text": [
      "\n",
      " \n",
      "   Cell Contents\n",
      "|-------------------------|\n",
      "|                       N |\n",
      "|           N / Row Total |\n",
      "|-------------------------|\n",
      "\n",
      " \n",
      "Total Observations in Table:  30488 \n",
      "\n",
      " \n",
      "             | y \n",
      "         age |         0 |         1 | Row Total | \n",
      "-------------|-----------|-----------|-----------|\n",
      "         low |      5203 |       972 |      6175 | \n",
      "             |     0.843 |     0.157 |     0.203 | \n",
      "-------------|-----------|-----------|-----------|\n",
      "         mid |     21026 |      2561 |     23587 | \n",
      "             |     0.891 |     0.109 |     0.774 | \n",
      "-------------|-----------|-----------|-----------|\n",
      "        high |       400 |       326 |       726 | \n",
      "             |     0.551 |     0.449 |     0.024 | \n",
      "-------------|-----------|-----------|-----------|\n",
      "Column Total |     26629 |      3859 |     30488 | \n",
      "-------------|-----------|-----------|-----------|\n",
      "\n",
      " \n"
     ]
    },
    {
     "data": {
      "text/plain": [
       "\n",
       "       admin.   blue-collar  entrepreneur     housemaid    management \n",
       "         8737          5675          1089           690          2311 \n",
       "      retired self-employed      services       student    technician \n",
       "         1216          1092          2857           610          5473 \n",
       "   unemployed \n",
       "          738 "
      ]
     },
     "metadata": {},
     "output_type": "display_data"
    },
    {
     "name": "stdout",
     "output_type": "stream",
     "text": [
      "\n",
      " \n",
      "   Cell Contents\n",
      "|-------------------------|\n",
      "|                       N |\n",
      "|           N / Row Total |\n",
      "|-------------------------|\n",
      "\n",
      " \n",
      "Total Observations in Table:  30488 \n",
      "\n",
      " \n",
      "              | y \n",
      "          job |         0 |         1 | Row Total | \n",
      "--------------|-----------|-----------|-----------|\n",
      "       admin. |      7521 |      1216 |      8737 | \n",
      "              |     0.861 |     0.139 |     0.287 | \n",
      "--------------|-----------|-----------|-----------|\n",
      "  blue-collar |      5223 |       452 |      5675 | \n",
      "              |     0.920 |     0.080 |     0.186 | \n",
      "--------------|-----------|-----------|-----------|\n",
      " entrepreneur |       988 |       101 |      1089 | \n",
      "              |     0.907 |     0.093 |     0.036 | \n",
      "--------------|-----------|-----------|-----------|\n",
      "    housemaid |       603 |        87 |       690 | \n",
      "              |     0.874 |     0.126 |     0.023 | \n",
      "--------------|-----------|-----------|-----------|\n",
      "   management |      2025 |       286 |      2311 | \n",
      "              |     0.876 |     0.124 |     0.076 | \n",
      "--------------|-----------|-----------|-----------|\n",
      "      retired |       859 |       357 |      1216 | \n",
      "              |     0.706 |     0.294 |     0.040 | \n",
      "--------------|-----------|-----------|-----------|\n",
      "self-employed |       960 |       132 |      1092 | \n",
      "              |     0.879 |     0.121 |     0.036 | \n",
      "--------------|-----------|-----------|-----------|\n",
      "     services |      2599 |       258 |      2857 | \n",
      "              |     0.910 |     0.090 |     0.094 | \n",
      "--------------|-----------|-----------|-----------|\n",
      "      student |       407 |       203 |       610 | \n",
      "              |     0.667 |     0.333 |     0.020 | \n",
      "--------------|-----------|-----------|-----------|\n",
      "   technician |      4832 |       641 |      5473 | \n",
      "              |     0.883 |     0.117 |     0.180 | \n",
      "--------------|-----------|-----------|-----------|\n",
      "   unemployed |       612 |       126 |       738 | \n",
      "              |     0.829 |     0.171 |     0.024 | \n",
      "--------------|-----------|-----------|-----------|\n",
      " Column Total |     26629 |      3859 |     30488 | \n",
      "--------------|-----------|-----------|-----------|\n",
      "\n",
      " \n"
     ]
    },
    {
     "data": {
      "text/plain": [
       "\n",
       "\tPearson's Chi-squared test\n",
       "\n",
       "data:  Bankdata$job and Bankdata$y\n",
       "X-squared = 730.22, df = 10, p-value < 2.2e-16\n"
      ]
     },
     "metadata": {},
     "output_type": "display_data"
    },
    {
     "data": {
      "text/plain": [
       "\n",
       "divorced  married   single \n",
       "    3553    17492     9443 "
      ]
     },
     "metadata": {},
     "output_type": "display_data"
    },
    {
     "name": "stdout",
     "output_type": "stream",
     "text": [
      "\n",
      " \n",
      "   Cell Contents\n",
      "|-------------------------|\n",
      "|                       N |\n",
      "|           N / Row Total |\n",
      "|-------------------------|\n",
      "\n",
      " \n",
      "Total Observations in Table:  30488 \n",
      "\n",
      " \n",
      "             | y \n",
      "     marital |         0 |         1 | Row Total | \n",
      "-------------|-----------|-----------|-----------|\n",
      "    divorced |      3143 |       410 |      3553 | \n",
      "             |     0.885 |     0.115 |     0.117 | \n",
      "-------------|-----------|-----------|-----------|\n",
      "     married |     15436 |      2056 |     17492 | \n",
      "             |     0.882 |     0.118 |     0.574 | \n",
      "-------------|-----------|-----------|-----------|\n",
      "      single |      8050 |      1393 |      9443 | \n",
      "             |     0.852 |     0.148 |     0.310 | \n",
      "-------------|-----------|-----------|-----------|\n",
      "Column Total |     26629 |      3859 |     30488 | \n",
      "-------------|-----------|-----------|-----------|\n",
      "\n",
      " \n"
     ]
    },
    {
     "data": {
      "text/plain": [
       "\n",
       "\tPearson's Chi-squared test\n",
       "\n",
       "data:  Bankdata$marital and Bankdata$y\n",
       "X-squared = 54.394, df = 2, p-value = 1.544e-12\n"
      ]
     },
     "metadata": {},
     "output_type": "display_data"
    },
    {
     "data": {
      "text/plain": [
       "\n",
       "           basic.4y            basic.6y            basic.9y         high.school \n",
       "               2380                1389                4276                7699 \n",
       "         illiterate professional.course   university.degree \n",
       "                 11                4321               10412 "
      ]
     },
     "metadata": {},
     "output_type": "display_data"
    },
    {
     "name": "stdout",
     "output_type": "stream",
     "text": [
      "\n",
      " \n",
      "   Cell Contents\n",
      "|-------------------------|\n",
      "|                       N |\n",
      "|           N / Row Total |\n",
      "|-------------------------|\n",
      "\n",
      " \n",
      "Total Observations in Table:  30488 \n",
      "\n",
      " \n",
      "                    | y \n",
      "          education |         0 |         1 | Row Total | \n",
      "--------------------|-----------|-----------|-----------|\n",
      "           basic.4y |      2054 |       326 |      2380 | \n",
      "                    |     0.863 |     0.137 |     0.078 | \n",
      "--------------------|-----------|-----------|-----------|\n",
      "           basic.6y |      1253 |       136 |      1389 | \n",
      "                    |     0.902 |     0.098 |     0.046 | \n",
      "--------------------|-----------|-----------|-----------|\n",
      "           basic.9y |      3896 |       380 |      4276 | \n",
      "                    |     0.911 |     0.089 |     0.140 | \n",
      "--------------------|-----------|-----------|-----------|\n",
      "        high.school |      6765 |       934 |      7699 | \n",
      "                    |     0.879 |     0.121 |     0.253 | \n",
      "--------------------|-----------|-----------|-----------|\n",
      "         illiterate |         8 |         3 |        11 | \n",
      "                    |     0.727 |     0.273 |     0.000 | \n",
      "--------------------|-----------|-----------|-----------|\n",
      "professional.course |      3783 |       538 |      4321 | \n",
      "                    |     0.875 |     0.125 |     0.142 | \n",
      "--------------------|-----------|-----------|-----------|\n",
      "  university.degree |      8870 |      1542 |     10412 | \n",
      "                    |     0.852 |     0.148 |     0.342 | \n",
      "--------------------|-----------|-----------|-----------|\n",
      "       Column Total |     26629 |      3859 |     30488 | \n",
      "--------------------|-----------|-----------|-----------|\n",
      "\n",
      " \n"
     ]
    },
    {
     "data": {
      "text/plain": [
       "\n",
       "   no   yes \n",
       "30485     3 "
      ]
     },
     "metadata": {},
     "output_type": "display_data"
    },
    {
     "name": "stdout",
     "output_type": "stream",
     "text": [
      "\n",
      " \n",
      "   Cell Contents\n",
      "|-------------------------|\n",
      "|                       N |\n",
      "|           N / Row Total |\n",
      "|-------------------------|\n",
      "\n",
      " \n",
      "Total Observations in Table:  30488 \n",
      "\n",
      " \n",
      "             | y \n",
      "     default |         0 |         1 | Row Total | \n",
      "-------------|-----------|-----------|-----------|\n",
      "          no |     26626 |      3859 |     30485 | \n",
      "             |     0.873 |     0.127 |     1.000 | \n",
      "-------------|-----------|-----------|-----------|\n",
      "         yes |         3 |         0 |         3 | \n",
      "             |     1.000 |     0.000 |     0.000 | \n",
      "-------------|-----------|-----------|-----------|\n",
      "Column Total |     26629 |      3859 |     30488 | \n",
      "-------------|-----------|-----------|-----------|\n",
      "\n",
      " \n"
     ]
    },
    {
     "data": {
      "text/html": [
       "<style>\n",
       ".list-inline {list-style: none; margin:0; padding: 0}\n",
       ".list-inline>li {display: inline-block}\n",
       ".list-inline>li:not(:last-child)::after {content: \"\\00b7\"; padding: 0 .5ex}\n",
       "</style>\n",
       "<ol class=list-inline><li>'age'</li><li>'job'</li><li>'marital'</li><li>'education'</li><li>'default'</li><li>'housing'</li><li>'loan'</li><li>'contact'</li><li>'month'</li><li>'day_of_week'</li><li>'duration'</li><li>'campaign'</li><li>'pdays'</li><li>'previous'</li><li>'poutcome'</li><li>'emp.var.rate'</li><li>'cons.price.idx'</li><li>'cons.conf.idx'</li><li>'euribor3m'</li><li>'nr.employed'</li><li>'y'</li></ol>\n"
      ],
      "text/latex": [
       "\\begin{enumerate*}\n",
       "\\item 'age'\n",
       "\\item 'job'\n",
       "\\item 'marital'\n",
       "\\item 'education'\n",
       "\\item 'default'\n",
       "\\item 'housing'\n",
       "\\item 'loan'\n",
       "\\item 'contact'\n",
       "\\item 'month'\n",
       "\\item 'day\\_of\\_week'\n",
       "\\item 'duration'\n",
       "\\item 'campaign'\n",
       "\\item 'pdays'\n",
       "\\item 'previous'\n",
       "\\item 'poutcome'\n",
       "\\item 'emp.var.rate'\n",
       "\\item 'cons.price.idx'\n",
       "\\item 'cons.conf.idx'\n",
       "\\item 'euribor3m'\n",
       "\\item 'nr.employed'\n",
       "\\item 'y'\n",
       "\\end{enumerate*}\n"
      ],
      "text/markdown": [
       "1. 'age'\n",
       "2. 'job'\n",
       "3. 'marital'\n",
       "4. 'education'\n",
       "5. 'default'\n",
       "6. 'housing'\n",
       "7. 'loan'\n",
       "8. 'contact'\n",
       "9. 'month'\n",
       "10. 'day_of_week'\n",
       "11. 'duration'\n",
       "12. 'campaign'\n",
       "13. 'pdays'\n",
       "14. 'previous'\n",
       "15. 'poutcome'\n",
       "16. 'emp.var.rate'\n",
       "17. 'cons.price.idx'\n",
       "18. 'cons.conf.idx'\n",
       "19. 'euribor3m'\n",
       "20. 'nr.employed'\n",
       "21. 'y'\n",
       "\n",
       "\n"
      ],
      "text/plain": [
       " [1] \"age\"            \"job\"            \"marital\"        \"education\"     \n",
       " [5] \"default\"        \"housing\"        \"loan\"           \"contact\"       \n",
       " [9] \"month\"          \"day_of_week\"    \"duration\"       \"campaign\"      \n",
       "[13] \"pdays\"          \"previous\"       \"poutcome\"       \"emp.var.rate\"  \n",
       "[17] \"cons.price.idx\" \"cons.conf.idx\"  \"euribor3m\"      \"nr.employed\"   \n",
       "[21] \"y\"             "
      ]
     },
     "metadata": {},
     "output_type": "display_data"
    },
    {
     "data": {
      "text/plain": [
       "\n",
       "   no   yes \n",
       "13967 16521 "
      ]
     },
     "metadata": {},
     "output_type": "display_data"
    },
    {
     "name": "stdout",
     "output_type": "stream",
     "text": [
      "\n",
      " \n",
      "   Cell Contents\n",
      "|-------------------------|\n",
      "|                       N |\n",
      "|           N / Row Total |\n",
      "|-------------------------|\n",
      "\n",
      " \n",
      "Total Observations in Table:  30488 \n",
      "\n",
      " \n",
      "             | y \n",
      "     housing |         0 |         1 | Row Total | \n",
      "-------------|-----------|-----------|-----------|\n",
      "          no |     12250 |      1717 |     13967 | \n",
      "             |     0.877 |     0.123 |     0.458 | \n",
      "-------------|-----------|-----------|-----------|\n",
      "         yes |     14379 |      2142 |     16521 | \n",
      "             |     0.870 |     0.130 |     0.542 | \n",
      "-------------|-----------|-----------|-----------|\n",
      "Column Total |     26629 |      3859 |     30488 | \n",
      "-------------|-----------|-----------|-----------|\n",
      "\n",
      " \n"
     ]
    },
    {
     "data": {
      "text/plain": [
       "\n",
       "\tPearson's Chi-squared test with Yates' continuity correction\n",
       "\n",
       "data:  Bankdata$housing and Bankdata$y\n",
       "X-squared = 3.0316, df = 1, p-value = 0.08166\n"
      ]
     },
     "metadata": {},
     "output_type": "display_data"
    },
    {
     "data": {
      "text/plain": [
       "\n",
       "   no   yes \n",
       "25720  4768 "
      ]
     },
     "metadata": {},
     "output_type": "display_data"
    },
    {
     "name": "stdout",
     "output_type": "stream",
     "text": [
      "\n",
      " \n",
      "   Cell Contents\n",
      "|-------------------------|\n",
      "|                       N |\n",
      "|           N / Row Total |\n",
      "|-------------------------|\n",
      "\n",
      " \n",
      "Total Observations in Table:  30488 \n",
      "\n",
      " \n",
      "             | y \n",
      "        loan |         0 |         1 | Row Total | \n",
      "-------------|-----------|-----------|-----------|\n",
      "          no |     22446 |      3274 |     25720 | \n",
      "             |     0.873 |     0.127 |     0.844 | \n",
      "-------------|-----------|-----------|-----------|\n",
      "         yes |      4183 |       585 |      4768 | \n",
      "             |     0.877 |     0.123 |     0.156 | \n",
      "-------------|-----------|-----------|-----------|\n",
      "Column Total |     26629 |      3859 |     30488 | \n",
      "-------------|-----------|-----------|-----------|\n",
      "\n",
      " \n"
     ]
    },
    {
     "data": {
      "text/plain": [
       "\n",
       "\tPearson's Chi-squared test with Yates' continuity correction\n",
       "\n",
       "data:  Bankdata$loan and Bankdata$y\n",
       "X-squared = 0.72915, df = 1, p-value = 0.3932\n"
      ]
     },
     "metadata": {},
     "output_type": "display_data"
    },
    {
     "data": {
      "text/html": [
       "<style>\n",
       ".list-inline {list-style: none; margin:0; padding: 0}\n",
       ".list-inline>li {display: inline-block}\n",
       ".list-inline>li:not(:last-child)::after {content: \"\\00b7\"; padding: 0 .5ex}\n",
       "</style>\n",
       "<ol class=list-inline><li>'age'</li><li>'job'</li><li>'marital'</li><li>'education'</li><li>'loan'</li><li>'contact'</li><li>'month'</li><li>'day_of_week'</li><li>'duration'</li><li>'campaign'</li><li>'pdays'</li><li>'previous'</li><li>'poutcome'</li><li>'emp.var.rate'</li><li>'cons.price.idx'</li><li>'cons.conf.idx'</li><li>'euribor3m'</li><li>'nr.employed'</li><li>'y'</li></ol>\n"
      ],
      "text/latex": [
       "\\begin{enumerate*}\n",
       "\\item 'age'\n",
       "\\item 'job'\n",
       "\\item 'marital'\n",
       "\\item 'education'\n",
       "\\item 'loan'\n",
       "\\item 'contact'\n",
       "\\item 'month'\n",
       "\\item 'day\\_of\\_week'\n",
       "\\item 'duration'\n",
       "\\item 'campaign'\n",
       "\\item 'pdays'\n",
       "\\item 'previous'\n",
       "\\item 'poutcome'\n",
       "\\item 'emp.var.rate'\n",
       "\\item 'cons.price.idx'\n",
       "\\item 'cons.conf.idx'\n",
       "\\item 'euribor3m'\n",
       "\\item 'nr.employed'\n",
       "\\item 'y'\n",
       "\\end{enumerate*}\n"
      ],
      "text/markdown": [
       "1. 'age'\n",
       "2. 'job'\n",
       "3. 'marital'\n",
       "4. 'education'\n",
       "5. 'loan'\n",
       "6. 'contact'\n",
       "7. 'month'\n",
       "8. 'day_of_week'\n",
       "9. 'duration'\n",
       "10. 'campaign'\n",
       "11. 'pdays'\n",
       "12. 'previous'\n",
       "13. 'poutcome'\n",
       "14. 'emp.var.rate'\n",
       "15. 'cons.price.idx'\n",
       "16. 'cons.conf.idx'\n",
       "17. 'euribor3m'\n",
       "18. 'nr.employed'\n",
       "19. 'y'\n",
       "\n",
       "\n"
      ],
      "text/plain": [
       " [1] \"age\"            \"job\"            \"marital\"        \"education\"     \n",
       " [5] \"loan\"           \"contact\"        \"month\"          \"day_of_week\"   \n",
       " [9] \"duration\"       \"campaign\"       \"pdays\"          \"previous\"      \n",
       "[13] \"poutcome\"       \"emp.var.rate\"   \"cons.price.idx\" \"cons.conf.idx\" \n",
       "[17] \"euribor3m\"      \"nr.employed\"    \"y\"             "
      ]
     },
     "metadata": {},
     "output_type": "display_data"
    },
    {
     "data": {
      "text/plain": [
       "\n",
       " cellular telephone \n",
       "    20443     10045 "
      ]
     },
     "metadata": {},
     "output_type": "display_data"
    },
    {
     "name": "stdout",
     "output_type": "stream",
     "text": [
      "\n",
      " \n",
      "   Cell Contents\n",
      "|-------------------------|\n",
      "|                       N |\n",
      "|           N / Row Total |\n",
      "|-------------------------|\n",
      "\n",
      " \n",
      "Total Observations in Table:  30488 \n",
      "\n",
      " \n",
      "             | y \n",
      "     contact |         0 |         1 | Row Total | \n",
      "-------------|-----------|-----------|-----------|\n",
      "    cellular |     17170 |      3273 |     20443 | \n",
      "             |     0.840 |     0.160 |     0.671 | \n",
      "-------------|-----------|-----------|-----------|\n",
      "   telephone |      9459 |       586 |     10045 | \n",
      "             |     0.942 |     0.058 |     0.329 | \n",
      "-------------|-----------|-----------|-----------|\n",
      "Column Total |     26629 |      3859 |     30488 | \n",
      "-------------|-----------|-----------|-----------|\n",
      "\n",
      " \n"
     ]
    },
    {
     "data": {
      "text/plain": [
       "\n",
       "\tPearson's Chi-squared test with Yates' continuity correction\n",
       "\n",
       "data:  Bankdata$contact and Bankdata$y\n",
       "X-squared = 630.04, df = 1, p-value < 2.2e-16\n"
      ]
     },
     "metadata": {},
     "output_type": "display_data"
    },
    {
     "data": {
      "text/plain": [
       "\n",
       " apr  aug  dec  jul  jun  mar  may  nov  oct  sep \n",
       "2115 4673  157 5081 3614  482 9733 3496  642  495 "
      ]
     },
     "metadata": {},
     "output_type": "display_data"
    },
    {
     "name": "stdout",
     "output_type": "stream",
     "text": [
      "\n",
      " \n",
      "   Cell Contents\n",
      "|-------------------------|\n",
      "|                       N |\n",
      "|           N / Row Total |\n",
      "|-------------------------|\n",
      "\n",
      " \n",
      "Total Observations in Table:  30488 \n",
      "\n",
      " \n",
      "             | y \n",
      "       month |         0 |         1 | Row Total | \n",
      "-------------|-----------|-----------|-----------|\n",
      "         Mar |       236 |       246 |       482 | \n",
      "             |     0.490 |     0.510 |     0.016 | \n",
      "-------------|-----------|-----------|-----------|\n",
      "         Apr |      1647 |       468 |      2115 | \n",
      "             |     0.779 |     0.221 |     0.069 | \n",
      "-------------|-----------|-----------|-----------|\n",
      "         May |      9033 |       700 |      9733 | \n",
      "             |     0.928 |     0.072 |     0.319 | \n",
      "-------------|-----------|-----------|-----------|\n",
      "         Jun |      3162 |       452 |      3614 | \n",
      "             |     0.875 |     0.125 |     0.119 | \n",
      "-------------|-----------|-----------|-----------|\n",
      "         Jul |      4569 |       512 |      5081 | \n",
      "             |     0.899 |     0.101 |     0.167 | \n",
      "-------------|-----------|-----------|-----------|\n",
      "         Aug |      4140 |       533 |      4673 | \n",
      "             |     0.886 |     0.114 |     0.153 | \n",
      "-------------|-----------|-----------|-----------|\n",
      "         Sep |       273 |       222 |       495 | \n",
      "             |     0.552 |     0.448 |     0.016 | \n",
      "-------------|-----------|-----------|-----------|\n",
      "         Oct |       355 |       287 |       642 | \n",
      "             |     0.553 |     0.447 |     0.021 | \n",
      "-------------|-----------|-----------|-----------|\n",
      "         Nov |      3131 |       365 |      3496 | \n",
      "             |     0.896 |     0.104 |     0.115 | \n",
      "-------------|-----------|-----------|-----------|\n",
      "         Dec |        83 |        74 |       157 | \n",
      "             |     0.529 |     0.471 |     0.005 | \n",
      "-------------|-----------|-----------|-----------|\n",
      "Column Total |     26629 |      3859 |     30488 | \n",
      "-------------|-----------|-----------|-----------|\n",
      "\n",
      " \n"
     ]
    },
    {
     "data": {
      "text/plain": [
       "\n",
       "\tPearson's Chi-squared test\n",
       "\n",
       "data:  Bankdata$month and Bankdata$y\n",
       "X-squared = 2358.8, df = 9, p-value < 2.2e-16\n"
      ]
     },
     "metadata": {},
     "output_type": "display_data"
    },
    {
     "data": {
      "text/plain": [
       "\n",
       " fri  mon  thu  tue  wed \n",
       "5734 6279 6395 5955 6125 "
      ]
     },
     "metadata": {},
     "output_type": "display_data"
    },
    {
     "name": "stdout",
     "output_type": "stream",
     "text": [
      "\n",
      " \n",
      "   Cell Contents\n",
      "|-------------------------|\n",
      "|                       N |\n",
      "|           N / Row Total |\n",
      "|-------------------------|\n",
      "\n",
      " \n",
      "Total Observations in Table:  30488 \n",
      "\n",
      " \n",
      "             | y \n",
      " day_of_week |         0 |         1 | Row Total | \n",
      "-------------|-----------|-----------|-----------|\n",
      "         Mon |      5573 |       706 |      6279 | \n",
      "             |     0.888 |     0.112 |     0.206 | \n",
      "-------------|-----------|-----------|-----------|\n",
      "         Tue |      5166 |       789 |      5955 | \n",
      "             |     0.868 |     0.132 |     0.195 | \n",
      "-------------|-----------|-----------|-----------|\n",
      "         Wed |      5316 |       809 |      6125 | \n",
      "             |     0.868 |     0.132 |     0.201 | \n",
      "-------------|-----------|-----------|-----------|\n",
      "         Thu |      5516 |       879 |      6395 | \n",
      "             |     0.863 |     0.137 |     0.210 | \n",
      "-------------|-----------|-----------|-----------|\n",
      "         Fri |      5058 |       676 |      5734 | \n",
      "             |     0.882 |     0.118 |     0.188 | \n",
      "-------------|-----------|-----------|-----------|\n",
      "Column Total |     26629 |      3859 |     30488 | \n",
      "-------------|-----------|-----------|-----------|\n",
      "\n",
      " \n"
     ]
    },
    {
     "data": {
      "text/plain": [
       "\n",
       "\tPearson's Chi-squared test\n",
       "\n",
       "data:  Bankdata$day_of_week and Bankdata$y\n",
       "X-squared = 25.669, df = 4, p-value = 3.689e-05\n"
      ]
     },
     "metadata": {},
     "output_type": "display_data"
    },
    {
     "name": "stdout",
     "output_type": "stream",
     "text": [
      "\n",
      " \n",
      "   Cell Contents\n",
      "|-------------------------|\n",
      "|                       N |\n",
      "|           N / Row Total |\n",
      "|-------------------------|\n",
      "\n",
      " \n",
      "Total Observations in Table:  30488 \n",
      "\n",
      " \n",
      "             | y \n",
      "    campaign |         0 |         1 | Row Total | \n",
      "-------------|-----------|-----------|-----------|\n",
      "           1 |     11326 |      1920 |     13246 | \n",
      "             |     0.855 |     0.145 |     0.434 | \n",
      "-------------|-----------|-----------|-----------|\n",
      "           2 |      6853 |      1020 |      7873 | \n",
      "             |     0.870 |     0.130 |     0.258 | \n",
      "-------------|-----------|-----------|-----------|\n",
      "           3 |      3428 |       477 |      3905 | \n",
      "             |     0.878 |     0.122 |     0.128 | \n",
      "-------------|-----------|-----------|-----------|\n",
      "           4 |      1737 |       200 |      1937 | \n",
      "             |     0.897 |     0.103 |     0.064 | \n",
      "-------------|-----------|-----------|-----------|\n",
      "           5 |      1055 |       101 |      1156 | \n",
      "             |     0.913 |     0.087 |     0.038 | \n",
      "-------------|-----------|-----------|-----------|\n",
      "           6 |       643 |        53 |       696 | \n",
      "             |     0.924 |     0.076 |     0.023 | \n",
      "-------------|-----------|-----------|-----------|\n",
      "           7 |       410 |        30 |       440 | \n",
      "             |     0.932 |     0.068 |     0.014 | \n",
      "-------------|-----------|-----------|-----------|\n",
      "           8 |       268 |        15 |       283 | \n",
      "             |     0.947 |     0.053 |     0.009 | \n",
      "-------------|-----------|-----------|-----------|\n",
      "           9 |       181 |        14 |       195 | \n",
      "             |     0.928 |     0.072 |     0.006 | \n",
      "-------------|-----------|-----------|-----------|\n",
      "         10+ |       728 |        29 |       757 | \n",
      "             |     0.962 |     0.038 |     0.025 | \n",
      "-------------|-----------|-----------|-----------|\n",
      "Column Total |     26629 |      3859 |     30488 | \n",
      "-------------|-----------|-----------|-----------|\n",
      "\n",
      " \n"
     ]
    },
    {
     "data": {
      "text/plain": [
       "\n",
       "    0     1     2     3     4     5     6     7     8     9    10    11    12 \n",
       "   14    21    53   381   102    43   363    50    13    53    40    25    50 \n",
       "   13    14    15    16    17    18    19    21    22    25    26    27   999 \n",
       "   33    17    22     8     6     5     3     2     3     1     1     1 29178 "
      ]
     },
     "metadata": {},
     "output_type": "display_data"
    },
    {
     "data": {
      "text/html": [
       "<style>\n",
       ".list-inline {list-style: none; margin:0; padding: 0}\n",
       ".list-inline>li {display: inline-block}\n",
       ".list-inline>li:not(:last-child)::after {content: \"\\00b7\"; padding: 0 .5ex}\n",
       "</style>\n",
       "<ol class=list-inline><li>'age'</li><li>'job'</li><li>'marital'</li><li>'education'</li><li>'contact'</li><li>'month'</li><li>'day_of_week'</li><li>'campaign'</li><li>'pdays'</li><li>'previous'</li><li>'poutcome'</li><li>'emp.var.rate'</li><li>'cons.price.idx'</li><li>'cons.conf.idx'</li><li>'euribor3m'</li><li>'nr.employed'</li><li>'y'</li></ol>\n"
      ],
      "text/latex": [
       "\\begin{enumerate*}\n",
       "\\item 'age'\n",
       "\\item 'job'\n",
       "\\item 'marital'\n",
       "\\item 'education'\n",
       "\\item 'contact'\n",
       "\\item 'month'\n",
       "\\item 'day\\_of\\_week'\n",
       "\\item 'campaign'\n",
       "\\item 'pdays'\n",
       "\\item 'previous'\n",
       "\\item 'poutcome'\n",
       "\\item 'emp.var.rate'\n",
       "\\item 'cons.price.idx'\n",
       "\\item 'cons.conf.idx'\n",
       "\\item 'euribor3m'\n",
       "\\item 'nr.employed'\n",
       "\\item 'y'\n",
       "\\end{enumerate*}\n"
      ],
      "text/markdown": [
       "1. 'age'\n",
       "2. 'job'\n",
       "3. 'marital'\n",
       "4. 'education'\n",
       "5. 'contact'\n",
       "6. 'month'\n",
       "7. 'day_of_week'\n",
       "8. 'campaign'\n",
       "9. 'pdays'\n",
       "10. 'previous'\n",
       "11. 'poutcome'\n",
       "12. 'emp.var.rate'\n",
       "13. 'cons.price.idx'\n",
       "14. 'cons.conf.idx'\n",
       "15. 'euribor3m'\n",
       "16. 'nr.employed'\n",
       "17. 'y'\n",
       "\n",
       "\n"
      ],
      "text/plain": [
       " [1] \"age\"            \"job\"            \"marital\"        \"education\"     \n",
       " [5] \"contact\"        \"month\"          \"day_of_week\"    \"campaign\"      \n",
       " [9] \"pdays\"          \"previous\"       \"poutcome\"       \"emp.var.rate\"  \n",
       "[13] \"cons.price.idx\" \"cons.conf.idx\"  \"euribor3m\"      \"nr.employed\"   \n",
       "[17] \"y\"             "
      ]
     },
     "metadata": {},
     "output_type": "display_data"
    },
    {
     "name": "stdout",
     "output_type": "stream",
     "text": [
      "\n",
      " \n",
      "   Cell Contents\n",
      "|-------------------------|\n",
      "|                       N |\n",
      "|           N / Row Total |\n",
      "|-------------------------|\n",
      "\n",
      " \n",
      "Total Observations in Table:  30488 \n",
      "\n",
      " \n",
      "             | y \n",
      "       pdays |         0 |         1 | Row Total | \n",
      "-------------|-----------|-----------|-----------|\n",
      "           0 |     26158 |      3020 |     29178 | \n",
      "             |     0.896 |     0.104 |     0.957 | \n",
      "-------------|-----------|-----------|-----------|\n",
      "           1 |       471 |       839 |      1310 | \n",
      "             |     0.360 |     0.640 |     0.043 | \n",
      "-------------|-----------|-----------|-----------|\n",
      "Column Total |     26629 |      3859 |     30488 | \n",
      "-------------|-----------|-----------|-----------|\n",
      "\n",
      " \n"
     ]
    },
    {
     "data": {
      "text/plain": [
       "\n",
       "    0     1     2     3     4     5     6     7 \n",
       "25836  3752   633   190    56    16     4     1 "
      ]
     },
     "metadata": {},
     "output_type": "display_data"
    },
    {
     "name": "stdout",
     "output_type": "stream",
     "text": [
      "\n",
      " \n",
      "   Cell Contents\n",
      "|-------------------------|\n",
      "|                       N |\n",
      "|           N / Row Total |\n",
      "|-------------------------|\n",
      "\n",
      " \n",
      "Total Observations in Table:  30488 \n",
      "\n",
      " \n",
      "             | y \n",
      "    previous |         0 |         1 | Row Total | \n",
      "-------------|-----------|-----------|-----------|\n",
      "           0 |     23264 |      2572 |     25836 | \n",
      "             |     0.900 |     0.100 |     0.847 | \n",
      "-------------|-----------|-----------|-----------|\n",
      "           1 |      2920 |       832 |      3752 | \n",
      "             |     0.778 |     0.222 |     0.123 | \n",
      "-------------|-----------|-----------|-----------|\n",
      "          2+ |       445 |       455 |       900 | \n",
      "             |     0.494 |     0.506 |     0.030 | \n",
      "-------------|-----------|-----------|-----------|\n",
      "Column Total |     26629 |      3859 |     30488 | \n",
      "-------------|-----------|-----------|-----------|\n",
      "\n",
      " \n",
      "\n",
      " \n",
      "   Cell Contents\n",
      "|-------------------------|\n",
      "|                       N |\n",
      "|           N / Row Total |\n",
      "|-------------------------|\n",
      "\n",
      " \n",
      "Total Observations in Table:  30488 \n",
      "\n",
      " \n",
      "             | y \n",
      "    poutcome |         0 |         1 | Row Total | \n",
      "-------------|-----------|-----------|-----------|\n",
      "     failure |      2953 |       508 |      3461 | \n",
      "             |     0.853 |     0.147 |     0.114 | \n",
      "-------------|-----------|-----------|-----------|\n",
      " nonexistent |     23264 |      2572 |     25836 | \n",
      "             |     0.900 |     0.100 |     0.847 | \n",
      "-------------|-----------|-----------|-----------|\n",
      "     success |       412 |       779 |      1191 | \n",
      "             |     0.346 |     0.654 |     0.039 | \n",
      "-------------|-----------|-----------|-----------|\n",
      "Column Total |     26629 |      3859 |     30488 | \n",
      "-------------|-----------|-----------|-----------|\n",
      "\n",
      " \n"
     ]
    }
   ],
   "source": [
    "#age\n",
    "table(Bankdata$age)\n",
    "#to construct a nicer cross table\n",
    "Bankdata=Bankdata %>% mutate(age=ifelse(age > 60,\"high\",ifelse(age>30,\"mid\",\"low\")))\n",
    "Bankdata$age <- factor(Bankdata$age, levels= c(\"low\", \"mid\", \"high\"))\n",
    "crosstable(Bankdata, \"age\", \"y\")\n",
    "\n",
    "\n",
    "#Job\n",
    "table(Bankdata$job)\n",
    "crosstable(Bankdata, \"job\", \"y\")\n",
    "chisq.test(Bankdata$job, Bankdata$y)\n",
    "\n",
    "\n",
    "#Marital Status\n",
    "table(Bankdata$marital)\n",
    "crosstable(Bankdata, \"marital\", \"y\") \n",
    "chisq.test(Bankdata$marital, Bankdata$y)\n",
    "\n",
    "#Education\n",
    "table(Bankdata$education)\n",
    "crosstable(Bankdata, \"education\", \"y\")\n",
    "\n",
    "#Default\n",
    "table(Bankdata$default)\n",
    "crosstable(Bankdata, \"default\", \"y\")\n",
    "names(Bankdata)\n",
    "#Remove \"default\" variable due to only three people replied yes so remove whole variable\n",
    "Bankdata = Bankdata %>% select(-default)\n",
    "\n",
    "#Housing\n",
    "table(Bankdata$housing)\n",
    "crosstable(Bankdata, \"housing\", \"y\")\n",
    "chisq.test(Bankdata$housing, Bankdata$y)\n",
    "#Remove \"housing\" variable due to the high p-value 0.08\n",
    "Bankdata = Bankdata %>% select(-housing) \n",
    "\n",
    "#Loan \n",
    "table(Bankdata$loan)\n",
    "crosstable(Bankdata, \"loan\", \"y\")\n",
    "chisq.test(Bankdata$loan, Bankdata$y)\n",
    "names(Bankdata)\n",
    "#Remove \"loan\" due to high p-value 0.39\n",
    "Bankdata = Bankdata %>% select(-loan)\n",
    "\n",
    "#Contact\n",
    "table(Bankdata$contact)\n",
    "crosstable(Bankdata, \"contact\", \"y\")\n",
    "chisq.test(Bankdata$contact, Bankdata$y)\n",
    "\n",
    "#Month\n",
    "table(Bankdata$month)\n",
    "#To construct a nicer cross table\n",
    "months= c(\"jan\"=\"Jan\",\"feb\"=\"Feb\",\"mar\"=\"Mar\",\"apr\"=\"Apr\",\"may\"=\"May\",\"jun\"=\"Jun\",\"jul\"=\"Jul\",\"aug\"=\"Aug\",\"sep\"=\"Sep\",\"oct\"=\"Oct\",\"nov\"=\"Nov\",\"dec\"=\"Dec\")\n",
    "Bankdata = Bankdata %>% mutate(month=recode(month,!!!months))\n",
    "#Arrange the factors\n",
    "Bankdata$month <- factor(Bankdata$month, levels= c(\"Jan\", \"Feb\", \"Mar\", \"Apr\", \"May\", \"Jun\", \"Jul\", \"Aug\", \"Sep\", \"Oct\", \"Nov\", \"Dec\"))\n",
    "crosstable(Bankdata, \"month\", \"y\")\n",
    "chisq.test(Bankdata$month, Bankdata$y)\n",
    "\n",
    "#Day\n",
    "table(Bankdata$day_of_week)\n",
    "#To construct a nicer cross table\n",
    "days=c(\"mon\"=\"Mon\",\"tue\"=\"Tue\",\"wed\"=\"Wed\",\"thu\"=\"Thu\",\"fri\"=\"Fri\")\n",
    "Bankdata=Bankdata %>% mutate(day_of_week=recode(day_of_week,!!!days))\n",
    "#Arrange the factors\n",
    "Bankdata$day_of_week <- factor(Bankdata$day_of_week, levels= c(\"Mon\", \"Tue\", \"Wed\", \"Thu\", \"Fri\"))\n",
    "crosstable(Bankdata, \"day_of_week\", \"y\")\n",
    "chisq.test(Bankdata$day_of_week, Bankdata$y)\n",
    "\n",
    "#Duration\n",
    "#unnecessary for our testing\n",
    "Bankdata=Bankdata %>% select(-duration)\n",
    "\n",
    "#Campaign \n",
    "Bankdata = Bankdata %>% mutate(campaign = ifelse(campaign >= 10, \"10+\", campaign))\n",
    "Bankdata$campaign <- factor(Bankdata$campaign, levels= c(\"1\", \"2\", \"3\", \"4\", \"5\", \"6\", \"7\", \"8\", \"9\", \"10+\"))\n",
    "crosstable(Bankdata, \"campaign\", \"y\")\n",
    "\n",
    "#pdays \n",
    "table(Bankdata$pdays)\n",
    "#Replace the values of the variable\n",
    "Bankdata=Bankdata %>% mutate(pdays=ifelse(pdays==999,\"0\",\"1\"))\n",
    "names(Bankdata)\n",
    "crosstable(Bankdata, \"pdays\", \"y\")\n",
    "\n",
    "\n",
    "#previous\n",
    "table(Bankdata$previous)\n",
    "Bankdata=Bankdata %>% mutate(previous = ifelse(previous >= 2, \"2+\" , ifelse(previous == 1, \"1\" , \"0\")))\n",
    "crosstable(Bankdata,\"previous\",\"y\")\n",
    "\n",
    "#poutcome\n",
    "crosstable(Bankdata,\"poutcome\",\"y\")"
   ]
  },
  {
   "cell_type": "markdown",
   "metadata": {},
   "source": [
    "#### Analysis from the Cross Table\n",
    "##### Age \n",
    "we noticed that the highest acceptance rate came from the middle age group with about 66.49% of them. Oppositely, the group which rejects the most is from the middle age group at about 78.96%.\n",
    "##### Job \n",
    "We observed that most of the clients worked as admin. (8737), followed by blue-collar (5675), then technician (5473) and further on. We found that according to their distribution, the highest acceptance rate occurs within students while the highest rejection rate occurs in blue-collar.\n",
    "#####  Marital\n",
    "There are 17492 whose marital status is married, 9443 remained single and the remaining 3553 divorced. Despite the huge difference between each status, the rejection rate for each of them is somewhat similar, which is above and around 85% rejection.\n",
    "##### Education\n",
    "The highest acceptance rate is from the illiterate level which is 27.3% whereas the highest rejection rate is 91.1% from the basic.9y level.\n",
    "##### Contact \n",
    "This variable only has 2 records, that is cellular and telephone which has 20443 and 10045 records respectively. The communication using cellular has a successful rate of 16% while the failure rate of using telephone is 94.2%.\n",
    "##### Month \n",
    "The most frequent contact occurred in May which has 9733 cases while the least of it is in December, about 157 cases. This also implies that the data in May alone explains about 30% of the whole year which is more convincing. In May, the rejection rate was 92.8% unlike the 52.9% rejection rate in December which only represented 0.5% of the whole year's data.\n",
    "##### Day of Week\n",
    "The data of this variable are distributed almost evenly for the five day. The rejection rate of each day is also quite stable, which is around 86%-88%.\n",
    "##### Pdays\n",
    "The pdays help us to find out who are new potential clients and clients that were contacted before. The new potential clients consist of 95.7% of the whole data and their rejection rate is at 89.6%. However, the clients that were previously contacted had a 64% success rate. This tells us that clients might not accept it at first, but they will be more likely to subscribe to it as they were contacted again. This can be seen through the variable “previous”. The acceptance rate increases as the number of contacts increases.\n",
    "\n",
    "##### Therefore, we removed variables due to the reason below:\n",
    "<br>\n",
    "\"__default__\": almost one-sided response for \"y\" variable lead to insignificancy\n",
    "<br>\n",
    "\"__housing__\": high p-value 0.08\n",
    "<br>\n",
    "\"__loan__\": high p-value 0.39\n",
    "<br>\n",
    "\"__duration__\": unnecessary for our testing (doesn't fully determine our goal)"
   ]
  },
  {
   "cell_type": "markdown",
   "metadata": {},
   "source": [
    "### Remove insignificant variables from group 3 by checking their correlation"
   ]
  },
  {
   "cell_type": "markdown",
   "metadata": {},
   "source": [
    "Library needed to do correlation checking."
   ]
  },
  {
   "cell_type": "code",
   "execution_count": 26,
   "metadata": {},
   "outputs": [
    {
     "name": "stderr",
     "output_type": "stream",
     "text": [
      "Warning message:\n",
      "\"package 'polycor' was built under R version 3.6.3\"\n"
     ]
    }
   ],
   "source": [
    "library(polycor)"
   ]
  },
  {
   "cell_type": "markdown",
   "metadata": {},
   "source": [
    "Check correlation between variables in Group 3 with the response variable."
   ]
  },
  {
   "cell_type": "code",
   "execution_count": 27,
   "metadata": {},
   "outputs": [
    {
     "data": {
      "text/plain": [
       "\n",
       "Two-Step Estimates\n",
       "\n",
       "Correlations/Type of Correlation:\n",
       "               emp.var.rate cons.price.idx cons.conf.idx euribor3m nr.employed\n",
       "emp.var.rate              1        Pearson       Pearson   Pearson     Pearson\n",
       "cons.price.idx       0.7661              1       Pearson   Pearson     Pearson\n",
       "cons.conf.idx        0.1576        0.02722             1   Pearson     Pearson\n",
       "euribor3m            0.9694         0.6673        0.2436         1     Pearson\n",
       "nr.employed          0.9004         0.4889       0.07528    0.9449           1\n",
       "\n",
       "Standard Errors:\n",
       "               emp.var.rate cons.price.idx cons.conf.idx euribor3m\n",
       "emp.var.rate                                                      \n",
       "cons.price.idx     0.002366                                       \n",
       "cons.conf.idx      0.005585       0.005723                        \n",
       "euribor3m          0.000345       0.003177      0.005387          \n",
       "nr.employed        0.001084       0.004358      0.005695 0.0006141\n",
       "\n",
       "n = 30488 \n",
       "\n",
       "P-values for Tests of Bivariate Normality:\n",
       "               emp.var.rate cons.price.idx cons.conf.idx euribor3m\n",
       "emp.var.rate                                                      \n",
       "cons.price.idx            0                                       \n",
       "cons.conf.idx             0              0                        \n",
       "euribor3m                 0              0             0          \n",
       "nr.employed               0              0             0         0"
      ]
     },
     "metadata": {},
     "output_type": "display_data"
    }
   ],
   "source": [
    "Bankdata %>% select(emp.var.rate, cons.price.idx, cons.conf.idx, euribor3m, nr.employed) %>% hetcor()"
   ]
  },
  {
   "cell_type": "markdown",
   "metadata": {},
   "source": [
    "#### Analysis from the Cross Table\n",
    "##### Emp.var.rate\n",
    "Employment variation rate has a negative influence on the objective. The change in employment rate will make customers less likely to subscribe to a term deposit.\n",
    "##### Cons.price.idx\n",
    "Consumer price index(CPI) helps us examine the changes in price levels of the weighted average of prices of a basket of consumer goods and services. It has a negative influence on the objective. When Consumer price index(CPI) increases means purchasing power increases that overall leads to a decrease of customer subscribe to bank deposit. \n",
    "##### Euribor3m\n",
    "Euribor 3 month rate is known as the three month rate for the Euro Interbank Offered Rate. It is the reference rate based on the averaged interest rate at which Eurozone banks offer to lend unsecured funds to other banks in the money market.\n",
    "##### Nr.employed\n",
    "This is the number of employees in the bank, having a positive effect for turning people to subscribe to the term deposit. This can result from the fact that the more the employees in the bank, the more influential and prestigious the bank will be.\n",
    "\n",
    "\n",
    "\"cons.conf.idx\" shows low correlation between social and economic indicators.\n",
    "<br>\n",
    "Remove variable \"cons.conf.idx\" from group 3 due to the low correlation."
   ]
  },
  {
   "cell_type": "code",
   "execution_count": 28,
   "metadata": {},
   "outputs": [],
   "source": [
    "Bankdata = Bankdata %>% select(-cons.conf.idx)"
   ]
  },
  {
   "cell_type": "markdown",
   "metadata": {},
   "source": [
    "## Cleaned data display \n",
    "Preview the cleaned data."
   ]
  },
  {
   "cell_type": "code",
   "execution_count": 29,
   "metadata": {},
   "outputs": [
    {
     "data": {
      "text/html": [
       "<style>\n",
       ".list-inline {list-style: none; margin:0; padding: 0}\n",
       ".list-inline>li {display: inline-block}\n",
       ".list-inline>li:not(:last-child)::after {content: \"\\00b7\"; padding: 0 .5ex}\n",
       "</style>\n",
       "<ol class=list-inline><li>'age'</li><li>'job'</li><li>'marital'</li><li>'education'</li><li>'contact'</li><li>'month'</li><li>'day_of_week'</li><li>'campaign'</li><li>'pdays'</li><li>'previous'</li><li>'poutcome'</li><li>'emp.var.rate'</li><li>'cons.price.idx'</li><li>'euribor3m'</li><li>'nr.employed'</li><li>'y'</li></ol>\n"
      ],
      "text/latex": [
       "\\begin{enumerate*}\n",
       "\\item 'age'\n",
       "\\item 'job'\n",
       "\\item 'marital'\n",
       "\\item 'education'\n",
       "\\item 'contact'\n",
       "\\item 'month'\n",
       "\\item 'day\\_of\\_week'\n",
       "\\item 'campaign'\n",
       "\\item 'pdays'\n",
       "\\item 'previous'\n",
       "\\item 'poutcome'\n",
       "\\item 'emp.var.rate'\n",
       "\\item 'cons.price.idx'\n",
       "\\item 'euribor3m'\n",
       "\\item 'nr.employed'\n",
       "\\item 'y'\n",
       "\\end{enumerate*}\n"
      ],
      "text/markdown": [
       "1. 'age'\n",
       "2. 'job'\n",
       "3. 'marital'\n",
       "4. 'education'\n",
       "5. 'contact'\n",
       "6. 'month'\n",
       "7. 'day_of_week'\n",
       "8. 'campaign'\n",
       "9. 'pdays'\n",
       "10. 'previous'\n",
       "11. 'poutcome'\n",
       "12. 'emp.var.rate'\n",
       "13. 'cons.price.idx'\n",
       "14. 'euribor3m'\n",
       "15. 'nr.employed'\n",
       "16. 'y'\n",
       "\n",
       "\n"
      ],
      "text/plain": [
       " [1] \"age\"            \"job\"            \"marital\"        \"education\"     \n",
       " [5] \"contact\"        \"month\"          \"day_of_week\"    \"campaign\"      \n",
       " [9] \"pdays\"          \"previous\"       \"poutcome\"       \"emp.var.rate\"  \n",
       "[13] \"cons.price.idx\" \"euribor3m\"      \"nr.employed\"    \"y\"             "
      ]
     },
     "metadata": {},
     "output_type": "display_data"
    },
    {
     "data": {
      "text/plain": [
       "   age                 job           marital                    education    \n",
       " low : 6175   admin.     :8737   divorced: 3553   basic.4y           : 2380  \n",
       " mid :23587   blue-collar:5675   married :17492   basic.6y           : 1389  \n",
       " high:  726   technician :5473   single  : 9443   basic.9y           : 4276  \n",
       "              services   :2857                    high.school        : 7699  \n",
       "              management :2311                    illiterate         :   11  \n",
       "              retired    :1216                    professional.course: 4321  \n",
       "              (Other)    :4219                    university.degree  :10412  \n",
       "      contact          month      day_of_week    campaign    \n",
       " cellular :20443   May    :9733   Mon:6279    1      :13246  \n",
       " telephone:10045   Jul    :5081   Tue:5955    2      : 7873  \n",
       "                   Aug    :4673   Wed:6125    3      : 3905  \n",
       "                   Jun    :3614   Thu:6395    4      : 1937  \n",
       "                   Nov    :3496   Fri:5734    5      : 1156  \n",
       "                   Apr    :2115               10+    :  757  \n",
       "                   (Other):1776               (Other): 1614  \n",
       "    pdays             previous                poutcome      emp.var.rate     \n",
       " Length:30488       Length:30488       failure    : 3461   Min.   :-3.40000  \n",
       " Class :character   Class :character   nonexistent:25836   1st Qu.:-1.80000  \n",
       " Mode  :character   Mode  :character   success    : 1191   Median : 1.10000  \n",
       "                                                           Mean   :-0.07151  \n",
       "                                                           3rd Qu.: 1.40000  \n",
       "                                                           Max.   : 1.40000  \n",
       "                                                                             \n",
       " cons.price.idx    euribor3m      nr.employed   y        \n",
       " Min.   :92.20   Min.   :0.634   Min.   :4964   0:26629  \n",
       " 1st Qu.:93.08   1st Qu.:1.313   1st Qu.:5099   1: 3859  \n",
       " Median :93.44   Median :4.856   Median :5191            \n",
       " Mean   :93.52   Mean   :3.460   Mean   :5161            \n",
       " 3rd Qu.:93.99   3rd Qu.:4.961   3rd Qu.:5228            \n",
       " Max.   :94.77   Max.   :5.045   Max.   :5228            \n",
       "                                                         "
      ]
     },
     "metadata": {},
     "output_type": "display_data"
    },
    {
     "name": "stdout",
     "output_type": "stream",
     "text": [
      "'data.frame':\t30488 obs. of  16 variables:\n",
      " $ age           : Factor w/ 3 levels \"low\",\"mid\",\"high\": 2 2 2 2 2 1 1 1 1 2 ...\n",
      " $ job           : Factor w/ 11 levels \"admin.\",\"blue-collar\",..: 4 8 1 8 1 10 8 8 2 4 ...\n",
      " $ marital       : Factor w/ 3 levels \"divorced\",\"married\",..: 2 2 2 2 2 3 3 3 3 1 ...\n",
      " $ education     : Factor w/ 7 levels \"basic.4y\",\"basic.6y\",..: 1 4 2 4 6 6 4 4 4 1 ...\n",
      " $ contact       : Factor w/ 2 levels \"cellular\",\"telephone\": 2 2 2 2 2 2 2 2 2 2 ...\n",
      " $ month         : Factor w/ 12 levels \"Jan\",\"Feb\",\"Mar\",..: 5 5 5 5 5 5 5 5 5 5 ...\n",
      " $ day_of_week   : Factor w/ 5 levels \"Mon\",\"Tue\",\"Wed\",..: 1 1 1 1 1 1 1 1 1 1 ...\n",
      " $ campaign      : Factor w/ 10 levels \"1\",\"2\",\"3\",\"4\",..: 1 1 1 1 1 1 1 1 1 1 ...\n",
      " $ pdays         : chr  \"0\" \"0\" \"0\" \"0\" ...\n",
      " $ previous      : chr  \"0\" \"0\" \"0\" \"0\" ...\n",
      " $ poutcome      : Factor w/ 3 levels \"failure\",\"nonexistent\",..: 2 2 2 2 2 2 2 2 2 2 ...\n",
      " $ emp.var.rate  : num  1.1 1.1 1.1 1.1 1.1 1.1 1.1 1.1 1.1 1.1 ...\n",
      " $ cons.price.idx: num  94 94 94 94 94 ...\n",
      " $ euribor3m     : num  4.86 4.86 4.86 4.86 4.86 ...\n",
      " $ nr.employed   : num  5191 5191 5191 5191 5191 ...\n",
      " $ y             : Factor w/ 2 levels \"0\",\"1\": 1 1 1 1 1 1 1 1 1 1 ...\n"
     ]
    }
   ],
   "source": [
    "names(Bankdata)\n",
    "summary(Bankdata)\n",
    "str(Bankdata)"
   ]
  },
  {
   "cell_type": "markdown",
   "metadata": {},
   "source": [
    "Convert the data type of variables (age, pdays, previous, campaign) from character to categorical variable."
   ]
  },
  {
   "cell_type": "code",
   "execution_count": 30,
   "metadata": {},
   "outputs": [],
   "source": [
    "Bankdata$age = as.factor(Bankdata$age)\n",
    "Bankdata$pdays = as.factor(Bankdata$pdays)\n",
    "Bankdata$previous = as.factor(Bankdata$previous)\n",
    "Bankdata$campaign = as.factor(Bankdata$campaign)"
   ]
  },
  {
   "cell_type": "markdown",
   "metadata": {},
   "source": [
    "Display data."
   ]
  },
  {
   "cell_type": "code",
   "execution_count": 31,
   "metadata": {},
   "outputs": [
    {
     "data": {
      "text/plain": [
       "   age                 job           marital                    education    \n",
       " low : 6175   admin.     :8737   divorced: 3553   basic.4y           : 2380  \n",
       " mid :23587   blue-collar:5675   married :17492   basic.6y           : 1389  \n",
       " high:  726   technician :5473   single  : 9443   basic.9y           : 4276  \n",
       "              services   :2857                    high.school        : 7699  \n",
       "              management :2311                    illiterate         :   11  \n",
       "              retired    :1216                    professional.course: 4321  \n",
       "              (Other)    :4219                    university.degree  :10412  \n",
       "      contact          month      day_of_week    campaign     pdays    \n",
       " cellular :20443   May    :9733   Mon:6279    1      :13246   0:29178  \n",
       " telephone:10045   Jul    :5081   Tue:5955    2      : 7873   1: 1310  \n",
       "                   Aug    :4673   Wed:6125    3      : 3905            \n",
       "                   Jun    :3614   Thu:6395    4      : 1937            \n",
       "                   Nov    :3496   Fri:5734    5      : 1156            \n",
       "                   Apr    :2115               10+    :  757            \n",
       "                   (Other):1776               (Other): 1614            \n",
       " previous          poutcome      emp.var.rate      cons.price.idx \n",
       " 0 :25836   failure    : 3461   Min.   :-3.40000   Min.   :92.20  \n",
       " 1 : 3752   nonexistent:25836   1st Qu.:-1.80000   1st Qu.:93.08  \n",
       " 2+:  900   success    : 1191   Median : 1.10000   Median :93.44  \n",
       "                                Mean   :-0.07151   Mean   :93.52  \n",
       "                                3rd Qu.: 1.40000   3rd Qu.:93.99  \n",
       "                                Max.   : 1.40000   Max.   :94.77  \n",
       "                                                                  \n",
       "   euribor3m      nr.employed   y        \n",
       " Min.   :0.634   Min.   :4964   0:26629  \n",
       " 1st Qu.:1.313   1st Qu.:5099   1: 3859  \n",
       " Median :4.856   Median :5191            \n",
       " Mean   :3.460   Mean   :5161            \n",
       " 3rd Qu.:4.961   3rd Qu.:5228            \n",
       " Max.   :5.045   Max.   :5228            \n",
       "                                         "
      ]
     },
     "metadata": {},
     "output_type": "display_data"
    },
    {
     "name": "stdout",
     "output_type": "stream",
     "text": [
      "'data.frame':\t30488 obs. of  16 variables:\n",
      " $ age           : Factor w/ 3 levels \"low\",\"mid\",\"high\": 2 2 2 2 2 1 1 1 1 2 ...\n",
      " $ job           : Factor w/ 11 levels \"admin.\",\"blue-collar\",..: 4 8 1 8 1 10 8 8 2 4 ...\n",
      " $ marital       : Factor w/ 3 levels \"divorced\",\"married\",..: 2 2 2 2 2 3 3 3 3 1 ...\n",
      " $ education     : Factor w/ 7 levels \"basic.4y\",\"basic.6y\",..: 1 4 2 4 6 6 4 4 4 1 ...\n",
      " $ contact       : Factor w/ 2 levels \"cellular\",\"telephone\": 2 2 2 2 2 2 2 2 2 2 ...\n",
      " $ month         : Factor w/ 12 levels \"Jan\",\"Feb\",\"Mar\",..: 5 5 5 5 5 5 5 5 5 5 ...\n",
      " $ day_of_week   : Factor w/ 5 levels \"Mon\",\"Tue\",\"Wed\",..: 1 1 1 1 1 1 1 1 1 1 ...\n",
      " $ campaign      : Factor w/ 10 levels \"1\",\"2\",\"3\",\"4\",..: 1 1 1 1 1 1 1 1 1 1 ...\n",
      " $ pdays         : Factor w/ 2 levels \"0\",\"1\": 1 1 1 1 1 1 1 1 1 1 ...\n",
      " $ previous      : Factor w/ 3 levels \"0\",\"1\",\"2+\": 1 1 1 1 1 1 1 1 1 1 ...\n",
      " $ poutcome      : Factor w/ 3 levels \"failure\",\"nonexistent\",..: 2 2 2 2 2 2 2 2 2 2 ...\n",
      " $ emp.var.rate  : num  1.1 1.1 1.1 1.1 1.1 1.1 1.1 1.1 1.1 1.1 ...\n",
      " $ cons.price.idx: num  94 94 94 94 94 ...\n",
      " $ euribor3m     : num  4.86 4.86 4.86 4.86 4.86 ...\n",
      " $ nr.employed   : num  5191 5191 5191 5191 5191 ...\n",
      " $ y             : Factor w/ 2 levels \"0\",\"1\": 1 1 1 1 1 1 1 1 1 1 ...\n"
     ]
    }
   ],
   "source": [
    "summary(Bankdata)\n",
    "str(Bankdata)"
   ]
  },
  {
   "cell_type": "markdown",
   "metadata": {},
   "source": [
    "In the end, we successfully indicate the significant 15 explanatory variables with one response variable which are useful in computing the result in the modelling."
   ]
  },
  {
   "cell_type": "markdown",
   "metadata": {},
   "source": [
    "### Plot Chart"
   ]
  },
  {
   "cell_type": "markdown",
   "metadata": {},
   "source": [
    "Library needed to construct charts."
   ]
  },
  {
   "cell_type": "code",
   "execution_count": 32,
   "metadata": {},
   "outputs": [],
   "source": [
    "library(ggplot2)"
   ]
  },
  {
   "cell_type": "code",
   "execution_count": 33,
   "metadata": {},
   "outputs": [
    {
     "data": {
      "image/png": "[encoded data removed]",
      "text/plain": [
       "plot without title"
      ]
     },
     "metadata": {
      "image/png": {
       "height": 420,
       "width": 420
      },
      "text/plain": {
       "height": 420,
       "width": 420
      }
     },
     "output_type": "display_data"
    }
   ],
   "source": [
    "Bankdata %>% ggplot()+aes(x=marital)+geom_bar(col=\"blue\",width=0.2)+facet_grid(y~.,scales=\"free_y\")"
   ]
  },
  {
   "cell_type": "code",
   "execution_count": 34,
   "metadata": {},
   "outputs": [
    {
     "data": {
      "image/png": "[encoded data removed]",
      "text/plain": [
       "plot without title"
      ]
     },
     "metadata": {
      "image/png": {
       "height": 420,
       "width": 420
      },
      "text/plain": {
       "height": 420,
       "width": 420
      }
     },
     "output_type": "display_data"
    }
   ],
   "source": [
    "Bankdata %>% ggplot()+aes(x=age)+geom_bar(col=\"blue\",width=0.2)+facet_grid(y~.,scales=\"free_y\")"
   ]
  },
  {
   "cell_type": "code",
   "execution_count": 35,
   "metadata": {},
   "outputs": [
    {
     "data": {
      "image/png": "[encoded data removed]",
      "text/plain": [
       "plot without title"
      ]
     },
     "metadata": {
      "image/png": {
       "height": 420,
       "width": 420
      },
      "text/plain": {
       "height": 420,
       "width": 420
      }
     },
     "output_type": "display_data"
    }
   ],
   "source": [
    "Bankdata %>% ggplot()+aes(x=contact)+geom_bar(col=\"blue\",width=0.2)+facet_grid(y~.,scales=\"free_y\")"
   ]
  },
  {
   "cell_type": "code",
   "execution_count": 36,
   "metadata": {},
   "outputs": [
    {
     "data": {
      "image/png": "[encoded data removed]",
      "text/plain": [
       "plot without title"
      ]
     },
     "metadata": {
      "image/png": {
       "height": 420,
       "width": 420
      },
      "text/plain": {
       "height": 420,
       "width": 420
      }
     },
     "output_type": "display_data"
    }
   ],
   "source": [
    "Bankdata %>% ggplot()+aes(x=education)+geom_bar(col=\"blue\",width=0.2)+facet_grid(y~.,scales=\"free_y\")"
   ]
  },
  {
   "cell_type": "code",
   "execution_count": 37,
   "metadata": {},
   "outputs": [
    {
     "data": {
      "image/png": "[encoded data removed]",
      "text/plain": [
       "plot without title"
      ]
     },
     "metadata": {
      "image/png": {
       "height": 420,
       "width": 420
      },
      "text/plain": {
       "height": 420,
       "width": 420
      }
     },
     "output_type": "display_data"
    }
   ],
   "source": [
    "Bankdata %>% ggplot()+aes(x=job)+geom_bar(col=\"blue\",width=0.2)+facet_grid(y~.,scales=\"free_y\")"
   ]
  },
  {
   "cell_type": "markdown",
   "metadata": {},
   "source": [
    "## Principal Component Analysis (PCA)\n",
    "### Background Analysis\n",
    "We conducted Principal Component Analysis (PCA) on the 15 explanatory variables for the unsupervised learning. PCA helps us to find a low dimensional representation of the data that captures most of the information. However, PCA only works on numerical data which most of our X variables consist of categorical data such as marital status, job, education and etc.\n",
    "<br>\n",
    "<br>\n",
    "We have to change categorical data into numerical data in order to perform PCA. For this stage, we just assume that it is of equivalent relevance if the data is changed into numeric data type or else the discussion here can no longer proceed."
   ]
  },
  {
   "cell_type": "markdown",
   "metadata": {},
   "source": [
    "Duplicate dataset for PCA testing."
   ]
  },
  {
   "cell_type": "code",
   "execution_count": 38,
   "metadata": {},
   "outputs": [],
   "source": [
    "Bankdata.PCA = Bankdata"
   ]
  },
  {
   "cell_type": "markdown",
   "metadata": {},
   "source": [
    "Remove \"y\" variable."
   ]
  },
  {
   "cell_type": "code",
   "execution_count": 39,
   "metadata": {},
   "outputs": [],
   "source": [
    "Bankdata.PCA = Bankdata.PCA %>% select(-y)"
   ]
  },
  {
   "cell_type": "markdown",
   "metadata": {},
   "source": [
    "Convert all variables to categorical data."
   ]
  },
  {
   "cell_type": "code",
   "execution_count": 40,
   "metadata": {},
   "outputs": [
    {
     "data": {
      "text/html": [
       "<table>\n",
       "<caption>A matrix: 6 × 15 of type dbl</caption>\n",
       "<thead>\n",
       "\t<tr><th scope=col>age</th><th scope=col>job</th><th scope=col>marital</th><th scope=col>education</th><th scope=col>contact</th><th scope=col>month</th><th scope=col>day_of_week</th><th scope=col>campaign</th><th scope=col>pdays</th><th scope=col>previous</th><th scope=col>poutcome</th><th scope=col>emp.var.rate</th><th scope=col>cons.price.idx</th><th scope=col>euribor3m</th><th scope=col>nr.employed</th></tr>\n",
       "</thead>\n",
       "<tbody>\n",
       "\t<tr><td>2</td><td> 4</td><td>2</td><td>1</td><td>2</td><td>5</td><td>1</td><td>1</td><td>1</td><td>1</td><td>2</td><td>1.1</td><td>93.994</td><td>4.857</td><td>5191</td></tr>\n",
       "\t<tr><td>2</td><td> 8</td><td>2</td><td>4</td><td>2</td><td>5</td><td>1</td><td>1</td><td>1</td><td>1</td><td>2</td><td>1.1</td><td>93.994</td><td>4.857</td><td>5191</td></tr>\n",
       "\t<tr><td>2</td><td> 1</td><td>2</td><td>2</td><td>2</td><td>5</td><td>1</td><td>1</td><td>1</td><td>1</td><td>2</td><td>1.1</td><td>93.994</td><td>4.857</td><td>5191</td></tr>\n",
       "\t<tr><td>2</td><td> 8</td><td>2</td><td>4</td><td>2</td><td>5</td><td>1</td><td>1</td><td>1</td><td>1</td><td>2</td><td>1.1</td><td>93.994</td><td>4.857</td><td>5191</td></tr>\n",
       "\t<tr><td>2</td><td> 1</td><td>2</td><td>6</td><td>2</td><td>5</td><td>1</td><td>1</td><td>1</td><td>1</td><td>2</td><td>1.1</td><td>93.994</td><td>4.857</td><td>5191</td></tr>\n",
       "\t<tr><td>1</td><td>10</td><td>3</td><td>6</td><td>2</td><td>5</td><td>1</td><td>1</td><td>1</td><td>1</td><td>2</td><td>1.1</td><td>93.994</td><td>4.857</td><td>5191</td></tr>\n",
       "</tbody>\n",
       "</table>\n"
      ],
      "text/latex": [
       "A matrix: 6 × 15 of type dbl\n",
       "\\begin{tabular}{lllllllllllllll}\n",
       " age & job & marital & education & contact & month & day\\_of\\_week & campaign & pdays & previous & poutcome & emp.var.rate & cons.price.idx & euribor3m & nr.employed\\\\\n",
       "\\hline\n",
       "\t 2 &  4 & 2 & 1 & 2 & 5 & 1 & 1 & 1 & 1 & 2 & 1.1 & 93.994 & 4.857 & 5191\\\\\n",
       "\t 2 &  8 & 2 & 4 & 2 & 5 & 1 & 1 & 1 & 1 & 2 & 1.1 & 93.994 & 4.857 & 5191\\\\\n",
       "\t 2 &  1 & 2 & 2 & 2 & 5 & 1 & 1 & 1 & 1 & 2 & 1.1 & 93.994 & 4.857 & 5191\\\\\n",
       "\t 2 &  8 & 2 & 4 & 2 & 5 & 1 & 1 & 1 & 1 & 2 & 1.1 & 93.994 & 4.857 & 5191\\\\\n",
       "\t 2 &  1 & 2 & 6 & 2 & 5 & 1 & 1 & 1 & 1 & 2 & 1.1 & 93.994 & 4.857 & 5191\\\\\n",
       "\t 1 & 10 & 3 & 6 & 2 & 5 & 1 & 1 & 1 & 1 & 2 & 1.1 & 93.994 & 4.857 & 5191\\\\\n",
       "\\end{tabular}\n"
      ],
      "text/markdown": [
       "\n",
       "A matrix: 6 × 15 of type dbl\n",
       "\n",
       "| age | job | marital | education | contact | month | day_of_week | campaign | pdays | previous | poutcome | emp.var.rate | cons.price.idx | euribor3m | nr.employed |\n",
       "|---|---|---|---|---|---|---|---|---|---|---|---|---|---|---|\n",
       "| 2 |  4 | 2 | 1 | 2 | 5 | 1 | 1 | 1 | 1 | 2 | 1.1 | 93.994 | 4.857 | 5191 |\n",
       "| 2 |  8 | 2 | 4 | 2 | 5 | 1 | 1 | 1 | 1 | 2 | 1.1 | 93.994 | 4.857 | 5191 |\n",
       "| 2 |  1 | 2 | 2 | 2 | 5 | 1 | 1 | 1 | 1 | 2 | 1.1 | 93.994 | 4.857 | 5191 |\n",
       "| 2 |  8 | 2 | 4 | 2 | 5 | 1 | 1 | 1 | 1 | 2 | 1.1 | 93.994 | 4.857 | 5191 |\n",
       "| 2 |  1 | 2 | 6 | 2 | 5 | 1 | 1 | 1 | 1 | 2 | 1.1 | 93.994 | 4.857 | 5191 |\n",
       "| 1 | 10 | 3 | 6 | 2 | 5 | 1 | 1 | 1 | 1 | 2 | 1.1 | 93.994 | 4.857 | 5191 |\n",
       "\n"
      ],
      "text/plain": [
       "     age job marital education contact month day_of_week campaign pdays\n",
       "[1,] 2    4  2       1         2       5     1           1        1    \n",
       "[2,] 2    8  2       4         2       5     1           1        1    \n",
       "[3,] 2    1  2       2         2       5     1           1        1    \n",
       "[4,] 2    8  2       4         2       5     1           1        1    \n",
       "[5,] 2    1  2       6         2       5     1           1        1    \n",
       "[6,] 1   10  3       6         2       5     1           1        1    \n",
       "     previous poutcome emp.var.rate cons.price.idx euribor3m nr.employed\n",
       "[1,] 1        2        1.1          93.994         4.857     5191       \n",
       "[2,] 1        2        1.1          93.994         4.857     5191       \n",
       "[3,] 1        2        1.1          93.994         4.857     5191       \n",
       "[4,] 1        2        1.1          93.994         4.857     5191       \n",
       "[5,] 1        2        1.1          93.994         4.857     5191       \n",
       "[6,] 1        2        1.1          93.994         4.857     5191       "
      ]
     },
     "metadata": {},
     "output_type": "display_data"
    },
    {
     "data": {
      "text/html": [
       "<table>\n",
       "<caption>A matrix: 6 × 15 of type dbl</caption>\n",
       "<thead>\n",
       "\t<tr><th scope=col>age</th><th scope=col>job</th><th scope=col>marital</th><th scope=col>education</th><th scope=col>contact</th><th scope=col>month</th><th scope=col>day_of_week</th><th scope=col>campaign</th><th scope=col>pdays</th><th scope=col>previous</th><th scope=col>poutcome</th><th scope=col>emp.var.rate</th><th scope=col>cons.price.idx</th><th scope=col>euribor3m</th><th scope=col>nr.employed</th></tr>\n",
       "</thead>\n",
       "<tbody>\n",
       "\t<tr><td>2</td><td> 4</td><td>2</td><td>1</td><td>2</td><td>5</td><td>1</td><td>1</td><td>1</td><td>1</td><td>2</td><td>1.1</td><td>93.994</td><td>4.857</td><td>5191</td></tr>\n",
       "\t<tr><td>2</td><td> 8</td><td>2</td><td>4</td><td>2</td><td>5</td><td>1</td><td>1</td><td>1</td><td>1</td><td>2</td><td>1.1</td><td>93.994</td><td>4.857</td><td>5191</td></tr>\n",
       "\t<tr><td>2</td><td> 1</td><td>2</td><td>2</td><td>2</td><td>5</td><td>1</td><td>1</td><td>1</td><td>1</td><td>2</td><td>1.1</td><td>93.994</td><td>4.857</td><td>5191</td></tr>\n",
       "\t<tr><td>2</td><td> 8</td><td>2</td><td>4</td><td>2</td><td>5</td><td>1</td><td>1</td><td>1</td><td>1</td><td>2</td><td>1.1</td><td>93.994</td><td>4.857</td><td>5191</td></tr>\n",
       "\t<tr><td>2</td><td> 1</td><td>2</td><td>6</td><td>2</td><td>5</td><td>1</td><td>1</td><td>1</td><td>1</td><td>2</td><td>1.1</td><td>93.994</td><td>4.857</td><td>5191</td></tr>\n",
       "\t<tr><td>1</td><td>10</td><td>3</td><td>6</td><td>2</td><td>5</td><td>1</td><td>1</td><td>1</td><td>1</td><td>2</td><td>1.1</td><td>93.994</td><td>4.857</td><td>5191</td></tr>\n",
       "</tbody>\n",
       "</table>\n"
      ],
      "text/latex": [
       "A matrix: 6 × 15 of type dbl\n",
       "\\begin{tabular}{lllllllllllllll}\n",
       " age & job & marital & education & contact & month & day\\_of\\_week & campaign & pdays & previous & poutcome & emp.var.rate & cons.price.idx & euribor3m & nr.employed\\\\\n",
       "\\hline\n",
       "\t 2 &  4 & 2 & 1 & 2 & 5 & 1 & 1 & 1 & 1 & 2 & 1.1 & 93.994 & 4.857 & 5191\\\\\n",
       "\t 2 &  8 & 2 & 4 & 2 & 5 & 1 & 1 & 1 & 1 & 2 & 1.1 & 93.994 & 4.857 & 5191\\\\\n",
       "\t 2 &  1 & 2 & 2 & 2 & 5 & 1 & 1 & 1 & 1 & 2 & 1.1 & 93.994 & 4.857 & 5191\\\\\n",
       "\t 2 &  8 & 2 & 4 & 2 & 5 & 1 & 1 & 1 & 1 & 2 & 1.1 & 93.994 & 4.857 & 5191\\\\\n",
       "\t 2 &  1 & 2 & 6 & 2 & 5 & 1 & 1 & 1 & 1 & 2 & 1.1 & 93.994 & 4.857 & 5191\\\\\n",
       "\t 1 & 10 & 3 & 6 & 2 & 5 & 1 & 1 & 1 & 1 & 2 & 1.1 & 93.994 & 4.857 & 5191\\\\\n",
       "\\end{tabular}\n"
      ],
      "text/markdown": [
       "\n",
       "A matrix: 6 × 15 of type dbl\n",
       "\n",
       "| age | job | marital | education | contact | month | day_of_week | campaign | pdays | previous | poutcome | emp.var.rate | cons.price.idx | euribor3m | nr.employed |\n",
       "|---|---|---|---|---|---|---|---|---|---|---|---|---|---|---|\n",
       "| 2 |  4 | 2 | 1 | 2 | 5 | 1 | 1 | 1 | 1 | 2 | 1.1 | 93.994 | 4.857 | 5191 |\n",
       "| 2 |  8 | 2 | 4 | 2 | 5 | 1 | 1 | 1 | 1 | 2 | 1.1 | 93.994 | 4.857 | 5191 |\n",
       "| 2 |  1 | 2 | 2 | 2 | 5 | 1 | 1 | 1 | 1 | 2 | 1.1 | 93.994 | 4.857 | 5191 |\n",
       "| 2 |  8 | 2 | 4 | 2 | 5 | 1 | 1 | 1 | 1 | 2 | 1.1 | 93.994 | 4.857 | 5191 |\n",
       "| 2 |  1 | 2 | 6 | 2 | 5 | 1 | 1 | 1 | 1 | 2 | 1.1 | 93.994 | 4.857 | 5191 |\n",
       "| 1 | 10 | 3 | 6 | 2 | 5 | 1 | 1 | 1 | 1 | 2 | 1.1 | 93.994 | 4.857 | 5191 |\n",
       "\n"
      ],
      "text/plain": [
       "     age job marital education contact month day_of_week campaign pdays\n",
       "[1,] 2    4  2       1         2       5     1           1        1    \n",
       "[2,] 2    8  2       4         2       5     1           1        1    \n",
       "[3,] 2    1  2       2         2       5     1           1        1    \n",
       "[4,] 2    8  2       4         2       5     1           1        1    \n",
       "[5,] 2    1  2       6         2       5     1           1        1    \n",
       "[6,] 1   10  3       6         2       5     1           1        1    \n",
       "     previous poutcome emp.var.rate cons.price.idx euribor3m nr.employed\n",
       "[1,] 1        2        1.1          93.994         4.857     5191       \n",
       "[2,] 1        2        1.1          93.994         4.857     5191       \n",
       "[3,] 1        2        1.1          93.994         4.857     5191       \n",
       "[4,] 1        2        1.1          93.994         4.857     5191       \n",
       "[5,] 1        2        1.1          93.994         4.857     5191       \n",
       "[6,] 1        2        1.1          93.994         4.857     5191       "
      ]
     },
     "metadata": {},
     "output_type": "display_data"
    }
   ],
   "source": [
    "must_convert<-sapply(Bankdata.PCA,is.factor)\n",
    "Bankdata_PCA<-sapply(Bankdata.PCA[,must_convert],unclass)\n",
    "out<-cbind(Bankdata.PCA[,!must_convert],Bankdata_PCA)\n",
    "out<-data.matrix(Bankdata.PCA)\n",
    "head(out)\n",
    "Bankdata.PCA<-data.matrix(Bankdata.PCA)\n",
    "head(Bankdata.PCA)"
   ]
  },
  {
   "cell_type": "markdown",
   "metadata": {},
   "source": [
    "Summary of the data."
   ]
  },
  {
   "cell_type": "code",
   "execution_count": 41,
   "metadata": {},
   "outputs": [
    {
     "data": {
      "text/html": [
       "<table>\n",
       "<caption>A matrix: 6 × 15 of type dbl</caption>\n",
       "<thead>\n",
       "\t<tr><th></th><th scope=col>age</th><th scope=col>job</th><th scope=col>marital</th><th scope=col>education</th><th scope=col>contact</th><th scope=col>month</th><th scope=col>day_of_week</th><th scope=col>campaign</th><th scope=col>pdays</th><th scope=col>previous</th><th scope=col>poutcome</th><th scope=col>emp.var.rate</th><th scope=col>cons.price.idx</th><th scope=col>euribor3m</th><th scope=col>nr.employed</th></tr>\n",
       "</thead>\n",
       "<tbody>\n",
       "\t<tr><th scope=row>Min.</th><td>1.000000</td><td> 1.000000</td><td>1.000000</td><td>1.000000</td><td>1.000000</td><td> 3.000000</td><td>1.00000</td><td> 1.000000</td><td>1.000000</td><td>1.000000</td><td>1.000000</td><td>-3.4000000</td><td>92.20100</td><td>0.634000</td><td>4963.600</td></tr>\n",
       "\t<tr><th scope=row>1st Qu.</th><td>2.000000</td><td> 1.000000</td><td>2.000000</td><td>3.000000</td><td>1.000000</td><td> 5.000000</td><td>2.00000</td><td> 1.000000</td><td>1.000000</td><td>1.000000</td><td>2.000000</td><td>-1.8000000</td><td>93.07500</td><td>1.313000</td><td>5099.100</td></tr>\n",
       "\t<tr><th scope=row>Median</th><td>2.000000</td><td> 3.000000</td><td>2.000000</td><td>4.000000</td><td>1.000000</td><td> 6.000000</td><td>3.00000</td><td> 2.000000</td><td>1.000000</td><td>1.000000</td><td>2.000000</td><td> 1.1000000</td><td>93.44400</td><td>4.856000</td><td>5191.000</td></tr>\n",
       "\t<tr><th scope=row>Mean</th><td>1.821274</td><td> 4.716708</td><td>2.193191</td><td>4.842791</td><td>1.329474</td><td> 6.704966</td><td>2.97868</td><td> 2.397009</td><td>1.042968</td><td>1.182104</td><td>1.925544</td><td>-0.0715101</td><td>93.52331</td><td>3.459938</td><td>5160.813</td></tr>\n",
       "\t<tr><th scope=row>3rd Qu.</th><td>2.000000</td><td> 8.000000</td><td>3.000000</td><td>7.000000</td><td>2.000000</td><td> 8.000000</td><td>4.00000</td><td> 3.000000</td><td>1.000000</td><td>1.000000</td><td>2.000000</td><td> 1.4000000</td><td>93.99400</td><td>4.961000</td><td>5228.100</td></tr>\n",
       "\t<tr><th scope=row>Max.</th><td>3.000000</td><td>11.000000</td><td>3.000000</td><td>7.000000</td><td>2.000000</td><td>12.000000</td><td>5.00000</td><td>10.000000</td><td>2.000000</td><td>3.000000</td><td>3.000000</td><td> 1.4000000</td><td>94.76700</td><td>5.045000</td><td>5228.100</td></tr>\n",
       "</tbody>\n",
       "</table>\n"
      ],
      "text/latex": [
       "A matrix: 6 × 15 of type dbl\n",
       "\\begin{tabular}{r|lllllllllllllll}\n",
       "  & age & job & marital & education & contact & month & day\\_of\\_week & campaign & pdays & previous & poutcome & emp.var.rate & cons.price.idx & euribor3m & nr.employed\\\\\n",
       "\\hline\n",
       "\tMin. & 1.000000 &  1.000000 & 1.000000 & 1.000000 & 1.000000 &  3.000000 & 1.00000 &  1.000000 & 1.000000 & 1.000000 & 1.000000 & -3.4000000 & 92.20100 & 0.634000 & 4963.600\\\\\n",
       "\t1st Qu. & 2.000000 &  1.000000 & 2.000000 & 3.000000 & 1.000000 &  5.000000 & 2.00000 &  1.000000 & 1.000000 & 1.000000 & 2.000000 & -1.8000000 & 93.07500 & 1.313000 & 5099.100\\\\\n",
       "\tMedian & 2.000000 &  3.000000 & 2.000000 & 4.000000 & 1.000000 &  6.000000 & 3.00000 &  2.000000 & 1.000000 & 1.000000 & 2.000000 &  1.1000000 & 93.44400 & 4.856000 & 5191.000\\\\\n",
       "\tMean & 1.821274 &  4.716708 & 2.193191 & 4.842791 & 1.329474 &  6.704966 & 2.97868 &  2.397009 & 1.042968 & 1.182104 & 1.925544 & -0.0715101 & 93.52331 & 3.459938 & 5160.813\\\\\n",
       "\t3rd Qu. & 2.000000 &  8.000000 & 3.000000 & 7.000000 & 2.000000 &  8.000000 & 4.00000 &  3.000000 & 1.000000 & 1.000000 & 2.000000 &  1.4000000 & 93.99400 & 4.961000 & 5228.100\\\\\n",
       "\tMax. & 3.000000 & 11.000000 & 3.000000 & 7.000000 & 2.000000 & 12.000000 & 5.00000 & 10.000000 & 2.000000 & 3.000000 & 3.000000 &  1.4000000 & 94.76700 & 5.045000 & 5228.100\\\\\n",
       "\\end{tabular}\n"
      ],
      "text/markdown": [
       "\n",
       "A matrix: 6 × 15 of type dbl\n",
       "\n",
       "| <!--/--> | age | job | marital | education | contact | month | day_of_week | campaign | pdays | previous | poutcome | emp.var.rate | cons.price.idx | euribor3m | nr.employed |\n",
       "|---|---|---|---|---|---|---|---|---|---|---|---|---|---|---|---|\n",
       "| Min. | 1.000000 |  1.000000 | 1.000000 | 1.000000 | 1.000000 |  3.000000 | 1.00000 |  1.000000 | 1.000000 | 1.000000 | 1.000000 | -3.4000000 | 92.20100 | 0.634000 | 4963.600 |\n",
       "| 1st Qu. | 2.000000 |  1.000000 | 2.000000 | 3.000000 | 1.000000 |  5.000000 | 2.00000 |  1.000000 | 1.000000 | 1.000000 | 2.000000 | -1.8000000 | 93.07500 | 1.313000 | 5099.100 |\n",
       "| Median | 2.000000 |  3.000000 | 2.000000 | 4.000000 | 1.000000 |  6.000000 | 3.00000 |  2.000000 | 1.000000 | 1.000000 | 2.000000 |  1.1000000 | 93.44400 | 4.856000 | 5191.000 |\n",
       "| Mean | 1.821274 |  4.716708 | 2.193191 | 4.842791 | 1.329474 |  6.704966 | 2.97868 |  2.397009 | 1.042968 | 1.182104 | 1.925544 | -0.0715101 | 93.52331 | 3.459938 | 5160.813 |\n",
       "| 3rd Qu. | 2.000000 |  8.000000 | 3.000000 | 7.000000 | 2.000000 |  8.000000 | 4.00000 |  3.000000 | 1.000000 | 1.000000 | 2.000000 |  1.4000000 | 93.99400 | 4.961000 | 5228.100 |\n",
       "| Max. | 3.000000 | 11.000000 | 3.000000 | 7.000000 | 2.000000 | 12.000000 | 5.00000 | 10.000000 | 2.000000 | 3.000000 | 3.000000 |  1.4000000 | 94.76700 | 5.045000 | 5228.100 |\n",
       "\n"
      ],
      "text/plain": [
       "        age      job       marital  education contact  month     day_of_week\n",
       "Min.    1.000000  1.000000 1.000000 1.000000  1.000000  3.000000 1.00000    \n",
       "1st Qu. 2.000000  1.000000 2.000000 3.000000  1.000000  5.000000 2.00000    \n",
       "Median  2.000000  3.000000 2.000000 4.000000  1.000000  6.000000 3.00000    \n",
       "Mean    1.821274  4.716708 2.193191 4.842791  1.329474  6.704966 2.97868    \n",
       "3rd Qu. 2.000000  8.000000 3.000000 7.000000  2.000000  8.000000 4.00000    \n",
       "Max.    3.000000 11.000000 3.000000 7.000000  2.000000 12.000000 5.00000    \n",
       "        campaign  pdays    previous poutcome emp.var.rate cons.price.idx\n",
       "Min.     1.000000 1.000000 1.000000 1.000000 -3.4000000   92.20100      \n",
       "1st Qu.  1.000000 1.000000 1.000000 2.000000 -1.8000000   93.07500      \n",
       "Median   2.000000 1.000000 1.000000 2.000000  1.1000000   93.44400      \n",
       "Mean     2.397009 1.042968 1.182104 1.925544 -0.0715101   93.52331      \n",
       "3rd Qu.  3.000000 1.000000 1.000000 2.000000  1.4000000   93.99400      \n",
       "Max.    10.000000 2.000000 3.000000 3.000000  1.4000000   94.76700      \n",
       "        euribor3m nr.employed\n",
       "Min.    0.634000  4963.600   \n",
       "1st Qu. 1.313000  5099.100   \n",
       "Median  4.856000  5191.000   \n",
       "Mean    3.459938  5160.813   \n",
       "3rd Qu. 4.961000  5228.100   \n",
       "Max.    5.045000  5228.100   "
      ]
     },
     "metadata": {},
     "output_type": "display_data"
    }
   ],
   "source": [
    "apply(Bankdata.PCA,2,summary)"
   ]
  },
  {
   "cell_type": "markdown",
   "metadata": {},
   "source": [
    "Perform principal component analysis."
   ]
  },
  {
   "cell_type": "code",
   "execution_count": 42,
   "metadata": {},
   "outputs": [
    {
     "data": {
      "text/html": [
       "<style>\n",
       ".list-inline {list-style: none; margin:0; padding: 0}\n",
       ".list-inline>li {display: inline-block}\n",
       ".list-inline>li:not(:last-child)::after {content: \"\\00b7\"; padding: 0 .5ex}\n",
       "</style>\n",
       "<ol class=list-inline><li>2.02518305007124</li><li>1.2493739051077</li><li>1.19622016139293</li><li>1.18174863040207</li><li>1.03350159142673</li><li>1.00974461501999</li><li>1.00032493239739</li><li>0.982309451491199</li><li>0.926705923269497</li><li>0.803769093932787</li><li>0.73311132207468</li><li>0.574576327840589</li><li>0.210750081781692</li><li>0.171454179332873</li><li>0.103457618457381</li></ol>\n"
      ],
      "text/latex": [
       "\\begin{enumerate*}\n",
       "\\item 2.02518305007124\n",
       "\\item 1.2493739051077\n",
       "\\item 1.19622016139293\n",
       "\\item 1.18174863040207\n",
       "\\item 1.03350159142673\n",
       "\\item 1.00974461501999\n",
       "\\item 1.00032493239739\n",
       "\\item 0.982309451491199\n",
       "\\item 0.926705923269497\n",
       "\\item 0.803769093932787\n",
       "\\item 0.73311132207468\n",
       "\\item 0.574576327840589\n",
       "\\item 0.210750081781692\n",
       "\\item 0.171454179332873\n",
       "\\item 0.103457618457381\n",
       "\\end{enumerate*}\n"
      ],
      "text/markdown": [
       "1. 2.02518305007124\n",
       "2. 1.2493739051077\n",
       "3. 1.19622016139293\n",
       "4. 1.18174863040207\n",
       "5. 1.03350159142673\n",
       "6. 1.00974461501999\n",
       "7. 1.00032493239739\n",
       "8. 0.982309451491199\n",
       "9. 0.926705923269497\n",
       "10. 0.803769093932787\n",
       "11. 0.73311132207468\n",
       "12. 0.574576327840589\n",
       "13. 0.210750081781692\n",
       "14. 0.171454179332873\n",
       "15. 0.103457618457381\n",
       "\n",
       "\n"
      ],
      "text/plain": [
       " [1] 2.0251831 1.2493739 1.1962202 1.1817486 1.0335016 1.0097446 1.0003249\n",
       " [8] 0.9823095 0.9267059 0.8037691 0.7331113 0.5745763 0.2107501 0.1714542\n",
       "[15] 0.1034576"
      ]
     },
     "metadata": {},
     "output_type": "display_data"
    },
    {
     "data": {
      "text/html": [
       "<style>\n",
       ".dl-inline {width: auto; margin:0; padding: 0}\n",
       ".dl-inline>dt, .dl-inline>dd {float: none; width: auto; display: inline-block}\n",
       ".dl-inline>dt::after {content: \":\\0020\"; padding-right: .5ex}\n",
       ".dl-inline>dt:not(:first-of-type) {padding-left: .5ex}\n",
       "</style><dl class=dl-inline><dt>age</dt><dd>1.82127394384676</dd><dt>job</dt><dd>4.71670821306744</dd><dt>marital</dt><dd>2.19319076357911</dd><dt>education</dt><dd>4.84279060614012</dd><dt>contact</dt><dd>1.3294738913671</dd><dt>month</dt><dd>6.70496588821832</dd><dt>day_of_week</dt><dd>2.97868013644713</dd><dt>campaign</dt><dd>2.39700865914458</dd><dt>pdays</dt><dd>1.04296772500656</dd><dt>previous</dt><dd>1.18210443453162</dd><dt>poutcome</dt><dd>1.92554447651535</dd><dt>emp.var.rate</dt><dd>-0.0715101023353449</dd><dt>cons.price.idx</dt><dd>93.5233112044083</dd><dt>euribor3m</dt><dd>3.45993761479927</dd><dt>nr.employed</dt><dd>5160.81340855419</dd></dl>\n"
      ],
      "text/latex": [
       "\\begin{description*}\n",
       "\\item[age] 1.82127394384676\n",
       "\\item[job] 4.71670821306744\n",
       "\\item[marital] 2.19319076357911\n",
       "\\item[education] 4.84279060614012\n",
       "\\item[contact] 1.3294738913671\n",
       "\\item[month] 6.70496588821832\n",
       "\\item[day\\textbackslash{}\\_of\\textbackslash{}\\_week] 2.97868013644713\n",
       "\\item[campaign] 2.39700865914458\n",
       "\\item[pdays] 1.04296772500656\n",
       "\\item[previous] 1.18210443453162\n",
       "\\item[poutcome] 1.92554447651535\n",
       "\\item[emp.var.rate] -0.0715101023353449\n",
       "\\item[cons.price.idx] 93.5233112044083\n",
       "\\item[euribor3m] 3.45993761479927\n",
       "\\item[nr.employed] 5160.81340855419\n",
       "\\end{description*}\n"
      ],
      "text/markdown": [
       "age\n",
       ":   1.82127394384676job\n",
       ":   4.71670821306744marital\n",
       ":   2.19319076357911education\n",
       ":   4.84279060614012contact\n",
       ":   1.3294738913671month\n",
       ":   6.70496588821832day_of_week\n",
       ":   2.97868013644713campaign\n",
       ":   2.39700865914458pdays\n",
       ":   1.04296772500656previous\n",
       ":   1.18210443453162poutcome\n",
       ":   1.92554447651535emp.var.rate\n",
       ":   -0.0715101023353449cons.price.idx\n",
       ":   93.5233112044083euribor3m\n",
       ":   3.45993761479927nr.employed\n",
       ":   5160.81340855419\n",
       "\n"
      ],
      "text/plain": [
       "           age            job        marital      education        contact \n",
       "     1.8212739      4.7167082      2.1931908      4.8427906      1.3294739 \n",
       "         month    day_of_week       campaign          pdays       previous \n",
       "     6.7049659      2.9786801      2.3970087      1.0429677      1.1821044 \n",
       "      poutcome   emp.var.rate cons.price.idx      euribor3m    nr.employed \n",
       "     1.9255445     -0.0715101     93.5233112      3.4599376   5160.8134086 "
      ]
     },
     "metadata": {},
     "output_type": "display_data"
    },
    {
     "data": {
      "text/html": [
       "<style>\n",
       ".dl-inline {width: auto; margin:0; padding: 0}\n",
       ".dl-inline>dt, .dl-inline>dd {float: none; width: auto; display: inline-block}\n",
       ".dl-inline>dt::after {content: \":\\0020\"; padding-right: .5ex}\n",
       ".dl-inline>dt:not(:first-of-type) {padding-left: .5ex}\n",
       "</style><dl class=dl-inline><dt>age</dt><dd>0.440924851834672</dd><dt>job</dt><dd>3.61275465850225</dd><dt>marital</dt><dd>0.623663497765588</dd><dt>education</dt><dd>1.98891122993953</dd><dt>contact</dt><dd>0.470029884868592</dd><dt>month</dt><dd>2.13472776302966</dd><dt>day_of_week</dt><dd>1.40740305285642</dd><dt>campaign</dt><dd>1.99076662193956</dd><dt>pdays</dt><dd>0.202787693007038</dd><dt>previous</dt><dd>0.456057949818544</dd><dt>poutcome</dt><dd>0.383465541545933</dd><dt>emp.var.rate</dt><dd>1.61039947899255</dd><dt>cons.price.idx</dt><dd>0.585374185316649</dd><dt>euribor3m</dt><dd>1.77723106750516</dd><dt>nr.employed</dt><dd>75.1580647439349</dd></dl>\n"
      ],
      "text/latex": [
       "\\begin{description*}\n",
       "\\item[age] 0.440924851834672\n",
       "\\item[job] 3.61275465850225\n",
       "\\item[marital] 0.623663497765588\n",
       "\\item[education] 1.98891122993953\n",
       "\\item[contact] 0.470029884868592\n",
       "\\item[month] 2.13472776302966\n",
       "\\item[day\\textbackslash{}\\_of\\textbackslash{}\\_week] 1.40740305285642\n",
       "\\item[campaign] 1.99076662193956\n",
       "\\item[pdays] 0.202787693007038\n",
       "\\item[previous] 0.456057949818544\n",
       "\\item[poutcome] 0.383465541545933\n",
       "\\item[emp.var.rate] 1.61039947899255\n",
       "\\item[cons.price.idx] 0.585374185316649\n",
       "\\item[euribor3m] 1.77723106750516\n",
       "\\item[nr.employed] 75.1580647439349\n",
       "\\end{description*}\n"
      ],
      "text/markdown": [
       "age\n",
       ":   0.440924851834672job\n",
       ":   3.61275465850225marital\n",
       ":   0.623663497765588education\n",
       ":   1.98891122993953contact\n",
       ":   0.470029884868592month\n",
       ":   2.13472776302966day_of_week\n",
       ":   1.40740305285642campaign\n",
       ":   1.99076662193956pdays\n",
       ":   0.202787693007038previous\n",
       ":   0.456057949818544poutcome\n",
       ":   0.383465541545933emp.var.rate\n",
       ":   1.61039947899255cons.price.idx\n",
       ":   0.585374185316649euribor3m\n",
       ":   1.77723106750516nr.employed\n",
       ":   75.1580647439349\n",
       "\n"
      ],
      "text/plain": [
       "           age            job        marital      education        contact \n",
       "     0.4409249      3.6127547      0.6236635      1.9889112      0.4700299 \n",
       "         month    day_of_week       campaign          pdays       previous \n",
       "     2.1347278      1.4074031      1.9907666      0.2027877      0.4560579 \n",
       "      poutcome   emp.var.rate cons.price.idx      euribor3m    nr.employed \n",
       "     0.3834655      1.6103995      0.5853742      1.7772311     75.1580647 "
      ]
     },
     "metadata": {},
     "output_type": "display_data"
    },
    {
     "data": {
      "text/html": [
       "<table>\n",
       "<caption>A matrix: 15 × 15 of type dbl</caption>\n",
       "<thead>\n",
       "\t<tr><th></th><th scope=col>PC1</th><th scope=col>PC2</th><th scope=col>PC3</th><th scope=col>PC4</th><th scope=col>PC5</th><th scope=col>PC6</th><th scope=col>PC7</th><th scope=col>PC8</th><th scope=col>PC9</th><th scope=col>PC10</th><th scope=col>PC11</th><th scope=col>PC12</th><th scope=col>PC13</th><th scope=col>PC14</th><th scope=col>PC15</th></tr>\n",
       "</thead>\n",
       "<tbody>\n",
       "\t<tr><th scope=row>age</th><td>-0.011925940</td><td> 0.0158200942</td><td>-0.08600095</td><td> 0.660455477</td><td>-0.03687091</td><td> 0.19548262</td><td>-0.064089205</td><td> 0.018290259</td><td>-0.195593051</td><td>-0.658239746</td><td> 0.200685397</td><td>-0.003506993</td><td> 0.0054139009</td><td>-0.0118819310</td><td>-0.001180101</td></tr>\n",
       "\t<tr><th scope=row>job</th><td>-0.010665558</td><td>-0.0301304934</td><td> 0.20658523</td><td>-0.062438971</td><td> 0.12923566</td><td> 0.79066240</td><td> 0.191900747</td><td>-0.210142750</td><td> 0.478218895</td><td>-0.027144037</td><td> 0.006519181</td><td> 0.006358260</td><td>-0.0004076586</td><td>-0.0073214990</td><td> 0.000863708</td></tr>\n",
       "\t<tr><th scope=row>marital</th><td>-0.048936976</td><td>-0.0242678571</td><td> 0.16614456</td><td>-0.644671605</td><td> 0.02792225</td><td>-0.17277595</td><td> 0.042730019</td><td>-0.004383785</td><td> 0.058327374</td><td>-0.712224463</td><td> 0.100364430</td><td> 0.024232771</td><td> 0.0011716814</td><td>-0.0018453776</td><td> 0.001924124</td></tr>\n",
       "\t<tr><th scope=row>education</th><td>-0.020616355</td><td>-0.0211754077</td><td> 0.42012402</td><td>-0.180296506</td><td> 0.08272737</td><td> 0.36888278</td><td>-0.008208823</td><td> 0.088386362</td><td>-0.790903274</td><td> 0.114436191</td><td> 0.022670822</td><td>-0.002671806</td><td> 0.0044319519</td><td>-0.0122565868</td><td> 0.001756674</td></tr>\n",
       "\t<tr><th scope=row>contact</th><td> 0.256948739</td><td>-0.1622020694</td><td>-0.45948039</td><td>-0.096315853</td><td> 0.13398075</td><td> 0.16055648</td><td> 0.058870928</td><td>-0.090531137</td><td>-0.188622483</td><td>-0.153576932</td><td>-0.636418086</td><td> 0.399476213</td><td>-0.0147173168</td><td> 0.0148756005</td><td>-0.087558794</td></tr>\n",
       "\t<tr><th scope=row>month</th><td> 0.003412437</td><td>-0.0025939243</td><td> 0.63577806</td><td> 0.272955288</td><td> 0.12942729</td><td>-0.24594716</td><td>-0.024770286</td><td>-0.013938369</td><td> 0.139489582</td><td>-0.115942965</td><td>-0.618825077</td><td>-0.132116415</td><td> 0.0127688495</td><td>-0.0437209737</td><td>-0.088544464</td></tr>\n",
       "\t<tr><th scope=row>day_of_week</th><td> 0.002467640</td><td> 0.0008067521</td><td>-0.01099597</td><td>-0.075900424</td><td> 0.18654406</td><td> 0.06870029</td><td>-0.904583171</td><td>-0.366487376</td><td> 0.033416333</td><td> 0.009600402</td><td> 0.020770323</td><td>-0.018920792</td><td> 0.0016940290</td><td> 0.0006594803</td><td> 0.002796957</td></tr>\n",
       "\t<tr><th scope=row>campaign</th><td> 0.104236196</td><td>-0.0038051611</td><td>-0.02899908</td><td>-0.059440396</td><td> 0.05127575</td><td> 0.19676247</td><td>-0.324844604</td><td> 0.891266051</td><td> 0.189419576</td><td>-0.027030968</td><td>-0.081574859</td><td>-0.011224941</td><td> 0.0001337008</td><td> 0.0021976822</td><td> 0.011252258</td></tr>\n",
       "\t<tr><th scope=row>pdays</th><td>-0.199844859</td><td>-0.6906556226</td><td> 0.06857995</td><td> 0.068838377</td><td> 0.15953742</td><td>-0.08114022</td><td> 0.002960907</td><td> 0.044519122</td><td> 0.040507402</td><td> 0.046624374</td><td> 0.133947473</td><td> 0.200726464</td><td> 0.6107875589</td><td> 0.0662345632</td><td>-0.009596280</td></tr>\n",
       "\t<tr><th scope=row>previous</th><td>-0.304623534</td><td>-0.1756630946</td><td>-0.03739773</td><td> 0.073997623</td><td> 0.68531822</td><td>-0.11697619</td><td> 0.095615896</td><td> 0.073758096</td><td> 0.006849401</td><td> 0.035353666</td><td> 0.135767435</td><td> 0.136240262</td><td>-0.5719691874</td><td>-0.0775643274</td><td> 0.009466642</td></tr>\n",
       "\t<tr><th scope=row>poutcome</th><td> 0.099066053</td><td>-0.6243569269</td><td> 0.11269849</td><td> 0.001017503</td><td>-0.53705534</td><td> 0.03319722</td><td>-0.097968597</td><td>-0.028677251</td><td> 0.030139850</td><td> 0.006561023</td><td> 0.000749945</td><td>-0.010999704</td><td>-0.5296630640</td><td>-0.0780627206</td><td> 0.001366912</td></tr>\n",
       "\t<tr><th scope=row>emp.var.rate</th><td> 0.471257519</td><td>-0.0581583681</td><td> 0.09007297</td><td> 0.022100806</td><td> 0.15778359</td><td>-0.06049936</td><td> 0.036163051</td><td>-0.011482113</td><td> 0.017345880</td><td> 0.020431505</td><td> 0.214575177</td><td>-0.050609240</td><td>-0.0774263021</td><td> 0.5736949914</td><td>-0.592869319</td></tr>\n",
       "\t<tr><th scope=row>cons.price.idx</th><td> 0.371909557</td><td>-0.2485508609</td><td>-0.20048742</td><td>-0.051414013</td><td> 0.27386750</td><td> 0.00917050</td><td> 0.091734722</td><td>-0.036198694</td><td>-0.066701009</td><td>-0.033925004</td><td>-0.012340212</td><td>-0.731542096</td><td> 0.0893148409</td><td>-0.3425663849</td><td> 0.077582958</td></tr>\n",
       "\t<tr><th scope=row>euribor3m</th><td> 0.470085029</td><td>-0.0204929614</td><td> 0.16004961</td><td> 0.058406463</td><td> 0.12896351</td><td>-0.08539824</td><td> 0.028680802</td><td>-0.030198891</td><td> 0.029072951</td><td> 0.002776243</td><td> 0.088961498</td><td> 0.179228903</td><td>-0.0385914532</td><td> 0.3061642978</td><td> 0.766679812</td></tr>\n",
       "\t<tr><th scope=row>nr.employed</th><td> 0.442821333</td><td> 0.0906035848</td><td> 0.19181599</td><td> 0.044245838</td><td> 0.04596423</td><td>-0.09275527</td><td>-0.002174453</td><td>-0.004127746</td><td> 0.062421548</td><td> 0.052249429</td><td> 0.252097891</td><td> 0.439341861</td><td> 0.0579012069</td><td>-0.6639293902</td><td>-0.197117527</td></tr>\n",
       "</tbody>\n",
       "</table>\n"
      ],
      "text/latex": [
       "A matrix: 15 × 15 of type dbl\n",
       "\\begin{tabular}{r|lllllllllllllll}\n",
       "  & PC1 & PC2 & PC3 & PC4 & PC5 & PC6 & PC7 & PC8 & PC9 & PC10 & PC11 & PC12 & PC13 & PC14 & PC15\\\\\n",
       "\\hline\n",
       "\tage & -0.011925940 &  0.0158200942 & -0.08600095 &  0.660455477 & -0.03687091 &  0.19548262 & -0.064089205 &  0.018290259 & -0.195593051 & -0.658239746 &  0.200685397 & -0.003506993 &  0.0054139009 & -0.0118819310 & -0.001180101\\\\\n",
       "\tjob & -0.010665558 & -0.0301304934 &  0.20658523 & -0.062438971 &  0.12923566 &  0.79066240 &  0.191900747 & -0.210142750 &  0.478218895 & -0.027144037 &  0.006519181 &  0.006358260 & -0.0004076586 & -0.0073214990 &  0.000863708\\\\\n",
       "\tmarital & -0.048936976 & -0.0242678571 &  0.16614456 & -0.644671605 &  0.02792225 & -0.17277595 &  0.042730019 & -0.004383785 &  0.058327374 & -0.712224463 &  0.100364430 &  0.024232771 &  0.0011716814 & -0.0018453776 &  0.001924124\\\\\n",
       "\teducation & -0.020616355 & -0.0211754077 &  0.42012402 & -0.180296506 &  0.08272737 &  0.36888278 & -0.008208823 &  0.088386362 & -0.790903274 &  0.114436191 &  0.022670822 & -0.002671806 &  0.0044319519 & -0.0122565868 &  0.001756674\\\\\n",
       "\tcontact &  0.256948739 & -0.1622020694 & -0.45948039 & -0.096315853 &  0.13398075 &  0.16055648 &  0.058870928 & -0.090531137 & -0.188622483 & -0.153576932 & -0.636418086 &  0.399476213 & -0.0147173168 &  0.0148756005 & -0.087558794\\\\\n",
       "\tmonth &  0.003412437 & -0.0025939243 &  0.63577806 &  0.272955288 &  0.12942729 & -0.24594716 & -0.024770286 & -0.013938369 &  0.139489582 & -0.115942965 & -0.618825077 & -0.132116415 &  0.0127688495 & -0.0437209737 & -0.088544464\\\\\n",
       "\tday\\_of\\_week &  0.002467640 &  0.0008067521 & -0.01099597 & -0.075900424 &  0.18654406 &  0.06870029 & -0.904583171 & -0.366487376 &  0.033416333 &  0.009600402 &  0.020770323 & -0.018920792 &  0.0016940290 &  0.0006594803 &  0.002796957\\\\\n",
       "\tcampaign &  0.104236196 & -0.0038051611 & -0.02899908 & -0.059440396 &  0.05127575 &  0.19676247 & -0.324844604 &  0.891266051 &  0.189419576 & -0.027030968 & -0.081574859 & -0.011224941 &  0.0001337008 &  0.0021976822 &  0.011252258\\\\\n",
       "\tpdays & -0.199844859 & -0.6906556226 &  0.06857995 &  0.068838377 &  0.15953742 & -0.08114022 &  0.002960907 &  0.044519122 &  0.040507402 &  0.046624374 &  0.133947473 &  0.200726464 &  0.6107875589 &  0.0662345632 & -0.009596280\\\\\n",
       "\tprevious & -0.304623534 & -0.1756630946 & -0.03739773 &  0.073997623 &  0.68531822 & -0.11697619 &  0.095615896 &  0.073758096 &  0.006849401 &  0.035353666 &  0.135767435 &  0.136240262 & -0.5719691874 & -0.0775643274 &  0.009466642\\\\\n",
       "\tpoutcome &  0.099066053 & -0.6243569269 &  0.11269849 &  0.001017503 & -0.53705534 &  0.03319722 & -0.097968597 & -0.028677251 &  0.030139850 &  0.006561023 &  0.000749945 & -0.010999704 & -0.5296630640 & -0.0780627206 &  0.001366912\\\\\n",
       "\temp.var.rate &  0.471257519 & -0.0581583681 &  0.09007297 &  0.022100806 &  0.15778359 & -0.06049936 &  0.036163051 & -0.011482113 &  0.017345880 &  0.020431505 &  0.214575177 & -0.050609240 & -0.0774263021 &  0.5736949914 & -0.592869319\\\\\n",
       "\tcons.price.idx &  0.371909557 & -0.2485508609 & -0.20048742 & -0.051414013 &  0.27386750 &  0.00917050 &  0.091734722 & -0.036198694 & -0.066701009 & -0.033925004 & -0.012340212 & -0.731542096 &  0.0893148409 & -0.3425663849 &  0.077582958\\\\\n",
       "\teuribor3m &  0.470085029 & -0.0204929614 &  0.16004961 &  0.058406463 &  0.12896351 & -0.08539824 &  0.028680802 & -0.030198891 &  0.029072951 &  0.002776243 &  0.088961498 &  0.179228903 & -0.0385914532 &  0.3061642978 &  0.766679812\\\\\n",
       "\tnr.employed &  0.442821333 &  0.0906035848 &  0.19181599 &  0.044245838 &  0.04596423 & -0.09275527 & -0.002174453 & -0.004127746 &  0.062421548 &  0.052249429 &  0.252097891 &  0.439341861 &  0.0579012069 & -0.6639293902 & -0.197117527\\\\\n",
       "\\end{tabular}\n"
      ],
      "text/markdown": [
       "\n",
       "A matrix: 15 × 15 of type dbl\n",
       "\n",
       "| <!--/--> | PC1 | PC2 | PC3 | PC4 | PC5 | PC6 | PC7 | PC8 | PC9 | PC10 | PC11 | PC12 | PC13 | PC14 | PC15 |\n",
       "|---|---|---|---|---|---|---|---|---|---|---|---|---|---|---|---|\n",
       "| age | -0.011925940 |  0.0158200942 | -0.08600095 |  0.660455477 | -0.03687091 |  0.19548262 | -0.064089205 |  0.018290259 | -0.195593051 | -0.658239746 |  0.200685397 | -0.003506993 |  0.0054139009 | -0.0118819310 | -0.001180101 |\n",
       "| job | -0.010665558 | -0.0301304934 |  0.20658523 | -0.062438971 |  0.12923566 |  0.79066240 |  0.191900747 | -0.210142750 |  0.478218895 | -0.027144037 |  0.006519181 |  0.006358260 | -0.0004076586 | -0.0073214990 |  0.000863708 |\n",
       "| marital | -0.048936976 | -0.0242678571 |  0.16614456 | -0.644671605 |  0.02792225 | -0.17277595 |  0.042730019 | -0.004383785 |  0.058327374 | -0.712224463 |  0.100364430 |  0.024232771 |  0.0011716814 | -0.0018453776 |  0.001924124 |\n",
       "| education | -0.020616355 | -0.0211754077 |  0.42012402 | -0.180296506 |  0.08272737 |  0.36888278 | -0.008208823 |  0.088386362 | -0.790903274 |  0.114436191 |  0.022670822 | -0.002671806 |  0.0044319519 | -0.0122565868 |  0.001756674 |\n",
       "| contact |  0.256948739 | -0.1622020694 | -0.45948039 | -0.096315853 |  0.13398075 |  0.16055648 |  0.058870928 | -0.090531137 | -0.188622483 | -0.153576932 | -0.636418086 |  0.399476213 | -0.0147173168 |  0.0148756005 | -0.087558794 |\n",
       "| month |  0.003412437 | -0.0025939243 |  0.63577806 |  0.272955288 |  0.12942729 | -0.24594716 | -0.024770286 | -0.013938369 |  0.139489582 | -0.115942965 | -0.618825077 | -0.132116415 |  0.0127688495 | -0.0437209737 | -0.088544464 |\n",
       "| day_of_week |  0.002467640 |  0.0008067521 | -0.01099597 | -0.075900424 |  0.18654406 |  0.06870029 | -0.904583171 | -0.366487376 |  0.033416333 |  0.009600402 |  0.020770323 | -0.018920792 |  0.0016940290 |  0.0006594803 |  0.002796957 |\n",
       "| campaign |  0.104236196 | -0.0038051611 | -0.02899908 | -0.059440396 |  0.05127575 |  0.19676247 | -0.324844604 |  0.891266051 |  0.189419576 | -0.027030968 | -0.081574859 | -0.011224941 |  0.0001337008 |  0.0021976822 |  0.011252258 |\n",
       "| pdays | -0.199844859 | -0.6906556226 |  0.06857995 |  0.068838377 |  0.15953742 | -0.08114022 |  0.002960907 |  0.044519122 |  0.040507402 |  0.046624374 |  0.133947473 |  0.200726464 |  0.6107875589 |  0.0662345632 | -0.009596280 |\n",
       "| previous | -0.304623534 | -0.1756630946 | -0.03739773 |  0.073997623 |  0.68531822 | -0.11697619 |  0.095615896 |  0.073758096 |  0.006849401 |  0.035353666 |  0.135767435 |  0.136240262 | -0.5719691874 | -0.0775643274 |  0.009466642 |\n",
       "| poutcome |  0.099066053 | -0.6243569269 |  0.11269849 |  0.001017503 | -0.53705534 |  0.03319722 | -0.097968597 | -0.028677251 |  0.030139850 |  0.006561023 |  0.000749945 | -0.010999704 | -0.5296630640 | -0.0780627206 |  0.001366912 |\n",
       "| emp.var.rate |  0.471257519 | -0.0581583681 |  0.09007297 |  0.022100806 |  0.15778359 | -0.06049936 |  0.036163051 | -0.011482113 |  0.017345880 |  0.020431505 |  0.214575177 | -0.050609240 | -0.0774263021 |  0.5736949914 | -0.592869319 |\n",
       "| cons.price.idx |  0.371909557 | -0.2485508609 | -0.20048742 | -0.051414013 |  0.27386750 |  0.00917050 |  0.091734722 | -0.036198694 | -0.066701009 | -0.033925004 | -0.012340212 | -0.731542096 |  0.0893148409 | -0.3425663849 |  0.077582958 |\n",
       "| euribor3m |  0.470085029 | -0.0204929614 |  0.16004961 |  0.058406463 |  0.12896351 | -0.08539824 |  0.028680802 | -0.030198891 |  0.029072951 |  0.002776243 |  0.088961498 |  0.179228903 | -0.0385914532 |  0.3061642978 |  0.766679812 |\n",
       "| nr.employed |  0.442821333 |  0.0906035848 |  0.19181599 |  0.044245838 |  0.04596423 | -0.09275527 | -0.002174453 | -0.004127746 |  0.062421548 |  0.052249429 |  0.252097891 |  0.439341861 |  0.0579012069 | -0.6639293902 | -0.197117527 |\n",
       "\n"
      ],
      "text/plain": [
       "               PC1          PC2           PC3         PC4          PC5        \n",
       "age            -0.011925940  0.0158200942 -0.08600095  0.660455477 -0.03687091\n",
       "job            -0.010665558 -0.0301304934  0.20658523 -0.062438971  0.12923566\n",
       "marital        -0.048936976 -0.0242678571  0.16614456 -0.644671605  0.02792225\n",
       "education      -0.020616355 -0.0211754077  0.42012402 -0.180296506  0.08272737\n",
       "contact         0.256948739 -0.1622020694 -0.45948039 -0.096315853  0.13398075\n",
       "month           0.003412437 -0.0025939243  0.63577806  0.272955288  0.12942729\n",
       "day_of_week     0.002467640  0.0008067521 -0.01099597 -0.075900424  0.18654406\n",
       "campaign        0.104236196 -0.0038051611 -0.02899908 -0.059440396  0.05127575\n",
       "pdays          -0.199844859 -0.6906556226  0.06857995  0.068838377  0.15953742\n",
       "previous       -0.304623534 -0.1756630946 -0.03739773  0.073997623  0.68531822\n",
       "poutcome        0.099066053 -0.6243569269  0.11269849  0.001017503 -0.53705534\n",
       "emp.var.rate    0.471257519 -0.0581583681  0.09007297  0.022100806  0.15778359\n",
       "cons.price.idx  0.371909557 -0.2485508609 -0.20048742 -0.051414013  0.27386750\n",
       "euribor3m       0.470085029 -0.0204929614  0.16004961  0.058406463  0.12896351\n",
       "nr.employed     0.442821333  0.0906035848  0.19181599  0.044245838  0.04596423\n",
       "               PC6         PC7          PC8          PC9          PC10        \n",
       "age             0.19548262 -0.064089205  0.018290259 -0.195593051 -0.658239746\n",
       "job             0.79066240  0.191900747 -0.210142750  0.478218895 -0.027144037\n",
       "marital        -0.17277595  0.042730019 -0.004383785  0.058327374 -0.712224463\n",
       "education       0.36888278 -0.008208823  0.088386362 -0.790903274  0.114436191\n",
       "contact         0.16055648  0.058870928 -0.090531137 -0.188622483 -0.153576932\n",
       "month          -0.24594716 -0.024770286 -0.013938369  0.139489582 -0.115942965\n",
       "day_of_week     0.06870029 -0.904583171 -0.366487376  0.033416333  0.009600402\n",
       "campaign        0.19676247 -0.324844604  0.891266051  0.189419576 -0.027030968\n",
       "pdays          -0.08114022  0.002960907  0.044519122  0.040507402  0.046624374\n",
       "previous       -0.11697619  0.095615896  0.073758096  0.006849401  0.035353666\n",
       "poutcome        0.03319722 -0.097968597 -0.028677251  0.030139850  0.006561023\n",
       "emp.var.rate   -0.06049936  0.036163051 -0.011482113  0.017345880  0.020431505\n",
       "cons.price.idx  0.00917050  0.091734722 -0.036198694 -0.066701009 -0.033925004\n",
       "euribor3m      -0.08539824  0.028680802 -0.030198891  0.029072951  0.002776243\n",
       "nr.employed    -0.09275527 -0.002174453 -0.004127746  0.062421548  0.052249429\n",
       "               PC11         PC12         PC13          PC14         \n",
       "age             0.200685397 -0.003506993  0.0054139009 -0.0118819310\n",
       "job             0.006519181  0.006358260 -0.0004076586 -0.0073214990\n",
       "marital         0.100364430  0.024232771  0.0011716814 -0.0018453776\n",
       "education       0.022670822 -0.002671806  0.0044319519 -0.0122565868\n",
       "contact        -0.636418086  0.399476213 -0.0147173168  0.0148756005\n",
       "month          -0.618825077 -0.132116415  0.0127688495 -0.0437209737\n",
       "day_of_week     0.020770323 -0.018920792  0.0016940290  0.0006594803\n",
       "campaign       -0.081574859 -0.011224941  0.0001337008  0.0021976822\n",
       "pdays           0.133947473  0.200726464  0.6107875589  0.0662345632\n",
       "previous        0.135767435  0.136240262 -0.5719691874 -0.0775643274\n",
       "poutcome        0.000749945 -0.010999704 -0.5296630640 -0.0780627206\n",
       "emp.var.rate    0.214575177 -0.050609240 -0.0774263021  0.5736949914\n",
       "cons.price.idx -0.012340212 -0.731542096  0.0893148409 -0.3425663849\n",
       "euribor3m       0.088961498  0.179228903 -0.0385914532  0.3061642978\n",
       "nr.employed     0.252097891  0.439341861  0.0579012069 -0.6639293902\n",
       "               PC15        \n",
       "age            -0.001180101\n",
       "job             0.000863708\n",
       "marital         0.001924124\n",
       "education       0.001756674\n",
       "contact        -0.087558794\n",
       "month          -0.088544464\n",
       "day_of_week     0.002796957\n",
       "campaign        0.011252258\n",
       "pdays          -0.009596280\n",
       "previous        0.009466642\n",
       "poutcome        0.001366912\n",
       "emp.var.rate   -0.592869319\n",
       "cons.price.idx  0.077582958\n",
       "euribor3m       0.766679812\n",
       "nr.employed    -0.197117527"
      ]
     },
     "metadata": {},
     "output_type": "display_data"
    }
   ],
   "source": [
    "pr.out=prcomp(Bankdata.PCA,scale=TRUE)\n",
    "pr.out$sdev\n",
    "pr.out$center\n",
    "pr.out$scale\n",
    "pr.out$rotation"
   ]
  },
  {
   "cell_type": "markdown",
   "metadata": {},
   "source": [
    "#### Analysis\n",
    "Graphs below will show why we only take 7 principal components.\n",
    "##### PC1\n",
    "The first principal component is weakly correlated to the “emp.var.rate”. Based on the correlation of 0.47126 which is the highest, the first principal component is barely a measure by the “emp.var.rate”.\n",
    "##### PC2\n",
    "The second principal component decreases with most of the features. This component can be viewed as a measure of “pdays” with a correlation of 0.69066.\n",
    "##### PC3\n",
    "The third principal component is strongly correlated to “month” at 0.63578.\n",
    "##### PC4\n",
    "The fourth principal component is strongly correlated to “age” at 0.66046. This component implies that it can be viewed as a measure of “age”. \n",
    "##### PC5\n",
    "The fifth principal component can be viewed as a measure of “previous” with a correlation coefficient of 0.68532.\n",
    "##### PC6\n",
    "The sixth principal component is strongly correlated with “job” at 0.79066.\n",
    "##### PC7\n",
    "The seventh principal component can be explained by “day_of_week” as it has a strong correlation of 0.90458.\n",
    "<br>\n",
    "<br>"
   ]
  },
  {
   "cell_type": "markdown",
   "metadata": {},
   "source": [
    "We computed the eigenvalues of each principal component.\n",
    "<br>\n",
    "Then, we proceeded to calculate the proportion of variance explained (PVE) and carried out the cumulative sum of PVE (CPVE)."
   ]
  },
  {
   "cell_type": "code",
   "execution_count": 43,
   "metadata": {},
   "outputs": [
    {
     "data": {
      "text/html": [
       "<style>\n",
       ".list-inline {list-style: none; margin:0; padding: 0}\n",
       ".list-inline>li {display: inline-block}\n",
       ".list-inline>li:not(:last-child)::after {content: \"\\00b7\"; padding: 0 .5ex}\n",
       "</style>\n",
       "<ol class=list-inline><li>4.10136638629585</li><li>1.56093515476407</li><li>1.43094267452293</li><li>1.39652982545717</li><li>1.06812553948158</li><li>1.01958418756187</li><li>1.00064997037585</li><li>0.96493185848894</li><li>0.858783868222771</li><li>0.646044756361534</li><li>0.537452210554085</li><li>0.330137956514776</li><li>0.0444155969709898</li><li>0.0293965356107091</li><li>0.0107034788168731</li></ol>\n"
      ],
      "text/latex": [
       "\\begin{enumerate*}\n",
       "\\item 4.10136638629585\n",
       "\\item 1.56093515476407\n",
       "\\item 1.43094267452293\n",
       "\\item 1.39652982545717\n",
       "\\item 1.06812553948158\n",
       "\\item 1.01958418756187\n",
       "\\item 1.00064997037585\n",
       "\\item 0.96493185848894\n",
       "\\item 0.858783868222771\n",
       "\\item 0.646044756361534\n",
       "\\item 0.537452210554085\n",
       "\\item 0.330137956514776\n",
       "\\item 0.0444155969709898\n",
       "\\item 0.0293965356107091\n",
       "\\item 0.0107034788168731\n",
       "\\end{enumerate*}\n"
      ],
      "text/markdown": [
       "1. 4.10136638629585\n",
       "2. 1.56093515476407\n",
       "3. 1.43094267452293\n",
       "4. 1.39652982545717\n",
       "5. 1.06812553948158\n",
       "6. 1.01958418756187\n",
       "7. 1.00064997037585\n",
       "8. 0.96493185848894\n",
       "9. 0.858783868222771\n",
       "10. 0.646044756361534\n",
       "11. 0.537452210554085\n",
       "12. 0.330137956514776\n",
       "13. 0.0444155969709898\n",
       "14. 0.0293965356107091\n",
       "15. 0.0107034788168731\n",
       "\n",
       "\n"
      ],
      "text/plain": [
       " [1] 4.10136639 1.56093515 1.43094267 1.39652983 1.06812554 1.01958419\n",
       " [7] 1.00064997 0.96493186 0.85878387 0.64604476 0.53745221 0.33013796\n",
       "[13] 0.04441560 0.02939654 0.01070348"
      ]
     },
     "metadata": {},
     "output_type": "display_data"
    },
    {
     "data": {
      "text/html": [
       "<style>\n",
       ".list-inline {list-style: none; margin:0; padding: 0}\n",
       ".list-inline>li {display: inline-block}\n",
       ".list-inline>li:not(:last-child)::after {content: \"\\00b7\"; padding: 0 .5ex}\n",
       "</style>\n",
       "<ol class=list-inline><li>0.273424425753057</li><li>0.104062343650938</li><li>0.0953961783015285</li><li>0.0931019883638116</li><li>0.0712083692987723</li><li>0.0679722791707912</li><li>0.0667099980250568</li><li>0.0643287905659293</li><li>0.0572522578815181</li><li>0.0430696504241023</li><li>0.0358301473702723</li><li>0.0220091971009851</li><li>0.00296103979806599</li><li>0.00195976904071394</li><li>0.000713565254458207</li></ol>\n"
      ],
      "text/latex": [
       "\\begin{enumerate*}\n",
       "\\item 0.273424425753057\n",
       "\\item 0.104062343650938\n",
       "\\item 0.0953961783015285\n",
       "\\item 0.0931019883638116\n",
       "\\item 0.0712083692987723\n",
       "\\item 0.0679722791707912\n",
       "\\item 0.0667099980250568\n",
       "\\item 0.0643287905659293\n",
       "\\item 0.0572522578815181\n",
       "\\item 0.0430696504241023\n",
       "\\item 0.0358301473702723\n",
       "\\item 0.0220091971009851\n",
       "\\item 0.00296103979806599\n",
       "\\item 0.00195976904071394\n",
       "\\item 0.000713565254458207\n",
       "\\end{enumerate*}\n"
      ],
      "text/markdown": [
       "1. 0.273424425753057\n",
       "2. 0.104062343650938\n",
       "3. 0.0953961783015285\n",
       "4. 0.0931019883638116\n",
       "5. 0.0712083692987723\n",
       "6. 0.0679722791707912\n",
       "7. 0.0667099980250568\n",
       "8. 0.0643287905659293\n",
       "9. 0.0572522578815181\n",
       "10. 0.0430696504241023\n",
       "11. 0.0358301473702723\n",
       "12. 0.0220091971009851\n",
       "13. 0.00296103979806599\n",
       "14. 0.00195976904071394\n",
       "15. 0.000713565254458207\n",
       "\n",
       "\n"
      ],
      "text/plain": [
       " [1] 0.2734244258 0.1040623437 0.0953961783 0.0931019884 0.0712083693\n",
       " [6] 0.0679722792 0.0667099980 0.0643287906 0.0572522579 0.0430696504\n",
       "[11] 0.0358301474 0.0220091971 0.0029610398 0.0019597690 0.0007135653"
      ]
     },
     "metadata": {},
     "output_type": "display_data"
    },
    {
     "data": {
      "text/html": [
       "<style>\n",
       ".list-inline {list-style: none; margin:0; padding: 0}\n",
       ".list-inline>li {display: inline-block}\n",
       ".list-inline>li:not(:last-child)::after {content: \"\\00b7\"; padding: 0 .5ex}\n",
       "</style>\n",
       "<ol class=list-inline><li>0.273424425753057</li><li>0.377486769403994</li><li>0.472882947705523</li><li>0.565984936069335</li><li>0.637193305368107</li><li>0.705165584538898</li><li>0.771875582563955</li><li>0.836204373129884</li><li>0.893456631011402</li><li>0.936526281435505</li><li>0.972356428805777</li><li>0.994365625906762</li><li>0.997326665704828</li><li>0.999286434745542</li><li>1</li></ol>\n"
      ],
      "text/latex": [
       "\\begin{enumerate*}\n",
       "\\item 0.273424425753057\n",
       "\\item 0.377486769403994\n",
       "\\item 0.472882947705523\n",
       "\\item 0.565984936069335\n",
       "\\item 0.637193305368107\n",
       "\\item 0.705165584538898\n",
       "\\item 0.771875582563955\n",
       "\\item 0.836204373129884\n",
       "\\item 0.893456631011402\n",
       "\\item 0.936526281435505\n",
       "\\item 0.972356428805777\n",
       "\\item 0.994365625906762\n",
       "\\item 0.997326665704828\n",
       "\\item 0.999286434745542\n",
       "\\item 1\n",
       "\\end{enumerate*}\n"
      ],
      "text/markdown": [
       "1. 0.273424425753057\n",
       "2. 0.377486769403994\n",
       "3. 0.472882947705523\n",
       "4. 0.565984936069335\n",
       "5. 0.637193305368107\n",
       "6. 0.705165584538898\n",
       "7. 0.771875582563955\n",
       "8. 0.836204373129884\n",
       "9. 0.893456631011402\n",
       "10. 0.936526281435505\n",
       "11. 0.972356428805777\n",
       "12. 0.994365625906762\n",
       "13. 0.997326665704828\n",
       "14. 0.999286434745542\n",
       "15. 1\n",
       "\n",
       "\n"
      ],
      "text/plain": [
       " [1] 0.2734244 0.3774868 0.4728829 0.5659849 0.6371933 0.7051656 0.7718756\n",
       " [8] 0.8362044 0.8934566 0.9365263 0.9723564 0.9943656 0.9973267 0.9992864\n",
       "[15] 1.0000000"
      ]
     },
     "metadata": {},
     "output_type": "display_data"
    }
   ],
   "source": [
    "pr.var = pr.out$sdev^2\n",
    "pr.var\n",
    "pve = pr.var/sum(pr.var)\n",
    "pve\n",
    "cumsum(pve)"
   ]
  },
  {
   "cell_type": "markdown",
   "metadata": {},
   "source": [
    "Plot graph for the result."
   ]
  },
  {
   "cell_type": "code",
   "execution_count": 44,
   "metadata": {},
   "outputs": [
    {
     "data": {
      "image/png": "[encoded data removed]",
      "text/plain": [
       "plot without title"
      ]
     },
     "metadata": {
      "image/png": {
       "height": 420,
       "width": 420
      },
      "text/plain": {
       "height": 420,
       "width": 420
      }
     },
     "output_type": "display_data"
    },
    {
     "data": {
      "image/png": "[encoded data removed]",
      "text/plain": [
       "plot without title"
      ]
     },
     "metadata": {
      "image/png": {
       "height": 420,
       "width": 420
      },
      "text/plain": {
       "height": 420,
       "width": 420
      }
     },
     "output_type": "display_data"
    }
   ],
   "source": [
    "plot(pve, ylim=c(0,1), type = \"b\", xlab=\"Principal Component\", ylab=\"Proportion of Variance Explained\")\n",
    "plot(cumsum(pve), ylim=c(0,1), type = \"b\", xlab=\"Principal Component\", ylab=\"Cumulative Proportion of Variance Explained\")"
   ]
  },
  {
   "cell_type": "markdown",
   "metadata": {},
   "source": [
    "PCI analysis result."
   ]
  },
  {
   "cell_type": "code",
   "execution_count": 45,
   "metadata": {},
   "outputs": [
    {
     "data": {
      "text/html": [
       "<style>\n",
       ".list-inline {list-style: none; margin:0; padding: 0}\n",
       ".list-inline>li {display: inline-block}\n",
       ".list-inline>li:not(:last-child)::after {content: \"\\00b7\"; padding: 0 .5ex}\n",
       "</style>\n",
       "<ol class=list-inline><li>30488</li><li>15</li></ol>\n"
      ],
      "text/latex": [
       "\\begin{enumerate*}\n",
       "\\item 30488\n",
       "\\item 15\n",
       "\\end{enumerate*}\n"
      ],
      "text/markdown": [
       "1. 30488\n",
       "2. 15\n",
       "\n",
       "\n"
      ],
      "text/plain": [
       "[1] 30488    15"
      ]
     },
     "metadata": {},
     "output_type": "display_data"
    },
    {
     "data": {
      "text/plain": [
       "Importance of components:\n",
       "                          PC1    PC2    PC3    PC4     PC5     PC6     PC7\n",
       "Standard deviation     2.0252 1.2494 1.1962 1.1817 1.03350 1.00974 1.00032\n",
       "Proportion of Variance 0.2734 0.1041 0.0954 0.0931 0.07121 0.06797 0.06671\n",
       "Cumulative Proportion  0.2734 0.3775 0.4729 0.5660 0.63719 0.70517 0.77188\n",
       "                           PC8     PC9    PC10    PC11    PC12    PC13    PC14\n",
       "Standard deviation     0.98231 0.92671 0.80377 0.73311 0.57458 0.21075 0.17145\n",
       "Proportion of Variance 0.06433 0.05725 0.04307 0.03583 0.02201 0.00296 0.00196\n",
       "Cumulative Proportion  0.83620 0.89346 0.93653 0.97236 0.99437 0.99733 0.99929\n",
       "                          PC15\n",
       "Standard deviation     0.10346\n",
       "Proportion of Variance 0.00071\n",
       "Cumulative Proportion  1.00000"
      ]
     },
     "metadata": {},
     "output_type": "display_data"
    },
    {
     "data": {
      "image/png": "[encoded data removed]",
      "text/plain": [
       "plot without title"
      ]
     },
     "metadata": {
      "image/png": {
       "height": 420,
       "width": 420
      },
      "text/plain": {
       "height": 420,
       "width": 420
      }
     },
     "output_type": "display_data"
    },
    {
     "data": {
      "image/png": "[encoded data removed]",
      "text/plain": [
       "Plot with title \"pr.out\""
      ]
     },
     "metadata": {
      "image/png": {
       "height": 420,
       "width": 420
      },
      "text/plain": {
       "height": 420,
       "width": 420
      }
     },
     "output_type": "display_data"
    }
   ],
   "source": [
    "dim(pr.out$x)\n",
    "biplot(pr.out,scale=0)\n",
    "summary(pr.out)\n",
    "screeplot(pr.out, type = \"l\")"
   ]
  },
  {
   "cell_type": "markdown",
   "metadata": {},
   "source": [
    "#### Analysis from the graph\n",
    "we know that with a targeted cumulative proportion of variance explained (CPVE) of 75%, we require first 7 principal components which adds up to 75%.\n",
    "<br>\n",
    "<br>\n",
    "This means that we successfully reduced our dimension from 15 to 7, with these 7 principal components we are able to explain 77% of the outcome of the data consisting of 15 dimensions.\n",
    "<br>\n",
    "<br>\n",
    "Overall, we noticed that PCA does not provide the best solution to our dataset. Since we took the risk of changing the data type, we bear the responsibility of the inaccuracy of the results. However, the outcome of PCA is still satisfactory as it reduces the dimension from 15 to 7 which still can represent 77% of the dataset."
   ]
  },
  {
   "cell_type": "markdown",
   "metadata": {},
   "source": [
    "## Stratified sampling\n",
    "\n",
    "### R library used"
   ]
  },
  {
   "cell_type": "markdown",
   "metadata": {},
   "source": [
    "Here are the R libraries used in this analysis."
   ]
  },
  {
   "cell_type": "code",
   "execution_count": 46,
   "metadata": {},
   "outputs": [
    {
     "name": "stderr",
     "output_type": "stream",
     "text": [
      "Warning message:\n",
      "\"package 'splitstackshape' was built under R version 3.6.3\"\n"
     ]
    }
   ],
   "source": [
    "library(splitstackshape)\n",
    "library(dplyr)"
   ]
  },
  {
   "cell_type": "markdown",
   "metadata": {},
   "source": [
    "### Split the dataset into two categories, train dataset and test dataset"
   ]
  },
  {
   "cell_type": "markdown",
   "metadata": {},
   "source": [
    "Create a \"id\" variable inside the data set.\n",
    "<br>\n",
    "Merge the \"id\" variable with the dataset \"Bankdata\"."
   ]
  },
  {
   "cell_type": "code",
   "execution_count": 47,
   "metadata": {},
   "outputs": [],
   "source": [
    "id<-c(1:nrow(Bankdata)) \n",
    "NewBank<-data.frame(id, Bankdata) "
   ]
  },
  {
   "cell_type": "markdown",
   "metadata": {},
   "source": [
    "Split the \"Bankfull_output\" into train and test datasets."
   ]
  },
  {
   "cell_type": "code",
   "execution_count": 48,
   "metadata": {},
   "outputs": [],
   "source": [
    "set.seed(123)\n",
    "Bank.train<-stratified(NewBank, \"y\", size=0.7)\n",
    "Bank.test<-anti_join(NewBank, Bank.train, by=\"id\")"
   ]
  },
  {
   "cell_type": "markdown",
   "metadata": {},
   "source": [
    "Review the summary of the train and test set."
   ]
  },
  {
   "cell_type": "code",
   "execution_count": 49,
   "metadata": {},
   "outputs": [
    {
     "data": {
      "text/plain": [
       "       id          age                 job           marital     \n",
       " Min.   :    2   low : 4346   admin.     :6145   divorced: 2476  \n",
       " 1st Qu.: 7664   mid :16492   blue-collar:4015   married :12267  \n",
       " Median :15351   high:  503   technician :3805   single  : 6598  \n",
       " Mean   :15304                services   :1956                   \n",
       " 3rd Qu.:22969                management :1614                   \n",
       " Max.   :30488                retired    : 853                   \n",
       "                              (Other)    :2953                   \n",
       "               education         contact          month      day_of_week\n",
       " basic.4y           :1690   cellular :14358   May    :6837   Mon:4431   \n",
       " basic.6y           : 947   telephone: 6983   Jul    :3519   Tue:4201   \n",
       " basic.9y           :2975                     Aug    :3248   Wed:4231   \n",
       " high.school        :5411                     Jun    :2520   Thu:4460   \n",
       " illiterate         :   7                     Nov    :2439   Fri:4018   \n",
       " professional.course:3044                     Apr    :1501              \n",
       " university.degree  :7267                     (Other):1277              \n",
       "    campaign    pdays     previous          poutcome      emp.var.rate     \n",
       " 1      :9342   0:20433   0 :18075   failure    : 2436   Min.   :-3.40000  \n",
       " 2      :5416   1:  908   1 : 2644   nonexistent:18075   1st Qu.:-1.80000  \n",
       " 3      :2734             2+:  622   success    :  830   Median : 1.10000  \n",
       " 4      :1374                                            Mean   :-0.08597  \n",
       " 5      : 815                                            3rd Qu.: 1.40000  \n",
       " 10+    : 531                                            Max.   : 1.40000  \n",
       " (Other):1129                                                              \n",
       " cons.price.idx    euribor3m      nr.employed   y        \n",
       " Min.   :92.20   Min.   :0.634   Min.   :4964   0:18640  \n",
       " 1st Qu.:93.08   1st Qu.:1.313   1st Qu.:5099   1: 2701  \n",
       " Median :93.44   Median :4.856   Median :5191            \n",
       " Mean   :93.52   Mean   :3.444   Mean   :5160            \n",
       " 3rd Qu.:93.99   3rd Qu.:4.961   3rd Qu.:5228            \n",
       " Max.   :94.77   Max.   :5.045   Max.   :5228            \n",
       "                                                         "
      ]
     },
     "metadata": {},
     "output_type": "display_data"
    }
   ],
   "source": [
    "summary(Bank.train)"
   ]
  },
  {
   "cell_type": "code",
   "execution_count": 50,
   "metadata": {},
   "outputs": [
    {
     "data": {
      "text/plain": [
       "       id          age                job           marital    \n",
       " Min.   :    1   low :1829   admin.     :2592   divorced:1077  \n",
       " 1st Qu.: 7490   mid :7095   technician :1668   married :5225  \n",
       " Median :15020   high: 223   blue-collar:1660   single  :2845  \n",
       " Mean   :15107               services   : 901                  \n",
       " 3rd Qu.:22638               management : 697                  \n",
       " Max.   :30483               retired    : 363                  \n",
       "                             (Other)    :1266                  \n",
       "               education         contact         month      day_of_week\n",
       " basic.4y           : 690   cellular :6085   May    :2896   Mon:1848   \n",
       " basic.6y           : 442   telephone:3062   Jul    :1562   Tue:1754   \n",
       " basic.9y           :1301                    Aug    :1425   Wed:1894   \n",
       " high.school        :2288                    Jun    :1094   Thu:1935   \n",
       " illiterate         :   4                    Nov    :1057   Fri:1716   \n",
       " professional.course:1277                    Apr    : 614              \n",
       " university.degree  :3145                    (Other): 499              \n",
       "    campaign    pdays    previous         poutcome     emp.var.rate     \n",
       " 1      :3904   0:8745   0 :7761   failure    :1025   Min.   :-3.40000  \n",
       " 2      :2457   1: 402   1 :1108   nonexistent:7761   1st Qu.:-1.80000  \n",
       " 3      :1171            2+: 278   success    : 361   Median : 1.10000  \n",
       " 4      : 563                                         Mean   :-0.03776  \n",
       " 5      : 341                                         3rd Qu.: 1.40000  \n",
       " 10+    : 226                                         Max.   : 1.40000  \n",
       " (Other): 485                                                           \n",
       " cons.price.idx    euribor3m      nr.employed   y       \n",
       " Min.   :92.20   Min.   :0.634   Min.   :4964   0:7989  \n",
       " 1st Qu.:93.08   1st Qu.:1.327   1st Qu.:5099   1:1158  \n",
       " Median :93.44   Median :4.856   Median :5191           \n",
       " Mean   :93.53   Mean   :3.498   Mean   :5162           \n",
       " 3rd Qu.:93.99   3rd Qu.:4.961   3rd Qu.:5228           \n",
       " Max.   :94.77   Max.   :5.045   Max.   :5228           \n",
       "                                                        "
      ]
     },
     "metadata": {},
     "output_type": "display_data"
    }
   ],
   "source": [
    "summary(Bank.test)"
   ]
  },
  {
   "cell_type": "markdown",
   "metadata": {},
   "source": [
    "## Naive Bayes\n",
    "Naïve Bayes Classifier is one common approach based on estimating the distribution of the data and then plugging this into the Bayes classifier. It is simple and fast to predict classes of test dataset and even perform well in multi class prediction which contains large dimensional data sets such as text analytics. Moreover, when the conditional independence assumption\n",
    "holds, Naïve Bayes classifier will converge quicker than other models like logistic regression and with less training data."
   ]
  },
  {
   "cell_type": "markdown",
   "metadata": {},
   "source": [
    "Library needed for Naive Bayes testing."
   ]
  },
  {
   "cell_type": "code",
   "execution_count": 51,
   "metadata": {},
   "outputs": [
    {
     "name": "stderr",
     "output_type": "stream",
     "text": [
      "Warning message:\n",
      "\"package 'e1071' was built under R version 3.6.3\"\n"
     ]
    }
   ],
   "source": [
    "library(e1071)"
   ]
  },
  {
   "cell_type": "markdown",
   "metadata": {},
   "source": [
    "### Data Preparation for Naive Bayes"
   ]
  },
  {
   "cell_type": "markdown",
   "metadata": {},
   "source": [
    "Duplicate train and test set for Naive Bayes purpose."
   ]
  },
  {
   "cell_type": "code",
   "execution_count": 52,
   "metadata": {},
   "outputs": [],
   "source": [
    "BA.NB.train <- Bank.train\n",
    "BA.NB.test <- Bank.test"
   ]
  },
  {
   "cell_type": "markdown",
   "metadata": {},
   "source": [
    "Data type checking."
   ]
  },
  {
   "cell_type": "code",
   "execution_count": 53,
   "metadata": {},
   "outputs": [
    {
     "name": "stdout",
     "output_type": "stream",
     "text": [
      "Classes 'data.table' and 'data.frame':\t21341 obs. of  17 variables:\n",
      " $ id            : int  20033 20103 27537 3079 1887 28593 3477 12212 4917 6995 ...\n",
      " $ age           : Factor w/ 3 levels \"low\",\"mid\",\"high\": 2 1 2 2 2 3 1 2 2 2 ...\n",
      " $ job           : Factor w/ 11 levels \"admin.\",\"blue-collar\",..: 10 1 6 7 10 6 2 5 2 5 ...\n",
      " $ marital       : Factor w/ 3 levels \"divorced\",\"married\",..: 2 2 2 2 3 1 2 2 2 3 ...\n",
      " $ education     : Factor w/ 7 levels \"basic.4y\",\"basic.6y\",..: 6 7 7 4 4 3 4 7 1 1 ...\n",
      " $ contact       : Factor w/ 2 levels \"cellular\",\"telephone\": 1 2 1 2 2 2 2 1 2 2 ...\n",
      " $ month         : Factor w/ 12 levels \"Jan\",\"Feb\",\"Mar\",..: 4 4 8 5 5 12 5 7 5 6 ...\n",
      " $ day_of_week   : Factor w/ 5 levels \"Mon\",\"Tue\",\"Wed\",..: 3 4 3 3 3 3 1 4 5 3 ...\n",
      " $ campaign      : Factor w/ 10 levels \"1\",\"2\",\"3\",\"4\",..: 1 3 1 2 2 2 4 1 4 4 ...\n",
      " $ pdays         : Factor w/ 2 levels \"0\",\"1\": 1 1 1 1 1 1 1 1 1 1 ...\n",
      " $ previous      : Factor w/ 3 levels \"0\",\"1\",\"2+\": 1 1 2 1 1 1 1 1 1 1 ...\n",
      " $ poutcome      : Factor w/ 3 levels \"failure\",\"nonexistent\",..: 2 2 1 2 2 2 2 2 2 2 ...\n",
      " $ emp.var.rate  : num  -1.8 -1.8 -2.9 1.1 1.1 -3 1.1 1.4 1.1 1.4 ...\n",
      " $ cons.price.idx: num  93.1 93.1 92.2 94 94 ...\n",
      " $ euribor3m     : num  1.415 1.41 0.834 4.858 4.859 ...\n",
      " $ nr.employed   : num  5099 5099 5076 5191 5191 ...\n",
      " $ y             : Factor w/ 2 levels \"0\",\"1\": 1 1 1 1 1 1 1 1 1 1 ...\n",
      " - attr(*, \".internal.selfref\")=<externalptr> \n"
     ]
    }
   ],
   "source": [
    "str(BA.NB.train)"
   ]
  },
  {
   "cell_type": "markdown",
   "metadata": {},
   "source": [
    "Perform Naive Bayes testing."
   ]
  },
  {
   "cell_type": "code",
   "execution_count": 54,
   "metadata": {},
   "outputs": [],
   "source": [
    "naive.model <- naiveBayes(y~.-id, data = BA.NB.train)"
   ]
  },
  {
   "cell_type": "markdown",
   "metadata": {},
   "source": [
    "Construct a confusion matrix for Naive Bayes testing."
   ]
  },
  {
   "cell_type": "code",
   "execution_count": 55,
   "metadata": {},
   "outputs": [
    {
     "data": {
      "text/plain": [
       "          \n",
       "naive.pred    0    1\n",
       "         0 6694  415\n",
       "         1 1295  743"
      ]
     },
     "metadata": {},
     "output_type": "display_data"
    }
   ],
   "source": [
    "naive.pred <- predict(naive.model, newdata = BA.NB.test)\n",
    "naive.perform <- table(naive.pred, BA.NB.test$y)\n",
    "naive.perform"
   ]
  },
  {
   "cell_type": "markdown",
   "metadata": {},
   "source": [
    "Measurement for Naive Bayes testing."
   ]
  },
  {
   "cell_type": "code",
   "execution_count": 56,
   "metadata": {},
   "outputs": [],
   "source": [
    "naive.Accuracy <- sum(naive.perform[1,1],naive.perform[2,2]) / sum(naive.perform[,])\n",
    "naive.Recall.P <- naive.perform[1,1] / sum(naive.perform[,1])\n",
    "naive.Recall.N <- naive.perform[2,2] / sum(naive.perform[,2])\n",
    "naive.Precision.P <- naive.perform[1,1] / sum(naive.perform[1,])\n",
    "naive.Precision.N <- naive.perform[2,2] / sum(naive.perform[2,])"
   ]
  },
  {
   "cell_type": "markdown",
   "metadata": {},
   "source": [
    "Result."
   ]
  },
  {
   "cell_type": "code",
   "execution_count": 57,
   "metadata": {},
   "outputs": [
    {
     "data": {
      "text/html": [
       "0.813053460150869"
      ],
      "text/latex": [
       "0.813053460150869"
      ],
      "text/markdown": [
       "0.813053460150869"
      ],
      "text/plain": [
       "[1] 0.8130535"
      ]
     },
     "metadata": {},
     "output_type": "display_data"
    },
    {
     "data": {
      "text/html": [
       "0.837902115408687"
      ],
      "text/latex": [
       "0.837902115408687"
      ],
      "text/markdown": [
       "0.837902115408687"
      ],
      "text/plain": [
       "[1] 0.8379021"
      ]
     },
     "metadata": {},
     "output_type": "display_data"
    },
    {
     "data": {
      "text/html": [
       "0.641623488773748"
      ],
      "text/latex": [
       "0.641623488773748"
      ],
      "text/markdown": [
       "0.641623488773748"
      ],
      "text/plain": [
       "[1] 0.6416235"
      ]
     },
     "metadata": {},
     "output_type": "display_data"
    },
    {
     "data": {
      "text/html": [
       "0.94162329441553"
      ],
      "text/latex": [
       "0.94162329441553"
      ],
      "text/markdown": [
       "0.94162329441553"
      ],
      "text/plain": [
       "[1] 0.9416233"
      ]
     },
     "metadata": {},
     "output_type": "display_data"
    },
    {
     "data": {
      "text/html": [
       "0.364573110893032"
      ],
      "text/latex": [
       "0.364573110893032"
      ],
      "text/markdown": [
       "0.364573110893032"
      ],
      "text/plain": [
       "[1] 0.3645731"
      ]
     },
     "metadata": {},
     "output_type": "display_data"
    }
   ],
   "source": [
    "naive.Accuracy\n",
    "naive.Recall.P\n",
    "naive.Recall.N\n",
    "naive.Precision.P\n",
    "naive.Precision.N"
   ]
  },
  {
   "cell_type": "markdown",
   "metadata": {},
   "source": [
    "#### Comment on Naïve Bayes Classifier method\n",
    "We know that the Naïve Bayes classifier is a product of density functions with prior probability. The problem arises when there exists a density function with zero density, thus making the posterior probability zero no matter what is the value of other density functions, in that sense, Naïve Bayes classifier fails. Besides that, the shortfall for Naïve Bayes classifier is the assumption of independent variables which is not applicable in the real-world scenario. For this reason, it is known as a bad estimator, when the attributes of a dataset are huge. The Naïve Bayes classifier gives an accuracy of 81.31% which is the lowest among all."
   ]
  },
  {
   "cell_type": "markdown",
   "metadata": {},
   "source": [
    "## Logistic Regression\n",
    "Logistic Regression model is very much like linear regression but with a binomial response variable. It is widely used in practical because of the model's interpretability. It helps to describe the relationship between the dependent variable and independent variables. The noticeable characteristics of logistic regression is that it models the chance of the outcome depending on individual features which makes it an advantage to avoid confounding effects by analyzing the association of all variables together."
   ]
  },
  {
   "cell_type": "markdown",
   "metadata": {},
   "source": [
    "### Data Preparation for Logistic Regression"
   ]
  },
  {
   "cell_type": "markdown",
   "metadata": {},
   "source": [
    "Duplicate train and test set for Logistic Regression testing purpose."
   ]
  },
  {
   "cell_type": "code",
   "execution_count": 58,
   "metadata": {},
   "outputs": [],
   "source": [
    "LR.train <- Bank.train\n",
    "LR.test <- Bank.test"
   ]
  },
  {
   "cell_type": "markdown",
   "metadata": {},
   "source": [
    "Perform Logistic Regression."
   ]
  },
  {
   "cell_type": "code",
   "execution_count": 59,
   "metadata": {},
   "outputs": [],
   "source": [
    "logistic = glm(y ~ .-id, data = LR.train, family = \"binomial\")"
   ]
  },
  {
   "cell_type": "markdown",
   "metadata": {},
   "source": [
    "Summary of the Logistic Regression."
   ]
  },
  {
   "cell_type": "code",
   "execution_count": 60,
   "metadata": {},
   "outputs": [
    {
     "data": {
      "text/plain": [
       "\n",
       "Call:\n",
       "glm(formula = y ~ . - id, family = \"binomial\", data = LR.train)\n",
       "\n",
       "Deviance Residuals: \n",
       "    Min       1Q   Median       3Q      Max  \n",
       "-2.0165  -0.4140  -0.3284  -0.2643   2.9127  \n",
       "\n",
       "Coefficients: (1 not defined because of singularities)\n",
       "                               Estimate Std. Error z value Pr(>|z|)    \n",
       "(Intercept)                  -1.320e+02  3.349e+01  -3.941 8.12e-05 ***\n",
       "agemid                       -1.200e-01  6.393e-02  -1.876 0.060602 .  \n",
       "agehigh                      -1.128e-02  1.575e-01  -0.072 0.942936    \n",
       "jobblue-collar               -9.861e-02  9.416e-02  -1.047 0.294961    \n",
       "jobentrepreneur               3.874e-03  1.400e-01   0.028 0.977915    \n",
       "jobhousemaid                  1.877e-02  1.745e-01   0.108 0.914372    \n",
       "jobmanagement                -3.367e-02  9.644e-02  -0.349 0.727041    \n",
       "jobretired                    2.119e-01  1.386e-01   1.529 0.126297    \n",
       "jobself-employed             -7.653e-02  1.327e-01  -0.577 0.564057    \n",
       "jobservices                  -1.520e-01  1.010e-01  -1.505 0.132227    \n",
       "jobstudent                    1.899e-01  1.357e-01   1.399 0.161703    \n",
       "jobtechnician                 1.464e-02  8.073e-02   0.181 0.856092    \n",
       "jobunemployed                 1.156e-02  1.448e-01   0.080 0.936393    \n",
       "maritalmarried               -1.292e-01  7.633e-02  -1.692 0.090578 .  \n",
       "maritalsingle                -1.251e-01  8.548e-02  -1.463 0.143385    \n",
       "educationbasic.6y             2.550e-02  1.523e-01   0.167 0.867072    \n",
       "educationbasic.9y            -1.214e-01  1.151e-01  -1.055 0.291473    \n",
       "educationhigh.school          4.353e-02  1.088e-01   0.400 0.689016    \n",
       "educationilliterate           9.896e-01  9.197e-01   1.076 0.281937    \n",
       "educationprofessional.course  4.111e-02  1.189e-01   0.346 0.729659    \n",
       "educationuniversity.degree    1.652e-01  1.088e-01   1.519 0.128866    \n",
       "contacttelephone             -7.260e-01  8.073e-02  -8.993  < 2e-16 ***\n",
       "monthApr                     -1.231e+00  1.558e-01  -7.902 2.74e-15 ***\n",
       "monthMay                     -1.742e+00  1.333e-01 -13.065  < 2e-16 ***\n",
       "monthJun                     -1.698e+00  2.106e-01  -8.064 7.38e-16 ***\n",
       "monthJul                     -1.264e+00  1.591e-01  -7.944 1.96e-15 ***\n",
       "monthAug                     -9.308e-01  1.352e-01  -6.882 5.89e-12 ***\n",
       "monthSep                     -1.233e+00  1.803e-01  -6.840 7.90e-12 ***\n",
       "monthOct                     -1.387e+00  1.739e-01  -7.976 1.51e-15 ***\n",
       "monthNov                     -1.913e+00  1.625e-01 -11.769  < 2e-16 ***\n",
       "monthDec                     -1.242e+00  2.443e-01  -5.086 3.66e-07 ***\n",
       "day_of_weekTue                2.743e-01  7.507e-02   3.654 0.000258 ***\n",
       "day_of_weekWed                3.930e-01  7.484e-02   5.251 1.51e-07 ***\n",
       "day_of_weekThu                2.639e-01  7.333e-02   3.598 0.000320 ***\n",
       "day_of_weekFri                1.452e-01  7.691e-02   1.888 0.059026 .  \n",
       "campaign2                    -5.939e-02  5.744e-02  -1.034 0.301176    \n",
       "campaign3                     8.245e-02  7.429e-02   1.110 0.267120    \n",
       "campaign4                    -9.677e-02  1.060e-01  -0.913 0.361107    \n",
       "campaign5                    -9.937e-02  1.354e-01  -0.734 0.462947    \n",
       "campaign6                    -3.070e-01  1.893e-01  -1.622 0.104846    \n",
       "campaign7                    -4.307e-01  2.482e-01  -1.735 0.082668 .  \n",
       "campaign8                    -6.464e-01  3.643e-01  -1.774 0.076023 .  \n",
       "campaign9                    -2.182e-01  3.761e-01  -0.580 0.561881    \n",
       "campaign10+                  -6.502e-01  2.435e-01  -2.670 0.007592 ** \n",
       "pdays1                        9.046e-01  2.685e-01   3.369 0.000754 ***\n",
       "previous1                    -5.137e-01  7.566e-02  -6.790 1.12e-11 ***\n",
       "previous2+                   -5.605e-01  1.286e-01  -4.357 1.32e-05 ***\n",
       "poutcomenonexistent                  NA         NA      NA       NA    \n",
       "poutcomesuccess               9.914e-01  2.648e-01   3.743 0.000182 ***\n",
       "emp.var.rate                 -1.347e+00  1.553e-01  -8.670  < 2e-16 ***\n",
       "cons.price.idx                1.474e+00  2.324e-01   6.345 2.22e-10 ***\n",
       "euribor3m                     5.495e-01  1.093e-01   5.026 5.01e-07 ***\n",
       "nr.employed                  -1.661e-03  2.553e-03  -0.651 0.515239    \n",
       "---\n",
       "Signif. codes:  0 '***' 0.001 '**' 0.01 '*' 0.05 '.' 0.1 ' ' 1\n",
       "\n",
       "(Dispersion parameter for binomial family taken to be 1)\n",
       "\n",
       "    Null deviance: 16211  on 21340  degrees of freedom\n",
       "Residual deviance: 12657  on 21289  degrees of freedom\n",
       "AIC: 12761\n",
       "\n",
       "Number of Fisher Scoring iterations: 6\n"
      ]
     },
     "metadata": {},
     "output_type": "display_data"
    }
   ],
   "source": [
    "summary(logistic)"
   ]
  },
  {
   "cell_type": "markdown",
   "metadata": {},
   "source": [
    "Remark: We noticed that there are some variable that can be further removed to lighten the model.\n",
    "<br>"
   ]
  },
  {
   "cell_type": "markdown",
   "metadata": {},
   "source": [
    "Variables are to be removed such as \"education\", \"marital\", \"campaign\", \"nr.employed\". "
   ]
  },
  {
   "cell_type": "code",
   "execution_count": 61,
   "metadata": {},
   "outputs": [],
   "source": [
    "logistic = glm(y ~ .-education-marital-campaign-nr.employed-id, data = LR.train, family = \"binomial\")"
   ]
  },
  {
   "cell_type": "markdown",
   "metadata": {},
   "source": [
    "Summary of the Logistic Regression."
   ]
  },
  {
   "cell_type": "code",
   "execution_count": 62,
   "metadata": {},
   "outputs": [
    {
     "data": {
      "text/plain": [
       "\n",
       "Call:\n",
       "glm(formula = y ~ . - education - marital - campaign - nr.employed - \n",
       "    id, family = \"binomial\", data = LR.train)\n",
       "\n",
       "Deviance Residuals: \n",
       "    Min       1Q   Median       3Q      Max  \n",
       "-2.0223  -0.4110  -0.3288  -0.2648   2.8039  \n",
       "\n",
       "Coefficients: (1 not defined because of singularities)\n",
       "                      Estimate Std. Error z value Pr(>|z|)    \n",
       "(Intercept)         -1.552e+02  1.173e+01 -13.229  < 2e-16 ***\n",
       "agemid              -1.137e-01  5.947e-02  -1.913 0.055794 .  \n",
       "agehigh             -3.066e-02  1.529e-01  -0.200 0.841103    \n",
       "jobblue-collar      -2.415e-01  7.631e-02  -3.165 0.001551 ** \n",
       "jobentrepreneur     -2.241e-02  1.386e-01  -0.162 0.871547    \n",
       "jobhousemaid        -4.668e-02  1.677e-01  -0.278 0.780679    \n",
       "jobmanagement       -9.726e-03  9.439e-02  -0.103 0.917924    \n",
       "jobretired           1.676e-01  1.330e-01   1.260 0.207709    \n",
       "jobself-employed    -6.760e-02  1.312e-01  -0.515 0.606307    \n",
       "jobservices         -2.224e-01  9.592e-02  -2.319 0.020395 *  \n",
       "jobstudent           1.134e-01  1.319e-01   0.859 0.390191    \n",
       "jobtechnician       -2.059e-02  7.095e-02  -0.290 0.771612    \n",
       "jobunemployed       -5.498e-02  1.427e-01  -0.385 0.700103    \n",
       "contacttelephone    -7.359e-01  8.037e-02  -9.157  < 2e-16 ***\n",
       "monthApr            -1.278e+00  1.310e-01  -9.756  < 2e-16 ***\n",
       "monthMay            -1.788e+00  1.237e-01 -14.448  < 2e-16 ***\n",
       "monthJun            -1.804e+00  1.644e-01 -10.971  < 2e-16 ***\n",
       "monthJul            -1.321e+00  1.472e-01  -8.973  < 2e-16 ***\n",
       "monthAug            -8.981e-01  1.338e-01  -6.714 1.89e-11 ***\n",
       "monthSep            -1.190e+00  1.676e-01  -7.105 1.21e-12 ***\n",
       "monthOct            -1.381e+00  1.717e-01  -8.041 8.91e-16 ***\n",
       "monthNov            -1.919e+00  1.603e-01 -11.977  < 2e-16 ***\n",
       "monthDec            -1.230e+00  2.422e-01  -5.079 3.80e-07 ***\n",
       "day_of_weekTue       2.857e-01  7.473e-02   3.823 0.000132 ***\n",
       "day_of_weekWed       3.991e-01  7.460e-02   5.350 8.79e-08 ***\n",
       "day_of_weekThu       2.658e-01  7.303e-02   3.640 0.000272 ***\n",
       "day_of_weekFri       1.388e-01  7.676e-02   1.808 0.070650 .  \n",
       "pdays1               8.975e-01  2.682e-01   3.346 0.000820 ***\n",
       "previous1           -5.114e-01  7.549e-02  -6.774 1.26e-11 ***\n",
       "previous2+          -5.498e-01  1.281e-01  -4.291 1.78e-05 ***\n",
       "poutcomenonexistent         NA         NA      NA       NA    \n",
       "poutcomesuccess      9.993e-01  2.646e-01   3.776 0.000159 ***\n",
       "emp.var.rate        -1.439e+00  1.206e-01 -11.930  < 2e-16 ***\n",
       "cons.price.idx       1.631e+00  1.229e-01  13.270  < 2e-16 ***\n",
       "euribor3m            5.238e-01  9.137e-02   5.732 9.91e-09 ***\n",
       "---\n",
       "Signif. codes:  0 '***' 0.001 '**' 0.01 '*' 0.05 '.' 0.1 ' ' 1\n",
       "\n",
       "(Dispersion parameter for binomial family taken to be 1)\n",
       "\n",
       "    Null deviance: 16211  on 21340  degrees of freedom\n",
       "Residual deviance: 12692  on 21307  degrees of freedom\n",
       "AIC: 12760\n",
       "\n",
       "Number of Fisher Scoring iterations: 5\n"
      ]
     },
     "metadata": {},
     "output_type": "display_data"
    }
   ],
   "source": [
    "summary(logistic)"
   ]
  },
  {
   "cell_type": "markdown",
   "metadata": {},
   "source": [
    "Construct a confusion matrix for Logistic Regression."
   ]
  },
  {
   "cell_type": "code",
   "execution_count": 63,
   "metadata": {},
   "outputs": [],
   "source": [
    "options(warn=-1) #turn off warning message\n",
    "log.prob<-predict(logistic, newdata=subset(LR.test,select=c(1:16)), type='response')\n",
    "log.pred<-ifelse(log.prob>= 0.5, \"pred_1\",\"pred_0\")\n",
    "log.perform<-table(log.pred,LR.test$y)"
   ]
  },
  {
   "cell_type": "markdown",
   "metadata": {},
   "source": [
    "Measurement for Logistic Regression."
   ]
  },
  {
   "cell_type": "code",
   "execution_count": 64,
   "metadata": {},
   "outputs": [
    {
     "data": {
      "text/plain": [
       "        \n",
       "log.pred    0    1\n",
       "  pred_0 7865  870\n",
       "  pred_1  124  288"
      ]
     },
     "metadata": {},
     "output_type": "display_data"
    }
   ],
   "source": [
    "log.perform\n",
    "log.Accuracy <- sum(log.perform[1,1],log.perform[2,2])/sum(log.perform[,])\n",
    "log.Recall.P <- log.perform[1,1]/sum(log.perform[,1])\n",
    "log.Recall.N <- log.perform[2,2]/sum(log.perform[,2])\n",
    "log.Precision.P <- log.perform[1,1]/sum(log.perform[1,])\n",
    "log.Precision.N <- log.perform[2,2]/sum(log.perform[2,])"
   ]
  },
  {
   "cell_type": "markdown",
   "metadata": {},
   "source": [
    "Result."
   ]
  },
  {
   "cell_type": "code",
   "execution_count": 65,
   "metadata": {},
   "outputs": [
    {
     "data": {
      "text/html": [
       "0.891330490871324"
      ],
      "text/latex": [
       "0.891330490871324"
      ],
      "text/markdown": [
       "0.891330490871324"
      ],
      "text/plain": [
       "[1] 0.8913305"
      ]
     },
     "metadata": {},
     "output_type": "display_data"
    },
    {
     "data": {
      "text/html": [
       "0.984478658154963"
      ],
      "text/latex": [
       "0.984478658154963"
      ],
      "text/markdown": [
       "0.984478658154963"
      ],
      "text/plain": [
       "[1] 0.9844787"
      ]
     },
     "metadata": {},
     "output_type": "display_data"
    },
    {
     "data": {
      "text/html": [
       "0.248704663212435"
      ],
      "text/latex": [
       "0.248704663212435"
      ],
      "text/markdown": [
       "0.248704663212435"
      ],
      "text/plain": [
       "[1] 0.2487047"
      ]
     },
     "metadata": {},
     "output_type": "display_data"
    },
    {
     "data": {
      "text/html": [
       "0.900400686891815"
      ],
      "text/latex": [
       "0.900400686891815"
      ],
      "text/markdown": [
       "0.900400686891815"
      ],
      "text/plain": [
       "[1] 0.9004007"
      ]
     },
     "metadata": {},
     "output_type": "display_data"
    },
    {
     "data": {
      "text/html": [
       "0.699029126213592"
      ],
      "text/latex": [
       "0.699029126213592"
      ],
      "text/markdown": [
       "0.699029126213592"
      ],
      "text/plain": [
       "[1] 0.6990291"
      ]
     },
     "metadata": {},
     "output_type": "display_data"
    }
   ],
   "source": [
    "log.Accuracy \n",
    "log.Recall.P \n",
    "log.Recall.N\n",
    "log.Precision.P \n",
    "log.Precision.N "
   ]
  },
  {
   "cell_type": "markdown",
   "metadata": {},
   "source": [
    "#### Comment on Logistic Regression method\n",
    "Logistic regression can suffer from complete separation. If there is a feature that would perfectly separate the two classes, in this case, the model can no longer be trained due to the divergence properties of that feature as the optimal weight would be infinite. Despite the downfall, this model has an accuracy of 89.11% that is the highest among the rest. Hence, we accept the logistic regression model to be our best choice."
   ]
  },
  {
   "cell_type": "markdown",
   "metadata": {},
   "source": [
    "## Decision Tree\n",
    "\n",
    "Decision Tree is a decision support tool mostly used in classification problems that is easy to understand and interpret as it helps to display data graphically in a tree-like structure consisting of branches, leaves and nodes. Apart from that, decision trees can easily handle qualitative predictors without creating dummy variables in addition to handling missing values in predictors and are robust to error.\n",
    "<br>"
   ]
  },
  {
   "cell_type": "markdown",
   "metadata": {},
   "source": [
    "Library needed for tree model testing."
   ]
  },
  {
   "cell_type": "code",
   "execution_count": 66,
   "metadata": {},
   "outputs": [],
   "source": [
    "library(tree)"
   ]
  },
  {
   "cell_type": "markdown",
   "metadata": {},
   "source": [
    "Plot the decision tree graph"
   ]
  },
  {
   "cell_type": "code",
   "execution_count": 67,
   "metadata": {},
   "outputs": [
    {
     "data": {
      "image/png": "[encoded data removed]",
      "text/plain": [
       "plot without title"
      ]
     },
     "metadata": {
      "image/png": {
       "height": 420,
       "width": 420
      },
      "text/plain": {
       "height": 420,
       "width": 420
      }
     },
     "output_type": "display_data"
    }
   ],
   "source": [
    "tree=tree(y~.-id,Bank.train)\n",
    "plot(tree)"
   ]
  },
  {
   "cell_type": "markdown",
   "metadata": {},
   "source": [
    "Perform Decision Tree testing prediction."
   ]
  },
  {
   "cell_type": "code",
   "execution_count": 68,
   "metadata": {},
   "outputs": [],
   "source": [
    "tree.pred=predict(tree,Bank.test,type=\"class\")"
   ]
  },
  {
   "cell_type": "markdown",
   "metadata": {},
   "source": [
    "Preview the summary of the prediction."
   ]
  },
  {
   "cell_type": "code",
   "execution_count": 69,
   "metadata": {},
   "outputs": [
    {
     "data": {
      "text/html": [
       "<style>\n",
       ".dl-inline {width: auto; margin:0; padding: 0}\n",
       ".dl-inline>dt, .dl-inline>dd {float: none; width: auto; display: inline-block}\n",
       ".dl-inline>dt::after {content: \":\\0020\"; padding-right: .5ex}\n",
       ".dl-inline>dt:not(:first-of-type) {padding-left: .5ex}\n",
       "</style><dl class=dl-inline><dt>0</dt><dd>8849</dd><dt>1</dt><dd>298</dd></dl>\n"
      ],
      "text/latex": [
       "\\begin{description*}\n",
       "\\item[0] 8849\n",
       "\\item[1] 298\n",
       "\\end{description*}\n"
      ],
      "text/markdown": [
       "0\n",
       ":   88491\n",
       ":   298\n",
       "\n"
      ],
      "text/plain": [
       "   0    1 \n",
       "8849  298 "
      ]
     },
     "metadata": {},
     "output_type": "display_data"
    }
   ],
   "source": [
    "summary(tree.pred)"
   ]
  },
  {
   "cell_type": "markdown",
   "metadata": {},
   "source": [
    "Construct the confusion matrix for Decision Tree testing."
   ]
  },
  {
   "cell_type": "code",
   "execution_count": 70,
   "metadata": {},
   "outputs": [
    {
     "data": {
      "text/plain": [
       "         \n",
       "tree.pred    0    1\n",
       "        0 7903  946\n",
       "        1   86  212"
      ]
     },
     "metadata": {},
     "output_type": "display_data"
    },
    {
     "data": {
      "text/plain": [
       "         \n",
       "tree.pred    0    1\n",
       "        0 7903  946\n",
       "        1   86  212"
      ]
     },
     "metadata": {},
     "output_type": "display_data"
    }
   ],
   "source": [
    "table(tree.pred,Bank.test$y)\n",
    "#or\n",
    "tree.perform=table(tree.pred,Bank.test$y)\n",
    "tree.perform"
   ]
  },
  {
   "cell_type": "markdown",
   "metadata": {},
   "source": [
    "Accuracy and Error."
   ]
  },
  {
   "cell_type": "code",
   "execution_count": 71,
   "metadata": {},
   "outputs": [
    {
     "data": {
      "text/html": [
       "0.887176123319121"
      ],
      "text/latex": [
       "0.887176123319121"
      ],
      "text/markdown": [
       "0.887176123319121"
      ],
      "text/plain": [
       "[1] 0.8871761"
      ]
     },
     "metadata": {},
     "output_type": "display_data"
    },
    {
     "data": {
      "text/html": [
       "0.112823876680879"
      ],
      "text/latex": [
       "0.112823876680879"
      ],
      "text/markdown": [
       "0.112823876680879"
      ],
      "text/plain": [
       "[1] 0.1128239"
      ]
     },
     "metadata": {},
     "output_type": "display_data"
    }
   ],
   "source": [
    "tree.Accuracy= mean(tree.pred==Bank.test$y)\n",
    "tree.Accuracy\n",
    "tree.Error= mean(tree.pred!=Bank.test$y)\n",
    "tree.Error"
   ]
  },
  {
   "cell_type": "markdown",
   "metadata": {},
   "source": [
    "Measurement for Decision Tree."
   ]
  },
  {
   "cell_type": "code",
   "execution_count": 72,
   "metadata": {},
   "outputs": [],
   "source": [
    "tree.Recall.P=tree.perform[1,1]/sum(tree.perform[,1])\n",
    "tree.Recall.N= tree.perform[2,2]/sum(tree.perform[,2])\n",
    "tree.Precision.P=tree.perform[1,1]/sum(tree.perform[1,])\n",
    "tree.Precision.N=tree.perform[2,2]/sum(tree.perform[2,])"
   ]
  },
  {
   "cell_type": "markdown",
   "metadata": {},
   "source": [
    "Result."
   ]
  },
  {
   "cell_type": "code",
   "execution_count": 73,
   "metadata": {},
   "outputs": [
    {
     "data": {
      "text/plain": [
       "         \n",
       "tree.pred    0    1\n",
       "        0 7903  946\n",
       "        1   86  212"
      ]
     },
     "metadata": {},
     "output_type": "display_data"
    },
    {
     "data": {
      "text/html": [
       "0.887176123319121"
      ],
      "text/latex": [
       "0.887176123319121"
      ],
      "text/markdown": [
       "0.887176123319121"
      ],
      "text/plain": [
       "[1] 0.8871761"
      ]
     },
     "metadata": {},
     "output_type": "display_data"
    },
    {
     "data": {
      "text/html": [
       "0.989235198397797"
      ],
      "text/latex": [
       "0.989235198397797"
      ],
      "text/markdown": [
       "0.989235198397797"
      ],
      "text/plain": [
       "[1] 0.9892352"
      ]
     },
     "metadata": {},
     "output_type": "display_data"
    },
    {
     "data": {
      "text/html": [
       "0.18307426597582"
      ],
      "text/latex": [
       "0.18307426597582"
      ],
      "text/markdown": [
       "0.18307426597582"
      ],
      "text/plain": [
       "[1] 0.1830743"
      ]
     },
     "metadata": {},
     "output_type": "display_data"
    },
    {
     "data": {
      "text/html": [
       "0.893095265001695"
      ],
      "text/latex": [
       "0.893095265001695"
      ],
      "text/markdown": [
       "0.893095265001695"
      ],
      "text/plain": [
       "[1] 0.8930953"
      ]
     },
     "metadata": {},
     "output_type": "display_data"
    },
    {
     "data": {
      "text/html": [
       "0.711409395973154"
      ],
      "text/latex": [
       "0.711409395973154"
      ],
      "text/markdown": [
       "0.711409395973154"
      ],
      "text/plain": [
       "[1] 0.7114094"
      ]
     },
     "metadata": {},
     "output_type": "display_data"
    }
   ],
   "source": [
    "tree.perform\n",
    "tree.Accuracy\n",
    "tree.Recall.P\n",
    "tree.Recall.N\n",
    "tree.Precision.P\n",
    "tree.Precision.N"
   ]
  },
  {
   "cell_type": "markdown",
   "metadata": {},
   "source": [
    "#### Comment on Decision Tree method\n",
    "The decision trees are unstable as they produce dramatically different trees from slightly different train sets resulting in a high variance. Despite all the causes, the decision tree has the accuracy of 88.72%. However, it does have the same level of predictive accuracy as other methods."
   ]
  },
  {
   "cell_type": "markdown",
   "metadata": {},
   "source": [
    "## Random Forest\n",
    "Random Forest is a model which consists of a large number of individual decision trees that serve as ensembles. The algorithm of random forest is that at each tree split, a random sample of m attributes is drawn, and only those m attributes are taken into consideration for splitting. In other words, each individual tree in the random forest spits out a class prediction and the class with the most votes becomes our model’s prediction."
   ]
  },
  {
   "cell_type": "markdown",
   "metadata": {},
   "source": [
    "Library needed for Random Forest testing."
   ]
  },
  {
   "cell_type": "code",
   "execution_count": 74,
   "metadata": {},
   "outputs": [
    {
     "name": "stderr",
     "output_type": "stream",
     "text": [
      "randomForest 4.6-14\n",
      "\n",
      "Type rfNews() to see new features/changes/bug fixes.\n",
      "\n",
      "\n",
      "Attaching package: 'randomForest'\n",
      "\n",
      "\n",
      "The following object is masked from 'package:ggplot2':\n",
      "\n",
      "    margin\n",
      "\n",
      "\n",
      "The following object is masked from 'package:dplyr':\n",
      "\n",
      "    combine\n",
      "\n",
      "\n"
     ]
    }
   ],
   "source": [
    "library(randomForest)"
   ]
  },
  {
   "cell_type": "markdown",
   "metadata": {},
   "source": [
    "### Data Preparation for Random Forest"
   ]
  },
  {
   "cell_type": "markdown",
   "metadata": {},
   "source": [
    "Duplicate train and test set for Linear Discriminant Analysis."
   ]
  },
  {
   "cell_type": "code",
   "execution_count": 75,
   "metadata": {},
   "outputs": [],
   "source": [
    "RF.train <- Bank.train\n",
    "RF.test <- Bank.test"
   ]
  },
  {
   "cell_type": "code",
   "execution_count": 76,
   "metadata": {},
   "outputs": [
    {
     "data": {
      "text/plain": [
       "\n",
       "Call:\n",
       " randomForest(formula = y ~ . - id, data = RF.train, mtry = 2,      importance = TRUE) \n",
       "               Type of random forest: classification\n",
       "                     Number of trees: 500\n",
       "No. of variables tried at each split: 2\n",
       "\n",
       "        OOB estimate of  error rate: 11.08%\n",
       "Confusion matrix:\n",
       "      0   1 class.error\n",
       "0 18285 355  0.01904506\n",
       "1  2009 692  0.74379859"
      ]
     },
     "metadata": {},
     "output_type": "display_data"
    }
   ],
   "source": [
    "rf=randomForest(y~.-id,data=RF.train,mtry=2,importance=TRUE)\n",
    "rf"
   ]
  },
  {
   "cell_type": "markdown",
   "metadata": {},
   "source": [
    "Make prediction and construct confusion matrix."
   ]
  },
  {
   "cell_type": "code",
   "execution_count": 77,
   "metadata": {},
   "outputs": [
    {
     "data": {
      "text/html": [
       "<table>\n",
       "<caption>A matrix: 15 × 4 of type dbl</caption>\n",
       "<thead>\n",
       "\t<tr><th></th><th scope=col>0</th><th scope=col>1</th><th scope=col>MeanDecreaseAccuracy</th><th scope=col>MeanDecreaseGini</th></tr>\n",
       "</thead>\n",
       "<tbody>\n",
       "\t<tr><th scope=row>age</th><td>14.780231</td><td> -3.122746</td><td>14.147448</td><td> 63.42801</td></tr>\n",
       "\t<tr><th scope=row>job</th><td>29.382771</td><td> -4.942338</td><td>25.060301</td><td>188.92572</td></tr>\n",
       "\t<tr><th scope=row>marital</th><td>10.707732</td><td> -5.446481</td><td> 6.443155</td><td> 61.00485</td></tr>\n",
       "\t<tr><th scope=row>education</th><td>22.882725</td><td> -2.632681</td><td>20.526697</td><td>121.02528</td></tr>\n",
       "\t<tr><th scope=row>contact</th><td> 9.352643</td><td> 15.412599</td><td>10.768589</td><td> 51.65801</td></tr>\n",
       "\t<tr><th scope=row>month</th><td>29.177959</td><td>-18.545432</td><td>29.108291</td><td>180.50085</td></tr>\n",
       "\t<tr><th scope=row>day_of_week</th><td>18.879597</td><td>  2.441204</td><td>18.712808</td><td>129.03103</td></tr>\n",
       "\t<tr><th scope=row>campaign</th><td> 6.793904</td><td>  9.308917</td><td>10.915695</td><td>133.19685</td></tr>\n",
       "\t<tr><th scope=row>pdays</th><td> 6.886145</td><td> 24.706005</td><td>19.591805</td><td>122.46594</td></tr>\n",
       "\t<tr><th scope=row>previous</th><td> 7.643968</td><td>  8.674521</td><td>10.017966</td><td> 56.29260</td></tr>\n",
       "\t<tr><th scope=row>poutcome</th><td>16.830470</td><td> 15.694425</td><td>23.990654</td><td>158.41278</td></tr>\n",
       "\t<tr><th scope=row>emp.var.rate</th><td>18.431277</td><td>  3.108842</td><td>19.320044</td><td>134.77960</td></tr>\n",
       "\t<tr><th scope=row>cons.price.idx</th><td>21.733888</td><td>-18.885351</td><td>21.185121</td><td>129.05011</td></tr>\n",
       "\t<tr><th scope=row>euribor3m</th><td>26.761472</td><td>  5.014469</td><td>29.067866</td><td>382.33892</td></tr>\n",
       "\t<tr><th scope=row>nr.employed</th><td>19.058453</td><td> 15.046467</td><td>22.383746</td><td>221.72076</td></tr>\n",
       "</tbody>\n",
       "</table>\n"
      ],
      "text/latex": [
       "A matrix: 15 × 4 of type dbl\n",
       "\\begin{tabular}{r|llll}\n",
       "  & 0 & 1 & MeanDecreaseAccuracy & MeanDecreaseGini\\\\\n",
       "\\hline\n",
       "\tage & 14.780231 &  -3.122746 & 14.147448 &  63.42801\\\\\n",
       "\tjob & 29.382771 &  -4.942338 & 25.060301 & 188.92572\\\\\n",
       "\tmarital & 10.707732 &  -5.446481 &  6.443155 &  61.00485\\\\\n",
       "\teducation & 22.882725 &  -2.632681 & 20.526697 & 121.02528\\\\\n",
       "\tcontact &  9.352643 &  15.412599 & 10.768589 &  51.65801\\\\\n",
       "\tmonth & 29.177959 & -18.545432 & 29.108291 & 180.50085\\\\\n",
       "\tday\\_of\\_week & 18.879597 &   2.441204 & 18.712808 & 129.03103\\\\\n",
       "\tcampaign &  6.793904 &   9.308917 & 10.915695 & 133.19685\\\\\n",
       "\tpdays &  6.886145 &  24.706005 & 19.591805 & 122.46594\\\\\n",
       "\tprevious &  7.643968 &   8.674521 & 10.017966 &  56.29260\\\\\n",
       "\tpoutcome & 16.830470 &  15.694425 & 23.990654 & 158.41278\\\\\n",
       "\temp.var.rate & 18.431277 &   3.108842 & 19.320044 & 134.77960\\\\\n",
       "\tcons.price.idx & 21.733888 & -18.885351 & 21.185121 & 129.05011\\\\\n",
       "\teuribor3m & 26.761472 &   5.014469 & 29.067866 & 382.33892\\\\\n",
       "\tnr.employed & 19.058453 &  15.046467 & 22.383746 & 221.72076\\\\\n",
       "\\end{tabular}\n"
      ],
      "text/markdown": [
       "\n",
       "A matrix: 15 × 4 of type dbl\n",
       "\n",
       "| <!--/--> | 0 | 1 | MeanDecreaseAccuracy | MeanDecreaseGini |\n",
       "|---|---|---|---|---|\n",
       "| age | 14.780231 |  -3.122746 | 14.147448 |  63.42801 |\n",
       "| job | 29.382771 |  -4.942338 | 25.060301 | 188.92572 |\n",
       "| marital | 10.707732 |  -5.446481 |  6.443155 |  61.00485 |\n",
       "| education | 22.882725 |  -2.632681 | 20.526697 | 121.02528 |\n",
       "| contact |  9.352643 |  15.412599 | 10.768589 |  51.65801 |\n",
       "| month | 29.177959 | -18.545432 | 29.108291 | 180.50085 |\n",
       "| day_of_week | 18.879597 |   2.441204 | 18.712808 | 129.03103 |\n",
       "| campaign |  6.793904 |   9.308917 | 10.915695 | 133.19685 |\n",
       "| pdays |  6.886145 |  24.706005 | 19.591805 | 122.46594 |\n",
       "| previous |  7.643968 |   8.674521 | 10.017966 |  56.29260 |\n",
       "| poutcome | 16.830470 |  15.694425 | 23.990654 | 158.41278 |\n",
       "| emp.var.rate | 18.431277 |   3.108842 | 19.320044 | 134.77960 |\n",
       "| cons.price.idx | 21.733888 | -18.885351 | 21.185121 | 129.05011 |\n",
       "| euribor3m | 26.761472 |   5.014469 | 29.067866 | 382.33892 |\n",
       "| nr.employed | 19.058453 |  15.046467 | 22.383746 | 221.72076 |\n",
       "\n"
      ],
      "text/plain": [
       "               0         1          MeanDecreaseAccuracy MeanDecreaseGini\n",
       "age            14.780231  -3.122746 14.147448             63.42801       \n",
       "job            29.382771  -4.942338 25.060301            188.92572       \n",
       "marital        10.707732  -5.446481  6.443155             61.00485       \n",
       "education      22.882725  -2.632681 20.526697            121.02528       \n",
       "contact         9.352643  15.412599 10.768589             51.65801       \n",
       "month          29.177959 -18.545432 29.108291            180.50085       \n",
       "day_of_week    18.879597   2.441204 18.712808            129.03103       \n",
       "campaign        6.793904   9.308917 10.915695            133.19685       \n",
       "pdays           6.886145  24.706005 19.591805            122.46594       \n",
       "previous        7.643968   8.674521 10.017966             56.29260       \n",
       "poutcome       16.830470  15.694425 23.990654            158.41278       \n",
       "emp.var.rate   18.431277   3.108842 19.320044            134.77960       \n",
       "cons.price.idx 21.733888 -18.885351 21.185121            129.05011       \n",
       "euribor3m      26.761472   5.014469 29.067866            382.33892       \n",
       "nr.employed    19.058453  15.046467 22.383746            221.72076       "
      ]
     },
     "metadata": {},
     "output_type": "display_data"
    },
    {
     "data": {
      "text/html": [
       "<style>\n",
       ".dl-inline {width: auto; margin:0; padding: 0}\n",
       ".dl-inline>dt, .dl-inline>dd {float: none; width: auto; display: inline-block}\n",
       ".dl-inline>dt::after {content: \":\\0020\"; padding-right: .5ex}\n",
       ".dl-inline>dt:not(:first-of-type) {padding-left: .5ex}\n",
       "</style><dl class=dl-inline><dt>1</dt><dd>0</dd><dt>2</dt><dd>0</dd><dt>3</dt><dd>0</dd><dt>4</dt><dd>0</dd><dt>5</dt><dd>0</dd><dt>6</dt><dd>0</dd><dt>7</dt><dd>0</dd><dt>8</dt><dd>0</dd><dt>9</dt><dd>0</dd><dt>10</dt><dd>0</dd><dt>11</dt><dd>0</dd><dt>12</dt><dd>0</dd><dt>13</dt><dd>0</dd><dt>14</dt><dd>0</dd><dt>15</dt><dd>0</dd><dt>16</dt><dd>0</dd><dt>17</dt><dd>0</dd><dt>18</dt><dd>0</dd><dt>19</dt><dd>0</dd><dt>20</dt><dd>0</dd><dt>21</dt><dd>0</dd><dt>22</dt><dd>0</dd><dt>23</dt><dd>0</dd><dt>24</dt><dd>0</dd><dt>25</dt><dd>0</dd><dt>26</dt><dd>0</dd><dt>27</dt><dd>0</dd><dt>28</dt><dd>0</dd><dt>29</dt><dd>0</dd><dt>30</dt><dd>0</dd><dt>31</dt><dd>0</dd><dt>32</dt><dd>0</dd><dt>33</dt><dd>0</dd><dt>34</dt><dd>0</dd><dt>35</dt><dd>0</dd><dt>36</dt><dd>0</dd><dt>37</dt><dd>0</dd><dt>38</dt><dd>0</dd><dt>39</dt><dd>0</dd><dt>40</dt><dd>0</dd><dt>41</dt><dd>0</dd><dt>42</dt><dd>0</dd><dt>43</dt><dd>0</dd><dt>44</dt><dd>0</dd><dt>45</dt><dd>0</dd><dt>46</dt><dd>0</dd><dt>47</dt><dd>0</dd><dt>48</dt><dd>0</dd><dt>49</dt><dd>0</dd><dt>50</dt><dd>0</dd><dt>51</dt><dd>0</dd><dt>52</dt><dd>0</dd><dt>53</dt><dd>0</dd><dt>54</dt><dd>0</dd><dt>55</dt><dd>0</dd><dt>56</dt><dd>0</dd><dt>57</dt><dd>0</dd><dt>58</dt><dd>0</dd><dt>59</dt><dd>0</dd><dt>60</dt><dd>0</dd><dt>61</dt><dd>0</dd><dt>62</dt><dd>0</dd><dt>63</dt><dd>0</dd><dt>64</dt><dd>0</dd><dt>65</dt><dd>0</dd><dt>66</dt><dd>0</dd><dt>67</dt><dd>0</dd><dt>68</dt><dd>0</dd><dt>69</dt><dd>0</dd><dt>70</dt><dd>0</dd><dt>71</dt><dd>0</dd><dt>72</dt><dd>0</dd><dt>73</dt><dd>0</dd><dt>74</dt><dd>0</dd><dt>75</dt><dd>0</dd><dt>76</dt><dd>0</dd><dt>77</dt><dd>0</dd><dt>78</dt><dd>0</dd><dt>79</dt><dd>0</dd><dt>80</dt><dd>0</dd><dt>81</dt><dd>0</dd><dt>82</dt><dd>0</dd><dt>83</dt><dd>0</dd><dt>84</dt><dd>0</dd><dt>85</dt><dd>0</dd><dt>86</dt><dd>0</dd><dt>87</dt><dd>0</dd><dt>88</dt><dd>0</dd><dt>89</dt><dd>0</dd><dt>90</dt><dd>0</dd><dt>91</dt><dd>0</dd><dt>92</dt><dd>0</dd><dt>93</dt><dd>0</dd><dt>94</dt><dd>0</dd><dt>95</dt><dd>0</dd><dt>96</dt><dd>0</dd><dt>97</dt><dd>0</dd><dt>98</dt><dd>0</dd><dt>99</dt><dd>0</dd><dt>100</dt><dd>0</dd><dt>101</dt><dd>0</dd><dt>102</dt><dd>0</dd><dt>103</dt><dd>0</dd><dt>104</dt><dd>0</dd><dt>105</dt><dd>0</dd><dt>106</dt><dd>0</dd><dt>107</dt><dd>0</dd><dt>108</dt><dd>0</dd><dt>109</dt><dd>0</dd><dt>110</dt><dd>0</dd><dt>111</dt><dd>0</dd><dt>112</dt><dd>0</dd><dt>113</dt><dd>0</dd><dt>114</dt><dd>0</dd><dt>115</dt><dd>0</dd><dt>116</dt><dd>0</dd><dt>117</dt><dd>0</dd><dt>118</dt><dd>0</dd><dt>119</dt><dd>0</dd><dt>120</dt><dd>0</dd><dt>121</dt><dd>0</dd><dt>122</dt><dd>0</dd><dt>123</dt><dd>0</dd><dt>124</dt><dd>0</dd><dt>125</dt><dd>0</dd><dt>126</dt><dd>0</dd><dt>127</dt><dd>0</dd><dt>128</dt><dd>0</dd><dt>129</dt><dd>0</dd><dt>130</dt><dd>0</dd><dt>131</dt><dd>0</dd><dt>132</dt><dd>0</dd><dt>133</dt><dd>0</dd><dt>134</dt><dd>0</dd><dt>135</dt><dd>0</dd><dt>136</dt><dd>0</dd><dt>137</dt><dd>0</dd><dt>138</dt><dd>0</dd><dt>139</dt><dd>0</dd><dt>140</dt><dd>0</dd><dt>141</dt><dd>0</dd><dt>142</dt><dd>0</dd><dt>143</dt><dd>0</dd><dt>144</dt><dd>0</dd><dt>145</dt><dd>0</dd><dt>146</dt><dd>0</dd><dt>147</dt><dd>0</dd><dt>148</dt><dd>0</dd><dt>149</dt><dd>0</dd><dt>150</dt><dd>0</dd><dt>151</dt><dd>0</dd><dt>152</dt><dd>0</dd><dt>153</dt><dd>0</dd><dt>154</dt><dd>0</dd><dt>155</dt><dd>0</dd><dt>156</dt><dd>0</dd><dt>157</dt><dd>0</dd><dt>158</dt><dd>0</dd><dt>159</dt><dd>0</dd><dt>160</dt><dd>0</dd><dt>161</dt><dd>0</dd><dt>162</dt><dd>0</dd><dt>163</dt><dd>0</dd><dt>164</dt><dd>0</dd><dt>165</dt><dd>0</dd><dt>166</dt><dd>0</dd><dt>167</dt><dd>0</dd><dt>168</dt><dd>0</dd><dt>169</dt><dd>0</dd><dt>170</dt><dd>0</dd><dt>171</dt><dd>0</dd><dt>172</dt><dd>0</dd><dt>173</dt><dd>0</dd><dt>174</dt><dd>0</dd><dt>175</dt><dd>0</dd><dt>176</dt><dd>0</dd><dt>177</dt><dd>0</dd><dt>178</dt><dd>0</dd><dt>179</dt><dd>0</dd><dt>180</dt><dd>0</dd><dt>181</dt><dd>0</dd><dt>182</dt><dd>0</dd><dt>183</dt><dd>0</dd><dt>184</dt><dd>0</dd><dt>185</dt><dd>0</dd><dt>186</dt><dd>0</dd><dt>187</dt><dd>0</dd><dt>188</dt><dd>0</dd><dt>189</dt><dd>0</dd><dt>190</dt><dd>0</dd><dt>191</dt><dd>0</dd><dt>192</dt><dd>0</dd><dt>193</dt><dd>0</dd><dt>194</dt><dd>0</dd><dt>195</dt><dd>0</dd><dt>196</dt><dd>0</dd><dt>197</dt><dd>0</dd><dt>198</dt><dd>0</dd><dt>199</dt><dd>0</dd><dt>200</dt><dd>0</dd><dt>201</dt><dd>...</dd><dt>202</dt><dd>1</dd><dt>203</dt><dd>1</dd><dt>204</dt><dd>0</dd><dt>205</dt><dd>0</dd><dt>206</dt><dd>0</dd><dt>207</dt><dd>1</dd><dt>208</dt><dd>1</dd><dt>209</dt><dd>1</dd><dt>210</dt><dd>1</dd><dt>211</dt><dd>0</dd><dt>212</dt><dd>1</dd><dt>213</dt><dd>0</dd><dt>214</dt><dd>1</dd><dt>215</dt><dd>1</dd><dt>216</dt><dd>0</dd><dt>217</dt><dd>1</dd><dt>218</dt><dd>1</dd><dt>219</dt><dd>1</dd><dt>220</dt><dd>1</dd><dt>221</dt><dd>0</dd><dt>222</dt><dd>1</dd><dt>223</dt><dd>0</dd><dt>224</dt><dd>1</dd><dt>225</dt><dd>1</dd><dt>226</dt><dd>0</dd><dt>227</dt><dd>1</dd><dt>228</dt><dd>0</dd><dt>229</dt><dd>0</dd><dt>230</dt><dd>0</dd><dt>231</dt><dd>0</dd><dt>232</dt><dd>0</dd><dt>233</dt><dd>0</dd><dt>234</dt><dd>0</dd><dt>235</dt><dd>1</dd><dt>236</dt><dd>0</dd><dt>237</dt><dd>1</dd><dt>238</dt><dd>0</dd><dt>239</dt><dd>1</dd><dt>240</dt><dd>1</dd><dt>241</dt><dd>1</dd><dt>242</dt><dd>1</dd><dt>243</dt><dd>1</dd><dt>244</dt><dd>0</dd><dt>245</dt><dd>1</dd><dt>246</dt><dd>0</dd><dt>247</dt><dd>0</dd><dt>248</dt><dd>0</dd><dt>249</dt><dd>1</dd><dt>250</dt><dd>0</dd><dt>251</dt><dd>1</dd><dt>252</dt><dd>0</dd><dt>253</dt><dd>0</dd><dt>254</dt><dd>1</dd><dt>255</dt><dd>0</dd><dt>256</dt><dd>0</dd><dt>257</dt><dd>0</dd><dt>258</dt><dd>0</dd><dt>259</dt><dd>0</dd><dt>260</dt><dd>0</dd><dt>261</dt><dd>1</dd><dt>262</dt><dd>0</dd><dt>263</dt><dd>1</dd><dt>264</dt><dd>0</dd><dt>265</dt><dd>0</dd><dt>266</dt><dd>1</dd><dt>267</dt><dd>1</dd><dt>268</dt><dd>1</dd><dt>269</dt><dd>0</dd><dt>270</dt><dd>1</dd><dt>271</dt><dd>0</dd><dt>272</dt><dd>0</dd><dt>273</dt><dd>1</dd><dt>274</dt><dd>1</dd><dt>275</dt><dd>0</dd><dt>276</dt><dd>1</dd><dt>277</dt><dd>1</dd><dt>278</dt><dd>0</dd><dt>279</dt><dd>0</dd><dt>280</dt><dd>1</dd><dt>281</dt><dd>1</dd><dt>282</dt><dd>0</dd><dt>283</dt><dd>1</dd><dt>284</dt><dd>0</dd><dt>285</dt><dd>1</dd><dt>286</dt><dd>0</dd><dt>287</dt><dd>1</dd><dt>288</dt><dd>1</dd><dt>289</dt><dd>0</dd><dt>290</dt><dd>1</dd><dt>291</dt><dd>0</dd><dt>292</dt><dd>0</dd><dt>293</dt><dd>0</dd><dt>294</dt><dd>0</dd><dt>295</dt><dd>0</dd><dt>296</dt><dd>0</dd><dt>297</dt><dd>0</dd><dt>298</dt><dd>1</dd><dt>299</dt><dd>1</dd><dt>300</dt><dd>0</dd><dt>301</dt><dd>1</dd><dt>302</dt><dd>1</dd><dt>303</dt><dd>0</dd><dt>304</dt><dd>1</dd><dt>305</dt><dd>0</dd><dt>306</dt><dd>0</dd><dt>307</dt><dd>0</dd><dt>308</dt><dd>1</dd><dt>309</dt><dd>0</dd><dt>310</dt><dd>0</dd><dt>311</dt><dd>0</dd><dt>312</dt><dd>0</dd><dt>313</dt><dd>0</dd><dt>314</dt><dd>0</dd><dt>315</dt><dd>0</dd><dt>316</dt><dd>1</dd><dt>317</dt><dd>0</dd><dt>318</dt><dd>0</dd><dt>319</dt><dd>0</dd><dt>320</dt><dd>1</dd><dt>321</dt><dd>1</dd><dt>322</dt><dd>0</dd><dt>323</dt><dd>1</dd><dt>324</dt><dd>1</dd><dt>325</dt><dd>0</dd><dt>326</dt><dd>0</dd><dt>327</dt><dd>1</dd><dt>328</dt><dd>0</dd><dt>329</dt><dd>0</dd><dt>330</dt><dd>1</dd><dt>331</dt><dd>0</dd><dt>332</dt><dd>0</dd><dt>333</dt><dd>1</dd><dt>334</dt><dd>0</dd><dt>335</dt><dd>1</dd><dt>336</dt><dd>0</dd><dt>337</dt><dd>0</dd><dt>338</dt><dd>0</dd><dt>339</dt><dd>0</dd><dt>340</dt><dd>0</dd><dt>341</dt><dd>1</dd><dt>342</dt><dd>0</dd><dt>343</dt><dd>0</dd><dt>344</dt><dd>0</dd><dt>345</dt><dd>1</dd><dt>346</dt><dd>1</dd><dt>347</dt><dd>1</dd><dt>348</dt><dd>0</dd><dt>349</dt><dd>1</dd><dt>350</dt><dd>0</dd><dt>351</dt><dd>0</dd><dt>352</dt><dd>0</dd><dt>353</dt><dd>0</dd><dt>354</dt><dd>0</dd><dt>355</dt><dd>1</dd><dt>356</dt><dd>0</dd><dt>357</dt><dd>0</dd><dt>358</dt><dd>1</dd><dt>359</dt><dd>1</dd><dt>360</dt><dd>1</dd><dt>361</dt><dd>1</dd><dt>362</dt><dd>1</dd><dt>363</dt><dd>1</dd><dt>364</dt><dd>1</dd><dt>365</dt><dd>1</dd><dt>366</dt><dd>1</dd><dt>367</dt><dd>0</dd><dt>368</dt><dd>0</dd><dt>369</dt><dd>1</dd><dt>370</dt><dd>0</dd><dt>371</dt><dd>0</dd><dt>372</dt><dd>1</dd><dt>373</dt><dd>0</dd><dt>374</dt><dd>0</dd><dt>375</dt><dd>1</dd><dt>376</dt><dd>0</dd><dt>377</dt><dd>1</dd><dt>378</dt><dd>1</dd><dt>379</dt><dd>0</dd><dt>380</dt><dd>0</dd><dt>381</dt><dd>1</dd><dt>382</dt><dd>1</dd><dt>383</dt><dd>1</dd><dt>384</dt><dd>1</dd><dt>385</dt><dd>0</dd><dt>386</dt><dd>1</dd><dt>387</dt><dd>1</dd><dt>388</dt><dd>1</dd><dt>389</dt><dd>0</dd><dt>390</dt><dd>0</dd><dt>391</dt><dd>0</dd><dt>392</dt><dd>0</dd><dt>393</dt><dd>0</dd><dt>394</dt><dd>0</dd><dt>395</dt><dd>1</dd><dt>396</dt><dd>0</dd><dt>397</dt><dd>0</dd><dt>398</dt><dd>0</dd><dt>399</dt><dd>1</dd><dt>400</dt><dd>0</dd><dt>401</dt><dd>1</dd></dl>\n",
       "\n",
       "<details>\n",
       "\t<summary style=display:list-item;cursor:pointer>\n",
       "\t\t<strong>Levels</strong>:\n",
       "\t</summary>\n",
       "\t<style>\n",
       "\t.list-inline {list-style: none; margin:0; padding: 0}\n",
       "\t.list-inline>li {display: inline-block}\n",
       "\t.list-inline>li:not(:last-child)::after {content: \"\\00b7\"; padding: 0 .5ex}\n",
       "\t</style>\n",
       "\t<ol class=list-inline><li>'0'</li><li>'1'</li></ol>\n",
       "</details>"
      ],
      "text/latex": [
       "\\begin{description*}\n",
       "\\item[1] 0\n",
       "\\item[2] 0\n",
       "\\item[3] 0\n",
       "\\item[4] 0\n",
       "\\item[5] 0\n",
       "\\item[6] 0\n",
       "\\item[7] 0\n",
       "\\item[8] 0\n",
       "\\item[9] 0\n",
       "\\item[10] 0\n",
       "\\item[11] 0\n",
       "\\item[12] 0\n",
       "\\item[13] 0\n",
       "\\item[14] 0\n",
       "\\item[15] 0\n",
       "\\item[16] 0\n",
       "\\item[17] 0\n",
       "\\item[18] 0\n",
       "\\item[19] 0\n",
       "\\item[20] 0\n",
       "\\item[21] 0\n",
       "\\item[22] 0\n",
       "\\item[23] 0\n",
       "\\item[24] 0\n",
       "\\item[25] 0\n",
       "\\item[26] 0\n",
       "\\item[27] 0\n",
       "\\item[28] 0\n",
       "\\item[29] 0\n",
       "\\item[30] 0\n",
       "\\item[31] 0\n",
       "\\item[32] 0\n",
       "\\item[33] 0\n",
       "\\item[34] 0\n",
       "\\item[35] 0\n",
       "\\item[36] 0\n",
       "\\item[37] 0\n",
       "\\item[38] 0\n",
       "\\item[39] 0\n",
       "\\item[40] 0\n",
       "\\item[41] 0\n",
       "\\item[42] 0\n",
       "\\item[43] 0\n",
       "\\item[44] 0\n",
       "\\item[45] 0\n",
       "\\item[46] 0\n",
       "\\item[47] 0\n",
       "\\item[48] 0\n",
       "\\item[49] 0\n",
       "\\item[50] 0\n",
       "\\item[51] 0\n",
       "\\item[52] 0\n",
       "\\item[53] 0\n",
       "\\item[54] 0\n",
       "\\item[55] 0\n",
       "\\item[56] 0\n",
       "\\item[57] 0\n",
       "\\item[58] 0\n",
       "\\item[59] 0\n",
       "\\item[60] 0\n",
       "\\item[61] 0\n",
       "\\item[62] 0\n",
       "\\item[63] 0\n",
       "\\item[64] 0\n",
       "\\item[65] 0\n",
       "\\item[66] 0\n",
       "\\item[67] 0\n",
       "\\item[68] 0\n",
       "\\item[69] 0\n",
       "\\item[70] 0\n",
       "\\item[71] 0\n",
       "\\item[72] 0\n",
       "\\item[73] 0\n",
       "\\item[74] 0\n",
       "\\item[75] 0\n",
       "\\item[76] 0\n",
       "\\item[77] 0\n",
       "\\item[78] 0\n",
       "\\item[79] 0\n",
       "\\item[80] 0\n",
       "\\item[81] 0\n",
       "\\item[82] 0\n",
       "\\item[83] 0\n",
       "\\item[84] 0\n",
       "\\item[85] 0\n",
       "\\item[86] 0\n",
       "\\item[87] 0\n",
       "\\item[88] 0\n",
       "\\item[89] 0\n",
       "\\item[90] 0\n",
       "\\item[91] 0\n",
       "\\item[92] 0\n",
       "\\item[93] 0\n",
       "\\item[94] 0\n",
       "\\item[95] 0\n",
       "\\item[96] 0\n",
       "\\item[97] 0\n",
       "\\item[98] 0\n",
       "\\item[99] 0\n",
       "\\item[100] 0\n",
       "\\item[101] 0\n",
       "\\item[102] 0\n",
       "\\item[103] 0\n",
       "\\item[104] 0\n",
       "\\item[105] 0\n",
       "\\item[106] 0\n",
       "\\item[107] 0\n",
       "\\item[108] 0\n",
       "\\item[109] 0\n",
       "\\item[110] 0\n",
       "\\item[111] 0\n",
       "\\item[112] 0\n",
       "\\item[113] 0\n",
       "\\item[114] 0\n",
       "\\item[115] 0\n",
       "\\item[116] 0\n",
       "\\item[117] 0\n",
       "\\item[118] 0\n",
       "\\item[119] 0\n",
       "\\item[120] 0\n",
       "\\item[121] 0\n",
       "\\item[122] 0\n",
       "\\item[123] 0\n",
       "\\item[124] 0\n",
       "\\item[125] 0\n",
       "\\item[126] 0\n",
       "\\item[127] 0\n",
       "\\item[128] 0\n",
       "\\item[129] 0\n",
       "\\item[130] 0\n",
       "\\item[131] 0\n",
       "\\item[132] 0\n",
       "\\item[133] 0\n",
       "\\item[134] 0\n",
       "\\item[135] 0\n",
       "\\item[136] 0\n",
       "\\item[137] 0\n",
       "\\item[138] 0\n",
       "\\item[139] 0\n",
       "\\item[140] 0\n",
       "\\item[141] 0\n",
       "\\item[142] 0\n",
       "\\item[143] 0\n",
       "\\item[144] 0\n",
       "\\item[145] 0\n",
       "\\item[146] 0\n",
       "\\item[147] 0\n",
       "\\item[148] 0\n",
       "\\item[149] 0\n",
       "\\item[150] 0\n",
       "\\item[151] 0\n",
       "\\item[152] 0\n",
       "\\item[153] 0\n",
       "\\item[154] 0\n",
       "\\item[155] 0\n",
       "\\item[156] 0\n",
       "\\item[157] 0\n",
       "\\item[158] 0\n",
       "\\item[159] 0\n",
       "\\item[160] 0\n",
       "\\item[161] 0\n",
       "\\item[162] 0\n",
       "\\item[163] 0\n",
       "\\item[164] 0\n",
       "\\item[165] 0\n",
       "\\item[166] 0\n",
       "\\item[167] 0\n",
       "\\item[168] 0\n",
       "\\item[169] 0\n",
       "\\item[170] 0\n",
       "\\item[171] 0\n",
       "\\item[172] 0\n",
       "\\item[173] 0\n",
       "\\item[174] 0\n",
       "\\item[175] 0\n",
       "\\item[176] 0\n",
       "\\item[177] 0\n",
       "\\item[178] 0\n",
       "\\item[179] 0\n",
       "\\item[180] 0\n",
       "\\item[181] 0\n",
       "\\item[182] 0\n",
       "\\item[183] 0\n",
       "\\item[184] 0\n",
       "\\item[185] 0\n",
       "\\item[186] 0\n",
       "\\item[187] 0\n",
       "\\item[188] 0\n",
       "\\item[189] 0\n",
       "\\item[190] 0\n",
       "\\item[191] 0\n",
       "\\item[192] 0\n",
       "\\item[193] 0\n",
       "\\item[194] 0\n",
       "\\item[195] 0\n",
       "\\item[196] 0\n",
       "\\item[197] 0\n",
       "\\item[198] 0\n",
       "\\item[199] 0\n",
       "\\item[200] 0\n",
       "\\item[201] ...\n",
       "\\item[202] 1\n",
       "\\item[203] 1\n",
       "\\item[204] 0\n",
       "\\item[205] 0\n",
       "\\item[206] 0\n",
       "\\item[207] 1\n",
       "\\item[208] 1\n",
       "\\item[209] 1\n",
       "\\item[210] 1\n",
       "\\item[211] 0\n",
       "\\item[212] 1\n",
       "\\item[213] 0\n",
       "\\item[214] 1\n",
       "\\item[215] 1\n",
       "\\item[216] 0\n",
       "\\item[217] 1\n",
       "\\item[218] 1\n",
       "\\item[219] 1\n",
       "\\item[220] 1\n",
       "\\item[221] 0\n",
       "\\item[222] 1\n",
       "\\item[223] 0\n",
       "\\item[224] 1\n",
       "\\item[225] 1\n",
       "\\item[226] 0\n",
       "\\item[227] 1\n",
       "\\item[228] 0\n",
       "\\item[229] 0\n",
       "\\item[230] 0\n",
       "\\item[231] 0\n",
       "\\item[232] 0\n",
       "\\item[233] 0\n",
       "\\item[234] 0\n",
       "\\item[235] 1\n",
       "\\item[236] 0\n",
       "\\item[237] 1\n",
       "\\item[238] 0\n",
       "\\item[239] 1\n",
       "\\item[240] 1\n",
       "\\item[241] 1\n",
       "\\item[242] 1\n",
       "\\item[243] 1\n",
       "\\item[244] 0\n",
       "\\item[245] 1\n",
       "\\item[246] 0\n",
       "\\item[247] 0\n",
       "\\item[248] 0\n",
       "\\item[249] 1\n",
       "\\item[250] 0\n",
       "\\item[251] 1\n",
       "\\item[252] 0\n",
       "\\item[253] 0\n",
       "\\item[254] 1\n",
       "\\item[255] 0\n",
       "\\item[256] 0\n",
       "\\item[257] 0\n",
       "\\item[258] 0\n",
       "\\item[259] 0\n",
       "\\item[260] 0\n",
       "\\item[261] 1\n",
       "\\item[262] 0\n",
       "\\item[263] 1\n",
       "\\item[264] 0\n",
       "\\item[265] 0\n",
       "\\item[266] 1\n",
       "\\item[267] 1\n",
       "\\item[268] 1\n",
       "\\item[269] 0\n",
       "\\item[270] 1\n",
       "\\item[271] 0\n",
       "\\item[272] 0\n",
       "\\item[273] 1\n",
       "\\item[274] 1\n",
       "\\item[275] 0\n",
       "\\item[276] 1\n",
       "\\item[277] 1\n",
       "\\item[278] 0\n",
       "\\item[279] 0\n",
       "\\item[280] 1\n",
       "\\item[281] 1\n",
       "\\item[282] 0\n",
       "\\item[283] 1\n",
       "\\item[284] 0\n",
       "\\item[285] 1\n",
       "\\item[286] 0\n",
       "\\item[287] 1\n",
       "\\item[288] 1\n",
       "\\item[289] 0\n",
       "\\item[290] 1\n",
       "\\item[291] 0\n",
       "\\item[292] 0\n",
       "\\item[293] 0\n",
       "\\item[294] 0\n",
       "\\item[295] 0\n",
       "\\item[296] 0\n",
       "\\item[297] 0\n",
       "\\item[298] 1\n",
       "\\item[299] 1\n",
       "\\item[300] 0\n",
       "\\item[301] 1\n",
       "\\item[302] 1\n",
       "\\item[303] 0\n",
       "\\item[304] 1\n",
       "\\item[305] 0\n",
       "\\item[306] 0\n",
       "\\item[307] 0\n",
       "\\item[308] 1\n",
       "\\item[309] 0\n",
       "\\item[310] 0\n",
       "\\item[311] 0\n",
       "\\item[312] 0\n",
       "\\item[313] 0\n",
       "\\item[314] 0\n",
       "\\item[315] 0\n",
       "\\item[316] 1\n",
       "\\item[317] 0\n",
       "\\item[318] 0\n",
       "\\item[319] 0\n",
       "\\item[320] 1\n",
       "\\item[321] 1\n",
       "\\item[322] 0\n",
       "\\item[323] 1\n",
       "\\item[324] 1\n",
       "\\item[325] 0\n",
       "\\item[326] 0\n",
       "\\item[327] 1\n",
       "\\item[328] 0\n",
       "\\item[329] 0\n",
       "\\item[330] 1\n",
       "\\item[331] 0\n",
       "\\item[332] 0\n",
       "\\item[333] 1\n",
       "\\item[334] 0\n",
       "\\item[335] 1\n",
       "\\item[336] 0\n",
       "\\item[337] 0\n",
       "\\item[338] 0\n",
       "\\item[339] 0\n",
       "\\item[340] 0\n",
       "\\item[341] 1\n",
       "\\item[342] 0\n",
       "\\item[343] 0\n",
       "\\item[344] 0\n",
       "\\item[345] 1\n",
       "\\item[346] 1\n",
       "\\item[347] 1\n",
       "\\item[348] 0\n",
       "\\item[349] 1\n",
       "\\item[350] 0\n",
       "\\item[351] 0\n",
       "\\item[352] 0\n",
       "\\item[353] 0\n",
       "\\item[354] 0\n",
       "\\item[355] 1\n",
       "\\item[356] 0\n",
       "\\item[357] 0\n",
       "\\item[358] 1\n",
       "\\item[359] 1\n",
       "\\item[360] 1\n",
       "\\item[361] 1\n",
       "\\item[362] 1\n",
       "\\item[363] 1\n",
       "\\item[364] 1\n",
       "\\item[365] 1\n",
       "\\item[366] 1\n",
       "\\item[367] 0\n",
       "\\item[368] 0\n",
       "\\item[369] 1\n",
       "\\item[370] 0\n",
       "\\item[371] 0\n",
       "\\item[372] 1\n",
       "\\item[373] 0\n",
       "\\item[374] 0\n",
       "\\item[375] 1\n",
       "\\item[376] 0\n",
       "\\item[377] 1\n",
       "\\item[378] 1\n",
       "\\item[379] 0\n",
       "\\item[380] 0\n",
       "\\item[381] 1\n",
       "\\item[382] 1\n",
       "\\item[383] 1\n",
       "\\item[384] 1\n",
       "\\item[385] 0\n",
       "\\item[386] 1\n",
       "\\item[387] 1\n",
       "\\item[388] 1\n",
       "\\item[389] 0\n",
       "\\item[390] 0\n",
       "\\item[391] 0\n",
       "\\item[392] 0\n",
       "\\item[393] 0\n",
       "\\item[394] 0\n",
       "\\item[395] 1\n",
       "\\item[396] 0\n",
       "\\item[397] 0\n",
       "\\item[398] 0\n",
       "\\item[399] 1\n",
       "\\item[400] 0\n",
       "\\item[401] 1\n",
       "\\end{description*}\n",
       "\n",
       "\\emph{Levels}: \\begin{enumerate*}\n",
       "\\item '0'\n",
       "\\item '1'\n",
       "\\end{enumerate*}\n"
      ],
      "text/markdown": [
       "1\n",
       ":   02\n",
       ":   03\n",
       ":   04\n",
       ":   05\n",
       ":   06\n",
       ":   07\n",
       ":   08\n",
       ":   09\n",
       ":   010\n",
       ":   011\n",
       ":   012\n",
       ":   013\n",
       ":   014\n",
       ":   015\n",
       ":   016\n",
       ":   017\n",
       ":   018\n",
       ":   019\n",
       ":   020\n",
       ":   021\n",
       ":   022\n",
       ":   023\n",
       ":   024\n",
       ":   025\n",
       ":   026\n",
       ":   027\n",
       ":   028\n",
       ":   029\n",
       ":   030\n",
       ":   031\n",
       ":   032\n",
       ":   033\n",
       ":   034\n",
       ":   035\n",
       ":   036\n",
       ":   037\n",
       ":   038\n",
       ":   039\n",
       ":   040\n",
       ":   041\n",
       ":   042\n",
       ":   043\n",
       ":   044\n",
       ":   045\n",
       ":   046\n",
       ":   047\n",
       ":   048\n",
       ":   049\n",
       ":   050\n",
       ":   051\n",
       ":   052\n",
       ":   053\n",
       ":   054\n",
       ":   055\n",
       ":   056\n",
       ":   057\n",
       ":   058\n",
       ":   059\n",
       ":   060\n",
       ":   061\n",
       ":   062\n",
       ":   063\n",
       ":   064\n",
       ":   065\n",
       ":   066\n",
       ":   067\n",
       ":   068\n",
       ":   069\n",
       ":   070\n",
       ":   071\n",
       ":   072\n",
       ":   073\n",
       ":   074\n",
       ":   075\n",
       ":   076\n",
       ":   077\n",
       ":   078\n",
       ":   079\n",
       ":   080\n",
       ":   081\n",
       ":   082\n",
       ":   083\n",
       ":   084\n",
       ":   085\n",
       ":   086\n",
       ":   087\n",
       ":   088\n",
       ":   089\n",
       ":   090\n",
       ":   091\n",
       ":   092\n",
       ":   093\n",
       ":   094\n",
       ":   095\n",
       ":   096\n",
       ":   097\n",
       ":   098\n",
       ":   099\n",
       ":   0100\n",
       ":   0101\n",
       ":   0102\n",
       ":   0103\n",
       ":   0104\n",
       ":   0105\n",
       ":   0106\n",
       ":   0107\n",
       ":   0108\n",
       ":   0109\n",
       ":   0110\n",
       ":   0111\n",
       ":   0112\n",
       ":   0113\n",
       ":   0114\n",
       ":   0115\n",
       ":   0116\n",
       ":   0117\n",
       ":   0118\n",
       ":   0119\n",
       ":   0120\n",
       ":   0121\n",
       ":   0122\n",
       ":   0123\n",
       ":   0124\n",
       ":   0125\n",
       ":   0126\n",
       ":   0127\n",
       ":   0128\n",
       ":   0129\n",
       ":   0130\n",
       ":   0131\n",
       ":   0132\n",
       ":   0133\n",
       ":   0134\n",
       ":   0135\n",
       ":   0136\n",
       ":   0137\n",
       ":   0138\n",
       ":   0139\n",
       ":   0140\n",
       ":   0141\n",
       ":   0142\n",
       ":   0143\n",
       ":   0144\n",
       ":   0145\n",
       ":   0146\n",
       ":   0147\n",
       ":   0148\n",
       ":   0149\n",
       ":   0150\n",
       ":   0151\n",
       ":   0152\n",
       ":   0153\n",
       ":   0154\n",
       ":   0155\n",
       ":   0156\n",
       ":   0157\n",
       ":   0158\n",
       ":   0159\n",
       ":   0160\n",
       ":   0161\n",
       ":   0162\n",
       ":   0163\n",
       ":   0164\n",
       ":   0165\n",
       ":   0166\n",
       ":   0167\n",
       ":   0168\n",
       ":   0169\n",
       ":   0170\n",
       ":   0171\n",
       ":   0172\n",
       ":   0173\n",
       ":   0174\n",
       ":   0175\n",
       ":   0176\n",
       ":   0177\n",
       ":   0178\n",
       ":   0179\n",
       ":   0180\n",
       ":   0181\n",
       ":   0182\n",
       ":   0183\n",
       ":   0184\n",
       ":   0185\n",
       ":   0186\n",
       ":   0187\n",
       ":   0188\n",
       ":   0189\n",
       ":   0190\n",
       ":   0191\n",
       ":   0192\n",
       ":   0193\n",
       ":   0194\n",
       ":   0195\n",
       ":   0196\n",
       ":   0197\n",
       ":   0198\n",
       ":   0199\n",
       ":   0200\n",
       ":   0201\n",
       ":   ...202\n",
       ":   1203\n",
       ":   1204\n",
       ":   0205\n",
       ":   0206\n",
       ":   0207\n",
       ":   1208\n",
       ":   1209\n",
       ":   1210\n",
       ":   1211\n",
       ":   0212\n",
       ":   1213\n",
       ":   0214\n",
       ":   1215\n",
       ":   1216\n",
       ":   0217\n",
       ":   1218\n",
       ":   1219\n",
       ":   1220\n",
       ":   1221\n",
       ":   0222\n",
       ":   1223\n",
       ":   0224\n",
       ":   1225\n",
       ":   1226\n",
       ":   0227\n",
       ":   1228\n",
       ":   0229\n",
       ":   0230\n",
       ":   0231\n",
       ":   0232\n",
       ":   0233\n",
       ":   0234\n",
       ":   0235\n",
       ":   1236\n",
       ":   0237\n",
       ":   1238\n",
       ":   0239\n",
       ":   1240\n",
       ":   1241\n",
       ":   1242\n",
       ":   1243\n",
       ":   1244\n",
       ":   0245\n",
       ":   1246\n",
       ":   0247\n",
       ":   0248\n",
       ":   0249\n",
       ":   1250\n",
       ":   0251\n",
       ":   1252\n",
       ":   0253\n",
       ":   0254\n",
       ":   1255\n",
       ":   0256\n",
       ":   0257\n",
       ":   0258\n",
       ":   0259\n",
       ":   0260\n",
       ":   0261\n",
       ":   1262\n",
       ":   0263\n",
       ":   1264\n",
       ":   0265\n",
       ":   0266\n",
       ":   1267\n",
       ":   1268\n",
       ":   1269\n",
       ":   0270\n",
       ":   1271\n",
       ":   0272\n",
       ":   0273\n",
       ":   1274\n",
       ":   1275\n",
       ":   0276\n",
       ":   1277\n",
       ":   1278\n",
       ":   0279\n",
       ":   0280\n",
       ":   1281\n",
       ":   1282\n",
       ":   0283\n",
       ":   1284\n",
       ":   0285\n",
       ":   1286\n",
       ":   0287\n",
       ":   1288\n",
       ":   1289\n",
       ":   0290\n",
       ":   1291\n",
       ":   0292\n",
       ":   0293\n",
       ":   0294\n",
       ":   0295\n",
       ":   0296\n",
       ":   0297\n",
       ":   0298\n",
       ":   1299\n",
       ":   1300\n",
       ":   0301\n",
       ":   1302\n",
       ":   1303\n",
       ":   0304\n",
       ":   1305\n",
       ":   0306\n",
       ":   0307\n",
       ":   0308\n",
       ":   1309\n",
       ":   0310\n",
       ":   0311\n",
       ":   0312\n",
       ":   0313\n",
       ":   0314\n",
       ":   0315\n",
       ":   0316\n",
       ":   1317\n",
       ":   0318\n",
       ":   0319\n",
       ":   0320\n",
       ":   1321\n",
       ":   1322\n",
       ":   0323\n",
       ":   1324\n",
       ":   1325\n",
       ":   0326\n",
       ":   0327\n",
       ":   1328\n",
       ":   0329\n",
       ":   0330\n",
       ":   1331\n",
       ":   0332\n",
       ":   0333\n",
       ":   1334\n",
       ":   0335\n",
       ":   1336\n",
       ":   0337\n",
       ":   0338\n",
       ":   0339\n",
       ":   0340\n",
       ":   0341\n",
       ":   1342\n",
       ":   0343\n",
       ":   0344\n",
       ":   0345\n",
       ":   1346\n",
       ":   1347\n",
       ":   1348\n",
       ":   0349\n",
       ":   1350\n",
       ":   0351\n",
       ":   0352\n",
       ":   0353\n",
       ":   0354\n",
       ":   0355\n",
       ":   1356\n",
       ":   0357\n",
       ":   0358\n",
       ":   1359\n",
       ":   1360\n",
       ":   1361\n",
       ":   1362\n",
       ":   1363\n",
       ":   1364\n",
       ":   1365\n",
       ":   1366\n",
       ":   1367\n",
       ":   0368\n",
       ":   0369\n",
       ":   1370\n",
       ":   0371\n",
       ":   0372\n",
       ":   1373\n",
       ":   0374\n",
       ":   0375\n",
       ":   1376\n",
       ":   0377\n",
       ":   1378\n",
       ":   1379\n",
       ":   0380\n",
       ":   0381\n",
       ":   1382\n",
       ":   1383\n",
       ":   1384\n",
       ":   1385\n",
       ":   0386\n",
       ":   1387\n",
       ":   1388\n",
       ":   1389\n",
       ":   0390\n",
       ":   0391\n",
       ":   0392\n",
       ":   0393\n",
       ":   0394\n",
       ":   0395\n",
       ":   1396\n",
       ":   0397\n",
       ":   0398\n",
       ":   0399\n",
       ":   1400\n",
       ":   0401\n",
       ":   1\n",
       "\n",
       "\n",
       "**Levels**: 1. '0'\n",
       "2. '1'\n",
       "\n",
       "\n"
      ],
      "text/plain": [
       "   1    2    3    4    5    6    7    8    9   10   11   12   13   14   15   16 \n",
       "   0    0    0    0    0    0    0    0    0    0    0    0    0    0    0    0 \n",
       "  17   18   19   20   21   22   23   24   25   26   27   28   29   30   31   32 \n",
       "   0    0    0    0    0    0    0    0    0    0    0    0    0    0    0    0 \n",
       "  33   34   35   36   37   38   39   40   41   42   43   44   45   46   47   48 \n",
       "   0    0    0    0    0    0    0    0    0    0    0    0    0    0    0    0 \n",
       "  49   50   51   52   53   54   55   56   57   58   59   60   61   62   63   64 \n",
       "   0    0    0    0    0    0    0    0    0    0    0    0    0    0    0    0 \n",
       "  65   66   67   68   69   70   71   72   73   74   75   76   77   78   79   80 \n",
       "   0    0    0    0    0    0    0    0    0    0    0    0    0    0    0    0 \n",
       "  81   82   83   84   85   86   87   88   89   90   91   92   93   94   95   96 \n",
       "   0    0    0    0    0    0    0    0    0    0    0    0    0    0    0    0 \n",
       "  97   98   99  100  101  102  103  104  105  106  107  108  109  110  111  112 \n",
       "   0    0    0    0    0    0    0    0    0    0    0    0    0    0    0    0 \n",
       " 113  114  115  116  117  118  119  120  121  122  123  124  125  126  127  128 \n",
       "   0    0    0    0    0    0    0    0    0    0    0    0    0    0    0    0 \n",
       " 129  130  131  132  133  134  135  136  137  138  139  140  141  142  143  144 \n",
       "   0    0    0    0    0    0    0    0    0    0    0    0    0    0    0    0 \n",
       " 145  146  147  148  149  150  151  152  153  154  155  156  157  158  159  160 \n",
       "   0    0    0    0    0    0    0    0    0    0    0    0    0    0    0    0 \n",
       " 161  162  163  164  165  166  167  168  169  170  171  172  173  174  175  176 \n",
       "   0    0    0    0    0    0    0    0    0    0    0    0    0    0    0    0 \n",
       " 177  178  179  180  181  182  183  184  185  186  187  188  189  190  191  192 \n",
       "   0    0    0    0    0    0    0    0    0    0    0    0    0    0    0    0 \n",
       " 193  194  195  196  197  198  199  200  201  202  203  204  205  206  207  208 \n",
       "   0    0    0    0    0    0    0    0    0    0    0    0    0    0    0    0 \n",
       " 209  210  211  212  213  214  215  216  217  218  219  220  221  222  223  224 \n",
       "   0    0    0    0    0    0    0    0    0    0    0    0    0    0    0    0 \n",
       " 225  226  227  228  229  230  231  232  233  234  235  236  237  238  239  240 \n",
       "   0    0    0    0    0    0    0    0    0    0    0    0    0    0    0    0 \n",
       " 241  242  243  244  245  246  247  248  249  250  251  252  253  254  255  256 \n",
       "   0    0    0    0    0    0    0    0    0    0    0    0    0    0    0    0 \n",
       " 257  258  259  260  261  262  263  264  265  266  267  268  269  270  271  272 \n",
       "   0    0    0    0    0    0    0    0    0    0    0    0    0    0    0    0 \n",
       " 273  274  275  276  277  278  279  280  281  282  283  284  285  286  287  288 \n",
       "   0    0    0    0    0    0    0    0    0    0    0    0    0    0    0    0 \n",
       " 289  290  291  292  293  294  295  296  297  298  299  300  301  302  303  304 \n",
       "   0    0    0    0    0    0    0    0    0    0    0    0    0    0    0    0 \n",
       " 305  306  307  308  309  310  311  312  313  314  315  316  317  318  319  320 \n",
       "   0    0    0    0    0    0    0    0    0    0    0    0    0    0    0    0 \n",
       " 321  322  323  324  325  326  327  328  329  330  331  332  333  334  335  336 \n",
       "   0    0    0    0    0    0    0    0    0    0    0    0    0    0    0    0 \n",
       " 337  338  339  340  341  342  343  344  345  346  347  348  349  350  351  352 \n",
       "   0    0    0    0    0    0    0    0    0    0    0    0    0    0    0    0 \n",
       " 353  354  355  356  357  358  359  360  361  362  363  364  365  366  367  368 \n",
       "   0    0    0    0    0    0    0    0    0    0    0    0    0    0    0    0 \n",
       " 369  370  371  372  373  374  375  376  377  378  379  380  381  382  383  384 \n",
       "   0    0    0    0    0    0    0    0    0    0    0    0    0    0    0    0 \n",
       " 385  386  387  388  389  390  391  392  393  394  395  396  397  398  399  400 \n",
       "   0    0    0    0    0    0    0    0    0    0    0    0    0    0    0    0 \n",
       " 401  402  403  404  405  406  407  408  409  410  411  412  413  414  415  416 \n",
       "   0    0    0    0    0    0    0    0    0    0    0    0    0    0    0    0 \n",
       " 417  418  419  420  421  422  423  424  425  426  427  428  429  430  431  432 \n",
       "   0    0    0    0    0    0    0    0    0    0    0    0    0    0    0    0 \n",
       " 433  434  435  436  437  438  439  440  441  442  443  444  445  446  447  448 \n",
       "   0    0    0    0    0    0    0    0    0    0    0    0    0    0    0    0 \n",
       " 449  450  451  452  453  454  455  456  457  458  459  460  461  462  463  464 \n",
       "   0    0    0    0    0    0    0    0    0    0    0    0    0    0    0    0 \n",
       " 465  466  467  468  469  470  471  472  473  474  475  476  477  478  479  480 \n",
       "   0    0    0    0    0    0    0    0    0    0    0    0    0    0    0    0 \n",
       " 481  482  483  484  485  486  487  488  489  490  491  492  493  494  495  496 \n",
       "   0    0    0    0    0    0    0    0    0    0    0    0    0    0    0    0 \n",
       " 497  498  499  500  501  502  503  504  505  506  507  508  509  510  511  512 \n",
       "   0    0    0    0    0    0    0    0    0    0    0    0    0    0    0    0 \n",
       " 513  514  515  516  517  518  519  520  521  522  523  524  525  526  527  528 \n",
       "   0    0    0    0    0    0    0    0    0    0    0    0    0    0    0    0 \n",
       " 529  530  531  532  533  534  535  536  537  538  539  540  541  542  543  544 \n",
       "   0    0    0    0    0    0    0    0    0    0    0    0    0    0    0    0 \n",
       " 545  546  547  548  549  550  551  552  553  554  555  556  557  558  559  560 \n",
       "   0    0    0    0    0    0    0    0    0    0    0    0    0    0    0    0 \n",
       " 561  562  563  564  565  566  567  568  569  570  571  572  573  574  575  576 \n",
       "   0    0    0    0    0    0    0    0    0    0    0    0    0    0    0    0 \n",
       " 577  578  579  580  581  582  583  584  585  586  587  588  589  590  591  592 \n",
       "   0    0    0    0    0    0    0    0    0    0    0    0    0    0    0    0 \n",
       " 593  594  595  596  597  598  599  600  601  602  603  604  605  606  607  608 \n",
       "   0    0    0    0    0    0    0    0    0    0    0    0    0    0    0    0 \n",
       " 609  610  611  612  613  614  615  616  617  618  619  620  621  622  623  624 \n",
       "   0    0    0    0    0    0    0    0    0    0    0    0    0    0    0    0 \n",
       " 625  626  627  628  629  630  631  632  633  634  635  636  637  638  639  640 \n",
       "   0    0    0    0    0    0    0    0    0    0    0    0    0    0    0    0 \n",
       " 641  642  643  644  645  646  647  648  649  650  651  652  653  654  655  656 \n",
       "   0    0    0    0    0    0    0    0    0    0    0    0    0    0    0    0 \n",
       " 657  658  659  660  661  662  663  664  665  666  667  668  669  670  671  672 \n",
       "   0    0    0    0    0    0    0    0    0    0    0    0    0    0    0    0 \n",
       " 673  674  675  676  677  678  679  680  681  682  683  684  685  686  687  688 \n",
       "   0    0    0    0    0    0    0    0    0    0    0    0    0    0    0    0 \n",
       " 689  690  691  692  693  694  695  696  697  698  699  700  701  702  703  704 \n",
       "   0    0    0    0    0    0    0    0    0    0    0    0    0    0    0    0 \n",
       " 705  706  707  708  709  710  711  712  713  714  715  716  717  718  719  720 \n",
       "   0    0    0    0    0    0    0    0    0    0    0    0    0    0    0    0 \n",
       " 721  722  723  724  725  726  727  728  729  730  731  732  733  734  735  736 \n",
       "   0    0    0    0    0    0    0    0    0    0    0    0    0    0    0    0 \n",
       " 737  738  739  740  741  742  743  744  745  746  747  748  749  750  751  752 \n",
       "   0    0    0    0    0    0    0    0    0    0    0    0    0    0    0    0 \n",
       " 753  754  755  756  757  758  759  760  761  762  763  764  765  766  767  768 \n",
       "   0    0    0    0    0    0    0    0    0    0    0    0    0    0    0    0 \n",
       " 769  770  771  772  773  774  775  776  777  778  779  780  781  782  783  784 \n",
       "   0    0    0    0    0    0    0    0    0    0    0    0    0    0    0    0 \n",
       " 785  786  787  788  789  790  791  792  793  794  795  796  797  798  799  800 \n",
       "   0    0    0    0    0    0    0    0    0    0    0    0    0    0    0    0 \n",
       " 801  802  803  804  805  806  807  808  809  810  811  812  813  814  815  816 \n",
       "   0    0    0    0    0    0    0    0    0    0    0    0    0    0    0    0 \n",
       " 817  818  819  820  821  822  823  824  825  826  827  828  829  830  831  832 \n",
       "   0    0    0    0    0    0    0    0    0    0    0    0    0    0    0    0 \n",
       " 833  834  835  836  837  838  839  840  841  842  843  844  845  846  847  848 \n",
       "   0    0    0    0    0    0    0    0    0    0    0    0    0    0    0    0 \n",
       " 849  850  851  852  853  854  855  856  857  858  859  860  861  862  863  864 \n",
       "   0    0    0    0    0    0    0    0    0    0    0    0    0    0    0    0 \n",
       " 865  866  867  868  869  870  871  872  873  874  875  876  877  878  879  880 \n",
       "   0    0    0    0    0    0    0    0    0    0    0    0    0    0    0    0 \n",
       " 881  882  883  884  885  886  887  888  889  890  891  892  893  894  895  896 \n",
       "   0    0    0    0    0    0    0    0    0    0    0    0    0    0    0    0 \n",
       " 897  898  899  900  901  902  903  904  905  906  907  908  909  910  911  912 \n",
       "   0    0    0    0    0    0    0    0    0    0    0    0    0    0    0    0 \n",
       " 913  914  915  916  917  918  919  920  921  922  923  924  925  926  927  928 \n",
       "   0    0    0    0    0    0    0    0    0    0    0    0    0    0    0    0 \n",
       " 929  930  931  932  933  934  935  936  937  938  939  940  941  942  943  944 \n",
       "   0    0    0    0    0    0    0    0    0    0    0    0    0    0    0    0 \n",
       " 945  946  947  948  949  950  951  952  953  954  955  956  957  958  959  960 \n",
       "   0    0    0    0    0    0    0    0    0    0    0    0    0    0    0    0 \n",
       " 961  962  963  964  965  966  967  968  969  970  971  972  973  974  975  976 \n",
       "   0    0    0    0    0    0    0    0    0    0    0    0    0    0    0    0 \n",
       " 977  978  979  980  981  982  983  984  985  986  987  988  989  990  991  992 \n",
       "   0    0    0    0    0    0    0    0    0    0    0    0    0    0    0    0 \n",
       " 993  994  995  996  997  998  999 1000 1001 1002 1003 1004 1005 1006 1007 1008 \n",
       "   0    0    0    0    0    0    0    0    0    0    0    0    0    0    0    0 \n",
       "1009 1010 1011 1012 1013 1014 1015 1016 1017 1018 1019 1020 1021 1022 1023 1024 \n",
       "   0    0    0    0    0    0    0    0    0    0    0    0    0    0    0    0 \n",
       "1025 1026 1027 1028 1029 1030 1031 1032 1033 1034 1035 1036 1037 1038 1039 1040 \n",
       "   0    0    0    0    0    0    0    0    0    0    0    0    0    0    0    0 \n",
       "1041 1042 1043 1044 1045 1046 1047 1048 1049 1050 1051 1052 1053 1054 1055 1056 \n",
       "   0    0    0    0    0    0    0    0    0    0    0    0    0    0    0    0 \n",
       "1057 1058 1059 1060 1061 1062 1063 1064 1065 1066 1067 1068 1069 1070 1071 1072 \n",
       "   0    0    0    0    0    0    0    0    0    0    0    0    0    0    0    0 \n",
       "1073 1074 1075 1076 1077 1078 1079 1080 1081 1082 1083 1084 1085 1086 1087 1088 \n",
       "   0    0    0    0    0    0    0    0    0    0    0    0    0    0    0    0 \n",
       "1089 1090 1091 1092 1093 1094 1095 1096 1097 1098 1099 1100 1101 1102 1103 1104 \n",
       "   0    0    0    0    0    0    0    0    0    0    0    0    0    0    0    0 \n",
       "1105 1106 1107 1108 1109 1110 1111 1112 1113 1114 1115 1116 1117 1118 1119 1120 \n",
       "   0    0    0    0    0    0    0    0    0    0    0    0    0    0    0    0 \n",
       "1121 1122 1123 1124 1125 1126 1127 1128 1129 1130 1131 1132 1133 1134 1135 1136 \n",
       "   0    0    0    0    0    0    0    0    0    0    0    0    0    0    0    0 \n",
       "1137 1138 1139 1140 1141 1142 1143 1144 1145 1146 1147 1148 1149 1150 1151 1152 \n",
       "   0    0    0    0    0    0    0    0    0    0    0    0    0    0    0    0 \n",
       "1153 1154 1155 1156 1157 1158 1159 1160 1161 1162 1163 1164 1165 1166 1167 1168 \n",
       "   0    0    0    0    0    0    0    0    0    0    0    0    0    0    0    0 \n",
       "1169 1170 1171 1172 1173 1174 1175 1176 1177 1178 1179 1180 1181 1182 1183 1184 \n",
       "   0    0    0    0    0    0    0    0    0    0    0    0    0    0    0    0 \n",
       "1185 1186 1187 1188 1189 1190 1191 1192 1193 1194 1195 1196 1197 1198 1199 1200 \n",
       "   0    0    0    0    0    0    0    0    0    0    0    0    0    0    0    0 \n",
       "1201 1202 1203 1204 1205 1206 1207 1208 1209 1210 1211 1212 1213 1214 1215 1216 \n",
       "   0    0    0    0    0    0    0    0    0    0    0    0    0    0    0    0 \n",
       "1217 1218 1219 1220 1221 1222 1223 1224 1225 1226 1227 1228 1229 1230 1231 1232 \n",
       "   0    0    0    0    0    0    0    0    0    0    0    0    0    0    0    0 \n",
       "1233 1234 1235 1236 1237 1238 1239 1240 1241 1242 1243 1244 1245 1246 1247 1248 \n",
       "   0    0    0    0    0    0    0    0    0    0    0    0    0    0    0    0 \n",
       "1249 1250 1251 1252 1253 1254 1255 1256 1257 1258 1259 1260 1261 1262 1263 1264 \n",
       "   0    0    0    0    0    0    0    0    0    0    0    0    0    0    0    0 \n",
       "1265 1266 1267 1268 1269 1270 1271 1272 1273 1274 1275 1276 1277 1278 1279 1280 \n",
       "   0    0    0    0    0    0    0    0    0    0    0    0    0    0    0    0 \n",
       "1281 1282 1283 1284 1285 1286 1287 1288 1289 1290 1291 1292 1293 1294 1295 1296 \n",
       "   0    0    0    0    0    0    0    0    0    0    0    0    0    0    0    0 \n",
       "1297 1298 1299 1300 1301 1302 1303 1304 1305 1306 1307 1308 1309 1310 1311 1312 \n",
       "   0    0    0    0    0    0    0    0    0    0    0    0    0    0    0    0 \n",
       "1313 1314 1315 1316 1317 1318 1319 1320 1321 1322 1323 1324 1325 1326 1327 1328 \n",
       "   0    0    0    0    0    0    0    0    0    0    0    0    0    0    0    0 \n",
       "1329 1330 1331 1332 1333 1334 1335 1336 1337 1338 1339 1340 1341 1342 1343 1344 \n",
       "   0    0    0    0    0    0    0    0    0    0    0    0    0    0    0    0 \n",
       "1345 1346 1347 1348 1349 1350 1351 1352 1353 1354 1355 1356 1357 1358 1359 1360 \n",
       "   0    0    0    0    0    0    0    0    0    0    0    0    0    0    0    0 \n",
       "1361 1362 1363 1364 1365 1366 1367 1368 1369 1370 1371 1372 1373 1374 1375 1376 \n",
       "   0    0    0    0    0    0    0    0    0    0    0    0    0    0    0    0 \n",
       "1377 1378 1379 1380 1381 1382 1383 1384 1385 1386 1387 1388 1389 1390 1391 1392 \n",
       "   0    0    0    0    0    0    0    0    0    0    0    0    0    0    0    0 \n",
       "1393 1394 1395 1396 1397 1398 1399 1400 1401 1402 1403 1404 1405 1406 1407 1408 \n",
       "   0    0    0    0    0    0    0    0    0    0    0    0    0    0    0    0 \n",
       "1409 1410 1411 1412 1413 1414 1415 1416 1417 1418 1419 1420 1421 1422 1423 1424 \n",
       "   0    0    0    0    0    0    0    0    0    0    0    0    0    0    0    0 \n",
       "1425 1426 1427 1428 1429 1430 1431 1432 1433 1434 1435 1436 1437 1438 1439 1440 \n",
       "   0    0    0    0    0    0    0    0    0    0    0    0    0    0    0    0 \n",
       "1441 1442 1443 1444 1445 1446 1447 1448 1449 1450 1451 1452 1453 1454 1455 1456 \n",
       "   0    0    0    0    0    0    0    0    0    0    0    0    0    0    0    0 \n",
       "1457 1458 1459 1460 1461 1462 1463 1464 1465 1466 1467 1468 1469 1470 1471 1472 \n",
       "   0    0    0    0    0    0    0    0    0    0    0    0    0    0    0    0 \n",
       "1473 1474 1475 1476 1477 1478 1479 1480 1481 1482 1483 1484 1485 1486 1487 1488 \n",
       "   0    0    0    0    0    0    0    0    0    0    0    0    0    0    0    0 \n",
       "1489 1490 1491 1492 1493 1494 1495 1496 1497 1498 1499 1500 1501 1502 1503 1504 \n",
       "   0    0    0    0    0    0    0    0    0    0    0    0    0    0    0    0 \n",
       "1505 1506 1507 1508 1509 1510 1511 1512 1513 1514 1515 1516 1517 1518 1519 1520 \n",
       "   0    0    0    0    0    0    0    0    0    0    0    0    0    0    0    0 \n",
       "1521 1522 1523 1524 1525 1526 1527 1528 1529 1530 1531 1532 1533 1534 1535 1536 \n",
       "   0    0    0    0    0    0    0    0    0    0    0    0    0    0    0    0 \n",
       "1537 1538 1539 1540 1541 1542 1543 1544 1545 1546 1547 1548 1549 1550 1551 1552 \n",
       "   0    0    0    0    0    0    0    0    0    0    0    0    0    0    0    0 \n",
       "1553 1554 1555 1556 1557 1558 1559 1560 1561 1562 1563 1564 1565 1566 1567 1568 \n",
       "   0    0    0    0    0    0    0    0    0    0    0    0    0    0    0    0 \n",
       "1569 1570 1571 1572 1573 1574 1575 1576 1577 1578 1579 1580 1581 1582 1583 1584 \n",
       "   0    0    0    0    0    0    0    0    0    0    0    0    0    0    0    0 \n",
       "1585 1586 1587 1588 1589 1590 1591 1592 1593 1594 1595 1596 1597 1598 1599 1600 \n",
       "   0    0    0    0    0    0    0    0    0    0    0    0    0    0    0    0 \n",
       "1601 1602 1603 1604 1605 1606 1607 1608 1609 1610 1611 1612 1613 1614 1615 1616 \n",
       "   0    0    0    0    0    0    0    0    0    0    0    0    0    0    0    0 \n",
       "1617 1618 1619 1620 1621 1622 1623 1624 1625 1626 1627 1628 1629 1630 1631 1632 \n",
       "   0    0    0    0    0    0    0    0    0    0    0    0    0    0    0    0 \n",
       "1633 1634 1635 1636 1637 1638 1639 1640 1641 1642 1643 1644 1645 1646 1647 1648 \n",
       "   0    0    0    0    0    0    0    0    0    0    0    0    0    0    0    0 \n",
       "1649 1650 1651 1652 1653 1654 1655 1656 1657 1658 1659 1660 1661 1662 1663 1664 \n",
       "   0    0    0    0    0    0    0    0    0    0    0    0    0    0    0    0 \n",
       "1665 1666 1667 1668 1669 1670 1671 1672 1673 1674 1675 1676 1677 1678 1679 1680 \n",
       "   0    0    0    0    0    0    0    0    0    0    0    0    0    0    0    0 \n",
       "1681 1682 1683 1684 1685 1686 1687 1688 1689 1690 1691 1692 1693 1694 1695 1696 \n",
       "   0    0    0    0    0    0    0    0    0    0    0    0    0    0    0    0 \n",
       "1697 1698 1699 1700 1701 1702 1703 1704 1705 1706 1707 1708 1709 1710 1711 1712 \n",
       "   0    0    0    0    0    0    0    0    0    0    0    0    0    0    0    0 \n",
       "1713 1714 1715 1716 1717 1718 1719 1720 1721 1722 1723 1724 1725 1726 1727 1728 \n",
       "   0    0    0    0    0    0    0    0    0    0    0    0    0    0    0    0 \n",
       "1729 1730 1731 1732 1733 1734 1735 1736 1737 1738 1739 1740 1741 1742 1743 1744 \n",
       "   0    0    0    0    0    0    0    0    0    0    0    0    0    0    0    0 \n",
       "1745 1746 1747 1748 1749 1750 1751 1752 1753 1754 1755 1756 1757 1758 1759 1760 \n",
       "   0    0    0    0    0    0    0    0    0    0    0    0    0    0    0    0 \n",
       "1761 1762 1763 1764 1765 1766 1767 1768 1769 1770 1771 1772 1773 1774 1775 1776 \n",
       "   0    0    0    0    0    0    0    0    0    0    0    0    0    0    0    0 \n",
       "1777 1778 1779 1780 1781 1782 1783 1784 1785 1786 1787 1788 1789 1790 1791 1792 \n",
       "   0    0    0    0    0    0    0    0    0    0    0    0    0    0    0    0 \n",
       "1793 1794 1795 1796 1797 1798 1799 1800 1801 1802 1803 1804 1805 1806 1807 1808 \n",
       "   0    0    0    0    0    0    0    0    0    0    0    0    0    0    0    0 \n",
       "1809 1810 1811 1812 1813 1814 1815 1816 1817 1818 1819 1820 1821 1822 1823 1824 \n",
       "   0    0    0    0    0    0    0    0    0    0    0    0    0    0    0    0 \n",
       "1825 1826 1827 1828 1829 1830 1831 1832 1833 1834 1835 1836 1837 1838 1839 1840 \n",
       "   0    0    0    0    0    0    0    0    0    0    0    0    0    0    0    0 \n",
       "1841 1842 1843 1844 1845 1846 1847 1848 1849 1850 1851 1852 1853 1854 1855 1856 \n",
       "   0    0    0    0    0    0    0    0    0    0    0    0    0    0    0    0 \n",
       "1857 1858 1859 1860 1861 1862 1863 1864 1865 1866 1867 1868 1869 1870 1871 1872 \n",
       "   0    0    0    0    0    0    0    0    0    0    0    0    0    0    0    0 \n",
       "1873 1874 1875 1876 1877 1878 1879 1880 1881 1882 1883 1884 1885 1886 1887 1888 \n",
       "   0    0    0    0    0    0    0    0    0    0    0    0    0    0    0    0 \n",
       "1889 1890 1891 1892 1893 1894 1895 1896 1897 1898 1899 1900 1901 1902 1903 1904 \n",
       "   0    0    0    0    0    0    0    0    0    0    0    0    0    0    0    0 \n",
       "1905 1906 1907 1908 1909 1910 1911 1912 1913 1914 1915 1916 1917 1918 1919 1920 \n",
       "   0    0    0    0    0    0    0    0    0    0    0    0    0    0    0    0 \n",
       "1921 1922 1923 1924 1925 1926 1927 1928 1929 1930 1931 1932 1933 1934 1935 1936 \n",
       "   0    0    0    0    0    0    0    0    0    0    0    0    0    0    0    0 \n",
       "1937 1938 1939 1940 1941 1942 1943 1944 1945 1946 1947 1948 1949 1950 1951 1952 \n",
       "   0    0    0    0    0    0    0    0    0    0    0    0    0    0    0    0 \n",
       "1953 1954 1955 1956 1957 1958 1959 1960 1961 1962 1963 1964 1965 1966 1967 1968 \n",
       "   0    0    0    0    0    0    0    0    0    0    0    0    0    0    0    0 \n",
       "1969 1970 1971 1972 1973 1974 1975 1976 1977 1978 1979 1980 1981 1982 1983 1984 \n",
       "   0    0    0    0    0    0    0    0    0    0    0    0    0    0    0    0 \n",
       "1985 1986 1987 1988 1989 1990 1991 1992 1993 1994 1995 1996 1997 1998 1999 2000 \n",
       "   0    0    0    0    0    0    0    0    0    0    0    0    0    0    0    0 \n",
       "2001 2002 2003 2004 2005 2006 2007 2008 2009 2010 2011 2012 2013 2014 2015 2016 \n",
       "   0    0    0    0    0    0    0    0    0    0    0    0    0    0    0    0 \n",
       "2017 2018 2019 2020 2021 2022 2023 2024 2025 2026 2027 2028 2029 2030 2031 2032 \n",
       "   0    0    0    0    0    0    0    0    0    0    0    0    0    0    0    0 \n",
       "2033 2034 2035 2036 2037 2038 2039 2040 2041 2042 2043 2044 2045 2046 2047 2048 \n",
       "   0    0    0    0    0    0    0    0    0    0    0    0    0    0    0    0 \n",
       "2049 2050 2051 2052 2053 2054 2055 2056 2057 2058 2059 2060 2061 2062 2063 2064 \n",
       "   0    0    0    0    0    0    0    0    0    0    0    0    0    0    0    0 \n",
       "2065 2066 2067 2068 2069 2070 2071 2072 2073 2074 2075 2076 2077 2078 2079 2080 \n",
       "   0    0    0    0    0    0    0    0    0    0    0    0    0    0    0    0 \n",
       "2081 2082 2083 2084 2085 2086 2087 2088 2089 2090 2091 2092 2093 2094 2095 2096 \n",
       "   0    0    0    0    0    0    0    0    0    0    0    0    0    0    0    0 \n",
       "2097 2098 2099 2100 2101 2102 2103 2104 2105 2106 2107 2108 2109 2110 2111 2112 \n",
       "   0    0    0    0    0    0    0    0    0    0    0    0    0    0    0    0 \n",
       "2113 2114 2115 2116 2117 2118 2119 2120 2121 2122 2123 2124 2125 2126 2127 2128 \n",
       "   0    0    0    0    0    0    0    0    0    0    0    0    0    0    0    0 \n",
       "2129 2130 2131 2132 2133 2134 2135 2136 2137 2138 2139 2140 2141 2142 2143 2144 \n",
       "   0    0    0    0    0    0    0    0    0    0    0    0    0    0    0    0 \n",
       "2145 2146 2147 2148 2149 2150 2151 2152 2153 2154 2155 2156 2157 2158 2159 2160 \n",
       "   0    0    0    0    0    0    0    0    0    0    0    0    0    0    0    0 \n",
       "2161 2162 2163 2164 2165 2166 2167 2168 2169 2170 2171 2172 2173 2174 2175 2176 \n",
       "   0    0    0    0    0    0    0    0    0    0    0    0    0    0    0    0 \n",
       "2177 2178 2179 2180 2181 2182 2183 2184 2185 2186 2187 2188 2189 2190 2191 2192 \n",
       "   0    0    0    0    0    0    0    0    0    0    0    0    0    0    0    0 \n",
       "2193 2194 2195 2196 2197 2198 2199 2200 2201 2202 2203 2204 2205 2206 2207 2208 \n",
       "   0    0    0    0    0    0    0    0    0    0    0    0    0    0    0    0 \n",
       "2209 2210 2211 2212 2213 2214 2215 2216 2217 2218 2219 2220 2221 2222 2223 2224 \n",
       "   0    0    0    0    0    0    0    0    0    0    0    0    0    0    0    0 \n",
       "2225 2226 2227 2228 2229 2230 2231 2232 2233 2234 2235 2236 2237 2238 2239 2240 \n",
       "   0    0    0    0    0    0    0    0    0    0    0    0    0    0    0    0 \n",
       "2241 2242 2243 2244 2245 2246 2247 2248 2249 2250 2251 2252 2253 2254 2255 2256 \n",
       "   0    0    0    0    0    0    0    0    0    0    0    0    0    0    0    0 \n",
       "2257 2258 2259 2260 2261 2262 2263 2264 2265 2266 2267 2268 2269 2270 2271 2272 \n",
       "   0    0    0    0    0    0    0    0    0    0    0    0    0    0    0    0 \n",
       "2273 2274 2275 2276 2277 2278 2279 2280 2281 2282 2283 2284 2285 2286 2287 2288 \n",
       "   0    0    0    0    0    0    0    0    0    0    0    0    0    0    0    0 \n",
       "2289 2290 2291 2292 2293 2294 2295 2296 2297 2298 2299 2300 2301 2302 2303 2304 \n",
       "   0    0    0    0    0    0    0    0    0    0    0    0    0    0    0    0 \n",
       "2305 2306 2307 2308 2309 2310 2311 2312 2313 2314 2315 2316 2317 2318 2319 2320 \n",
       "   0    0    0    0    0    0    0    0    0    0    0    0    0    0    0    0 \n",
       "2321 2322 2323 2324 2325 2326 2327 2328 2329 2330 2331 2332 2333 2334 2335 2336 \n",
       "   0    0    0    0    0    0    0    0    0    0    0    0    0    0    0    0 \n",
       "2337 2338 2339 2340 2341 2342 2343 2344 2345 2346 2347 2348 2349 2350 2351 2352 \n",
       "   0    0    0    0    0    0    0    0    0    0    0    0    0    0    0    0 \n",
       "2353 2354 2355 2356 2357 2358 2359 2360 2361 2362 2363 2364 2365 2366 2367 2368 \n",
       "   0    0    0    0    0    0    0    0    0    0    0    0    0    0    0    0 \n",
       "2369 2370 2371 2372 2373 2374 2375 2376 2377 2378 2379 2380 2381 2382 2383 2384 \n",
       "   0    0    0    0    0    0    0    0    0    0    0    0    0    0    0    0 \n",
       "2385 2386 2387 2388 2389 2390 2391 2392 2393 2394 2395 2396 2397 2398 2399 2400 \n",
       "   0    0    0    0    0    0    0    0    0    0    0    0    0    0    0    0 \n",
       "2401 2402 2403 2404 2405 2406 2407 2408 2409 2410 2411 2412 2413 2414 2415 2416 \n",
       "   0    0    0    0    0    0    0    0    0    0    0    0    0    0    0    0 \n",
       "2417 2418 2419 2420 2421 2422 2423 2424 2425 2426 2427 2428 2429 2430 2431 2432 \n",
       "   0    0    0    0    0    0    0    0    0    0    0    0    0    0    0    0 \n",
       "2433 2434 2435 2436 2437 2438 2439 2440 2441 2442 2443 2444 2445 2446 2447 2448 \n",
       "   0    0    0    0    0    0    0    0    0    0    0    0    0    0    0    0 \n",
       "2449 2450 2451 2452 2453 2454 2455 2456 2457 2458 2459 2460 2461 2462 2463 2464 \n",
       "   0    0    0    0    0    0    0    0    0    0    0    0    0    0    0    0 \n",
       "2465 2466 2467 2468 2469 2470 2471 2472 2473 2474 2475 2476 2477 2478 2479 2480 \n",
       "   0    0    0    0    0    0    0    0    0    0    0    0    0    0    0    0 \n",
       "2481 2482 2483 2484 2485 2486 2487 2488 2489 2490 2491 2492 2493 2494 2495 2496 \n",
       "   0    0    0    0    0    0    0    0    0    0    0    0    0    0    0    0 \n",
       "2497 2498 2499 2500 2501 2502 2503 2504 2505 2506 2507 2508 2509 2510 2511 2512 \n",
       "   0    0    0    0    0    0    0    0    0    0    0    0    0    0    0    0 \n",
       "2513 2514 2515 2516 2517 2518 2519 2520 2521 2522 2523 2524 2525 2526 2527 2528 \n",
       "   0    0    0    0    0    0    0    0    0    0    0    0    0    0    0    0 \n",
       "2529 2530 2531 2532 2533 2534 2535 2536 2537 2538 2539 2540 2541 2542 2543 2544 \n",
       "   0    0    0    0    0    0    0    0    0    0    0    0    0    0    0    0 \n",
       "2545 2546 2547 2548 2549 2550 2551 2552 2553 2554 2555 2556 2557 2558 2559 2560 \n",
       "   0    0    0    0    0    0    0    0    0    0    0    0    0    0    0    0 \n",
       "2561 2562 2563 2564 2565 2566 2567 2568 2569 2570 2571 2572 2573 2574 2575 2576 \n",
       "   0    0    0    0    0    0    0    0    0    0    0    0    0    0    0    0 \n",
       "2577 2578 2579 2580 2581 2582 2583 2584 2585 2586 2587 2588 2589 2590 2591 2592 \n",
       "   0    0    0    0    0    0    0    0    0    0    0    0    0    0    0    0 \n",
       "2593 2594 2595 2596 2597 2598 2599 2600 2601 2602 2603 2604 2605 2606 2607 2608 \n",
       "   0    0    0    0    0    0    0    0    0    0    0    0    0    0    0    0 \n",
       "2609 2610 2611 2612 2613 2614 2615 2616 2617 2618 2619 2620 2621 2622 2623 2624 \n",
       "   0    0    0    0    0    0    0    0    0    0    0    0    0    0    0    0 \n",
       "2625 2626 2627 2628 2629 2630 2631 2632 2633 2634 2635 2636 2637 2638 2639 2640 \n",
       "   0    0    0    0    0    0    0    0    0    0    0    0    0    0    0    0 \n",
       "2641 2642 2643 2644 2645 2646 2647 2648 2649 2650 2651 2652 2653 2654 2655 2656 \n",
       "   0    0    0    0    0    0    0    0    0    0    0    0    0    0    0    0 \n",
       "2657 2658 2659 2660 2661 2662 2663 2664 2665 2666 2667 2668 2669 2670 2671 2672 \n",
       "   0    0    0    0    0    0    0    0    0    0    0    0    0    0    0    0 \n",
       "2673 2674 2675 2676 2677 2678 2679 2680 2681 2682 2683 2684 2685 2686 2687 2688 \n",
       "   0    0    0    0    0    0    0    0    0    0    0    0    0    0    0    0 \n",
       "2689 2690 2691 2692 2693 2694 2695 2696 2697 2698 2699 2700 2701 2702 2703 2704 \n",
       "   0    0    0    0    0    0    0    0    0    0    0    0    0    0    0    0 \n",
       "2705 2706 2707 2708 2709 2710 2711 2712 2713 2714 2715 2716 2717 2718 2719 2720 \n",
       "   0    0    0    0    0    0    0    0    0    0    0    0    0    0    0    0 \n",
       "2721 2722 2723 2724 2725 2726 2727 2728 2729 2730 2731 2732 2733 2734 2735 2736 \n",
       "   0    0    0    0    0    0    0    0    0    0    0    0    0    0    0    0 \n",
       "2737 2738 2739 2740 2741 2742 2743 2744 2745 2746 2747 2748 2749 2750 2751 2752 \n",
       "   0    0    0    0    0    0    0    0    0    0    0    0    0    0    0    0 \n",
       "2753 2754 2755 2756 2757 2758 2759 2760 2761 2762 2763 2764 2765 2766 2767 2768 \n",
       "   0    0    0    0    0    0    0    0    0    0    0    0    0    0    0    0 \n",
       "2769 2770 2771 2772 2773 2774 2775 2776 2777 2778 2779 2780 2781 2782 2783 2784 \n",
       "   0    0    0    0    0    0    0    0    0    0    0    0    0    0    0    0 \n",
       "2785 2786 2787 2788 2789 2790 2791 2792 2793 2794 2795 2796 2797 2798 2799 2800 \n",
       "   0    0    0    0    0    0    0    0    0    0    0    0    0    0    0    0 \n",
       "2801 2802 2803 2804 2805 2806 2807 2808 2809 2810 2811 2812 2813 2814 2815 2816 \n",
       "   0    0    0    0    0    0    0    0    0    0    0    0    0    0    0    0 \n",
       "2817 2818 2819 2820 2821 2822 2823 2824 2825 2826 2827 2828 2829 2830 2831 2832 \n",
       "   0    0    0    0    0    0    0    0    0    0    0    0    0    0    0    0 \n",
       "2833 2834 2835 2836 2837 2838 2839 2840 2841 2842 2843 2844 2845 2846 2847 2848 \n",
       "   0    0    0    0    0    0    0    0    0    0    0    0    0    0    0    0 \n",
       "2849 2850 2851 2852 2853 2854 2855 2856 2857 2858 2859 2860 2861 2862 2863 2864 \n",
       "   0    0    0    0    0    0    0    0    0    0    0    0    0    0    0    0 \n",
       "2865 2866 2867 2868 2869 2870 2871 2872 2873 2874 2875 2876 2877 2878 2879 2880 \n",
       "   0    0    0    0    0    0    0    0    0    0    0    0    0    0    0    0 \n",
       "2881 2882 2883 2884 2885 2886 2887 2888 2889 2890 2891 2892 2893 2894 2895 2896 \n",
       "   0    0    0    0    0    0    0    0    0    0    0    0    0    0    0    0 \n",
       "2897 2898 2899 2900 2901 2902 2903 2904 2905 2906 2907 2908 2909 2910 2911 2912 \n",
       "   0    0    0    0    0    0    0    0    0    0    0    0    0    0    0    0 \n",
       "2913 2914 2915 2916 2917 2918 2919 2920 2921 2922 2923 2924 2925 2926 2927 2928 \n",
       "   0    0    0    0    0    0    0    0    0    0    0    0    0    0    0    0 \n",
       "2929 2930 2931 2932 2933 2934 2935 2936 2937 2938 2939 2940 2941 2942 2943 2944 \n",
       "   0    0    0    0    0    0    0    0    0    0    0    0    0    0    0    0 \n",
       "2945 2946 2947 2948 2949 2950 2951 2952 2953 2954 2955 2956 2957 2958 2959 2960 \n",
       "   0    0    0    0    0    0    0    0    0    0    0    0    0    0    0    0 \n",
       "2961 2962 2963 2964 2965 2966 2967 2968 2969 2970 2971 2972 2973 2974 2975 2976 \n",
       "   0    0    0    0    0    0    0    0    0    0    0    0    0    0    0    0 \n",
       "2977 2978 2979 2980 2981 2982 2983 2984 2985 2986 2987 2988 2989 2990 2991 2992 \n",
       "   0    0    0    0    0    0    0    0    0    0    0    0    0    0    0    0 \n",
       "2993 2994 2995 2996 2997 2998 2999 3000 3001 3002 3003 3004 3005 3006 3007 3008 \n",
       "   0    0    0    0    0    0    0    0    0    0    0    0    0    0    0    0 \n",
       "3009 3010 3011 3012 3013 3014 3015 3016 3017 3018 3019 3020 3021 3022 3023 3024 \n",
       "   0    0    0    0    0    0    0    0    0    0    0    0    0    0    0    0 \n",
       "3025 3026 3027 3028 3029 3030 3031 3032 3033 3034 3035 3036 3037 3038 3039 3040 \n",
       "   0    0    0    0    0    0    0    0    0    0    0    0    0    0    0    0 \n",
       "3041 3042 3043 3044 3045 3046 3047 3048 3049 3050 3051 3052 3053 3054 3055 3056 \n",
       "   0    0    0    0    0    0    0    0    0    0    0    0    0    0    0    0 \n",
       "3057 3058 3059 3060 3061 3062 3063 3064 3065 3066 3067 3068 3069 3070 3071 3072 \n",
       "   0    0    0    0    0    0    0    0    0    0    0    0    0    0    0    0 \n",
       "3073 3074 3075 3076 3077 3078 3079 3080 3081 3082 3083 3084 3085 3086 3087 3088 \n",
       "   0    0    0    0    0    0    0    0    0    0    0    0    0    0    0    0 \n",
       "3089 3090 3091 3092 3093 3094 3095 3096 3097 3098 3099 3100 3101 3102 3103 3104 \n",
       "   0    0    0    0    0    0    0    0    0    0    0    0    0    0    0    0 \n",
       "3105 3106 3107 3108 3109 3110 3111 3112 3113 3114 3115 3116 3117 3118 3119 3120 \n",
       "   0    0    0    0    0    0    0    0    0    0    0    0    0    0    0    0 \n",
       "3121 3122 3123 3124 3125 3126 3127 3128 3129 3130 3131 3132 3133 3134 3135 3136 \n",
       "   0    0    0    0    0    0    0    0    0    0    0    0    0    0    0    0 \n",
       "3137 3138 3139 3140 3141 3142 3143 3144 3145 3146 3147 3148 3149 3150 3151 3152 \n",
       "   0    0    0    0    0    0    0    0    0    0    0    0    0    0    0    0 \n",
       "3153 3154 3155 3156 3157 3158 3159 3160 3161 3162 3163 3164 3165 3166 3167 3168 \n",
       "   0    0    0    0    0    0    0    0    0    0    0    0    0    0    0    0 \n",
       "3169 3170 3171 3172 3173 3174 3175 3176 3177 3178 3179 3180 3181 3182 3183 3184 \n",
       "   0    0    0    0    0    0    0    0    0    0    0    0    0    0    0    0 \n",
       "3185 3186 3187 3188 3189 3190 3191 3192 3193 3194 3195 3196 3197 3198 3199 3200 \n",
       "   0    0    0    0    0    0    0    0    0    0    0    0    0    0    0    0 \n",
       "3201 3202 3203 3204 3205 3206 3207 3208 3209 3210 3211 3212 3213 3214 3215 3216 \n",
       "   0    0    0    0    0    0    0    0    0    0    0    0    0    0    0    0 \n",
       "3217 3218 3219 3220 3221 3222 3223 3224 3225 3226 3227 3228 3229 3230 3231 3232 \n",
       "   0    0    0    0    0    0    0    0    0    0    0    0    0    0    0    0 \n",
       "3233 3234 3235 3236 3237 3238 3239 3240 3241 3242 3243 3244 3245 3246 3247 3248 \n",
       "   0    0    0    0    0    0    0    0    0    0    0    0    0    0    0    0 \n",
       "3249 3250 3251 3252 3253 3254 3255 3256 3257 3258 3259 3260 3261 3262 3263 3264 \n",
       "   0    0    0    0    0    0    0    0    0    0    0    0    0    0    0    0 \n",
       "3265 3266 3267 3268 3269 3270 3271 3272 3273 3274 3275 3276 3277 3278 3279 3280 \n",
       "   0    0    0    0    0    0    0    0    0    0    0    0    0    0    0    0 \n",
       "3281 3282 3283 3284 3285 3286 3287 3288 3289 3290 3291 3292 3293 3294 3295 3296 \n",
       "   0    0    0    0    0    0    0    0    0    0    0    0    0    0    0    0 \n",
       "3297 3298 3299 3300 3301 3302 3303 3304 3305 3306 3307 3308 3309 3310 3311 3312 \n",
       "   0    0    0    0    0    0    0    0    0    0    0    0    0    0    0    0 \n",
       "3313 3314 3315 3316 3317 3318 3319 3320 3321 3322 3323 3324 3325 3326 3327 3328 \n",
       "   0    0    0    0    0    0    0    0    0    0    0    0    0    0    0    0 \n",
       "3329 3330 3331 3332 3333 3334 3335 3336 3337 3338 3339 3340 3341 3342 3343 3344 \n",
       "   0    0    0    0    0    0    0    0    0    0    0    0    0    0    0    0 \n",
       "3345 3346 3347 3348 3349 3350 3351 3352 3353 3354 3355 3356 3357 3358 3359 3360 \n",
       "   0    0    0    0    0    0    0    0    0    0    0    0    0    0    0    0 \n",
       "3361 3362 3363 3364 3365 3366 3367 3368 3369 3370 3371 3372 3373 3374 3375 3376 \n",
       "   0    0    0    0    0    0    0    0    0    0    0    0    0    0    0    0 \n",
       "3377 3378 3379 3380 3381 3382 3383 3384 3385 3386 3387 3388 3389 3390 3391 3392 \n",
       "   0    0    0    0    0    0    0    0    0    0    0    0    0    0    0    0 \n",
       "3393 3394 3395 3396 3397 3398 3399 3400 3401 3402 3403 3404 3405 3406 3407 3408 \n",
       "   0    0    0    0    0    0    0    0    0    0    0    0    0    0    0    0 \n",
       "3409 3410 3411 3412 3413 3414 3415 3416 3417 3418 3419 3420 3421 3422 3423 3424 \n",
       "   0    0    0    0    0    0    0    0    0    0    0    0    0    0    0    0 \n",
       "3425 3426 3427 3428 3429 3430 3431 3432 3433 3434 3435 3436 3437 3438 3439 3440 \n",
       "   0    0    0    0    0    0    0    0    0    0    0    0    0    0    0    0 \n",
       "3441 3442 3443 3444 3445 3446 3447 3448 3449 3450 3451 3452 3453 3454 3455 3456 \n",
       "   0    0    0    0    0    0    0    0    0    0    0    0    0    0    0    0 \n",
       "3457 3458 3459 3460 3461 3462 3463 3464 3465 3466 3467 3468 3469 3470 3471 3472 \n",
       "   0    0    0    0    0    0    0    0    0    0    0    0    0    0    0    0 \n",
       "3473 3474 3475 3476 3477 3478 3479 3480 3481 3482 3483 3484 3485 3486 3487 3488 \n",
       "   0    0    0    0    0    0    0    0    0    0    0    0    0    0    0    0 \n",
       "3489 3490 3491 3492 3493 3494 3495 3496 3497 3498 3499 3500 3501 3502 3503 3504 \n",
       "   0    0    0    0    0    0    0    0    0    0    0    0    0    0    0    0 \n",
       "3505 3506 3507 3508 3509 3510 3511 3512 3513 3514 3515 3516 3517 3518 3519 3520 \n",
       "   0    0    0    0    0    0    0    0    0    0    0    0    0    0    0    0 \n",
       "3521 3522 3523 3524 3525 3526 3527 3528 3529 3530 3531 3532 3533 3534 3535 3536 \n",
       "   0    0    0    0    0    0    0    0    0    0    0    0    0    0    0    0 \n",
       "3537 3538 3539 3540 3541 3542 3543 3544 3545 3546 3547 3548 3549 3550 3551 3552 \n",
       "   0    0    0    0    0    0    0    0    0    0    0    0    0    0    0    0 \n",
       "3553 3554 3555 3556 3557 3558 3559 3560 3561 3562 3563 3564 3565 3566 3567 3568 \n",
       "   0    0    0    0    0    0    0    0    0    0    0    0    0    0    0    0 \n",
       "3569 3570 3571 3572 3573 3574 3575 3576 3577 3578 3579 3580 3581 3582 3583 3584 \n",
       "   0    0    0    0    0    0    0    0    0    0    0    0    0    0    0    0 \n",
       "3585 3586 3587 3588 3589 3590 3591 3592 3593 3594 3595 3596 3597 3598 3599 3600 \n",
       "   0    0    0    0    0    0    0    0    0    0    0    0    0    0    0    0 \n",
       "3601 3602 3603 3604 3605 3606 3607 3608 3609 3610 3611 3612 3613 3614 3615 3616 \n",
       "   0    0    0    0    0    0    0    0    0    0    0    0    0    0    0    0 \n",
       "3617 3618 3619 3620 3621 3622 3623 3624 3625 3626 3627 3628 3629 3630 3631 3632 \n",
       "   0    0    0    0    0    0    0    0    0    0    0    0    0    0    0    0 \n",
       "3633 3634 3635 3636 3637 3638 3639 3640 3641 3642 3643 3644 3645 3646 3647 3648 \n",
       "   0    0    0    0    0    0    0    0    0    0    0    0    0    0    0    0 \n",
       "3649 3650 3651 3652 3653 3654 3655 3656 3657 3658 3659 3660 3661 3662 3663 3664 \n",
       "   0    0    0    0    0    0    0    0    0    0    0    0    0    0    0    0 \n",
       "3665 3666 3667 3668 3669 3670 3671 3672 3673 3674 3675 3676 3677 3678 3679 3680 \n",
       "   0    0    0    0    0    0    0    0    0    0    0    0    0    0    0    0 \n",
       "3681 3682 3683 3684 3685 3686 3687 3688 3689 3690 3691 3692 3693 3694 3695 3696 \n",
       "   0    0    0    0    0    0    0    0    0    0    0    0    0    0    0    0 \n",
       "3697 3698 3699 3700 3701 3702 3703 3704 3705 3706 3707 3708 3709 3710 3711 3712 \n",
       "   0    0    0    0    0    0    0    0    0    0    0    0    0    0    0    0 \n",
       "3713 3714 3715 3716 3717 3718 3719 3720 3721 3722 3723 3724 3725 3726 3727 3728 \n",
       "   0    0    0    0    0    0    0    0    0    0    0    0    0    0    0    0 \n",
       "3729 3730 3731 3732 3733 3734 3735 3736 3737 3738 3739 3740 3741 3742 3743 3744 \n",
       "   0    0    0    0    0    0    0    0    0    0    0    0    0    0    0    0 \n",
       "3745 3746 3747 3748 3749 3750 3751 3752 3753 3754 3755 3756 3757 3758 3759 3760 \n",
       "   0    0    0    0    0    0    0    0    0    0    0    0    0    0    0    0 \n",
       "3761 3762 3763 3764 3765 3766 3767 3768 3769 3770 3771 3772 3773 3774 3775 3776 \n",
       "   0    0    0    0    0    0    0    0    0    0    0    0    0    0    0    0 \n",
       "3777 3778 3779 3780 3781 3782 3783 3784 3785 3786 3787 3788 3789 3790 3791 3792 \n",
       "   0    0    0    0    0    0    0    0    0    0    0    0    0    0    0    0 \n",
       "3793 3794 3795 3796 3797 3798 3799 3800 3801 3802 3803 3804 3805 3806 3807 3808 \n",
       "   0    0    0    0    0    0    0    0    0    0    0    0    0    0    0    0 \n",
       "3809 3810 3811 3812 3813 3814 3815 3816 3817 3818 3819 3820 3821 3822 3823 3824 \n",
       "   0    0    0    0    0    0    0    0    0    0    0    0    0    0    0    0 \n",
       "3825 3826 3827 3828 3829 3830 3831 3832 3833 3834 3835 3836 3837 3838 3839 3840 \n",
       "   0    0    0    0    0    0    0    0    0    0    0    0    0    0    0    0 \n",
       "3841 3842 3843 3844 3845 3846 3847 3848 3849 3850 3851 3852 3853 3854 3855 3856 \n",
       "   0    0    0    0    0    0    0    0    0    0    0    0    0    0    0    0 \n",
       "3857 3858 3859 3860 3861 3862 3863 3864 3865 3866 3867 3868 3869 3870 3871 3872 \n",
       "   0    0    0    0    0    0    0    0    0    0    0    0    0    0    0    0 \n",
       "3873 3874 3875 3876 3877 3878 3879 3880 3881 3882 3883 3884 3885 3886 3887 3888 \n",
       "   0    0    0    0    0    0    0    0    0    0    0    0    0    0    0    0 \n",
       "3889 3890 3891 3892 3893 3894 3895 3896 3897 3898 3899 3900 3901 3902 3903 3904 \n",
       "   0    0    0    0    0    0    0    0    0    0    0    0    0    0    0    0 \n",
       "3905 3906 3907 3908 3909 3910 3911 3912 3913 3914 3915 3916 3917 3918 3919 3920 \n",
       "   0    0    0    0    0    0    0    0    0    0    0    0    0    0    0    0 \n",
       "3921 3922 3923 3924 3925 3926 3927 3928 3929 3930 3931 3932 3933 3934 3935 3936 \n",
       "   0    0    0    0    0    0    0    0    0    0    0    0    0    0    0    0 \n",
       "3937 3938 3939 3940 3941 3942 3943 3944 3945 3946 3947 3948 3949 3950 3951 3952 \n",
       "   0    0    0    0    0    0    0    0    0    0    0    0    0    0    0    0 \n",
       "3953 3954 3955 3956 3957 3958 3959 3960 3961 3962 3963 3964 3965 3966 3967 3968 \n",
       "   0    0    0    0    0    0    0    0    0    0    0    0    0    0    0    0 \n",
       "3969 3970 3971 3972 3973 3974 3975 3976 3977 3978 3979 3980 3981 3982 3983 3984 \n",
       "   0    0    0    0    0    0    0    0    0    0    0    0    0    0    0    0 \n",
       "3985 3986 3987 3988 3989 3990 3991 3992 3993 3994 3995 3996 3997 3998 3999 4000 \n",
       "   0    0    0    0    0    0    0    0    0    0    0    0    0    0    0    0 \n",
       "4001 4002 4003 4004 4005 4006 4007 4008 4009 4010 4011 4012 4013 4014 4015 4016 \n",
       "   0    0    0    0    0    0    0    0    0    0    0    0    0    0    0    0 \n",
       "4017 4018 4019 4020 4021 4022 4023 4024 4025 4026 4027 4028 4029 4030 4031 4032 \n",
       "   0    0    0    0    0    0    0    0    0    0    0    0    0    0    0    0 \n",
       "4033 4034 4035 4036 4037 4038 4039 4040 4041 4042 4043 4044 4045 4046 4047 4048 \n",
       "   0    0    0    0    0    0    0    0    0    0    0    0    0    0    0    0 \n",
       "4049 4050 4051 4052 4053 4054 4055 4056 4057 4058 4059 4060 4061 4062 4063 4064 \n",
       "   0    0    0    0    0    0    0    0    0    0    0    0    0    0    0    0 \n",
       "4065 4066 4067 4068 4069 4070 4071 4072 4073 4074 4075 4076 4077 4078 4079 4080 \n",
       "   0    0    0    0    0    0    0    0    0    0    0    0    0    0    0    0 \n",
       "4081 4082 4083 4084 4085 4086 4087 4088 4089 4090 4091 4092 4093 4094 4095 4096 \n",
       "   0    0    0    0    0    0    0    0    0    0    0    0    0    0    0    0 \n",
       "4097 4098 4099 4100 4101 4102 4103 4104 4105 4106 4107 4108 4109 4110 4111 4112 \n",
       "   0    0    0    0    0    0    0    0    0    0    0    0    0    0    0    0 \n",
       "4113 4114 4115 4116 4117 4118 4119 4120 4121 4122 4123 4124 4125 4126 4127 4128 \n",
       "   0    0    0    0    0    0    0    0    0    0    0    0    0    0    0    0 \n",
       "4129 4130 4131 4132 4133 4134 4135 4136 4137 4138 4139 4140 4141 4142 4143 4144 \n",
       "   0    0    0    0    0    0    0    0    0    0    0    0    0    0    0    0 \n",
       "4145 4146 4147 4148 4149 4150 4151 4152 4153 4154 4155 4156 4157 4158 4159 4160 \n",
       "   0    0    0    0    0    0    0    0    0    0    0    0    0    0    0    0 \n",
       "4161 4162 4163 4164 4165 4166 4167 4168 4169 4170 4171 4172 4173 4174 4175 4176 \n",
       "   0    0    0    0    0    0    0    0    0    0    0    0    0    0    0    0 \n",
       "4177 4178 4179 4180 4181 4182 4183 4184 4185 4186 4187 4188 4189 4190 4191 4192 \n",
       "   0    0    0    0    0    0    0    0    0    0    0    0    0    0    0    0 \n",
       "4193 4194 4195 4196 4197 4198 4199 4200 4201 4202 4203 4204 4205 4206 4207 4208 \n",
       "   0    0    0    0    0    0    0    0    0    0    0    0    0    0    0    0 \n",
       "4209 4210 4211 4212 4213 4214 4215 4216 4217 4218 4219 4220 4221 4222 4223 4224 \n",
       "   0    0    0    0    0    0    0    0    0    0    0    0    0    0    0    0 \n",
       "4225 4226 4227 4228 4229 4230 4231 4232 4233 4234 4235 4236 4237 4238 4239 4240 \n",
       "   0    0    0    0    0    0    0    0    0    0    0    0    0    0    0    0 \n",
       "4241 4242 4243 4244 4245 4246 4247 4248 4249 4250 4251 4252 4253 4254 4255 4256 \n",
       "   0    0    0    0    0    0    0    0    0    0    0    0    0    0    0    0 \n",
       "4257 4258 4259 4260 4261 4262 4263 4264 4265 4266 4267 4268 4269 4270 4271 4272 \n",
       "   0    0    0    0    0    0    0    0    0    0    0    0    0    0    0    0 \n",
       "4273 4274 4275 4276 4277 4278 4279 4280 4281 4282 4283 4284 4285 4286 4287 4288 \n",
       "   0    0    0    0    0    0    0    0    0    0    0    0    0    0    0    0 \n",
       "4289 4290 4291 4292 4293 4294 4295 4296 4297 4298 4299 4300 4301 4302 4303 4304 \n",
       "   0    0    0    0    0    0    0    0    0    0    0    0    0    0    0    0 \n",
       "4305 4306 4307 4308 4309 4310 4311 4312 4313 4314 4315 4316 4317 4318 4319 4320 \n",
       "   0    0    0    0    0    0    0    0    0    0    0    0    0    0    0    0 \n",
       "4321 4322 4323 4324 4325 4326 4327 4328 4329 4330 4331 4332 4333 4334 4335 4336 \n",
       "   0    0    0    0    0    0    0    0    0    0    0    0    0    0    0    0 \n",
       "4337 4338 4339 4340 4341 4342 4343 4344 4345 4346 4347 4348 4349 4350 4351 4352 \n",
       "   0    0    0    0    0    0    0    0    0    0    0    0    0    0    0    0 \n",
       "4353 4354 4355 4356 4357 4358 4359 4360 4361 4362 4363 4364 4365 4366 4367 4368 \n",
       "   0    0    0    0    0    0    0    0    0    0    0    0    0    0    0    0 \n",
       "4369 4370 4371 4372 4373 4374 4375 4376 4377 4378 4379 4380 4381 4382 4383 4384 \n",
       "   0    0    0    0    0    0    0    0    0    0    0    0    0    0    0    0 \n",
       "4385 4386 4387 4388 4389 4390 4391 4392 4393 4394 4395 4396 4397 4398 4399 4400 \n",
       "   0    0    0    0    0    0    0    0    0    0    0    0    0    0    0    0 \n",
       "4401 4402 4403 4404 4405 4406 4407 4408 4409 4410 4411 4412 4413 4414 4415 4416 \n",
       "   0    0    0    0    0    0    0    0    0    0    0    0    0    0    0    0 \n",
       "4417 4418 4419 4420 4421 4422 4423 4424 4425 4426 4427 4428 4429 4430 4431 4432 \n",
       "   0    0    0    0    0    0    0    0    0    0    0    0    0    0    0    0 \n",
       "4433 4434 4435 4436 4437 4438 4439 4440 4441 4442 4443 4444 4445 4446 4447 4448 \n",
       "   0    0    0    0    0    0    0    0    0    0    0    0    0    0    0    0 \n",
       "4449 4450 4451 4452 4453 4454 4455 4456 4457 4458 4459 4460 4461 4462 4463 4464 \n",
       "   0    0    0    0    0    0    0    0    0    0    0    0    0    0    0    0 \n",
       "4465 4466 4467 4468 4469 4470 4471 4472 4473 4474 4475 4476 4477 4478 4479 4480 \n",
       "   0    0    0    0    0    0    0    0    0    0    0    0    0    0    0    0 \n",
       "4481 4482 4483 4484 4485 4486 4487 4488 4489 4490 4491 4492 4493 4494 4495 4496 \n",
       "   0    0    0    0    0    0    0    0    0    0    0    0    0    0    0    0 \n",
       "4497 4498 4499 4500 4501 4502 4503 4504 4505 4506 4507 4508 4509 4510 4511 4512 \n",
       "   0    0    0    0    0    0    0    0    0    0    0    0    0    0    0    0 \n",
       "4513 4514 4515 4516 4517 4518 4519 4520 4521 4522 4523 4524 4525 4526 4527 4528 \n",
       "   0    0    0    0    0    0    0    0    0    0    0    0    0    0    0    0 \n",
       "4529 4530 4531 4532 4533 4534 4535 4536 4537 4538 4539 4540 4541 4542 4543 4544 \n",
       "   0    0    0    0    0    0    0    0    0    0    0    0    0    0    0    0 \n",
       "4545 4546 4547 4548 4549 4550 4551 4552 4553 4554 4555 4556 4557 4558 4559 4560 \n",
       "   0    0    0    0    0    0    0    0    0    0    0    0    0    0    0    0 \n",
       "4561 4562 4563 4564 4565 4566 4567 4568 4569 4570 4571 4572 4573 4574 4575 4576 \n",
       "   0    0    0    0    0    0    0    0    0    0    0    0    0    0    0    0 \n",
       "4577 4578 4579 4580 4581 4582 4583 4584 4585 4586 4587 4588 4589 4590 4591 4592 \n",
       "   0    0    0    0    0    0    0    0    0    0    0    0    0    0    0    0 \n",
       "4593 4594 4595 4596 4597 4598 4599 4600 4601 4602 4603 4604 4605 4606 4607 4608 \n",
       "   0    0    0    0    0    0    0    0    0    0    0    0    0    0    0    0 \n",
       "4609 4610 4611 4612 4613 4614 4615 4616 4617 4618 4619 4620 4621 4622 4623 4624 \n",
       "   0    0    0    0    0    0    0    0    0    0    0    0    0    0    0    0 \n",
       "4625 4626 4627 4628 4629 4630 4631 4632 4633 4634 4635 4636 4637 4638 4639 4640 \n",
       "   0    0    0    0    0    0    0    0    0    0    0    0    0    0    0    0 \n",
       "4641 4642 4643 4644 4645 4646 4647 4648 4649 4650 4651 4652 4653 4654 4655 4656 \n",
       "   0    0    0    0    0    0    0    0    0    0    0    0    0    0    0    0 \n",
       "4657 4658 4659 4660 4661 4662 4663 4664 4665 4666 4667 4668 4669 4670 4671 4672 \n",
       "   0    0    0    0    0    0    0    0    0    0    0    0    0    0    0    0 \n",
       "4673 4674 4675 4676 4677 4678 4679 4680 4681 4682 4683 4684 4685 4686 4687 4688 \n",
       "   0    0    0    0    0    0    0    0    0    0    0    0    0    0    0    0 \n",
       "4689 4690 4691 4692 4693 4694 4695 4696 4697 4698 4699 4700 4701 4702 4703 4704 \n",
       "   0    0    0    0    0    0    0    0    0    0    0    0    0    0    0    0 \n",
       "4705 4706 4707 4708 4709 4710 4711 4712 4713 4714 4715 4716 4717 4718 4719 4720 \n",
       "   0    0    0    0    0    0    0    0    0    0    0    0    0    0    0    0 \n",
       "4721 4722 4723 4724 4725 4726 4727 4728 4729 4730 4731 4732 4733 4734 4735 4736 \n",
       "   0    0    0    0    0    0    0    0    0    0    0    0    0    0    0    0 \n",
       "4737 4738 4739 4740 4741 4742 4743 4744 4745 4746 4747 4748 4749 4750 4751 4752 \n",
       "   0    0    0    0    0    0    0    0    0    0    0    0    0    0    0    0 \n",
       "4753 4754 4755 4756 4757 4758 4759 4760 4761 4762 4763 4764 4765 4766 4767 4768 \n",
       "   0    0    0    0    0    0    0    0    0    0    0    0    0    0    0    0 \n",
       "4769 4770 4771 4772 4773 4774 4775 4776 4777 4778 4779 4780 4781 4782 4783 4784 \n",
       "   0    0    0    0    0    0    0    0    0    0    0    0    0    0    0    0 \n",
       "4785 4786 4787 4788 4789 4790 4791 4792 4793 4794 4795 4796 4797 4798 4799 4800 \n",
       "   0    0    0    0    0    0    0    0    0    0    0    0    0    0    0    0 \n",
       "4801 4802 4803 4804 4805 4806 4807 4808 4809 4810 4811 4812 4813 4814 4815 4816 \n",
       "   0    0    0    0    0    0    0    0    0    0    0    0    0    0    0    0 \n",
       "4817 4818 4819 4820 4821 4822 4823 4824 4825 4826 4827 4828 4829 4830 4831 4832 \n",
       "   0    0    0    0    0    0    0    0    0    0    0    0    0    0    0    0 \n",
       "4833 4834 4835 4836 4837 4838 4839 4840 4841 4842 4843 4844 4845 4846 4847 4848 \n",
       "   0    0    0    0    0    0    0    0    0    0    0    0    0    0    0    0 \n",
       "4849 4850 4851 4852 4853 4854 4855 4856 4857 4858 4859 4860 4861 4862 4863 4864 \n",
       "   0    0    0    0    0    0    0    0    0    0    0    0    0    0    0    0 \n",
       "4865 4866 4867 4868 4869 4870 4871 4872 4873 4874 4875 4876 4877 4878 4879 4880 \n",
       "   0    0    0    0    0    0    0    0    0    0    0    0    0    0    0    0 \n",
       "4881 4882 4883 4884 4885 4886 4887 4888 4889 4890 4891 4892 4893 4894 4895 4896 \n",
       "   0    0    0    0    0    0    0    0    0    0    0    0    0    0    0    0 \n",
       "4897 4898 4899 4900 4901 4902 4903 4904 4905 4906 4907 4908 4909 4910 4911 4912 \n",
       "   0    0    0    0    0    0    0    0    0    0    0    0    0    0    0    0 \n",
       "4913 4914 4915 4916 4917 4918 4919 4920 4921 4922 4923 4924 4925 4926 4927 4928 \n",
       "   0    0    0    0    0    0    0    0    0    0    0    0    0    0    0    1 \n",
       "4929 4930 4931 4932 4933 4934 4935 4936 4937 4938 4939 4940 4941 4942 4943 4944 \n",
       "   1    1    1    1    1    1    1    1    1    1    1    1    1    1    1    1 \n",
       "4945 4946 4947 4948 4949 4950 4951 4952 4953 4954 4955 4956 4957 4958 4959 4960 \n",
       "   1    1    1    0    0    0    0    0    0    0    0    0    0    0    0    0 \n",
       "4961 4962 4963 4964 4965 4966 4967 4968 4969 4970 4971 4972 4973 4974 4975 4976 \n",
       "   0    0    0    0    0    0    0    0    0    0    0    0    0    0    0    0 \n",
       "4977 4978 4979 4980 4981 4982 4983 4984 4985 4986 4987 4988 4989 4990 4991 4992 \n",
       "   0    0    0    0    0    0    0    0    0    0    0    0    0    0    0    0 \n",
       "4993 4994 4995 4996 4997 4998 4999 5000 5001 5002 5003 5004 5005 5006 5007 5008 \n",
       "   0    0    0    0    0    0    0    0    0    0    0    0    0    0    0    0 \n",
       "5009 5010 5011 5012 5013 5014 5015 5016 5017 5018 5019 5020 5021 5022 5023 5024 \n",
       "   0    0    0    0    0    0    0    0    0    0    0    0    0    0    0    0 \n",
       "5025 5026 5027 5028 5029 5030 5031 5032 5033 5034 5035 5036 5037 5038 5039 5040 \n",
       "   0    0    0    0    0    0    0    0    0    0    0    0    0    0    0    0 \n",
       "5041 5042 5043 5044 5045 5046 5047 5048 5049 5050 5051 5052 5053 5054 5055 5056 \n",
       "   0    0    0    0    0    0    0    0    0    0    0    0    0    0    0    0 \n",
       "5057 5058 5059 5060 5061 5062 5063 5064 5065 5066 5067 5068 5069 5070 5071 5072 \n",
       "   0    0    0    0    0    0    0    0    0    0    0    0    0    0    0    0 \n",
       "5073 5074 5075 5076 5077 5078 5079 5080 5081 5082 5083 5084 5085 5086 5087 5088 \n",
       "   0    0    0    0    0    0    0    0    0    0    0    0    0    0    0    0 \n",
       "5089 5090 5091 5092 5093 5094 5095 5096 5097 5098 5099 5100 5101 5102 5103 5104 \n",
       "   0    0    0    0    0    0    0    0    0    0    0    0    0    0    0    0 \n",
       "5105 5106 5107 5108 5109 5110 5111 5112 5113 5114 5115 5116 5117 5118 5119 5120 \n",
       "   0    0    0    0    0    0    0    0    0    0    0    0    0    0    0    0 \n",
       "5121 5122 5123 5124 5125 5126 5127 5128 5129 5130 5131 5132 5133 5134 5135 5136 \n",
       "   0    0    0    0    0    0    0    0    0    0    0    0    0    0    0    0 \n",
       "5137 5138 5139 5140 5141 5142 5143 5144 5145 5146 5147 5148 5149 5150 5151 5152 \n",
       "   0    0    0    0    0    0    0    0    0    0    0    0    0    0    0    0 \n",
       "5153 5154 5155 5156 5157 5158 5159 5160 5161 5162 5163 5164 5165 5166 5167 5168 \n",
       "   0    0    0    0    0    0    0    0    0    0    0    0    0    0    0    0 \n",
       "5169 5170 5171 5172 5173 5174 5175 5176 5177 5178 5179 5180 5181 5182 5183 5184 \n",
       "   0    0    0    0    0    0    0    0    0    0    0    0    0    0    0    0 \n",
       "5185 5186 5187 5188 5189 5190 5191 5192 5193 5194 5195 5196 5197 5198 5199 5200 \n",
       "   0    0    0    0    0    0    0    0    0    0    0    0    0    0    0    0 \n",
       "5201 5202 5203 5204 5205 5206 5207 5208 5209 5210 5211 5212 5213 5214 5215 5216 \n",
       "   0    0    0    0    0    0    0    0    0    0    0    0    0    0    0    0 \n",
       "5217 5218 5219 5220 5221 5222 5223 5224 5225 5226 5227 5228 5229 5230 5231 5232 \n",
       "   0    0    0    0    0    0    0    0    0    0    0    0    0    0    0    0 \n",
       "5233 5234 5235 5236 5237 5238 5239 5240 5241 5242 5243 5244 5245 5246 5247 5248 \n",
       "   0    0    0    0    0    0    0    0    0    0    0    0    0    0    0    0 \n",
       "5249 5250 5251 5252 5253 5254 5255 5256 5257 5258 5259 5260 5261 5262 5263 5264 \n",
       "   0    0    0    0    0    0    0    0    0    0    0    0    0    0    0    0 \n",
       "5265 5266 5267 5268 5269 5270 5271 5272 5273 5274 5275 5276 5277 5278 5279 5280 \n",
       "   0    0    0    0    0    0    0    0    0    0    0    0    0    0    0    0 \n",
       "5281 5282 5283 5284 5285 5286 5287 5288 5289 5290 5291 5292 5293 5294 5295 5296 \n",
       "   0    0    0    0    0    0    0    0    0    0    0    0    0    0    0    0 \n",
       "5297 5298 5299 5300 5301 5302 5303 5304 5305 5306 5307 5308 5309 5310 5311 5312 \n",
       "   0    0    0    0    0    0    0    0    0    0    0    0    0    0    0    0 \n",
       "5313 5314 5315 5316 5317 5318 5319 5320 5321 5322 5323 5324 5325 5326 5327 5328 \n",
       "   0    0    0    0    0    0    0    0    0    0    0    0    0    0    0    0 \n",
       "5329 5330 5331 5332 5333 5334 5335 5336 5337 5338 5339 5340 5341 5342 5343 5344 \n",
       "   0    0    0    0    0    0    0    0    0    0    0    0    0    0    0    0 \n",
       "5345 5346 5347 5348 5349 5350 5351 5352 5353 5354 5355 5356 5357 5358 5359 5360 \n",
       "   0    0    0    0    0    0    0    0    0    0    0    0    0    0    0    0 \n",
       "5361 5362 5363 5364 5365 5366 5367 5368 5369 5370 5371 5372 5373 5374 5375 5376 \n",
       "   0    0    0    0    0    0    0    0    0    0    0    0    0    0    0    0 \n",
       "5377 5378 5379 5380 5381 5382 5383 5384 5385 5386 5387 5388 5389 5390 5391 5392 \n",
       "   0    0    0    0    0    0    0    0    0    0    0    0    0    0    0    0 \n",
       "5393 5394 5395 5396 5397 5398 5399 5400 5401 5402 5403 5404 5405 5406 5407 5408 \n",
       "   0    0    0    0    0    0    0    0    0    0    0    0    0    0    0    0 \n",
       "5409 5410 5411 5412 5413 5414 5415 5416 5417 5418 5419 5420 5421 5422 5423 5424 \n",
       "   0    0    0    0    0    0    0    0    0    0    0    0    0    0    0    0 \n",
       "5425 5426 5427 5428 5429 5430 5431 5432 5433 5434 5435 5436 5437 5438 5439 5440 \n",
       "   0    0    0    0    0    0    0    0    0    0    0    0    0    0    0    0 \n",
       "5441 5442 5443 5444 5445 5446 5447 5448 5449 5450 5451 5452 5453 5454 5455 5456 \n",
       "   0    0    0    0    0    0    0    0    0    0    0    0    0    0    0    0 \n",
       "5457 5458 5459 5460 5461 5462 5463 5464 5465 5466 5467 5468 5469 5470 5471 5472 \n",
       "   0    0    0    0    0    0    0    0    0    0    0    0    0    0    0    0 \n",
       "5473 5474 5475 5476 5477 5478 5479 5480 5481 5482 5483 5484 5485 5486 5487 5488 \n",
       "   0    0    0    0    0    0    0    0    0    0    0    0    0    0    0    0 \n",
       "5489 5490 5491 5492 5493 5494 5495 5496 5497 5498 5499 5500 5501 5502 5503 5504 \n",
       "   0    0    0    0    0    0    0    0    0    0    0    0    0    0    0    0 \n",
       "5505 5506 5507 5508 5509 5510 5511 5512 5513 5514 5515 5516 5517 5518 5519 5520 \n",
       "   0    0    0    0    0    0    0    0    0    0    0    0    0    0    0    0 \n",
       "5521 5522 5523 5524 5525 5526 5527 5528 5529 5530 5531 5532 5533 5534 5535 5536 \n",
       "   0    0    0    0    0    0    0    0    0    0    0    0    0    0    0    0 \n",
       "5537 5538 5539 5540 5541 5542 5543 5544 5545 5546 5547 5548 5549 5550 5551 5552 \n",
       "   0    0    0    0    0    0    0    0    0    0    0    0    0    0    0    0 \n",
       "5553 5554 5555 5556 5557 5558 5559 5560 5561 5562 5563 5564 5565 5566 5567 5568 \n",
       "   0    0    0    0    0    0    0    0    0    0    0    0    0    0    0    0 \n",
       "5569 5570 5571 5572 5573 5574 5575 5576 5577 5578 5579 5580 5581 5582 5583 5584 \n",
       "   0    0    0    0    0    0    0    0    0    0    0    0    0    0    0    0 \n",
       "5585 5586 5587 5588 5589 5590 5591 5592 5593 5594 5595 5596 5597 5598 5599 5600 \n",
       "   0    0    0    0    0    0    0    0    0    0    0    0    0    0    0    0 \n",
       "5601 5602 5603 5604 5605 5606 5607 5608 5609 5610 5611 5612 5613 5614 5615 5616 \n",
       "   0    0    0    0    0    0    0    0    0    0    0    0    0    0    0    0 \n",
       "5617 5618 5619 5620 5621 5622 5623 5624 5625 5626 5627 5628 5629 5630 5631 5632 \n",
       "   0    0    0    0    0    0    0    0    0    0    0    0    0    0    0    0 \n",
       "5633 5634 5635 5636 5637 5638 5639 5640 5641 5642 5643 5644 5645 5646 5647 5648 \n",
       "   0    0    0    0    0    0    0    0    0    0    0    0    0    0    0    0 \n",
       "5649 5650 5651 5652 5653 5654 5655 5656 5657 5658 5659 5660 5661 5662 5663 5664 \n",
       "   0    0    0    0    0    0    0    0    0    0    0    0    0    0    0    0 \n",
       "5665 5666 5667 5668 5669 5670 5671 5672 5673 5674 5675 5676 5677 5678 5679 5680 \n",
       "   0    0    0    0    0    0    0    0    0    0    0    0    0    0    0    0 \n",
       "5681 5682 5683 5684 5685 5686 5687 5688 5689 5690 5691 5692 5693 5694 5695 5696 \n",
       "   0    0    0    0    0    0    0    0    0    0    0    0    0    0    0    0 \n",
       "5697 5698 5699 5700 5701 5702 5703 5704 5705 5706 5707 5708 5709 5710 5711 5712 \n",
       "   0    0    0    0    0    0    0    0    0    0    0    0    0    0    0    0 \n",
       "5713 5714 5715 5716 5717 5718 5719 5720 5721 5722 5723 5724 5725 5726 5727 5728 \n",
       "   0    0    0    0    0    0    0    0    0    0    0    0    0    0    0    0 \n",
       "5729 5730 5731 5732 5733 5734 5735 5736 5737 5738 5739 5740 5741 5742 5743 5744 \n",
       "   0    0    0    0    0    0    0    0    0    0    0    0    0    0    0    0 \n",
       "5745 5746 5747 5748 5749 5750 5751 5752 5753 5754 5755 5756 5757 5758 5759 5760 \n",
       "   0    0    0    0    0    0    0    0    0    0    0    0    0    0    0    0 \n",
       "5761 5762 5763 5764 5765 5766 5767 5768 5769 5770 5771 5772 5773 5774 5775 5776 \n",
       "   0    0    0    0    0    0    0    0    0    0    0    0    0    0    0    0 \n",
       "5777 5778 5779 5780 5781 5782 5783 5784 5785 5786 5787 5788 5789 5790 5791 5792 \n",
       "   0    0    0    0    0    0    0    0    0    0    0    0    0    0    0    0 \n",
       "5793 5794 5795 5796 5797 5798 5799 5800 5801 5802 5803 5804 5805 5806 5807 5808 \n",
       "   0    0    0    0    0    0    0    0    0    0    0    0    0    0    0    0 \n",
       "5809 5810 5811 5812 5813 5814 5815 5816 5817 5818 5819 5820 5821 5822 5823 5824 \n",
       "   0    0    0    0    0    0    0    0    0    0    0    0    0    0    0    0 \n",
       "5825 5826 5827 5828 5829 5830 5831 5832 5833 5834 5835 5836 5837 5838 5839 5840 \n",
       "   0    0    0    0    0    0    0    0    0    0    0    0    0    0    0    0 \n",
       "5841 5842 5843 5844 5845 5846 5847 5848 5849 5850 5851 5852 5853 5854 5855 5856 \n",
       "   0    0    0    0    0    0    0    0    0    0    0    0    0    0    0    0 \n",
       "5857 5858 5859 5860 5861 5862 5863 5864 5865 5866 5867 5868 5869 5870 5871 5872 \n",
       "   0    0    0    0    0    0    0    0    0    0    0    0    0    0    0    0 \n",
       "5873 5874 5875 5876 5877 5878 5879 5880 5881 5882 5883 5884 5885 5886 5887 5888 \n",
       "   0    0    0    0    0    0    0    0    0    0    0    0    0    0    0    1 \n",
       "5889 5890 5891 5892 5893 5894 5895 5896 5897 5898 5899 5900 5901 5902 5903 5904 \n",
       "   0    0    0    0    0    0    0    0    0    0    0    1    1    0    0    0 \n",
       "5905 5906 5907 5908 5909 5910 5911 5912 5913 5914 5915 5916 5917 5918 5919 5920 \n",
       "   0    0    0    0    1    0    1    1    1    1    1    0    0    0    0    0 \n",
       "5921 5922 5923 5924 5925 5926 5927 5928 5929 5930 5931 5932 5933 5934 5935 5936 \n",
       "   0    0    0    0    0    0    0    0    0    0    0    1    0    0    0    0 \n",
       "5937 5938 5939 5940 5941 5942 5943 5944 5945 5946 5947 5948 5949 5950 5951 5952 \n",
       "   0    0    0    0    0    0    1    0    0    0    0    0    0    0    0    0 \n",
       "5953 5954 5955 5956 5957 5958 5959 5960 5961 5962 5963 5964 5965 5966 5967 5968 \n",
       "   0    0    0    0    0    0    0    0    0    0    0    0    0    0    0    0 \n",
       "5969 5970 5971 5972 5973 5974 5975 5976 5977 5978 5979 5980 5981 5982 5983 5984 \n",
       "   0    0    0    0    0    0    0    0    0    0    0    0    0    0    0    0 \n",
       "5985 5986 5987 5988 5989 5990 5991 5992 5993 5994 5995 5996 5997 5998 5999 6000 \n",
       "   0    0    0    0    0    0    0    0    0    0    0    0    0    0    0    0 \n",
       "6001 6002 6003 6004 6005 6006 6007 6008 6009 6010 6011 6012 6013 6014 6015 6016 \n",
       "   0    0    0    0    0    0    0    0    0    0    0    0    0    0    0    0 \n",
       "6017 6018 6019 6020 6021 6022 6023 6024 6025 6026 6027 6028 6029 6030 6031 6032 \n",
       "   0    0    0    0    0    0    0    0    0    0    0    0    0    0    0    0 \n",
       "6033 6034 6035 6036 6037 6038 6039 6040 6041 6042 6043 6044 6045 6046 6047 6048 \n",
       "   0    0    0    0    0    0    0    0    0    0    0    0    0    0    0    0 \n",
       "6049 6050 6051 6052 6053 6054 6055 6056 6057 6058 6059 6060 6061 6062 6063 6064 \n",
       "   0    0    0    0    0    0    0    0    0    0    0    0    0    0    0    0 \n",
       "6065 6066 6067 6068 6069 6070 6071 6072 6073 6074 6075 6076 6077 6078 6079 6080 \n",
       "   0    0    0    0    0    0    0    0    0    0    0    0    0    0    0    0 \n",
       "6081 6082 6083 6084 6085 6086 6087 6088 6089 6090 6091 6092 6093 6094 6095 6096 \n",
       "   0    0    0    0    0    0    0    0    0    0    0    0    0    0    0    0 \n",
       "6097 6098 6099 6100 6101 6102 6103 6104 6105 6106 6107 6108 6109 6110 6111 6112 \n",
       "   0    0    0    0    0    0    0    0    0    0    0    0    0    0    0    0 \n",
       "6113 6114 6115 6116 6117 6118 6119 6120 6121 6122 6123 6124 6125 6126 6127 6128 \n",
       "   0    0    0    0    0    0    0    0    0    0    0    0    0    0    0    0 \n",
       "6129 6130 6131 6132 6133 6134 6135 6136 6137 6138 6139 6140 6141 6142 6143 6144 \n",
       "   0    0    0    0    0    0    0    0    0    0    0    0    0    0    0    0 \n",
       "6145 6146 6147 6148 6149 6150 6151 6152 6153 6154 6155 6156 6157 6158 6159 6160 \n",
       "   0    0    0    0    0    0    0    0    0    0    0    0    0    0    0    0 \n",
       "6161 6162 6163 6164 6165 6166 6167 6168 6169 6170 6171 6172 6173 6174 6175 6176 \n",
       "   0    0    0    0    0    0    0    0    0    0    0    0    0    0    0    0 \n",
       "6177 6178 6179 6180 6181 6182 6183 6184 6185 6186 6187 6188 6189 6190 6191 6192 \n",
       "   0    0    0    0    0    0    0    0    0    0    0    0    0    0    0    0 \n",
       "6193 6194 6195 6196 6197 6198 6199 6200 6201 6202 6203 6204 6205 6206 6207 6208 \n",
       "   0    0    0    0    0    0    0    0    0    0    0    0    0    0    0    0 \n",
       "6209 6210 6211 6212 6213 6214 6215 6216 6217 6218 6219 6220 6221 6222 6223 6224 \n",
       "   0    0    0    0    0    0    0    0    0    0    0    0    0    0    0    0 \n",
       "6225 6226 6227 6228 6229 6230 6231 6232 6233 6234 6235 6236 6237 6238 6239 6240 \n",
       "   0    0    0    0    0    0    0    0    0    0    0    0    0    0    0    0 \n",
       "6241 6242 6243 6244 6245 6246 6247 6248 6249 6250 6251 6252 6253 6254 6255 6256 \n",
       "   0    0    0    0    0    0    0    0    0    0    0    0    0    0    0    0 \n",
       "6257 6258 6259 6260 6261 6262 6263 6264 6265 6266 6267 6268 6269 6270 6271 6272 \n",
       "   0    0    0    0    0    0    0    0    0    0    0    0    0    0    0    0 \n",
       "6273 6274 6275 6276 6277 6278 6279 6280 6281 6282 6283 6284 6285 6286 6287 6288 \n",
       "   0    0    0    0    0    0    0    0    0    0    0    0    0    0    0    0 \n",
       "6289 6290 6291 6292 6293 6294 6295 6296 6297 6298 6299 6300 6301 6302 6303 6304 \n",
       "   0    0    0    0    0    0    0    0    0    0    0    0    0    0    0    0 \n",
       "6305 6306 6307 6308 6309 6310 6311 6312 6313 6314 6315 6316 6317 6318 6319 6320 \n",
       "   0    0    0    0    0    0    0    0    0    0    0    0    0    0    0    0 \n",
       "6321 6322 6323 6324 6325 6326 6327 6328 6329 6330 6331 6332 6333 6334 6335 6336 \n",
       "   0    0    0    1    0    0    0    0    0    0    0    0    0    0    0    0 \n",
       "6337 6338 6339 6340 6341 6342 6343 6344 6345 6346 6347 6348 6349 6350 6351 6352 \n",
       "   0    0    0    0    0    0    0    0    0    0    0    0    0    0    0    0 \n",
       "6353 6354 6355 6356 6357 6358 6359 6360 6361 6362 6363 6364 6365 6366 6367 6368 \n",
       "   0    0    0    0    0    0    0    0    0    0    0    0    0    0    0    0 \n",
       "6369 6370 6371 6372 6373 6374 6375 6376 6377 6378 6379 6380 6381 6382 6383 6384 \n",
       "   0    0    0    0    0    0    0    0    0    0    0    0    0    0    0    0 \n",
       "6385 6386 6387 6388 6389 6390 6391 6392 6393 6394 6395 6396 6397 6398 6399 6400 \n",
       "   0    0    0    0    0    0    0    0    0    0    0    0    0    0    0    0 \n",
       "6401 6402 6403 6404 6405 6406 6407 6408 6409 6410 6411 6412 6413 6414 6415 6416 \n",
       "   0    0    0    0    0    0    0    0    0    0    0    0    0    0    0    0 \n",
       "6417 6418 6419 6420 6421 6422 6423 6424 6425 6426 6427 6428 6429 6430 6431 6432 \n",
       "   0    0    0    0    0    0    0    0    0    0    0    0    0    0    0    0 \n",
       "6433 6434 6435 6436 6437 6438 6439 6440 6441 6442 6443 6444 6445 6446 6447 6448 \n",
       "   0    0    0    0    0    0    0    0    0    0    0    0    0    0    0    0 \n",
       "6449 6450 6451 6452 6453 6454 6455 6456 6457 6458 6459 6460 6461 6462 6463 6464 \n",
       "   0    1    0    0    1    0    0    0    0    0    0    0    0    0    0    1 \n",
       "6465 6466 6467 6468 6469 6470 6471 6472 6473 6474 6475 6476 6477 6478 6479 6480 \n",
       "   0    0    0    0    0    0    0    0    0    0    0    0    0    1    0    0 \n",
       "6481 6482 6483 6484 6485 6486 6487 6488 6489 6490 6491 6492 6493 6494 6495 6496 \n",
       "   0    0    0    0    0    0    0    0    0    0    0    0    0    0    0    0 \n",
       "6497 6498 6499 6500 6501 6502 6503 6504 6505 6506 6507 6508 6509 6510 6511 6512 \n",
       "   1    0    0    1    0    0    0    0    0    1    0    0    0    0    1    0 \n",
       "6513 6514 6515 6516 6517 6518 6519 6520 6521 6522 6523 6524 6525 6526 6527 6528 \n",
       "   0    0    0    0    0    0    0    0    0    0    0    0    1    0    0    0 \n",
       "6529 6530 6531 6532 6533 6534 6535 6536 6537 6538 6539 6540 6541 6542 6543 6544 \n",
       "   0    0    0    0    0    0    0    0    0    0    0    0    0    0    0    0 \n",
       "6545 6546 6547 6548 6549 6550 6551 6552 6553 6554 6555 6556 6557 6558 6559 6560 \n",
       "   0    0    0    0    0    0    0    0    0    0    0    0    0    0    0    0 \n",
       "6561 6562 6563 6564 6565 6566 6567 6568 6569 6570 6571 6572 6573 6574 6575 6576 \n",
       "   0    0    0    0    0    0    0    0    0    0    0    0    0    0    0    0 \n",
       "6577 6578 6579 6580 6581 6582 6583 6584 6585 6586 6587 6588 6589 6590 6591 6592 \n",
       "   0    0    0    0    0    0    0    0    0    0    0    0    0    0    0    0 \n",
       "6593 6594 6595 6596 6597 6598 6599 6600 6601 6602 6603 6604 6605 6606 6607 6608 \n",
       "   0    0    0    0    0    0    0    0    0    0    0    0    0    0    0    0 \n",
       "6609 6610 6611 6612 6613 6614 6615 6616 6617 6618 6619 6620 6621 6622 6623 6624 \n",
       "   0    0    0    0    0    0    0    0    0    0    0    0    0    0    0    0 \n",
       "6625 6626 6627 6628 6629 6630 6631 6632 6633 6634 6635 6636 6637 6638 6639 6640 \n",
       "   0    0    0    0    0    0    0    0    0    0    0    0    0    0    0    0 \n",
       "6641 6642 6643 6644 6645 6646 6647 6648 6649 6650 6651 6652 6653 6654 6655 6656 \n",
       "   0    0    0    0    0    0    0    0    0    0    0    0    0    0    0    0 \n",
       "6657 6658 6659 6660 6661 6662 6663 6664 6665 6666 6667 6668 6669 6670 6671 6672 \n",
       "   0    0    0    0    0    0    0    0    0    0    0    0    0    0    0    0 \n",
       "6673 6674 6675 6676 6677 6678 6679 6680 6681 6682 6683 6684 6685 6686 6687 6688 \n",
       "   0    0    0    0    0    0    0    0    0    0    0    0    0    0    0    0 \n",
       "6689 6690 6691 6692 6693 6694 6695 6696 6697 6698 6699 6700 6701 6702 6703 6704 \n",
       "   0    0    0    0    0    0    0    0    0    0    0    0    0    0    0    0 \n",
       "6705 6706 6707 6708 6709 6710 6711 6712 6713 6714 6715 6716 6717 6718 6719 6720 \n",
       "   0    0    0    0    0    0    0    0    0    0    0    0    0    0    0    0 \n",
       "6721 6722 6723 6724 6725 6726 6727 6728 6729 6730 6731 6732 6733 6734 6735 6736 \n",
       "   0    0    0    0    0    0    0    0    0    0    0    0    0    0    0    0 \n",
       "6737 6738 6739 6740 6741 6742 6743 6744 6745 6746 6747 6748 6749 6750 6751 6752 \n",
       "   0    0    0    0    0    0    0    0    0    0    0    0    0    0    0    0 \n",
       "6753 6754 6755 6756 6757 6758 6759 6760 6761 6762 6763 6764 6765 6766 6767 6768 \n",
       "   0    0    0    0    0    0    0    0    0    0    0    0    0    0    0    0 \n",
       "6769 6770 6771 6772 6773 6774 6775 6776 6777 6778 6779 6780 6781 6782 6783 6784 \n",
       "   0    0    0    0    0    0    0    0    0    0    0    0    0    0    0    0 \n",
       "6785 6786 6787 6788 6789 6790 6791 6792 6793 6794 6795 6796 6797 6798 6799 6800 \n",
       "   0    0    0    0    0    0    0    0    0    0    0    0    0    0    0    0 \n",
       "6801 6802 6803 6804 6805 6806 6807 6808 6809 6810 6811 6812 6813 6814 6815 6816 \n",
       "   0    0    0    0    0    0    0    0    0    0    0    0    0    0    0    0 \n",
       "6817 6818 6819 6820 6821 6822 6823 6824 6825 6826 6827 6828 6829 6830 6831 6832 \n",
       "   0    0    0    0    0    0    0    0    0    0    0    0    0    0    0    0 \n",
       "6833 6834 6835 6836 6837 6838 6839 6840 6841 6842 6843 6844 6845 6846 6847 6848 \n",
       "   0    0    0    0    0    0    0    0    0    0    0    0    0    0    0    0 \n",
       "6849 6850 6851 6852 6853 6854 6855 6856 6857 6858 6859 6860 6861 6862 6863 6864 \n",
       "   0    0    0    0    0    0    0    0    0    0    0    0    0    0    0    0 \n",
       "6865 6866 6867 6868 6869 6870 6871 6872 6873 6874 6875 6876 6877 6878 6879 6880 \n",
       "   0    0    0    0    0    0    0    0    0    0    0    0    0    0    0    0 \n",
       "6881 6882 6883 6884 6885 6886 6887 6888 6889 6890 6891 6892 6893 6894 6895 6896 \n",
       "   0    0    0    0    0    0    0    0    0    0    0    0    0    0    0    0 \n",
       "6897 6898 6899 6900 6901 6902 6903 6904 6905 6906 6907 6908 6909 6910 6911 6912 \n",
       "   0    0    0    0    0    0    0    0    0    0    0    0    0    0    0    0 \n",
       "6913 6914 6915 6916 6917 6918 6919 6920 6921 6922 6923 6924 6925 6926 6927 6928 \n",
       "   0    0    0    0    0    0    0    0    0    0    0    0    0    0    0    0 \n",
       "6929 6930 6931 6932 6933 6934 6935 6936 6937 6938 6939 6940 6941 6942 6943 6944 \n",
       "   0    0    0    0    0    0    0    0    0    0    0    0    0    0    0    0 \n",
       "6945 6946 6947 6948 6949 6950 6951 6952 6953 6954 6955 6956 6957 6958 6959 6960 \n",
       "   0    0    0    0    0    0    0    0    0    0    0    0    0    0    0    0 \n",
       "6961 6962 6963 6964 6965 6966 6967 6968 6969 6970 6971 6972 6973 6974 6975 6976 \n",
       "   0    0    0    0    0    0    0    0    0    0    0    0    0    0    0    0 \n",
       "6977 6978 6979 6980 6981 6982 6983 6984 6985 6986 6987 6988 6989 6990 6991 6992 \n",
       "   0    0    0    0    0    0    0    0    0    0    0    0    0    0    0    0 \n",
       "6993 6994 6995 6996 6997 6998 6999 7000 7001 7002 7003 7004 7005 7006 7007 7008 \n",
       "   0    0    0    0    0    0    0    0    0    0    0    0    0    0    0    0 \n",
       "7009 7010 7011 7012 7013 7014 7015 7016 7017 7018 7019 7020 7021 7022 7023 7024 \n",
       "   0    0    0    0    0    0    0    0    0    0    0    0    0    0    0    0 \n",
       "7025 7026 7027 7028 7029 7030 7031 7032 7033 7034 7035 7036 7037 7038 7039 7040 \n",
       "   0    0    0    0    0    0    0    0    0    0    0    0    0    0    0    0 \n",
       "7041 7042 7043 7044 7045 7046 7047 7048 7049 7050 7051 7052 7053 7054 7055 7056 \n",
       "   0    0    0    0    0    0    0    0    0    0    0    0    0    0    0    0 \n",
       "7057 7058 7059 7060 7061 7062 7063 7064 7065 7066 7067 7068 7069 7070 7071 7072 \n",
       "   0    0    0    0    0    0    0    0    0    0    0    0    0    0    0    0 \n",
       "7073 7074 7075 7076 7077 7078 7079 7080 7081 7082 7083 7084 7085 7086 7087 7088 \n",
       "   0    0    0    0    0    0    0    0    0    0    0    0    0    0    0    0 \n",
       "7089 7090 7091 7092 7093 7094 7095 7096 7097 7098 7099 7100 7101 7102 7103 7104 \n",
       "   0    0    0    0    0    0    0    0    0    0    0    0    0    0    0    0 \n",
       "7105 7106 7107 7108 7109 7110 7111 7112 7113 7114 7115 7116 7117 7118 7119 7120 \n",
       "   0    0    0    0    0    0    0    0    0    0    0    0    0    0    0    0 \n",
       "7121 7122 7123 7124 7125 7126 7127 7128 7129 7130 7131 7132 7133 7134 7135 7136 \n",
       "   0    0    0    0    0    0    0    0    0    0    0    0    0    0    0    0 \n",
       "7137 7138 7139 7140 7141 7142 7143 7144 7145 7146 7147 7148 7149 7150 7151 7152 \n",
       "   0    0    0    0    0    0    0    0    0    0    0    0    0    0    0    0 \n",
       "7153 7154 7155 7156 7157 7158 7159 7160 7161 7162 7163 7164 7165 7166 7167 7168 \n",
       "   0    0    0    0    0    0    0    0    0    0    0    0    0    0    0    0 \n",
       "7169 7170 7171 7172 7173 7174 7175 7176 7177 7178 7179 7180 7181 7182 7183 7184 \n",
       "   0    0    0    0    0    0    0    0    0    0    0    0    0    0    0    0 \n",
       "7185 7186 7187 7188 7189 7190 7191 7192 7193 7194 7195 7196 7197 7198 7199 7200 \n",
       "   0    0    0    0    0    0    0    0    0    0    0    0    0    0    0    0 \n",
       "7201 7202 7203 7204 7205 7206 7207 7208 7209 7210 7211 7212 7213 7214 7215 7216 \n",
       "   0    0    0    0    0    0    0    0    0    0    0    0    0    0    0    0 \n",
       "7217 7218 7219 7220 7221 7222 7223 7224 7225 7226 7227 7228 7229 7230 7231 7232 \n",
       "   0    0    0    0    0    0    0    0    0    0    0    0    0    0    0    0 \n",
       "7233 7234 7235 7236 7237 7238 7239 7240 7241 7242 7243 7244 7245 7246 7247 7248 \n",
       "   0    0    0    0    0    0    0    0    0    0    0    0    0    0    0    0 \n",
       "7249 7250 7251 7252 7253 7254 7255 7256 7257 7258 7259 7260 7261 7262 7263 7264 \n",
       "   0    0    0    0    0    0    0    0    0    0    0    0    0    0    0    0 \n",
       "7265 7266 7267 7268 7269 7270 7271 7272 7273 7274 7275 7276 7277 7278 7279 7280 \n",
       "   0    0    0    0    0    0    0    0    0    0    0    0    0    0    0    0 \n",
       "7281 7282 7283 7284 7285 7286 7287 7288 7289 7290 7291 7292 7293 7294 7295 7296 \n",
       "   0    0    0    0    0    0    0    0    0    0    0    0    0    0    0    0 \n",
       "7297 7298 7299 7300 7301 7302 7303 7304 7305 7306 7307 7308 7309 7310 7311 7312 \n",
       "   0    0    0    0    0    0    0    0    0    0    0    0    0    0    0    0 \n",
       "7313 7314 7315 7316 7317 7318 7319 7320 7321 7322 7323 7324 7325 7326 7327 7328 \n",
       "   0    0    0    0    0    0    0    0    0    0    0    0    0    0    0    0 \n",
       "7329 7330 7331 7332 7333 7334 7335 7336 7337 7338 7339 7340 7341 7342 7343 7344 \n",
       "   0    0    0    0    0    0    0    0    0    0    0    0    0    0    0    0 \n",
       "7345 7346 7347 7348 7349 7350 7351 7352 7353 7354 7355 7356 7357 7358 7359 7360 \n",
       "   0    0    0    0    0    0    0    0    0    0    0    0    0    0    0    0 \n",
       "7361 7362 7363 7364 7365 7366 7367 7368 7369 7370 7371 7372 7373 7374 7375 7376 \n",
       "   0    0    0    0    0    0    0    0    0    0    0    0    0    0    0    0 \n",
       "7377 7378 7379 7380 7381 7382 7383 7384 7385 7386 7387 7388 7389 7390 7391 7392 \n",
       "   0    0    0    0    0    0    0    0    0    0    0    0    0    0    0    0 \n",
       "7393 7394 7395 7396 7397 7398 7399 7400 7401 7402 7403 7404 7405 7406 7407 7408 \n",
       "   0    0    0    0    0    0    0    0    0    0    0    0    0    0    0    0 \n",
       "7409 7410 7411 7412 7413 7414 7415 7416 7417 7418 7419 7420 7421 7422 7423 7424 \n",
       "   0    0    0    0    0    0    0    0    0    0    0    0    0    0    0    0 \n",
       "7425 7426 7427 7428 7429 7430 7431 7432 7433 7434 7435 7436 7437 7438 7439 7440 \n",
       "   0    0    0    0    0    0    0    0    0    0    0    0    0    0    0    0 \n",
       "7441 7442 7443 7444 7445 7446 7447 7448 7449 7450 7451 7452 7453 7454 7455 7456 \n",
       "   0    0    0    0    0    0    0    0    0    0    0    0    0    0    0    0 \n",
       "7457 7458 7459 7460 7461 7462 7463 7464 7465 7466 7467 7468 7469 7470 7471 7472 \n",
       "   0    0    0    0    0    0    0    0    0    0    0    0    0    0    0    0 \n",
       "7473 7474 7475 7476 7477 7478 7479 7480 7481 7482 7483 7484 7485 7486 7487 7488 \n",
       "   0    0    0    0    0    0    0    0    0    0    0    0    0    0    0    0 \n",
       "7489 7490 7491 7492 7493 7494 7495 7496 7497 7498 7499 7500 7501 7502 7503 7504 \n",
       "   0    0    0    0    0    0    0    0    0    0    0    0    0    0    0    0 \n",
       "7505 7506 7507 7508 7509 7510 7511 7512 7513 7514 7515 7516 7517 7518 7519 7520 \n",
       "   0    0    0    0    0    0    0    0    0    0    0    0    0    0    0    0 \n",
       "7521 7522 7523 7524 7525 7526 7527 7528 7529 7530 7531 7532 7533 7534 7535 7536 \n",
       "   0    0    0    0    0    0    0    0    0    0    0    0    0    0    0    0 \n",
       "7537 7538 7539 7540 7541 7542 7543 7544 7545 7546 7547 7548 7549 7550 7551 7552 \n",
       "   0    0    0    0    0    0    0    0    0    0    0    0    0    0    0    0 \n",
       "7553 7554 7555 7556 7557 7558 7559 7560 7561 7562 7563 7564 7565 7566 7567 7568 \n",
       "   0    0    0    0    0    0    0    0    0    0    0    0    0    0    0    0 \n",
       "7569 7570 7571 7572 7573 7574 7575 7576 7577 7578 7579 7580 7581 7582 7583 7584 \n",
       "   0    0    0    0    0    0    0    0    0    0    0    0    0    0    0    0 \n",
       "7585 7586 7587 7588 7589 7590 7591 7592 7593 7594 7595 7596 7597 7598 7599 7600 \n",
       "   0    0    0    0    0    0    0    0    0    0    0    0    0    0    0    0 \n",
       "7601 7602 7603 7604 7605 7606 7607 7608 7609 7610 7611 7612 7613 7614 7615 7616 \n",
       "   0    0    0    0    0    0    0    0    0    0    0    0    0    0    0    0 \n",
       "7617 7618 7619 7620 7621 7622 7623 7624 7625 7626 7627 7628 7629 7630 7631 7632 \n",
       "   0    0    0    0    0    0    0    0    0    0    0    0    0    0    0    0 \n",
       "7633 7634 7635 7636 7637 7638 7639 7640 7641 7642 7643 7644 7645 7646 7647 7648 \n",
       "   0    0    0    0    0    0    0    0    0    0    0    0    0    0    0    0 \n",
       "7649 7650 7651 7652 7653 7654 7655 7656 7657 7658 7659 7660 7661 7662 7663 7664 \n",
       "   0    0    0    0    0    0    0    0    0    0    0    0    0    0    0    0 \n",
       "7665 7666 7667 7668 7669 7670 7671 7672 7673 7674 7675 7676 7677 7678 7679 7680 \n",
       "   0    0    0    0    0    0    0    0    0    0    0    0    0    0    0    0 \n",
       "7681 7682 7683 7684 7685 7686 7687 7688 7689 7690 7691 7692 7693 7694 7695 7696 \n",
       "   0    0    0    0    0    0    0    0    0    0    0    0    0    0    0    0 \n",
       "7697 7698 7699 7700 7701 7702 7703 7704 7705 7706 7707 7708 7709 7710 7711 7712 \n",
       "   0    0    0    0    0    0    0    0    0    0    0    0    0    0    0    0 \n",
       "7713 7714 7715 7716 7717 7718 7719 7720 7721 7722 7723 7724 7725 7726 7727 7728 \n",
       "   0    0    0    0    0    0    0    0    0    0    0    0    0    0    0    0 \n",
       "7729 7730 7731 7732 7733 7734 7735 7736 7737 7738 7739 7740 7741 7742 7743 7744 \n",
       "   0    0    0    0    0    0    0    0    0    0    0    0    0    0    0    0 \n",
       "7745 7746 7747 7748 7749 7750 7751 7752 7753 7754 7755 7756 7757 7758 7759 7760 \n",
       "   0    0    0    0    0    0    0    0    0    0    0    0    0    0    0    0 \n",
       "7761 7762 7763 7764 7765 7766 7767 7768 7769 7770 7771 7772 7773 7774 7775 7776 \n",
       "   0    0    0    0    0    0    0    0    0    0    0    0    0    0    0    0 \n",
       "7777 7778 7779 7780 7781 7782 7783 7784 7785 7786 7787 7788 7789 7790 7791 7792 \n",
       "   0    0    0    0    0    0    0    0    0    0    0    0    0    0    0    0 \n",
       "7793 7794 7795 7796 7797 7798 7799 7800 7801 7802 7803 7804 7805 7806 7807 7808 \n",
       "   0    0    0    0    0    0    0    0    0    1    0    0    0    0    0    0 \n",
       "7809 7810 7811 7812 7813 7814 7815 7816 7817 7818 7819 7820 7821 7822 7823 7824 \n",
       "   0    0    0    0    0    0    0    0    0    0    0    0    0    0    0    0 \n",
       "7825 7826 7827 7828 7829 7830 7831 7832 7833 7834 7835 7836 7837 7838 7839 7840 \n",
       "   0    0    0    0    0    0    0    0    0    0    0    0    0    0    0    0 \n",
       "7841 7842 7843 7844 7845 7846 7847 7848 7849 7850 7851 7852 7853 7854 7855 7856 \n",
       "   0    0    0    0    0    0    1    0    0    0    0    0    0    0    0    0 \n",
       "7857 7858 7859 7860 7861 7862 7863 7864 7865 7866 7867 7868 7869 7870 7871 7872 \n",
       "   0    0    0    0    0    0    0    0    0    0    0    0    0    0    0    0 \n",
       "7873 7874 7875 7876 7877 7878 7879 7880 7881 7882 7883 7884 7885 7886 7887 7888 \n",
       "   0    0    0    0    1    0    0    0    0    0    0    0    0    0    0    0 \n",
       "7889 7890 7891 7892 7893 7894 7895 7896 7897 7898 7899 7900 7901 7902 7903 7904 \n",
       "   0    0    1    0    0    0    1    0    1    0    0    0    0    0    0    0 \n",
       "7905 7906 7907 7908 7909 7910 7911 7912 7913 7914 7915 7916 7917 7918 7919 7920 \n",
       "   0    1    0    0    1    0    0    1    0    1    1    0    0    0    0    0 \n",
       "7921 7922 7923 7924 7925 7926 7927 7928 7929 7930 7931 7932 7933 7934 7935 7936 \n",
       "   0    0    0    0    0    0    0    0    0    0    0    0    0    0    0    0 \n",
       "7937 7938 7939 7940 7941 7942 7943 7944 7945 7946 7947 7948 7949 7950 7951 7952 \n",
       "   0    0    1    0    0    0    0    0    0    0    0    0    0    0    0    0 \n",
       "7953 7954 7955 7956 7957 7958 7959 7960 7961 7962 7963 7964 7965 7966 7967 7968 \n",
       "   0    0    0    1    0    0    0    0    1    0    0    0    0    0    0    1 \n",
       "7969 7970 7971 7972 7973 7974 7975 7976 7977 7978 7979 7980 7981 7982 7983 7984 \n",
       "   0    0    0    0    0    0    0    1    1    0    0    0    0    1    0    0 \n",
       "7985 7986 7987 7988 7989 7990 7991 7992 7993 7994 7995 7996 7997 7998 7999 8000 \n",
       "   0    0    0    0    0    0    0    0    0    0    0    0    0    0    0    0 \n",
       "8001 8002 8003 8004 8005 8006 8007 8008 8009 8010 8011 8012 8013 8014 8015 8016 \n",
       "   0    0    0    0    0    1    0    0    0    0    0    0    1    1    0    0 \n",
       "8017 8018 8019 8020 8021 8022 8023 8024 8025 8026 8027 8028 8029 8030 8031 8032 \n",
       "   0    1    0    0    0    0    0    0    0    0    0    0    0    0    0    0 \n",
       "8033 8034 8035 8036 8037 8038 8039 8040 8041 8042 8043 8044 8045 8046 8047 8048 \n",
       "   0    0    0    0    0    0    0    0    0    0    0    0    0    0    0    0 \n",
       "8049 8050 8051 8052 8053 8054 8055 8056 8057 8058 8059 8060 8061 8062 8063 8064 \n",
       "   0    0    1    0    0    0    0    0    0    0    0    0    1    1    1    0 \n",
       "8065 8066 8067 8068 8069 8070 8071 8072 8073 8074 8075 8076 8077 8078 8079 8080 \n",
       "   0    0    1    0    0    0    0    0    0    0    0    0    0    0    0    0 \n",
       "8081 8082 8083 8084 8085 8086 8087 8088 8089 8090 8091 8092 8093 8094 8095 8096 \n",
       "   0    1    0    0    0    0    0    0    0    0    1    0    0    1    0    0 \n",
       "8097 8098 8099 8100 8101 8102 8103 8104 8105 8106 8107 8108 8109 8110 8111 8112 \n",
       "   0    0    0    0    0    0    0    0    0    0    0    0    0    0    0    0 \n",
       "8113 8114 8115 8116 8117 8118 8119 8120 8121 8122 8123 8124 8125 8126 8127 8128 \n",
       "   0    1    0    0    0    0    0    0    0    0    0    0    0    1    0    0 \n",
       "8129 8130 8131 8132 8133 8134 8135 8136 8137 8138 8139 8140 8141 8142 8143 8144 \n",
       "   0    0    0    0    0    0    0    1    1    0    0    0    0    0    0    0 \n",
       "8145 8146 8147 8148 8149 8150 8151 8152 8153 8154 8155 8156 8157 8158 8159 8160 \n",
       "   0    1    1    0    1    0    0    0    0    0    0    0    0    0    0    0 \n",
       "8161 8162 8163 8164 8165 8166 8167 8168 8169 8170 8171 8172 8173 8174 8175 8176 \n",
       "   0    0    0    0    0    0    0    0    0    0    0    1    0    0    0    0 \n",
       "8177 8178 8179 8180 8181 8182 8183 8184 8185 8186 8187 8188 8189 8190 8191 8192 \n",
       "   0    0    0    1    0    0    0    0    0    0    0    0    0    0    0    1 \n",
       "8193 8194 8195 8196 8197 8198 8199 8200 8201 8202 8203 8204 8205 8206 8207 8208 \n",
       "   0    0    0    0    0    0    0    0    0    0    0    0    0    0    0    0 \n",
       "8209 8210 8211 8212 8213 8214 8215 8216 8217 8218 8219 8220 8221 8222 8223 8224 \n",
       "   0    0    0    0    1    0    0    0    0    0    1    0    0    0    0    1 \n",
       "8225 8226 8227 8228 8229 8230 8231 8232 8233 8234 8235 8236 8237 8238 8239 8240 \n",
       "   0    0    0    1    0    0    0    0    0    0    1    0    0    0    0    1 \n",
       "8241 8242 8243 8244 8245 8246 8247 8248 8249 8250 8251 8252 8253 8254 8255 8256 \n",
       "   0    0    1    0    0    0    0    0    1    0    0    0    0    0    0    0 \n",
       "8257 8258 8259 8260 8261 8262 8263 8264 8265 8266 8267 8268 8269 8270 8271 8272 \n",
       "   1    0    0    0    0    0    0    0    0    0    1    0    0    0    0    0 \n",
       "8273 8274 8275 8276 8277 8278 8279 8280 8281 8282 8283 8284 8285 8286 8287 8288 \n",
       "   0    0    1    0    1    1    0    1    1    1    0    0    0    0    1    0 \n",
       "8289 8290 8291 8292 8293 8294 8295 8296 8297 8298 8299 8300 8301 8302 8303 8304 \n",
       "   0    0    0    0    0    0    0    0    0    1    0    0    1    0    0    1 \n",
       "8305 8306 8307 8308 8309 8310 8311 8312 8313 8314 8315 8316 8317 8318 8319 8320 \n",
       "   0    0    1    0    0    0    0    0    0    0    0    0    0    0    0    0 \n",
       "8321 8322 8323 8324 8325 8326 8327 8328 8329 8330 8331 8332 8333 8334 8335 8336 \n",
       "   0    0    0    1    0    0    0    0    0    0    0    0    1    0    1    0 \n",
       "8337 8338 8339 8340 8341 8342 8343 8344 8345 8346 8347 8348 8349 8350 8351 8352 \n",
       "   0    0    0    0    0    0    0    1    1    1    0    1    1    1    0    0 \n",
       "8353 8354 8355 8356 8357 8358 8359 8360 8361 8362 8363 8364 8365 8366 8367 8368 \n",
       "   0    0    0    1    0    0    0    0    0    0    0    1    0    0    0    0 \n",
       "8369 8370 8371 8372 8373 8374 8375 8376 8377 8378 8379 8380 8381 8382 8383 8384 \n",
       "   0    0    1    0    0    1    0    1    0    0    0    0    0    1    1    0 \n",
       "8385 8386 8387 8388 8389 8390 8391 8392 8393 8394 8395 8396 8397 8398 8399 8400 \n",
       "   0    0    0    0    1    1    0    0    0    0    0    0    0    0    1    0 \n",
       "8401 8402 8403 8404 8405 8406 8407 8408 8409 8410 8411 8412 8413 8414 8415 8416 \n",
       "   0    0    0    0    0    0    0    0    0    1    0    0    0    0    1    1 \n",
       "8417 8418 8419 8420 8421 8422 8423 8424 8425 8426 8427 8428 8429 8430 8431 8432 \n",
       "   1    0    1    0    1    0    1    0    0    0    0    0    0    0    0    0 \n",
       "8433 8434 8435 8436 8437 8438 8439 8440 8441 8442 8443 8444 8445 8446 8447 8448 \n",
       "   0    0    1    0    0    0    1    0    0    1    0    1    0    1    0    1 \n",
       "8449 8450 8451 8452 8453 8454 8455 8456 8457 8458 8459 8460 8461 8462 8463 8464 \n",
       "   0    0    0    0    0    1    0    0    0    1    0    1    0    0    0    0 \n",
       "8465 8466 8467 8468 8469 8470 8471 8472 8473 8474 8475 8476 8477 8478 8479 8480 \n",
       "   0    0    0    1    0    0    0    0    1    0    0    0    0    0    0    0 \n",
       "8481 8482 8483 8484 8485 8486 8487 8488 8489 8490 8491 8492 8493 8494 8495 8496 \n",
       "   0    0    0    0    0    1    0    0    0    0    0    0    0    0    1    0 \n",
       "8497 8498 8499 8500 8501 8502 8503 8504 8505 8506 8507 8508 8509 8510 8511 8512 \n",
       "   0    0    0    0    0    1    0    1    0    0    1    0    1    0    0    1 \n",
       "8513 8514 8515 8516 8517 8518 8519 8520 8521 8522 8523 8524 8525 8526 8527 8528 \n",
       "   1    1    0    0    0    0    0    0    1    1    0    0    1    1    1    1 \n",
       "8529 8530 8531 8532 8533 8534 8535 8536 8537 8538 8539 8540 8541 8542 8543 8544 \n",
       "   0    1    1    0    0    0    0    0    1    0    1    1    1    1    1    1 \n",
       "8545 8546 8547 8548 8549 8550 8551 8552 8553 8554 8555 8556 8557 8558 8559 8560 \n",
       "   1    0    0    0    0    0    0    0    0    0    0    0    0    0    0    1 \n",
       "8561 8562 8563 8564 8565 8566 8567 8568 8569 8570 8571 8572 8573 8574 8575 8576 \n",
       "   1    1    0    0    1    0    1    1    0    0    0    0    1    1    0    1 \n",
       "8577 8578 8579 8580 8581 8582 8583 8584 8585 8586 8587 8588 8589 8590 8591 8592 \n",
       "   0    1    0    0    1    0    0    0    1    0    1    0    0    1    1    1 \n",
       "8593 8594 8595 8596 8597 8598 8599 8600 8601 8602 8603 8604 8605 8606 8607 8608 \n",
       "   1    0    0    1    1    0    0    0    0    1    1    1    0    0    0    0 \n",
       "8609 8610 8611 8612 8613 8614 8615 8616 8617 8618 8619 8620 8621 8622 8623 8624 \n",
       "   0    1    0    1    1    0    1    1    1    1    0    1    1    0    1    1 \n",
       "8625 8626 8627 8628 8629 8630 8631 8632 8633 8634 8635 8636 8637 8638 8639 8640 \n",
       "   0    1    0    1    0    0    0    1    1    1    1    1    1    0    0    1 \n",
       "8641 8642 8643 8644 8645 8646 8647 8648 8649 8650 8651 8652 8653 8654 8655 8656 \n",
       "   1    1    0    0    1    0    0    1    1    0    1    1    1    1    0    0 \n",
       "8657 8658 8659 8660 8661 8662 8663 8664 8665 8666 8667 8668 8669 8670 8671 8672 \n",
       "   1    1    1    1    1    1    0    0    1    0    0    0    0    1    0    0 \n",
       "8673 8674 8675 8676 8677 8678 8679 8680 8681 8682 8683 8684 8685 8686 8687 8688 \n",
       "   1    1    1    1    1    1    0    0    1    1    1    0    0    1    0    1 \n",
       "8689 8690 8691 8692 8693 8694 8695 8696 8697 8698 8699 8700 8701 8702 8703 8704 \n",
       "   1    1    1    0    1    1    1    1    0    1    0    0    0    1    0    1 \n",
       "8705 8706 8707 8708 8709 8710 8711 8712 8713 8714 8715 8716 8717 8718 8719 8720 \n",
       "   1    0    1    0    1    0    0    1    1    0    1    1    0    0    0    1 \n",
       "8721 8722 8723 8724 8725 8726 8727 8728 8729 8730 8731 8732 8733 8734 8735 8736 \n",
       "   1    1    0    1    1    1    1    1    1    0    0    0    1    1    0    0 \n",
       "8737 8738 8739 8740 8741 8742 8743 8744 8745 8746 8747 8748 8749 8750 8751 8752 \n",
       "   0    0    1    0    1    0    0    0    0    0    1    1    1    1    0    0 \n",
       "8753 8754 8755 8756 8757 8758 8759 8760 8761 8762 8763 8764 8765 8766 8767 8768 \n",
       "   0    0    0    1    0    0    0    0    0    1    1    0    0    0    1    0 \n",
       "8769 8770 8771 8772 8773 8774 8775 8776 8777 8778 8779 8780 8781 8782 8783 8784 \n",
       "   0    0    0    0    1    0    0    1    1    0    0    1    1    1    1    1 \n",
       "8785 8786 8787 8788 8789 8790 8791 8792 8793 8794 8795 8796 8797 8798 8799 8800 \n",
       "   1    0    1    1    1    1    1    1    0    0    1    1    1    1    1    0 \n",
       "8801 8802 8803 8804 8805 8806 8807 8808 8809 8810 8811 8812 8813 8814 8815 8816 \n",
       "   1    1    0    1    1    0    0    0    0    1    1    1    1    1    1    1 \n",
       "8817 8818 8819 8820 8821 8822 8823 8824 8825 8826 8827 8828 8829 8830 8831 8832 \n",
       "   1    1    1    1    1    0    1    1    0    0    0    1    0    1    0    1 \n",
       "8833 8834 8835 8836 8837 8838 8839 8840 8841 8842 8843 8844 8845 8846 8847 8848 \n",
       "   0    0    0    1    0    0    1    0    0    1    1    1    0    0    0    0 \n",
       "8849 8850 8851 8852 8853 8854 8855 8856 8857 8858 8859 8860 8861 8862 8863 8864 \n",
       "   1    0    1    0    1    1    0    0    1    1    1    0    1    1    1    1 \n",
       "8865 8866 8867 8868 8869 8870 8871 8872 8873 8874 8875 8876 8877 8878 8879 8880 \n",
       "   1    0    0    1    1    1    1    1    1    1    1    1    1    1    1    1 \n",
       "8881 8882 8883 8884 8885 8886 8887 8888 8889 8890 8891 8892 8893 8894 8895 8896 \n",
       "   1    0    0    1    0    0    1    1    1    1    0    1    0    0    0    0 \n",
       "8897 8898 8899 8900 8901 8902 8903 8904 8905 8906 8907 8908 8909 8910 8911 8912 \n",
       "   0    0    1    1    0    1    1    1    1    1    0    0    0    1    0    0 \n",
       "8913 8914 8915 8916 8917 8918 8919 8920 8921 8922 8923 8924 8925 8926 8927 8928 \n",
       "   0    1    0    0    1    0    1    0    0    0    0    1    1    0    0    0 \n",
       "8929 8930 8931 8932 8933 8934 8935 8936 8937 8938 8939 8940 8941 8942 8943 8944 \n",
       "   0    1    1    1    1    1    1    1    0    0    1    1    0    1    0    1 \n",
       "8945 8946 8947 8948 8949 8950 8951 8952 8953 8954 8955 8956 8957 8958 8959 8960 \n",
       "   1    0    1    1    1    0    0    0    1    1    1    1    0    1    0    1 \n",
       "8961 8962 8963 8964 8965 8966 8967 8968 8969 8970 8971 8972 8973 8974 8975 8976 \n",
       "   1    0    1    1    1    1    0    1    0    1    1    0    1    0    0    0 \n",
       "8977 8978 8979 8980 8981 8982 8983 8984 8985 8986 8987 8988 8989 8990 8991 8992 \n",
       "   0    0    0    0    1    0    1    0    1    1    1    1    1    0    1    0 \n",
       "8993 8994 8995 8996 8997 8998 8999 9000 9001 9002 9003 9004 9005 9006 9007 9008 \n",
       "   0    0    1    0    1    0    0    1    0    0    0    0    0    0    1    0 \n",
       "9009 9010 9011 9012 9013 9014 9015 9016 9017 9018 9019 9020 9021 9022 9023 9024 \n",
       "   1    0    0    1    1    1    0    1    0    0    1    1    0    1    1    0 \n",
       "9025 9026 9027 9028 9029 9030 9031 9032 9033 9034 9035 9036 9037 9038 9039 9040 \n",
       "   0    1    1    0    1    0    1    0    1    1    0    1    0    0    0    0 \n",
       "9041 9042 9043 9044 9045 9046 9047 9048 9049 9050 9051 9052 9053 9054 9055 9056 \n",
       "   0    0    0    1    1    0    1    1    0    1    0    0    0    1    0    0 \n",
       "9057 9058 9059 9060 9061 9062 9063 9064 9065 9066 9067 9068 9069 9070 9071 9072 \n",
       "   0    0    0    0    0    1    0    0    0    1    1    0    1    1    0    0 \n",
       "9073 9074 9075 9076 9077 9078 9079 9080 9081 9082 9083 9084 9085 9086 9087 9088 \n",
       "   1    0    0    1    0    0    1    0    1    0    0    0    0    0    1    0 \n",
       "9089 9090 9091 9092 9093 9094 9095 9096 9097 9098 9099 9100 9101 9102 9103 9104 \n",
       "   0    0    1    1    1    0    1    0    0    0    0    0    1    0    0    1 \n",
       "9105 9106 9107 9108 9109 9110 9111 9112 9113 9114 9115 9116 9117 9118 9119 9120 \n",
       "   1    1    1    1    1    1    1    1    0    0    1    0    0    1    0    0 \n",
       "9121 9122 9123 9124 9125 9126 9127 9128 9129 9130 9131 9132 9133 9134 9135 9136 \n",
       "   1    0    1    1    0    0    1    1    1    1    0    1    1    1    0    0 \n",
       "9137 9138 9139 9140 9141 9142 9143 9144 9145 9146 9147 \n",
       "   0    0    0    0    1    0    0    0    1    0    1 \n",
       "Levels: 0 1"
      ]
     },
     "metadata": {},
     "output_type": "display_data"
    },
    {
     "data": {
      "text/plain": [
       "       \n",
       "rf.pred    0    1\n",
       "      0 7826  855\n",
       "      1  163  303"
      ]
     },
     "metadata": {},
     "output_type": "display_data"
    }
   ],
   "source": [
    "importance(rf)\n",
    "rf.pred<-predict(rf,newdata=RF.test,type='response')\n",
    "rf.pred\n",
    "rf.perform<-table(rf.pred,RF.test$y)\n",
    "rf.perform"
   ]
  },
  {
   "cell_type": "markdown",
   "metadata": {},
   "source": [
    "Measurement for Random Forest testing."
   ]
  },
  {
   "cell_type": "code",
   "execution_count": 78,
   "metadata": {},
   "outputs": [],
   "source": [
    "rf.Accuracy = sum(rf.perform[1,1],rf.perform[2,2])/sum(rf.perform[,])\n",
    "rf.Error = sum(rf.perform[1,2],rf.perform[2,1])/sum(rf.perform[,])\n",
    "rf.Precision.P = rf.perform[1.1]/sum(rf.perform[1,])\n",
    "rf.Precision.N = rf.perform[2,2]/sum(rf.perform[2,])\n",
    "rf.Recall.P = rf.perform[1,1]/sum(rf.perform[,1])\n",
    "rf.Recall.N = rf.perform[2,2]/sum(rf.perform[,2])"
   ]
  },
  {
   "cell_type": "markdown",
   "metadata": {},
   "source": [
    "Result."
   ]
  },
  {
   "cell_type": "code",
   "execution_count": 79,
   "metadata": {},
   "outputs": [
    {
     "data": {
      "text/html": [
       "0.888706679785722"
      ],
      "text/latex": [
       "0.888706679785722"
      ],
      "text/markdown": [
       "0.888706679785722"
      ],
      "text/plain": [
       "[1] 0.8887067"
      ]
     },
     "metadata": {},
     "output_type": "display_data"
    },
    {
     "data": {
      "text/html": [
       "0.111293320214278"
      ],
      "text/latex": [
       "0.111293320214278"
      ],
      "text/markdown": [
       "0.111293320214278"
      ],
      "text/plain": [
       "[1] 0.1112933"
      ]
     },
     "metadata": {},
     "output_type": "display_data"
    },
    {
     "data": {
      "text/html": [
       "0.901509042737012"
      ],
      "text/latex": [
       "0.901509042737012"
      ],
      "text/markdown": [
       "0.901509042737012"
      ],
      "text/plain": [
       "[1] 0.901509"
      ]
     },
     "metadata": {},
     "output_type": "display_data"
    },
    {
     "data": {
      "text/html": [
       "0.650214592274678"
      ],
      "text/latex": [
       "0.650214592274678"
      ],
      "text/markdown": [
       "0.650214592274678"
      ],
      "text/plain": [
       "[1] 0.6502146"
      ]
     },
     "metadata": {},
     "output_type": "display_data"
    },
    {
     "data": {
      "text/html": [
       "0.979596945800476"
      ],
      "text/latex": [
       "0.979596945800476"
      ],
      "text/markdown": [
       "0.979596945800476"
      ],
      "text/plain": [
       "[1] 0.9795969"
      ]
     },
     "metadata": {},
     "output_type": "display_data"
    },
    {
     "data": {
      "text/html": [
       "0.261658031088083"
      ],
      "text/latex": [
       "0.261658031088083"
      ],
      "text/markdown": [
       "0.261658031088083"
      ],
      "text/plain": [
       "[1] 0.261658"
      ]
     },
     "metadata": {},
     "output_type": "display_data"
    }
   ],
   "source": [
    "rf.Accuracy\n",
    "rf.Error\n",
    "rf.Precision.P\n",
    "rf.Precision.N\n",
    "rf.Recall.P\n",
    "rf.Recall.N"
   ]
  },
  {
   "cell_type": "markdown",
   "metadata": {},
   "source": [
    "#### Comment on Random Forest method\n",
    "In our dataset, the random forest model gave an accuracy of 88.87%."
   ]
  },
  {
   "attachments": {
    "summary.PNG": {
     "image/png": "[encoded data removed]"
    }
   },
   "cell_type": "markdown",
   "metadata": {},
   "source": [
    "## Summary of result\n",
    "\n",
    "We summarized all the method's result into the table below:\n",
    "![summary.PNG](attachment:summary.PNG)\n",
    "\n",
    "From the table above, we happened to notice that all the models that we built to test the dataset have an accuracy of above 80%. With the consistency of the results generated, we inferred that this dataset we are using is reliable as the sample or historical record to predict whether the client will subscribe to a term deposit. \n",
    "<br>\n",
    "<br>\n",
    "As we can observe from the table, Logistic Regression carries the highest accuracy of 89.13% among the models. This model not only has high accuracy but also high positive precision and positive recall which means that this model is able to capture a lot of positive predictions at which most of the time the positive predictions are captured correctly. \n",
    "<br>\n",
    "<br>\n",
    "However, the Logistic Regression model has low negative precision and negative recall. This implies that 69.90% of the negative prediction will be correct with the negative capture rate of 24.87%. Even though the outcome might seem unsatisfactory, we can observe that similar trends can be found for other models as well. This might be due to the biases of the data for many outcomes to be “0” in variable y at about 87.3%. \n",
    "<br>\n",
    "<br>\n",
    "By considering all factors, we select the Logistic Regression model for the dataset, with the advantage of significantly high sensitivity and low specificity."
   ]
  },
  {
   "cell_type": "markdown",
   "metadata": {},
   "source": [
    "## Conclusion and Recommendation\n",
    "As a conclusion, we had chosen a marketing dataset with 41188 observations with 21 variables. After getting rid of the rows containing null value, we applied the correlation to determine how highly correlated that the variables with the response variable “y” as well as performing the statistical test of the necessary variables. Eventually, we came to include the variables “age”, “job”, “marital”, “education”, “contact”, “month”, “day of week”, “campaign”, “pdays”, “previous”, “poutcome”, “emp.var.rate”, “cons.price.idx”, “euribor3m” and “nr.employed”.\n",
    "<br>\n",
    "<br>\n",
    "We performed 4 predictive models to test the dataset which were Decision Tree, Logistic Regression, Naïve Bayes Classifier and Random Forest. Among all of them, the Logistic Regression model has the highest accuracy of 89.13%. We came to conclude that Logistic Regression is the best fit model for the marketing dataset.\n",
    "<br>\n",
    "<br>\n",
    "We suggest performing cross-validation for the dataset before fitting it into the models to avoid the biases of the results. There are 2 kinds of cross-validations namely k-fold cross validation and leave-one-out cross validation (LOOCV). The k-fold cross-validation method evaluates the model performance on different subsets of the training data and then calculates the average prediction error rate. While the LOOCV is the special case of k-fold cross validation with only one sample being held out at a time. The reason we suggest doing cross-validation is because a single split validation does not provide sufficient statistics for the effectiveness of the classifier in the context of statistics.\n",
    "<br>\n",
    "<br>\n",
    "Moreover, based on understanding of the dataset, the Group 3 variables are assumed to have great effects on the subscription rate. Since ‘nr.employed’ has a positive effect on subscription, it is suggested that the bank should hire more employees to work for them to boost subscription. Also, ‘euribor3m’ affects customer’s decision on subscription, therefore the bank is suggested to introduce this campaign during times of high interest rate and stability of macroeconomic environment."
   ]
  }
 ],
 "metadata": {
  "kernelspec": {
   "display_name": "R",
   "language": "R",
   "name": "ir"
  },
  "language_info": {
   "codemirror_mode": "r",
   "file_extension": ".r",
   "mimetype": "text/x-r-source",
   "name": "R",
   "pygments_lexer": "r",
   "version": "3.6.1"
  }
 },
 "nbformat": 4,
 "nbformat_minor": 2
}
